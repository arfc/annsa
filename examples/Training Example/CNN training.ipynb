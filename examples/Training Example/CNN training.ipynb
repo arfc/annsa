{
 "cells": [
  {
   "cell_type": "code",
   "execution_count": 1,
   "metadata": {
    "collapsed": false,
    "scrolled": false
   },
   "outputs": [
    {
     "name": "stderr",
     "output_type": "stream",
     "text": [
      "/home/ubuntu/anaconda2/lib/python2.7/site-packages/h5py/__init__.py:36: FutureWarning: Conversion of the second argument of issubdtype from `float` to `np.floating` is deprecated. In future, it will be treated as `np.float64 == np.dtype(float).type`.\n",
      "  from ._conv import register_converters as _register_converters\n"
     ]
    }
   ],
   "source": [
    "%matplotlib inline\n",
    "\n",
    "import matplotlib.pyplot as plt\n",
    "\n",
    "import sys\n",
    "sys.path.append(\"/home/ubuntu/Notebooks/annsa/\")\n",
    "\n",
    "import tensorflow.contrib.eager as tfe\n",
    "from sklearn import datasets, preprocessing, model_selection\n",
    "\n",
    "import annsa as an\n",
    "import tensorflow as tf\n",
    "import numpy as np"
   ]
  },
  {
   "cell_type": "code",
   "execution_count": 2,
   "metadata": {
    "collapsed": false
   },
   "outputs": [],
   "source": [
    "tf.enable_eager_execution()"
   ]
  },
  {
   "cell_type": "markdown",
   "metadata": {},
   "source": [
    "#### Define neural network"
   ]
  },
  {
   "cell_type": "code",
   "execution_count": 3,
   "metadata": {
    "collapsed": true
   },
   "outputs": [],
   "source": [
    "from cvt_oct_tensorflow_classes import cnn\n",
    "from cvt_oct_tensorflow_classes import cnn_model_features\n",
    "from cvt_oct_tensorflow_classes import class_isotopes"
   ]
  },
  {
   "cell_type": "markdown",
   "metadata": {},
   "source": [
    "#### Get some data"
   ]
  },
  {
   "cell_type": "code",
   "execution_count": 4,
   "metadata": {
    "collapsed": true
   },
   "outputs": [],
   "source": [
    "scaler=preprocessing.StandardScaler()\n",
    "mlb=preprocessing.MultiLabelBinarizer()"
   ]
  },
  {
   "cell_type": "code",
   "execution_count": 5,
   "metadata": {
    "collapsed": false
   },
   "outputs": [],
   "source": [
    "training_data = np.load('CVT-oct-spectra-test.npy')\n",
    "training_keys = np.load('CVT-oct-keys-test.npy')\n",
    "nan_isotopes=list(set(np.argwhere(np.isnan(training_data))[:,0]))\n",
    "training_data=np.delete(training_data,nan_isotopes,axis=0)\n",
    "training_keys=np.delete(training_keys,nan_isotopes,axis=0)\n",
    "\n",
    "training_data = scaler.fit_transform(training_data)\n",
    "training_keys_binarized = mlb.fit_transform(training_keys.reshape([training_data.shape[0],1]))\n",
    "\n",
    "\n",
    "\n",
    "X_tensor = tf.constant(training_data)\n",
    "y_tensor = tf.constant(training_keys_binarized)\n",
    "\n",
    "train_dataset = tf.data.Dataset.from_tensor_slices((X_tensor, y_tensor))"
   ]
  },
  {
   "cell_type": "code",
   "execution_count": 6,
   "metadata": {
    "collapsed": true
   },
   "outputs": [],
   "source": [
    "X_tensor = tf.constant(training_data[0:100])\n",
    "y_tensor = tf.constant(training_keys_binarized[0:100])\n",
    "\n",
    "test_dataset = (training_data[0:100], training_keys_binarized[0:100])"
   ]
  },
  {
   "cell_type": "markdown",
   "metadata": {},
   "source": [
    "#### Define an optimizer, model, and train the network"
   ]
  },
  {
   "cell_type": "code",
   "execution_count": 7,
   "metadata": {
    "collapsed": false
   },
   "outputs": [],
   "source": [
    "new_model_features = cnn_model_features(learining_rate=4.5e-3,\n",
    "                                    l2_regularization_scale=1.09e-3,\n",
    "                                    dropout_probability=1.0-0.96,\n",
    "                                    nodes_layer_1=449,\n",
    "                                    nodes_layer_2=205)"
   ]
  },
  {
   "cell_type": "code",
   "execution_count": 8,
   "metadata": {
    "collapsed": true
   },
   "outputs": [],
   "source": [
    "optimizer = tf.train.AdamOptimizer(new_model_features.learining_rate)\n",
    "model = cnn(new_model_features)"
   ]
  },
  {
   "cell_type": "code",
   "execution_count": 10,
   "metadata": {
    "collapsed": false,
    "scrolled": true
   },
   "outputs": [
    {
     "name": "stdout",
     "output_type": "stream",
     "text": [
      "Loss at epoch 1: 2.51 2.63\n",
      "Loss at epoch 2: 2.22 2.47\n",
      "Loss at epoch 3: 2.08 2.05\n",
      "Loss at epoch 4: 1.90 2.03\n",
      "Loss at epoch 5: 1.86 1.97\n",
      "Loss at epoch 6: 1.69 1.86\n",
      "Loss at epoch 7: 1.73 1.67\n",
      "Loss at epoch 8: 1.64 1.93\n",
      "Loss at epoch 9: 1.42 1.57\n",
      "Loss at epoch 10: 1.33 1.60\n"
     ]
    }
   ],
   "source": [
    "all_loss_train, all_loss_test = model.fit_batch(train_dataset,test_dataset, optimizer, num_epochs=10, verbose=1)"
   ]
  },
  {
   "cell_type": "code",
   "execution_count": 11,
   "metadata": {
    "collapsed": false
   },
   "outputs": [
    {
     "data": {
      "text/plain": [
       "[<matplotlib.lines.Line2D at 0x7fac7c4ceed0>]"
      ]
     },
     "execution_count": 11,
     "metadata": {},
     "output_type": "execute_result"
    },
    {
     "data": {
      "image/png": "[encoded data removed]",
      "text/plain": [
       "<matplotlib.figure.Figure at 0x7fac7c4ce8d0>"
      ]
     },
     "metadata": {},
     "output_type": "display_data"
    }
   ],
   "source": [
    "plt.plot(all_loss_train[0:])\n",
    "plt.plot(all_loss_test[0:])\n",
    "#plt.xlim([0,500])\n",
    "#plt.ylim([2.9,3.0])"
   ]
  },
  {
   "cell_type": "markdown",
   "metadata": {},
   "source": [
    "#### Check outputs"
   ]
  },
  {
   "cell_type": "code",
   "execution_count": 16,
   "metadata": {
    "collapsed": false
   },
   "outputs": [
    {
     "name": "stdout",
     "output_type": "stream",
     "text": [
      "Pred label: Pu239\n",
      "True label: Pu240\n"
     ]
    },
    {
     "data": {
      "text/plain": [
       "[<matplotlib.lines.Line2D at 0x7fcd086ee3d0>]"
      ]
     },
     "execution_count": 16,
     "metadata": {},
     "output_type": "execute_result"
    },
    {
     "data": {
      "image/png": "[encoded data removed]",
      "text/plain": [
       "<matplotlib.figure.Figure at 0x7fcd86c91a10>"
      ]
     },
     "metadata": {},
     "output_type": "display_data"
    }
   ],
   "source": [
    "index = 4017\n",
    "\n",
    "\n",
    "#logits_test = model.predict(training_data[index])\n",
    "logits_test=tf.nn.softmax(model.predict_logits(training_data[index]))\n",
    "print 'Pred label: '+class_isotopes[np.argmax(logits_test)]\n",
    "print 'True label: '+class_isotopes[training_keys[index]]\n",
    "\n",
    "plt.plot(scaler.inverse_transform(training_data[index]))\n",
    "\n",
    "#an.results2(training_keys_binarized[index],5)\n",
    "#print '\\n'\n",
    "#an.results2(logits_test.numpy()[0][0],5)"
   ]
  },
  {
   "cell_type": "raw",
   "metadata": {},
   "source": [
    "Co60_10cm_400s_0.Spe\n",
    "Co60_10cm_400s_1.Spe\n",
    "Co60_10cm_400s_2.Spe\n",
    "Co60_10cm_480s_0.Spe\n",
    "Co60_10cm_480s_1.Spe\n",
    "Co60_10cm_480s_2.27mmPb_0.Spe\n",
    "Co60_10cm_480s_2.27mmPb_1.Spe\n",
    "Co60_10cm_480s_2.27mmPb_2.Spe\n",
    "Co60_10cm_480s_2.Spe\n",
    "Co60_10cm_480s_25.5mmSS_0.Spe\n",
    "Co60_10cm_480s_25.5mmSS_1.Spe\n",
    "Co60_10cm_480s_25.5mmSS_2.Spe\n",
    "Co60_10cm_480s_5.33mmPb_0.Spe\n",
    "Co60_10cm_480s_5.33mmPb_1.Spe\n",
    "Co60_10cm_480s_5.33mmPb_2.Spe\n",
    "Co60_10cm_480s_51mmSS_0.Spe\n",
    "Co60_10cm_480s_51mmSS_1.Spe\n",
    "Co60_10cm_480s_51mmSS_2.Spe\n",
    "Data.xlsx\n",
    "Eu152_15cm_109s_25.5mmSS_0.Spe\n",
    "Eu152_15cm_109s_25.5mmSS_1.Spe\n",
    "Eu152_15cm_139s_2.27mmPb_0.Spe\n",
    "Eu152_15cm_139s_2.27mmPb_1.Spe\n",
    "Eu152_15cm_139s_2.27mmPb_2.Spe\n",
    "Eu152_15cm_173.5s_5.33mmPb_0.Spe\n",
    "Eu152_15cm_173.5s_5.33mmPb_1.Spe\n",
    "Eu152_15cm_173.5s_5.33mmPb_2.Spe\n",
    "Eu152_15cm_60s_0.Spe\n",
    "Eu152_15cm_60s_1.Spe\n",
    "Eu152_15cm_60s_2.27mmPb_0.Spe\n",
    "Eu152_15cm_60s_2.27mmPb_1.Spe\n",
    "Eu152_15cm_60s_2.27mmPb_2.Spe\n",
    "Eu152_15cm_60s_25.5mmSS_0.Spe\n",
    "Eu152_15cm_60s_25.5mmSS_1.Spe\n",
    "Eu152_15cm_60s_25.5mmSS_2.Spe\n",
    "Eu152_15cm_60s_5.33mmPb_0.Spe\n",
    "Eu152_15cm_60s_5.33mmPb_1.Spe\n",
    "Eu152_15cm_60s_5.33mmPb_2.Spe\n",
    "Eu152_15cm_60s_51mmSS_0.Spe\n",
    "Eu152_15cm_60s_51mmSS_1.Spe\n",
    "Eu152_15cm_60s_51mmSS_2.Spe\n",
    "Eu152_15cm_88.5s_25.5mmSS_0.Spe\n",
    "Eu152_15cm_88.5s_25.5mmSS_1.Spe\n",
    "Eu152_15cm_88.5s_25.5mmSS_2.Spe\n",
    "Eu152_15cm_90s_25.5mmSS_0.Spe"
   ]
  },
  {
   "cell_type": "code",
   "execution_count": 18,
   "metadata": {
    "collapsed": false
   },
   "outputs": [
    {
     "data": {
      "text/plain": [
       "<matplotlib.legend.Legend at 0x7fcd08724f50>"
      ]
     },
     "execution_count": 18,
     "metadata": {},
     "output_type": "execute_result"
    },
    {
     "data": {
      "image/png": "[encoded data removed]",
      "text/plain": [
       "<matplotlib.figure.Figure at 0x7fcd08724d10>"
      ]
     },
     "metadata": {},
     "output_type": "display_data"
    }
   ],
   "source": [
    "spectrum1=an.read_spectrum('/home/ubuntu/Notebooks/Shielded_Data/Eu152_15cm_88.5s_25.5mmSS_2.Spe')\n",
    "spectrum2=an.read_spectrum('/home/ubuntu/Notebooks/Shielded_Data/Eu152_15cm_60s_0.Spe')\n",
    "\n",
    "plt.plot(spectrum1,label='shielded')\n",
    "plt.semilogy(spectrum2,label='unshielded')\n",
    "plt.xlim([0,600])\n",
    "plt.legend()"
   ]
  },
  {
   "cell_type": "code",
   "execution_count": 19,
   "metadata": {
    "collapsed": false
   },
   "outputs": [
    {
     "name": "stdout",
     "output_type": "stream",
     "text": [
      "shileded_Co60\n",
      "shileded_Co60\n"
     ]
    }
   ],
   "source": [
    "spectrum=scaler.transform(spectrum1.reshape([1,1024]))\n",
    "logits_test=tf.nn.softmax(model.predict_logits(spectrum[0]))\n",
    "print class_isotopes[np.argmax(logits_test)]\n",
    "\n",
    "spectrum=scaler.transform(spectrum2.reshape([1,1024]))\n",
    "logits_test=tf.nn.softmax(model.predict_logits(spectrum[0]))\n",
    "print class_isotopes[np.argmax(logits_test)]"
   ]
  },
  {
   "cell_type": "code",
   "execution_count": null,
   "metadata": {
    "collapsed": true
   },
   "outputs": [],
   "source": [
    "Eu152_0mmlead_30cm_60s.Spe\n",
    "Eu152_0mmlead_55cm_60s.Spe\n",
    "Eu152_227mmlead_30cm_60s.Spe\n",
    "Eu152_255mmSS_30cm_60s.Spe\n",
    "Eu152_500s000.Spe\n",
    "Eu152_516mmlead_30cm_60s.Spe\n",
    "Eu152_51mmSS_30cm_60s.Spe\n",
    "Eu152_6.4mmlead_55cm_60s.Spe\n",
    "Eu152_64mmlead_30cm_60s.Spe\n",
    "Eu_10sDECAYTEST000.Spe\n",
    "Eu_10sDECAYTEST001.Spe\n",
    "Eu_60sDECAYTEST000.Spe"
   ]
  },
  {
   "cell_type": "code",
   "execution_count": null,
   "metadata": {
    "collapsed": false
   },
   "outputs": [],
   "source": [
    "spectrum=an.read_spectrum('/home/ubuntu/Notebooks/Eu_60sDECAYTEST000.Spe')\n",
    "plt.plot(spectrum)\n",
    "spectrum=scaler.transform(spectrum.reshape([1,1024]))\n",
    "\n",
    "logits_test = model.predict(spectrum[0])\n",
    "print class_isotopes[np.argmax(logits_test)]"
   ]
  }
 ],
 "metadata": {
  "kernelspec": {
   "display_name": "Python 2",
   "language": "python",
   "name": "python2"
  },
  "language_info": {
   "codemirror_mode": {
    "name": "ipython",
    "version": 2
   },
   "file_extension": ".py",
   "mimetype": "text/x-python",
   "name": "python",
   "nbconvert_exporter": "python",
   "pygments_lexer": "ipython2",
   "version": "2.7.15"
  }
 },
 "nbformat": 4,
 "nbformat_minor": 1
}
