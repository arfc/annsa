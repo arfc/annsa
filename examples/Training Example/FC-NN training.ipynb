{
 "cells": [
  {
   "cell_type": "code",
   "execution_count": 1,
   "metadata": {
    "collapsed": false,
    "scrolled": false
   },
   "outputs": [
    {
     "name": "stderr",
     "output_type": "stream",
     "text": [
      "/home/ubuntu/anaconda2/lib/python2.7/site-packages/h5py/__init__.py:36: FutureWarning: Conversion of the second argument of issubdtype from `float` to `np.floating` is deprecated. In future, it will be treated as `np.float64 == np.dtype(float).type`.\n",
      "  from ._conv import register_converters as _register_converters\n"
     ]
    }
   ],
   "source": [
    "%matplotlib inline\n",
    "\n",
    "import matplotlib.pyplot as plt\n",
    "\n",
    "import sys\n",
    "sys.path.append(\"/home/ubuntu/Notebooks/annsa/\")\n",
    "\n",
    "import tensorflow.contrib.eager as tfe\n",
    "from sklearn import datasets, preprocessing, model_selection\n",
    "\n",
    "import annsa as an\n",
    "import tensorflow as tf\n",
    "import numpy as np"
   ]
  },
  {
   "cell_type": "code",
   "execution_count": 2,
   "metadata": {
    "collapsed": false
   },
   "outputs": [],
   "source": [
    "tf.enable_eager_execution()"
   ]
  },
  {
   "cell_type": "markdown",
   "metadata": {},
   "source": [
    "#### Define neural network"
   ]
  },
  {
   "cell_type": "code",
   "execution_count": 3,
   "metadata": {
    "collapsed": false
   },
   "outputs": [],
   "source": [
    "from cvt_oct_tensorflow_classes import fc_nn\n",
    "from cvt_oct_tensorflow_classes import fc_nn_model_features\n",
    "from cvt_oct_tensorflow_classes import class_isotopes"
   ]
  },
  {
   "cell_type": "markdown",
   "metadata": {},
   "source": [
    "#### Get some data"
   ]
  },
  {
   "cell_type": "code",
   "execution_count": 4,
   "metadata": {
    "collapsed": true
   },
   "outputs": [],
   "source": [
    "scaler=preprocessing.StandardScaler()\n",
    "mlb=preprocessing.MultiLabelBinarizer()"
   ]
  },
  {
   "cell_type": "code",
   "execution_count": 5,
   "metadata": {
    "collapsed": false
   },
   "outputs": [],
   "source": [
    "training_data = np.load('CVT-oct-spectra-test.npy')\n",
    "training_keys = np.load('CVT-oct-keys-test.npy')\n",
    "nan_isotopes=list(set(np.argwhere(np.isnan(training_data))[:,0]))\n",
    "training_data=np.delete(training_data,nan_isotopes,axis=0)\n",
    "training_keys=np.delete(training_keys,nan_isotopes,axis=0)\n",
    "\n",
    "training_data = scaler.fit_transform(training_data)\n",
    "training_keys_binarized = mlb.fit_transform(training_keys.reshape([training_data.shape[0],1]))\n",
    "\n",
    "\n",
    "\n",
    "X_tensor = tf.constant(training_data)\n",
    "y_tensor = tf.constant(training_keys_binarized)\n",
    "\n",
    "train_dataset = tf.data.Dataset.from_tensor_slices((X_tensor, y_tensor))"
   ]
  },
  {
   "cell_type": "code",
   "execution_count": 6,
   "metadata": {
    "collapsed": true
   },
   "outputs": [],
   "source": [
    "X_tensor = tf.constant(training_data[0:100])\n",
    "y_tensor = tf.constant(training_keys_binarized[0:100])\n",
    "\n",
    "test_dataset = (training_data[0:100], training_keys_binarized[0:100])"
   ]
  },
  {
   "cell_type": "markdown",
   "metadata": {},
   "source": [
    "#### Define an optimizer, model, and train the network"
   ]
  },
  {
   "cell_type": "code",
   "execution_count": 7,
   "metadata": {
    "collapsed": false
   },
   "outputs": [],
   "source": [
    "new_model_features = fc_nn_model_features(learining_rate=4.5e-3,\n",
    "                                    l2_regularization_scale=1.09e-3,\n",
    "                                    dropout_probability=1.0-0.96,\n",
    "                                    nodes_layer_1=449,\n",
    "                                    nodes_layer_2=205)"
   ]
  },
  {
   "cell_type": "code",
   "execution_count": 8,
   "metadata": {
    "collapsed": false,
    "scrolled": true
   },
   "outputs": [
    {
     "name": "stdout",
     "output_type": "stream",
     "text": [
      "Loss at epoch 1: 3.58 3.64\n",
      "Loss at epoch 10: 2.42 2.72\n",
      "Loss at epoch 20: 2.28 2.49\n",
      "Loss at epoch 30: 2.39 2.26\n",
      "Loss at epoch 40: 2.15 2.55\n",
      "Loss at epoch 50: 2.11 2.21\n",
      "Loss at epoch 60: 1.99 2.30\n",
      "Loss at epoch 70: 2.17 2.40\n",
      "Loss at epoch 80: 2.37 2.64\n",
      "Loss at epoch 90: 2.19 2.18\n",
      "Loss at epoch 100: 2.00 2.18\n"
     ]
    }
   ],
   "source": [
    "optimizer = tf.train.AdamOptimizer(new_model_features.learining_rate)\n",
    "model = fc_nn(new_model_features)\n",
    "all_loss_train, all_loss_test = model.fit_batch(train_dataset,test_dataset, optimizer, num_epochs=100, verbose=10)"
   ]
  },
  {
   "cell_type": "code",
   "execution_count": 9,
   "metadata": {
    "collapsed": false
   },
   "outputs": [
    {
     "data": {
      "text/plain": [
       "[<matplotlib.lines.Line2D at 0x7f4c29555d50>]"
      ]
     },
     "execution_count": 9,
     "metadata": {},
     "output_type": "execute_result"
    },
    {
     "data": {
      "image/png": "[encoded data removed]",
      "text/plain": [
       "<matplotlib.figure.Figure at 0x7f4c29555ad0>"
      ]
     },
     "metadata": {},
     "output_type": "display_data"
    }
   ],
   "source": [
    "plt.plot(all_loss_train[0:])\n",
    "plt.plot(all_loss_test[0:])\n",
    "#plt.xlim([0,500])\n",
    "#plt.ylim([2.9,3.0])"
   ]
  },
  {
   "cell_type": "markdown",
   "metadata": {},
   "source": [
    "#### Check outputs"
   ]
  },
  {
   "cell_type": "code",
   "execution_count": 12,
   "metadata": {
    "collapsed": false
   },
   "outputs": [
    {
     "ename": "TypeError",
     "evalue": "predict_logits() takes at most 3 arguments (4 given)",
     "output_type": "error",
     "traceback": [
      "\u001b[1;31m---------------------------------------------------------------------------\u001b[0m",
      "\u001b[1;31mTypeError\u001b[0m                                 Traceback (most recent call last)",
      "\u001b[1;32m<ipython-input-12-fe8502eb8f50>\u001b[0m in \u001b[0;36m<module>\u001b[1;34m()\u001b[0m\n\u001b[0;32m      2\u001b[0m \u001b[1;33m\u001b[0m\u001b[0m\n\u001b[0;32m      3\u001b[0m \u001b[1;33m\u001b[0m\u001b[0m\n\u001b[1;32m----> 4\u001b[1;33m \u001b[0mlogits_test\u001b[0m \u001b[1;33m=\u001b[0m \u001b[0mmodel\u001b[0m\u001b[1;33m.\u001b[0m\u001b[0mpredict\u001b[0m\u001b[1;33m(\u001b[0m\u001b[0mtraining_data\u001b[0m\u001b[1;33m[\u001b[0m\u001b[0mindex\u001b[0m\u001b[1;33m]\u001b[0m\u001b[1;33m)\u001b[0m\u001b[1;33m\u001b[0m\u001b[0m\n\u001b[0m\u001b[0;32m      5\u001b[0m \u001b[1;32mprint\u001b[0m \u001b[1;34m'Pred label: '\u001b[0m\u001b[1;33m+\u001b[0m\u001b[0mclass_isotopes\u001b[0m\u001b[1;33m[\u001b[0m\u001b[0mnp\u001b[0m\u001b[1;33m.\u001b[0m\u001b[0margmax\u001b[0m\u001b[1;33m(\u001b[0m\u001b[0mlogits_test\u001b[0m\u001b[1;33m)\u001b[0m\u001b[1;33m]\u001b[0m\u001b[1;33m\u001b[0m\u001b[0m\n\u001b[0;32m      6\u001b[0m \u001b[1;32mprint\u001b[0m \u001b[1;34m'True label: '\u001b[0m\u001b[1;33m+\u001b[0m\u001b[0mclass_isotopes\u001b[0m\u001b[1;33m[\u001b[0m\u001b[0mtraining_keys\u001b[0m\u001b[1;33m[\u001b[0m\u001b[0mindex\u001b[0m\u001b[1;33m]\u001b[0m\u001b[1;33m]\u001b[0m\u001b[1;33m\u001b[0m\u001b[0m\n",
      "\u001b[1;32m/home/ubuntu/Notebooks/annsa/examples/cvt-oct/cvt_oct_tensorflow_classes.pyc\u001b[0m in \u001b[0;36mpredict\u001b[1;34m(self, input_data, training)\u001b[0m\n\u001b[0;32m     69\u001b[0m                 \u001b[0mlogits\u001b[0m\u001b[1;33m:\u001b[0m \u001b[0munnormalized\u001b[0m \u001b[0mpredictions\u001b[0m\u001b[1;33m.\u001b[0m\u001b[1;33m\u001b[0m\u001b[0m\n\u001b[0;32m     70\u001b[0m         \"\"\"\n\u001b[1;32m---> 71\u001b[1;33m         \u001b[1;32mreturn\u001b[0m \u001b[0mtf\u001b[0m\u001b[1;33m.\u001b[0m\u001b[0mnn\u001b[0m\u001b[1;33m.\u001b[0m\u001b[0msoftmax\u001b[0m\u001b[1;33m(\u001b[0m\u001b[0mself\u001b[0m\u001b[1;33m.\u001b[0m\u001b[0mpredict_logits\u001b[0m\u001b[1;33m(\u001b[0m\u001b[0mself\u001b[0m\u001b[1;33m,\u001b[0m \u001b[0minput_data\u001b[0m\u001b[1;33m,\u001b[0m \u001b[0mtraining\u001b[0m\u001b[1;33m)\u001b[0m\u001b[1;33m)\u001b[0m\u001b[1;33m\u001b[0m\u001b[0m\n\u001b[0m\u001b[0;32m     72\u001b[0m \u001b[1;33m\u001b[0m\u001b[0m\n\u001b[0;32m     73\u001b[0m     \u001b[1;32mdef\u001b[0m \u001b[0mloss_fn\u001b[0m\u001b[1;33m(\u001b[0m\u001b[0mself\u001b[0m\u001b[1;33m,\u001b[0m \u001b[0minput_data\u001b[0m\u001b[1;33m,\u001b[0m \u001b[0mtarget\u001b[0m\u001b[1;33m,\u001b[0m \u001b[0mtraining\u001b[0m\u001b[1;33m=\u001b[0m\u001b[0mTrue\u001b[0m\u001b[1;33m)\u001b[0m\u001b[1;33m:\u001b[0m\u001b[1;33m\u001b[0m\u001b[0m\n",
      "\u001b[1;31mTypeError\u001b[0m: predict_logits() takes at most 3 arguments (4 given)"
     ]
    }
   ],
   "source": [
    "index = 4017\n",
    "\n",
    "\n",
    "logits_test = model.predict(training_data[index])\n",
    "print 'Pred label: '+class_isotopes[np.argmax(logits_test)]\n",
    "print 'True label: '+class_isotopes[training_keys[index]]\n",
    "\n",
    "plt.plot(scaler.inverse_transform(training_data[index]))\n",
    "\n",
    "#an.results2(training_keys_binarized[index],5)\n",
    "#print '\\n'\n",
    "#an.results2(logits_test.numpy()[0][0],5)"
   ]
  },
  {
   "cell_type": "raw",
   "metadata": {},
   "source": [
    "Co60_10cm_400s_0.Spe\n",
    "Co60_10cm_400s_1.Spe\n",
    "Co60_10cm_400s_2.Spe\n",
    "Co60_10cm_480s_0.Spe\n",
    "Co60_10cm_480s_1.Spe\n",
    "Co60_10cm_480s_2.27mmPb_0.Spe\n",
    "Co60_10cm_480s_2.27mmPb_1.Spe\n",
    "Co60_10cm_480s_2.27mmPb_2.Spe\n",
    "Co60_10cm_480s_2.Spe\n",
    "Co60_10cm_480s_25.5mmSS_0.Spe\n",
    "Co60_10cm_480s_25.5mmSS_1.Spe\n",
    "Co60_10cm_480s_25.5mmSS_2.Spe\n",
    "Co60_10cm_480s_5.33mmPb_0.Spe\n",
    "Co60_10cm_480s_5.33mmPb_1.Spe\n",
    "Co60_10cm_480s_5.33mmPb_2.Spe\n",
    "Co60_10cm_480s_51mmSS_0.Spe\n",
    "Co60_10cm_480s_51mmSS_1.Spe\n",
    "Co60_10cm_480s_51mmSS_2.Spe\n",
    "Data.xlsx\n",
    "Eu152_15cm_109s_25.5mmSS_0.Spe\n",
    "Eu152_15cm_109s_25.5mmSS_1.Spe\n",
    "Eu152_15cm_139s_2.27mmPb_0.Spe\n",
    "Eu152_15cm_139s_2.27mmPb_1.Spe\n",
    "Eu152_15cm_139s_2.27mmPb_2.Spe\n",
    "Eu152_15cm_173.5s_5.33mmPb_0.Spe\n",
    "Eu152_15cm_173.5s_5.33mmPb_1.Spe\n",
    "Eu152_15cm_173.5s_5.33mmPb_2.Spe\n",
    "Eu152_15cm_60s_0.Spe\n",
    "Eu152_15cm_60s_1.Spe\n",
    "Eu152_15cm_60s_2.27mmPb_0.Spe\n",
    "Eu152_15cm_60s_2.27mmPb_1.Spe\n",
    "Eu152_15cm_60s_2.27mmPb_2.Spe\n",
    "Eu152_15cm_60s_25.5mmSS_0.Spe\n",
    "Eu152_15cm_60s_25.5mmSS_1.Spe\n",
    "Eu152_15cm_60s_25.5mmSS_2.Spe\n",
    "Eu152_15cm_60s_5.33mmPb_0.Spe\n",
    "Eu152_15cm_60s_5.33mmPb_1.Spe\n",
    "Eu152_15cm_60s_5.33mmPb_2.Spe\n",
    "Eu152_15cm_60s_51mmSS_0.Spe\n",
    "Eu152_15cm_60s_51mmSS_1.Spe\n",
    "Eu152_15cm_60s_51mmSS_2.Spe\n",
    "Eu152_15cm_88.5s_25.5mmSS_0.Spe\n",
    "Eu152_15cm_88.5s_25.5mmSS_1.Spe\n",
    "Eu152_15cm_88.5s_25.5mmSS_2.Spe\n",
    "Eu152_15cm_90s_25.5mmSS_0.Spe"
   ]
  },
  {
   "cell_type": "code",
   "execution_count": null,
   "metadata": {
    "collapsed": false
   },
   "outputs": [],
   "source": [
    "spectrum1=an.read_spectrum('/home/ubuntu/Notebooks/Shielded_Data/Eu152_15cm_88.5s_25.5mmSS_2.Spe')\n",
    "spectrum2=an.read_spectrum('/home/ubuntu/Notebooks/Shielded_Data/Eu152_15cm_60s_0.Spe')\n",
    "\n",
    "plt.plot(spectrum1,label='shielded')\n",
    "plt.semilogy(spectrum2,label='unshielded')\n",
    "plt.xlim([0,600])\n",
    "plt.legend()"
   ]
  },
  {
   "cell_type": "code",
   "execution_count": null,
   "metadata": {
    "collapsed": false
   },
   "outputs": [],
   "source": [
    "spectrum=scaler.transform(spectrum1.reshape([1,1024]))\n",
    "logits_test = model.predict(spectrum[0])\n",
    "print class_isotopes[np.argmax(logits_test)]\n",
    "\n",
    "spectrum=scaler.transform(spectrum2.reshape([1,1024]))\n",
    "logits_test = model.predict(spectrum[0])\n",
    "print class_isotopes[np.argmax(logits_test)]"
   ]
  },
  {
   "cell_type": "code",
   "execution_count": null,
   "metadata": {
    "collapsed": true
   },
   "outputs": [],
   "source": [
    "Eu152_0mmlead_30cm_60s.Spe\n",
    "Eu152_0mmlead_55cm_60s.Spe\n",
    "Eu152_227mmlead_30cm_60s.Spe\n",
    "Eu152_255mmSS_30cm_60s.Spe\n",
    "Eu152_500s000.Spe\n",
    "Eu152_516mmlead_30cm_60s.Spe\n",
    "Eu152_51mmSS_30cm_60s.Spe\n",
    "Eu152_6.4mmlead_55cm_60s.Spe\n",
    "Eu152_64mmlead_30cm_60s.Spe\n",
    "Eu_10sDECAYTEST000.Spe\n",
    "Eu_10sDECAYTEST001.Spe\n",
    "Eu_60sDECAYTEST000.Spe"
   ]
  },
  {
   "cell_type": "code",
   "execution_count": null,
   "metadata": {
    "collapsed": false
   },
   "outputs": [],
   "source": [
    "spectrum=an.read_spectrum('/home/ubuntu/Notebooks/Eu_60sDECAYTEST000.Spe')\n",
    "plt.plot(spectrum)\n",
    "spectrum=scaler.transform(spectrum.reshape([1,1024]))\n",
    "\n",
    "logits_test = model.predict(spectrum[0])\n",
    "print class_isotopes[np.argmax(logits_test)]"
   ]
  }
 ],
 "metadata": {
  "kernelspec": {
   "display_name": "Python 2",
   "language": "python",
   "name": "python2"
  },
  "language_info": {
   "codemirror_mode": {
    "name": "ipython",
    "version": 2
   },
   "file_extension": ".py",
   "mimetype": "text/x-python",
   "name": "python",
   "nbconvert_exporter": "python",
   "pygments_lexer": "ipython2",
   "version": "2.7.15"
  }
 },
 "nbformat": 4,
 "nbformat_minor": 1
}
