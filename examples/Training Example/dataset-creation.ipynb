{
 "cells": [
  {
   "cell_type": "code",
   "execution_count": 1,
   "metadata": {
    "collapsed": false,
    "scrolled": true
   },
   "outputs": [
    {
     "name": "stderr",
     "output_type": "stream",
     "text": [
      "/home/ubuntu/anaconda2/lib/python2.7/site-packages/h5py/__init__.py:36: FutureWarning: Conversion of the second argument of issubdtype from `float` to `np.floating` is deprecated. In future, it will be treated as `np.float64 == np.dtype(float).type`.\n",
      "  from ._conv import register_converters as _register_converters\n"
     ]
    }
   ],
   "source": [
    "%matplotlib inline\n",
    "import matplotlib.pyplot as plt\n",
    "\n",
    "import sys\n",
    "sys.path.append(\"/home/ubuntu/Notebooks/annsa/\")\n",
    "\n",
    "import annsa as an\n",
    "import numpy as np"
   ]
  },
  {
   "cell_type": "code",
   "execution_count": 73,
   "metadata": {
    "collapsed": false
   },
   "outputs": [
    {
     "data": {
      "text/plain": [
       "['Am241',\n",
       " 'Ba133',\n",
       " 'Co57',\n",
       " 'Co60',\n",
       " 'Cs137',\n",
       " 'Cr51',\n",
       " 'Eu152',\n",
       " 'Ga67',\n",
       " 'I123',\n",
       " 'I125',\n",
       " 'I131',\n",
       " 'In111',\n",
       " 'Ir192',\n",
       " 'U238',\n",
       " 'Lu177m',\n",
       " 'Mo99',\n",
       " 'Np237',\n",
       " 'Pd103',\n",
       " 'Pu239',\n",
       " 'Pu240',\n",
       " 'Ra226',\n",
       " 'Se75',\n",
       " 'Sm153',\n",
       " 'Tc99m',\n",
       " 'Xe133',\n",
       " 'Tl201',\n",
       " 'Tl204',\n",
       " 'U233',\n",
       " 'U235']"
      ]
     },
     "execution_count": 73,
     "metadata": {},
     "output_type": "execute_result"
    }
   ],
   "source": [
    "an.isotopes[0:-3]"
   ]
  },
  {
   "cell_type": "code",
   "execution_count": 76,
   "metadata": {
    "collapsed": false
   },
   "outputs": [
    {
     "name": "stdout",
     "output_type": "stream",
     "text": [
      "['Am241', 'Ba133', 'Co57', 'Co60', 'Cs137', 'Cr51', 'Eu152', 'Ga67', 'I123']\n",
      "['I125', 'I131', 'In111', 'Ir192', 'U238', 'Lu177m', 'Mo99', 'Np237', 'Pd103']\n",
      "['Pu239', 'Pu240', 'Ra226', 'Se75', 'Sm153', 'Tc99m', 'Xe133', 'Tl201', 'Tl204', 'U233', 'U235']\n"
     ]
    }
   ],
   "source": [
    "print an.isotopes[0:9]\n",
    "print an.isotopes[9:18]\n",
    "print an.isotopes[18:-3]"
   ]
  },
  {
   "cell_type": "markdown",
   "metadata": {},
   "source": [
    "## Load template spectra"
   ]
  },
  {
   "cell_type": "code",
   "execution_count": 23,
   "metadata": {
    "collapsed": true
   },
   "outputs": [],
   "source": [
    "def load_template_spectra_from_folder(parent_folder,spectrum_identifier):\n",
    "    '''\n",
    "    inputs: partent_folder, spectrum_identifier\n",
    "    output: dictionary containing all template spectra from a folder.\n",
    "    \n",
    "    Load template spectrum data into a dictionary. This allows templates from \n",
    "    different folders to be loaded into different dictionaries.\n",
    "    \n",
    "    '''\n",
    "    \n",
    "    \n",
    "    temp_dict = {}\n",
    "    \n",
    "    def normalize_spectrum(ID):\n",
    "        temp_spectrum = an.read_spectrum(parent_folder + ID + spectrum_identifier)\n",
    "        if np.max(temp_spectrum)==0:\n",
    "            print ID + ' Contains no values'\n",
    "        return temp_spectrum/np.max(temp_spectrum)\n",
    "    \n",
    "    for i in range(len(an.isotopes)-3):\n",
    "#        if an.isotopes[i]=='I125':\n",
    "#            continue\n",
    "        temp_dict[an.isotopes[i]] = normalize_spectrum(an.isotopes_sources_GADRAS_ID[i]) # 0 \n",
    "    \n",
    "\n",
    "    return temp_dict"
   ]
  },
  {
   "cell_type": "code",
   "execution_count": 24,
   "metadata": {
    "collapsed": false
   },
   "outputs": [
    {
     "name": "stdout",
     "output_type": "stream",
     "text": [
      "125I Contains no values\n",
      "125I Contains no values\n",
      "125I Contains no values\n",
      "125I Contains no values\n",
      "125I Contains no values\n",
      "125I Contains no values\n",
      "125I Contains no values\n"
     ]
    },
    {
     "name": "stderr",
     "output_type": "stream",
     "text": [
      "/home/ubuntu/anaconda2/lib/python2.7/site-packages/ipykernel/__main__.py:18: RuntimeWarning: invalid value encountered in divide\n"
     ]
    }
   ],
   "source": [
    "spectral_templates={}\n",
    "\n",
    "spectrum_identifier = \"_10uC_spectrum.spe\"\n",
    "\n",
    "spectral_templates['noshield']=load_template_spectra_from_folder(\"templates/no-shielding/\",\n",
    "                                                                   spectrum_identifier)\n",
    "\n",
    "spectral_templates['aluminum20pct']=load_template_spectra_from_folder(\"templates/aluminum-20pct/\",\n",
    "                                                                        spectrum_identifier)\n",
    "spectral_templates['aluminum40pct']=load_template_spectra_from_folder(\"templates/aluminum-40pct/\",\n",
    "                                                                        spectrum_identifier)\n",
    "spectral_templates['aluminum60pct']=load_template_spectra_from_folder(\"templates/aluminum-60pct/\",\n",
    "                                                                        spectrum_identifier)\n",
    "spectral_templates['aluminum80pct']=load_template_spectra_from_folder(\"templates/aluminum-80pct/\",\n",
    "                                                                        spectrum_identifier)\n",
    "\n",
    "spectral_templates['iron20pct']=load_template_spectra_from_folder(\"templates/iron-20pct/\",\n",
    "                                                                        spectrum_identifier)\n",
    "spectral_templates['iron40pct']=load_template_spectra_from_folder(\"templates/iron-40pct/\",\n",
    "                                                                        spectrum_identifier)\n",
    "spectral_templates['iron60pct']=load_template_spectra_from_folder(\"templates/iron-60pct/\",\n",
    "                                                                        spectrum_identifier)\n",
    "spectral_templates['iron80pct']=load_template_spectra_from_folder(\"templates/iron-80pct/\",\n",
    "                                                                        spectrum_identifier)\n",
    "\n",
    "\n",
    "spectral_templates['lead20pct']=load_template_spectra_from_folder(\"templates/lead-20pct/\",\n",
    "                                                                        spectrum_identifier)\n",
    "spectral_templates['lead40pct']=load_template_spectra_from_folder(\"templates/lead-40pct/\",\n",
    "                                                                        spectrum_identifier)\n",
    "spectral_templates['lead60pct']=load_template_spectra_from_folder(\"templates/lead-60pct/\",\n",
    "                                                                        spectrum_identifier)\n",
    "spectral_templates['lead80pct']=load_template_spectra_from_folder(\"templates/lead-80pct/\",\n",
    "                                                                        spectrum_identifier)"
   ]
  },
  {
   "cell_type": "code",
   "execution_count": 25,
   "metadata": {
    "collapsed": true
   },
   "outputs": [],
   "source": [
    "background_locations=['albuquerque',\n",
    "                      'chicago',\n",
    "                      'denver',\n",
    "                      'losalamos',\n",
    "                      'miami',\n",
    "                      'newyork',\n",
    "                      'sanfrancisco']"
   ]
  },
  {
   "cell_type": "code",
   "execution_count": 26,
   "metadata": {
    "collapsed": false
   },
   "outputs": [],
   "source": [
    "spectral_templates['background']={}\n",
    "\n",
    "def normalize_spectrum(location):\n",
    "        temp_spectrum = an.read_spectrum('./templates/background/background-'+location+'.spe')\n",
    "        if np.max(temp_spectrum)==0:\n",
    "            print ID + ' Contains no values'\n",
    "        return temp_spectrum/np.max(temp_spectrum)\n",
    "\n",
    "for location in background_locations:\n",
    "    spectral_templates['background'][location]=normalize_spectrum(location)"
   ]
  },
  {
   "cell_type": "markdown",
   "metadata": {},
   "source": [
    "### Define dataset parameters"
   ]
  },
  {
   "cell_type": "code",
   "execution_count": 6,
   "metadata": {
    "collapsed": false
   },
   "outputs": [],
   "source": [
    "# Assuming 60cps background count rate on detector\n",
    "\n",
    "def generate_random_counts_on_detector(integration_time_setting):\n",
    "    \n",
    "    integration_time = np.random.uniform(integration_time_ranges[integration_time_setting][0],\n",
    "                                         integration_time_ranges[integration_time_setting][1])\n",
    "\n",
    "    count_rate_on_detector = np.random.uniform(10,120)\n",
    "    counts_on_detector = int(count_rate_on_detector*integration_time)\n",
    "\n",
    "    return counts_on_detector"
   ]
  },
  {
   "cell_type": "code",
   "execution_count": 7,
   "metadata": {
    "collapsed": false
   },
   "outputs": [],
   "source": [
    "spectral_template_settings=['noshield',\n",
    "                           'aluminum20pct',\n",
    "                           'aluminum40pct',\n",
    "                           'aluminum60pct',\n",
    "                           'aluminum80pct',\n",
    "                           'iron20pct',\n",
    "                           'iron40pct',\n",
    "                           'iron60pct',\n",
    "                           'iron80pct',\n",
    "                           'lead20pct',\n",
    "                           'lead40pct',\n",
    "                           'lead60pct',\n",
    "                           'lead80pct',]\n",
    "\n",
    "isotope_list=an.isotopes[:-3]"
   ]
  },
  {
   "cell_type": "code",
   "execution_count": 66,
   "metadata": {
    "collapsed": false
   },
   "outputs": [],
   "source": [
    "integration_time_division=10\n",
    "signal_to_background_division=5\n",
    "calibration_division=5\n",
    "\n",
    "integration_times=np.logspace(np.log10(10),np.log10(3600),integration_time_division)\n",
    "signal_to_backgrounds=np.logspace(np.log10(0.25),np.log10(4),signal_to_background_division)\n",
    "calibrations=np.linspace(0.952,1.428,calibration_division)\n",
    "\n",
    "#print '\\n\\ntotal samples: ' + str(integration_time_division*signal_to_background_division*calibration_division)"
   ]
  },
  {
   "cell_type": "code",
   "execution_count": 41,
   "metadata": {
    "collapsed": false
   },
   "outputs": [
    {
     "name": "stdout",
     "output_type": "stream",
     "text": [
      "Isotope U235, template lead80pct, 171000 total spectra simulated\n"
     ]
    }
   ],
   "source": [
    "all_source_spectra=[]\n",
    "all_keys=[]\n",
    "LLD=10\n",
    "background_cps=85.\n",
    "total_spectra=0\n",
    "\n",
    "\n",
    "for isotope in isotope_list:\n",
    "    for spectral_template_setting in spectral_template_settings:\n",
    "        for integration_time in integration_times:\n",
    "            for signal_to_background in signal_to_backgrounds:\n",
    "                for calibration in calibrations:\n",
    "                    isotopes_per_setting=1\n",
    "                    # Simulate extra unshielded spectra to avoid training set imbalance \n",
    "                    if spectral_template_setting=='noshield':\n",
    "                        isotopes_per_setting*=12\n",
    "                    for _ in range(isotopes_per_setting):\n",
    "\n",
    "                        \n",
    "                        # I125 emits a maximum gamma-ray energy of 30keV. \n",
    "                        # This will either be completely attenuated by any shielding, or produce insignificatn Compton Continuum.\n",
    "                        # For this reason shielded I125 is removed as a class\n",
    "                        if isotope=='I125' and spectral_template_setting!='noshield':\n",
    "                            continue\n",
    "                        \n",
    "                        # Simulate source\n",
    "                        source_template=spectral_templates[spectral_template_setting][isotope]\n",
    "                        source_template=an.zoom_spectrum(source_template,calibration)\n",
    "                        source_template[0:LLD]=0\n",
    "                        \n",
    "                        sampled_spectrum=an.sample_spectrum(source_template,integration_time*background_cps*signal_to_background)\n",
    "                        flag=0\n",
    "                        while np.sum(np.isnan(sampled_spectrum))!=0:\n",
    "                            sampled_spectrum=an.sample_spectrum(source_template,\n",
    "                                           generate_random_counts_on_detector(integration_time))\n",
    "                            flag+=1\n",
    "                            if flag==1:\n",
    "                                print 'spectral template'+spectral_templates[spectral_template_setting]+'contains NaN'\n",
    "                                break\n",
    "                       \n",
    "                        all_source_spectra.append(sampled_spectrum)\n",
    "                        \n",
    "                        isotope_key=isotope\n",
    "                        \n",
    "                        if spectral_template_setting!='noshield':\n",
    "                            isotope_key+='_shielded'\n",
    "                        all_keys.append(isotope_key)\n",
    "                        \n",
    "                        print ('\\1b[2k\\r'),    \n",
    "                        print('Isotope %s, template %s, %s total spectra simulated' %(isotope,\n",
    "                                                                                      spectral_template_setting,\n",
    "                                                                                      total_spectra)),\n",
    "                        \n",
    "                        if total_spectra%100==0:\n",
    "                            np.save('CVT-oct-source-spectra-test-v1',all_source_spectra)\n",
    "                            np.save('CVT-oct-keys-test-v1',all_keys)\n",
    "                            \n",
    "np.save('CVT-oct-source-spectra-test-v1',all_source_spectra)\n",
    "np.save('CVT-oct-keys-test-v1',all_keys)"
   ]
  }
 ],
 "metadata": {
  "kernelspec": {
   "display_name": "Python 2",
   "language": "python",
   "name": "python2"
  },
  "language_info": {
   "codemirror_mode": {
    "name": "ipython",
    "version": 2
   },
   "file_extension": ".py",
   "mimetype": "text/x-python",
   "name": "python",
   "nbconvert_exporter": "python",
   "pygments_lexer": "ipython2",
   "version": "2.7.15"
  }
 },
 "nbformat": 4,
 "nbformat_minor": 0
}
