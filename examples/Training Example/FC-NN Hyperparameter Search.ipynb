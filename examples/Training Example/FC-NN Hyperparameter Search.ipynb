{
 "cells": [
  {
   "cell_type": "code",
   "execution_count": 1,
   "metadata": {
    "collapsed": false,
    "scrolled": false
   },
   "outputs": [
    {
     "name": "stderr",
     "output_type": "stream",
     "text": [
      "/home/ubuntu/anaconda2/lib/python2.7/site-packages/h5py/__init__.py:36: FutureWarning: Conversion of the second argument of issubdtype from `float` to `np.floating` is deprecated. In future, it will be treated as `np.float64 == np.dtype(float).type`.\n",
      "  from ._conv import register_converters as _register_converters\n"
     ]
    }
   ],
   "source": [
    "%matplotlib inline\n",
    "\n",
    "import matplotlib.pyplot as plt\n",
    "\n",
    "import sys\n",
    "sys.path.append(\"/home/ubuntu/Notebooks/annsa/\")\n",
    "import os\n",
    "import pickle\n",
    "\n",
    "import tensorflow.contrib.eager as tfe\n",
    "from sklearn import datasets, preprocessing, model_selection\n",
    "from sklearn.model_selection import KFold\n",
    "\n",
    "import annsa as an\n",
    "import tensorflow as tf\n",
    "import numpy as np"
   ]
  },
  {
   "cell_type": "code",
   "execution_count": 2,
   "metadata": {
    "collapsed": false
   },
   "outputs": [],
   "source": [
    "tf.enable_eager_execution()"
   ]
  },
  {
   "cell_type": "markdown",
   "metadata": {},
   "source": [
    "#### Define neural network"
   ]
  },
  {
   "cell_type": "code",
   "execution_count": 3,
   "metadata": {
    "collapsed": false
   },
   "outputs": [],
   "source": [
    "from cvt_oct_tensorflow_classes import fc_nn,fc_nn_model_features,class_isotopes,train_kfolds"
   ]
  },
  {
   "cell_type": "markdown",
   "metadata": {},
   "source": [
    "#### Get some data"
   ]
  },
  {
   "cell_type": "code",
   "execution_count": 4,
   "metadata": {
    "collapsed": true
   },
   "outputs": [],
   "source": [
    "scaler=preprocessing.StandardScaler()\n",
    "mlb=preprocessing.MultiLabelBinarizer()"
   ]
  },
  {
   "cell_type": "code",
   "execution_count": 5,
   "metadata": {
    "collapsed": false
   },
   "outputs": [],
   "source": [
    "training_data = np.load('CVT-oct-spectra-test.npy')\n",
    "training_keys = np.load('CVT-oct-keys-test.npy')\n",
    "nan_isotopes=list(set(np.argwhere(np.isnan(training_data))[:,0]))\n",
    "training_data=np.delete(training_data,nan_isotopes,axis=0)\n",
    "training_keys=np.delete(training_keys,nan_isotopes,axis=0)\n",
    "\n",
    "training_data = scaler.fit_transform(training_data)\n",
    "training_keys_binarized = mlb.fit_transform(training_keys.reshape([training_data.shape[0],1]))"
   ]
  },
  {
   "cell_type": "markdown",
   "metadata": {},
   "source": [
    "#### Define an optimizer, model, and train the network"
   ]
  },
  {
   "cell_type": "code",
   "execution_count": 13,
   "metadata": {
    "collapsed": false
   },
   "outputs": [
    {
     "name": "stdout",
     "output_type": "stream",
     "text": [
      "Searching hyperparameter combination number 0\n",
      "training loss: 3.28  testing loss: 3.28\n",
      "training loss: 3.51  testing loss: 3.51\n",
      "training loss: 3.39  testing loss: 3.39\n",
      "training loss: 3.38  testing loss: 3.38\n",
      "training loss: 3.48  testing loss: 3.48\n",
      "final average training loss: 3.41 final average testing loss: 3.41\n",
      "Searching hyperparameter combination number 1\n",
      "training loss: 3.49  testing loss: 3.49\n",
      "training loss: 3.48  testing loss: 3.48\n",
      "training loss: 3.37  testing loss: 3.37\n",
      "training loss: 3.38  testing loss: 3.38\n",
      "training loss: 3.15  testing loss: 3.15\n",
      "final average training loss: 3.37 final average testing loss: 3.37\n",
      "Searching hyperparameter combination number 2\n",
      "training loss: 3.49  testing loss: 3.49\n",
      "training loss: 3.49  testing loss: 3.49\n",
      "training loss: 3.34  testing loss: 3.34\n",
      "training loss: 3.33  testing loss: 3.33\n",
      "training loss: 3.36  testing loss: 3.36\n",
      "final average training loss: 3.40 final average testing loss: 3.40\n",
      "Searching hyperparameter combination number 3\n",
      "training loss: 3.52  testing loss: 3.52\n",
      "training loss: 3.43  testing loss: 3.43\n",
      "training loss: 3.48  testing loss: 3.48\n",
      "training loss: 3.41  testing loss: 3.41\n",
      "training loss: 3.23  testing loss: 3.23\n",
      "final average training loss: 3.41 final average testing loss: 3.41\n",
      "Searching hyperparameter combination number 4\n",
      "training loss: 3.48  testing loss: 3.48\n",
      "training loss: 3.55  testing loss: 3.55\n",
      "training loss: 3.44  testing loss: 3.44\n",
      "training loss: 3.37  testing loss: 3.37\n",
      "training loss: 3.20  testing loss: 3.20\n",
      "final average training loss: 3.41 final average testing loss: 3.41\n"
     ]
    }
   ],
   "source": [
    "number_hyperparameters_to_search = 5\n",
    "final_avg_test_errors=np.zeros(number_hyperparameters_to_search)\n",
    "model_id='fc_nn'\n",
    "\n",
    "for hyperparameter_index in range(number_hyperparameters_to_search):\n",
    "    print(\"Searching hyperparameter combination number \"+str(hyperparameter_index))\n",
    "    \n",
    "    model_features = fc_nn_model_features(learining_rate=4.5e-3,\n",
    "                                        l2_regularization_scale=1.09e-3,\n",
    "                                        dropout_probability=1.0-0.96,\n",
    "                                        nodes_layer_1=449,\n",
    "                                        nodes_layer_2=305)\n",
    "\n",
    "    with open('./hyperparameter-search-results/'+model_id+'_'+str(hyperparameter_index)+'_features', 'w+') as f:\n",
    "        pickle.dump(model_features,f)\n",
    "    \n",
    "    _,final_avg_test_errors[hyperparameter_index]=train_kfolds(training_data=training_data,\n",
    "                                                 training_keys=training_keys_binarized,\n",
    "                                                 number_folds=5,\n",
    "                                                 num_epochs=1,\n",
    "                                                 model_class=fc_nn,\n",
    "                                                 model_features=model_features,\n",
    "                                                 verbose=True)\n",
    "    np.save('./hyperparameter-search-results/final_avg_test_errors_'+model_id+'_'+str(hyperparameter_index),final_avg_test_errors)"
   ]
  }
 ],
 "metadata": {
  "kernelspec": {
   "display_name": "Python 2",
   "language": "python",
   "name": "python2"
  },
  "language_info": {
   "codemirror_mode": {
    "name": "ipython",
    "version": 2
   },
   "file_extension": ".py",
   "mimetype": "text/x-python",
   "name": "python",
   "nbconvert_exporter": "python",
   "pygments_lexer": "ipython2",
   "version": "2.7.15"
  }
 },
 "nbformat": 4,
 "nbformat_minor": 1
}
