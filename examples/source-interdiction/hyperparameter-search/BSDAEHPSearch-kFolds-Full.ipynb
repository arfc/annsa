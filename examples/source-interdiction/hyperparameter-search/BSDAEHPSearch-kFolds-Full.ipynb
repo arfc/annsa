{
 "cells": [
  {
   "cell_type": "code",
   "execution_count": 1,
   "metadata": {},
   "outputs": [],
   "source": [
    "import matplotlib.pyplot as plt\n",
    "import os\n",
    "os.environ[\"CUDA_DEVICE_ORDER\"]=\"PCI_BUS_ID\"   # see issue #152\n",
    "os.environ[\"CUDA_VISIBLE_DEVICES\"]=\"5\"\n",
    "\n",
    "from sklearn.pipeline import make_pipeline\n",
    "from sklearn.preprocessing import FunctionTransformer, Normalizer\n",
    "from sklearn.model_selection import StratifiedKFold\n",
    "import tensorflow as tf\n",
    "import pickle\n",
    "import numpy as np\n",
    "import pandas as pd\n",
    "\n",
    "from annsa.template_sampling import *\n",
    "\n",
    "from annsa.load_dataset import load_easy"
   ]
  },
  {
   "cell_type": "code",
   "execution_count": 2,
   "metadata": {},
   "outputs": [],
   "source": [
    "import tensorflow.contrib.eager as tfe"
   ]
  },
  {
   "cell_type": "code",
   "execution_count": 3,
   "metadata": {},
   "outputs": [],
   "source": [
    "tf.enable_eager_execution()"
   ]
  },
  {
   "cell_type": "markdown",
   "metadata": {},
   "source": [
    "#### Import model, training function "
   ]
  },
  {
   "cell_type": "code",
   "execution_count": 4,
   "metadata": {},
   "outputs": [],
   "source": [
    "from annsa.model_classes import (dae_model_features,\n",
    "                                 DAE,\n",
    "                                 save_model,\n",
    "                                 train_earlystop)"
   ]
  },
  {
   "cell_type": "markdown",
   "metadata": {},
   "source": [
    "## Load testing dataset "
   ]
  },
  {
   "cell_type": "code",
   "execution_count": 5,
   "metadata": {},
   "outputs": [],
   "source": [
    "dataset = np.load('../dataset_generation/testing_dataset_full_200keV_log10time_1000.npy')"
   ]
  },
  {
   "cell_type": "code",
   "execution_count": 6,
   "metadata": {},
   "outputs": [],
   "source": [
    "all_spectra = np.random.poisson(np.add(dataset.item()['sources'], dataset.item()['backgrounds']))\n",
    "all_keys = np.array(dataset.item()['sources']) # background subtracted output\n",
    "all_keys_modified = np.log1p(all_keys)/np.max(np.log1p(all_spectra),axis=1)[:,None]\n",
    "\n",
    "\n",
    "keys_raw = dataset.item()['keys'] # keys necessary for stratified k-folds\n"
   ]
  },
  {
   "cell_type": "markdown",
   "metadata": {},
   "source": [
    "## Train network"
   ]
  },
  {
   "cell_type": "code",
   "execution_count": 11,
   "metadata": {},
   "outputs": [],
   "source": [
    "model_id = 'BSDAE_full_tmp_sqrt'"
   ]
  },
  {
   "cell_type": "code",
   "execution_count": 12,
   "metadata": {},
   "outputs": [],
   "source": [
    "model_class = DAE\n",
    "\n",
    "dense_nodes_encoder_choices = [[64],\n",
    "                               [128],\n",
    "                               [256],\n",
    "                               [128,64],\n",
    "                               [256,128],\n",
    "                               [256,64],\n",
    "                               [512,512,128],\n",
    "                               [1024,1024,128],\n",
    "                               [1024,1024,64],\n",
    "                               [1024,1024,32],\n",
    "                              ]\n",
    "\n",
    "dense_nodes_decoder_choices = [[],\n",
    "                               [],\n",
    "                               [],\n",
    "                               [128],\n",
    "                               [256],\n",
    "                               [256],\n",
    "                               [512,512],\n",
    "                               [1024,1024],\n",
    "                               [1024,1024],\n",
    "                               [1024,1024],\n",
    "                              ]"
   ]
  },
  {
   "cell_type": "code",
   "execution_count": 13,
   "metadata": {},
   "outputs": [],
   "source": [
    "def dnn_nodes_choice_to_txt(cnn_filters_choice):\n",
    "    '''\n",
    "    Returns cnn filters as text. \n",
    "    '''\n",
    "    \n",
    "    cnn_filter_txt  = str(cnn_filters_choice).replace('[', '').replace(']', '').replace(', ', '_')\n",
    "    \n",
    "    return cnn_filter_txt\n",
    "\n",
    "\n",
    "def save_features(model_features,\n",
    "                  model_id,\n",
    "                  hyperparameter_index):\n",
    "    with open('./hyperparameter-search-results/' + model_id + '_' +\n",
    "              str(hyperparameter_index), 'wb+') as f:\n",
    "        pickle.dump(model_features,f)\n",
    "    return None"
   ]
  },
  {
   "cell_type": "code",
   "execution_count": 14,
   "metadata": {},
   "outputs": [
    {
     "name": "stdout",
     "output_type": "stream",
     "text": [
      "INFO:tensorflow:Scale of 0 disables regularizer.\n",
      "Epoch 1: CostFunc loss: 0.00 0.01, EarlyStop loss: 0.00 0.01\n",
      "Epoch 2: CostFunc loss: 0.00 0.01, EarlyStop loss: 0.00 0.01\n",
      "Epoch 3: CostFunc loss: 0.00 0.01, EarlyStop loss: 0.00 0.01\n",
      "Epoch 4: CostFunc loss: 0.00 0.01, EarlyStop loss: 0.00 0.01\n",
      "Epoch 5: CostFunc loss: 0.00 0.01, EarlyStop loss: 0.00 0.01\n",
      "INFO:tensorflow:Scale of 0 disables regularizer.\n",
      "Epoch 1: CostFunc loss: 0.00 0.01, EarlyStop loss: 0.00 0.01\n",
      "Epoch 2: CostFunc loss: 0.00 0.01, EarlyStop loss: 0.00 0.01\n",
      "Epoch 3: CostFunc loss: 0.00 0.01, EarlyStop loss: 0.00 0.01\n",
      "Epoch 4: CostFunc loss: 0.00 0.01, EarlyStop loss: 0.00 0.01\n",
      "Epoch 5: CostFunc loss: 0.00 0.01, EarlyStop loss: 0.00 0.01\n",
      "INFO:tensorflow:Scale of 0 disables regularizer.\n",
      "Epoch 1: CostFunc loss: 0.00 0.01, EarlyStop loss: 0.00 0.01\n",
      "Epoch 2: CostFunc loss: 0.00 0.01, EarlyStop loss: 0.00 0.01\n",
      "Epoch 3: CostFunc loss: 0.00 0.01, EarlyStop loss: 0.00 0.01\n",
      "Epoch 4: CostFunc loss: 0.00 0.01, EarlyStop loss: 0.00 0.01\n",
      "Epoch 5: CostFunc loss: 0.00 0.01, EarlyStop loss: 0.00 0.01\n",
      "INFO:tensorflow:Scale of 0 disables regularizer.\n",
      "Epoch 1: CostFunc loss: 0.00 0.01, EarlyStop loss: 0.00 0.01\n",
      "Epoch 2: CostFunc loss: 0.00 0.01, EarlyStop loss: 0.00 0.01\n",
      "Epoch 3: CostFunc loss: 0.00 0.01, EarlyStop loss: 0.00 0.01\n",
      "Epoch 4: CostFunc loss: 0.00 0.01, EarlyStop loss: 0.00 0.01\n",
      "Epoch 5: CostFunc loss: 0.00 0.01, EarlyStop loss: 0.00 0.01\n",
      "INFO:tensorflow:Scale of 0 disables regularizer.\n",
      "Epoch 1: CostFunc loss: 0.00 0.01, EarlyStop loss: 0.00 0.01\n",
      "Epoch 2: CostFunc loss: 0.00 0.01, EarlyStop loss: 0.00 0.01\n",
      "Epoch 3: CostFunc loss: 0.00 0.01, EarlyStop loss: 0.00 0.01\n",
      "Epoch 4: CostFunc loss: 0.00 0.01, EarlyStop loss: 0.00 0.01\n",
      "Epoch 5: CostFunc loss: 0.00 0.01, EarlyStop loss: 0.00 0.01\n",
      "INFO:tensorflow:Scale of 0 disables regularizer.\n",
      "Epoch 1: CostFunc loss: 0.00 0.01, EarlyStop loss: 0.00 0.01\n",
      "Epoch 2: CostFunc loss: 0.00 0.01, EarlyStop loss: 0.00 0.01\n",
      "Epoch 3: CostFunc loss: 0.00 0.01, EarlyStop loss: 0.00 0.01\n",
      "Epoch 4: CostFunc loss: 0.00 0.00, EarlyStop loss: 0.00 0.00\n",
      "Epoch 5: CostFunc loss: 0.00 0.01, EarlyStop loss: 0.00 0.01\n",
      "INFO:tensorflow:Scale of 0 disables regularizer.\n",
      "Epoch 1: CostFunc loss: 0.00 0.01, EarlyStop loss: 0.00 0.01\n",
      "Epoch 2: CostFunc loss: 0.00 0.01, EarlyStop loss: 0.00 0.01\n",
      "Epoch 3: CostFunc loss: 0.00 0.01, EarlyStop loss: 0.00 0.01\n",
      "Epoch 4: CostFunc loss: 0.00 0.01, EarlyStop loss: 0.00 0.01\n",
      "Epoch 5: CostFunc loss: 0.00 0.00, EarlyStop loss: 0.00 0.00\n",
      "INFO:tensorflow:Scale of 0 disables regularizer.\n",
      "Epoch 1: CostFunc loss: 0.00 0.02, EarlyStop loss: 0.00 0.02\n",
      "Epoch 2: CostFunc loss: 0.00 0.02, EarlyStop loss: 0.00 0.02\n",
      "Epoch 3: CostFunc loss: 0.00 0.01, EarlyStop loss: 0.00 0.01\n",
      "Epoch 4: CostFunc loss: 0.00 0.01, EarlyStop loss: 0.00 0.01\n",
      "Epoch 5: CostFunc loss: 0.00 0.04, EarlyStop loss: 0.00 0.04\n",
      "INFO:tensorflow:Scale of 0 disables regularizer.\n",
      "Epoch 1: CostFunc loss: 0.00 0.01, EarlyStop loss: 0.00 0.01\n",
      "Epoch 2: CostFunc loss: 0.00 0.01, EarlyStop loss: 0.00 0.01\n",
      "Epoch 3: CostFunc loss: 0.00 0.17, EarlyStop loss: 0.00 0.17\n",
      "Epoch 4: CostFunc loss: 0.00 0.03, EarlyStop loss: 0.00 0.03\n",
      "Epoch 5: CostFunc loss: 0.00 0.01, EarlyStop loss: 0.00 0.01\n",
      "INFO:tensorflow:Scale of 0 disables regularizer.\n",
      "Epoch 1: CostFunc loss: 0.00 0.03, EarlyStop loss: 0.00 0.03\n",
      "Epoch 2: CostFunc loss: 0.00 0.03, EarlyStop loss: 0.00 0.03\n",
      "Epoch 3: CostFunc loss: 0.00 0.03, EarlyStop loss: 0.00 0.03\n",
      "Epoch 4: CostFunc loss: 0.00 0.03, EarlyStop loss: 0.00 0.03\n",
      "Epoch 5: CostFunc loss: 0.00 0.03, EarlyStop loss: 0.00 0.03\n"
     ]
    }
   ],
   "source": [
    "\n",
    "skf = StratifiedKFold(n_splits=5, random_state=5)\n",
    "testing_errors = []\n",
    "all_kf_errors = []\n",
    "\n",
    "\n",
    "for dense_nodes_encoder_choice in dense_nodes_encoder_choices:\n",
    "\n",
    "    network_id = dnn_nodes_choice_to_txt(dense_nodes_encoder_choice)\n",
    "\n",
    "    model_features = dae_model_features(\n",
    "        learining_rate=10**-3,\n",
    "        l1_regularization_scale=0.0,\n",
    "        dropout_probability=0.0,\n",
    "        batch_size=32,\n",
    "        output_size=1024,\n",
    "        dense_nodes_encoder=dense_nodes_encoder_choice,\n",
    "        dense_nodes_decoder=dense_nodes_encoder_choice[:-1],\n",
    "        scaler=make_pipeline(FunctionTransformer(np.log1p, validate=True), Normalizer(norm='max')),\n",
    "        activation_function=tf.nn.tanh,\n",
    "        output_function=None)\n",
    "\n",
    "    save_features(model_features,\n",
    "              model_id,\n",
    "              network_id)\n",
    "\n",
    "    k_folds_errors = []\n",
    "\n",
    "\n",
    "\n",
    "    model = model_class(model_features)\n",
    "    optimizer = tf.train.AdamOptimizer(model_features.learining_rate)\n",
    "\n",
    "    _, f1_error = model.fit_batch(\n",
    "        (all_spectra, all_keys_modified),\n",
    "        (all_spectra, all_keys_modified),\n",
    "        optimizer=optimizer,\n",
    "        num_epochs=5,\n",
    "        verbose=1,\n",
    "        obj_cost=model.mse,\n",
    "        earlystop_cost_fn=model.mse,\n",
    "        earlystop_patience=1000,\n",
    "        data_augmentation=model.default_data_augmentation,\n",
    "        augment_testing_data=False,\n",
    "        print_errors=True,\n",
    "        record_train_errors=False)\n",
    "\n",
    "\n",
    "    model.save_weights('./hyperparameter-search-results/'+model_id+'_checkpoint_'+str(network_id)+'_',\n",
    "                       save_format='tf')\n",
    "    \n",
    "    '''\n",
    "    k = 0\n",
    "    for train_index, test_index in skf.split(all_spectra, keys_raw):\n",
    "        # reset model on each iteration\n",
    "        model = model_class(model_features)\n",
    "        optimizer = tf.train.AdamOptimizer(model_features.learining_rate)\n",
    "\n",
    "        costfunction_errors_tmp, earlystop_errors_tmp = train_earlystop(\n",
    "                training_data=all_spectra[train_index],\n",
    "                training_keys=all_keys[train_index],\n",
    "                testing_data=all_spectra[test_index],\n",
    "                testing_keys=all_keys[test_index],\n",
    "                model=model,\n",
    "                optimizer=optimizer,\n",
    "                num_epochs=20,\n",
    "                obj_cost=model.mse,\n",
    "                earlystop_cost_fn=model.mse,\n",
    "                earlystop_patience=5,\n",
    "                not_learning_patience=5,\n",
    "                not_learning_threshold=1.0,\n",
    "                verbose=True,\n",
    "                fit_batch_verbose=1,\n",
    "                data_augmentation=model.default_data_augmentation)\n",
    "        k_folds_errors.append(earlystop_errors_tmp)\n",
    "        model.save_weights('./hyperparameter-search-results/'+model_id+'_checkpoint_'+str(network_id)+'_'+str(k))\n",
    "\n",
    "    all_kf_errors.append([k_folds_errors])\n",
    "\n",
    "    testing_errors.append(np.average(k_folds_errors))\n",
    "    np.save('./hyperparameter-search-results/final_test_errors_'+model_id, testing_errors)\n",
    "    np.save('./hyperparameter-search-results/final_kf_errors_'+model_id, all_kf_errors)\n",
    "    '''"
   ]
  },
  {
   "cell_type": "code",
   "execution_count": null,
   "metadata": {},
   "outputs": [],
   "source": []
  }
 ],
 "metadata": {
  "kernelspec": {
   "display_name": "Environment (conda_tensorflow_p36)",
   "language": "python",
   "name": "conda_tensorflow_p36"
  },
  "language_info": {
   "codemirror_mode": {
    "name": "ipython",
    "version": 3
   },
   "file_extension": ".py",
   "mimetype": "text/x-python",
   "name": "python",
   "nbconvert_exporter": "python",
   "pygments_lexer": "ipython3",
   "version": "3.6.5"
  }
 },
 "nbformat": 4,
 "nbformat_minor": 1
}
