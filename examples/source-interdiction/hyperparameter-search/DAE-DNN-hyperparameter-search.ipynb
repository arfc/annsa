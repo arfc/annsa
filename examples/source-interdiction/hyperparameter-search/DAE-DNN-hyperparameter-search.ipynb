{
 "cells": [
  {
   "cell_type": "code",
   "execution_count": 1,
   "metadata": {
    "scrolled": true
   },
   "outputs": [],
   "source": [
    "import matplotlib.pyplot as plt\n",
    "\n",
    "from sklearn.pipeline import make_pipeline\n",
    "from sklearn.preprocessing import FunctionTransformer, LabelBinarizer\n",
    "from sklearn.model_selection import StratifiedKFold\n",
    "import pickle\n",
    "from numpy.random import choice\n",
    "import os.path\n",
    "\n",
    "import tensorflow as tf\n",
    "import numpy as np"
   ]
  },
  {
   "cell_type": "code",
   "execution_count": 2,
   "metadata": {},
   "outputs": [],
   "source": [
    "tf.enable_eager_execution()"
   ]
  },
  {
   "cell_type": "markdown",
   "metadata": {},
   "source": [
    "#### Import model, training function "
   ]
  },
  {
   "cell_type": "code",
   "execution_count": 3,
   "metadata": {},
   "outputs": [],
   "source": [
    "from annsa.model_classes import (dae_model_features,\n",
    "                                 DAE,\n",
    "                                 dnn_model_features,\n",
    "                                 DNN,\n",
    "                                 save_model,\n",
    "                                 train_earlystop)"
   ]
  },
  {
   "cell_type": "markdown",
   "metadata": {},
   "source": [
    "#### Load Dataset"
   ]
  },
  {
   "cell_type": "code",
   "execution_count": 4,
   "metadata": {},
   "outputs": [],
   "source": [
    "all_spectra = np.load('./hyperparameter_search_datasets/spectra_SBratio13_CalRange0911_3625.npy')\n",
    "all_keys = np.load('./hyperparameter_search_datasets/keys_SBratio13_CalRange0911_3625.npy')\n",
    "\n",
    "skf = StratifiedKFold(n_splits=5, random_state=5)"
   ]
  },
  {
   "cell_type": "markdown",
   "metadata": {},
   "source": [
    "#### Define scaling pipeline"
   ]
  },
  {
   "cell_type": "code",
   "execution_count": 5,
   "metadata": {},
   "outputs": [],
   "source": [
    "def identity_function(x):\n",
    "    return x"
   ]
  },
  {
   "cell_type": "code",
   "execution_count": 6,
   "metadata": {},
   "outputs": [],
   "source": [
    "dae_scaler = make_pipeline(FunctionTransformer(np.log1p, validate=True))\n",
    "mlb = LabelBinarizer()"
   ]
  },
  {
   "cell_type": "markdown",
   "metadata": {},
   "source": [
    "## Train network"
   ]
  },
  {
   "cell_type": "code",
   "execution_count": 7,
   "metadata": {},
   "outputs": [],
   "source": [
    "number_hyperparameters_to_search = 256\n",
    "earlystop_errors_test = []\n",
    "model_id='dae-dnn'"
   ]
  },
  {
   "cell_type": "markdown",
   "metadata": {},
   "source": [
    "#### Load past errors, if they exists"
   ]
  },
  {
   "cell_type": "code",
   "execution_count": 8,
   "metadata": {},
   "outputs": [],
   "source": [
    "file_path = './hyperparameter-search-results/final_test_errors_'+model_id+'.npy'\n",
    "if os.path.exists(file_path):\n",
    "    earlystop_errors_test = np.load(file_path)\n",
    "    start_iteration = earlystop_errors_test.shape[0]\n",
    "else:\n",
    "    start_iteration = 0"
   ]
  },
  {
   "cell_type": "code",
   "execution_count": 10,
   "metadata": {
    "scrolled": false
   },
   "outputs": [
    {
     "name": "stdout",
     "output_type": "stream",
     "text": [
      "\n",
      "Searching hyperparameter combination number 0\n",
      "Searching Autoencoder...\n",
      "Epoch 5: CostFunc loss: 8.64 8.63, EarlyStop loss: 6.27 6.26\n",
      "Epoch 10: CostFunc loss: 12.43 12.41, EarlyStop loss: 10.06 10.04\n",
      "Test error at early stop: Objectives fctn: 9.47 Early stop fctn: 9.47\n",
      "Autoencoder doesn't learn\n",
      "\n",
      "Searching hyperparameter combination number 1\n",
      "Searching Autoencoder...\n",
      "Epoch 5: CostFunc loss: 10.51 10.49, EarlyStop loss: 10.43 10.41\n",
      "Epoch 10: CostFunc loss: 9.39 9.36, EarlyStop loss: 9.31 9.28\n"
     ]
    },
    {
     "ename": "KeyboardInterrupt",
     "evalue": "",
     "output_type": "error",
     "traceback": [
      "\u001b[0;31m---------------------------------------------------------------------------\u001b[0m",
      "\u001b[0;31mKeyboardInterrupt\u001b[0m                         Traceback (most recent call last)",
      "\u001b[0;32m<ipython-input-10-c9c1f2202e79>\u001b[0m in \u001b[0;36m<module>\u001b[0;34m()\u001b[0m\n\u001b[1;32m     95\u001b[0m                 \u001b[0mverbose\u001b[0m\u001b[0;34m=\u001b[0m\u001b[0;32mTrue\u001b[0m\u001b[0;34m,\u001b[0m\u001b[0;34m\u001b[0m\u001b[0m\n\u001b[1;32m     96\u001b[0m                 \u001b[0mfit_batch_verbose\u001b[0m\u001b[0;34m=\u001b[0m\u001b[0;36m5\u001b[0m\u001b[0;34m,\u001b[0m\u001b[0;34m\u001b[0m\u001b[0m\n\u001b[0;32m---> 97\u001b[0;31m                 data_augmentation=dae_model.poisson_data_augmentation)\n\u001b[0m\u001b[1;32m     98\u001b[0m         \u001b[0;31m# only train autoencoder once\u001b[0m\u001b[0;34m\u001b[0m\u001b[0;34m\u001b[0m\u001b[0m\n\u001b[1;32m     99\u001b[0m         \u001b[0mtrain_autoencoder\u001b[0m \u001b[0;34m=\u001b[0m \u001b[0;32mFalse\u001b[0m\u001b[0;34m\u001b[0m\u001b[0m\n",
      "\u001b[0;32m~/anaconda3/envs/tensorflow_p36/lib/python3.6/site-packages/annsa-0.1.dev0-py3.6.egg/annsa/model_classes.py\u001b[0m in \u001b[0;36mtrain_earlystop\u001b[0;34m(training_data, training_keys, testing_data, testing_keys, model, optimizer, num_epochs, obj_cost, earlystop_cost_fn, earlystop_patience, data_augmentation, not_learning_patience, not_learning_threshold, verbose, fit_batch_verbose)\u001b[0m\n\u001b[1;32m   1328\u001b[0m         \u001b[0mnot_learning_threshold\u001b[0m\u001b[0;34m=\u001b[0m\u001b[0mnot_learning_threshold\u001b[0m\u001b[0;34m,\u001b[0m\u001b[0;34m\u001b[0m\u001b[0m\n\u001b[1;32m   1329\u001b[0m         \u001b[0mdata_augmentation\u001b[0m\u001b[0;34m=\u001b[0m\u001b[0mdata_augmentation\u001b[0m\u001b[0;34m,\u001b[0m\u001b[0;34m\u001b[0m\u001b[0m\n\u001b[0;32m-> 1330\u001b[0;31m         print_errors=True)\n\u001b[0m\u001b[1;32m   1331\u001b[0m \u001b[0;34m\u001b[0m\u001b[0m\n\u001b[1;32m   1332\u001b[0m     \u001b[0mcostfunctionerr_test\u001b[0m\u001b[0;34m.\u001b[0m\u001b[0mappend\u001b[0m\u001b[0;34m(\u001b[0m\u001b[0mobjective_cost\u001b[0m\u001b[0;34m[\u001b[0m\u001b[0;34m'test'\u001b[0m\u001b[0;34m]\u001b[0m\u001b[0;34m[\u001b[0m\u001b[0;34m-\u001b[0m\u001b[0mearlystop_patience\u001b[0m\u001b[0;34m]\u001b[0m\u001b[0;34m)\u001b[0m\u001b[0;34m\u001b[0m\u001b[0m\n",
      "\u001b[0;32m~/anaconda3/envs/tensorflow_p36/lib/python3.6/site-packages/annsa-0.1.dev0-py3.6.egg/annsa/model_classes.py\u001b[0m in \u001b[0;36mfit_batch\u001b[0;34m(self, train_dataset, test_dataset, optimizer, num_epochs, verbose, print_errors, earlystop_patience, max_time, not_learning_patience, not_learning_threshold, obj_cost, earlystop_cost_fn, data_augmentation)\u001b[0m\n\u001b[1;32m    360\u001b[0m                              data_augmentation)\n\u001b[1;32m    361\u001b[0m \u001b[0;34m\u001b[0m\u001b[0m\n\u001b[0;32m--> 362\u001b[0;31m             \u001b[0mtraining_data_aug\u001b[0m \u001b[0;34m=\u001b[0m \u001b[0mdata_augmentation\u001b[0m\u001b[0;34m(\u001b[0m\u001b[0mtrain_dataset\u001b[0m\u001b[0;34m[\u001b[0m\u001b[0;36m0\u001b[0m\u001b[0;34m]\u001b[0m\u001b[0;34m)\u001b[0m\u001b[0;34m\u001b[0m\u001b[0m\n\u001b[0m\u001b[1;32m    363\u001b[0m             \u001b[0mtesting_data_aug\u001b[0m \u001b[0;34m=\u001b[0m \u001b[0mdata_augmentation\u001b[0m\u001b[0;34m(\u001b[0m\u001b[0mtest_dataset\u001b[0m\u001b[0;34m[\u001b[0m\u001b[0;36m0\u001b[0m\u001b[0;34m]\u001b[0m\u001b[0;34m)\u001b[0m\u001b[0;34m\u001b[0m\u001b[0m\n\u001b[1;32m    364\u001b[0m \u001b[0;34m\u001b[0m\u001b[0m\n",
      "\u001b[0;32m~/anaconda3/envs/tensorflow_p36/lib/python3.6/site-packages/annsa-0.1.dev0-py3.6.egg/annsa/model_classes.py\u001b[0m in \u001b[0;36mpoisson_data_augmentation\u001b[0;34m(self, x)\u001b[0m\n\u001b[1;32m    188\u001b[0m \u001b[0;34m\u001b[0m\u001b[0m\n\u001b[1;32m    189\u001b[0m         \"\"\"\n\u001b[0;32m--> 190\u001b[0;31m         \u001b[0;32mreturn\u001b[0m \u001b[0mnp\u001b[0m\u001b[0;34m.\u001b[0m\u001b[0mrandom\u001b[0m\u001b[0;34m.\u001b[0m\u001b[0mpoisson\u001b[0m\u001b[0;34m(\u001b[0m\u001b[0mx\u001b[0m\u001b[0;34m)\u001b[0m\u001b[0;34m\u001b[0m\u001b[0m\n\u001b[0m\u001b[1;32m    191\u001b[0m \u001b[0;34m\u001b[0m\u001b[0m\n\u001b[1;32m    192\u001b[0m     \u001b[0;32mdef\u001b[0m \u001b[0mgrads_fn\u001b[0m\u001b[0;34m(\u001b[0m\u001b[0mself\u001b[0m\u001b[0;34m,\u001b[0m \u001b[0minput_data\u001b[0m\u001b[0;34m,\u001b[0m \u001b[0mtarget\u001b[0m\u001b[0;34m,\u001b[0m \u001b[0mcost\u001b[0m\u001b[0;34m)\u001b[0m\u001b[0;34m:\u001b[0m\u001b[0;34m\u001b[0m\u001b[0m\n",
      "\u001b[0;31mKeyboardInterrupt\u001b[0m: "
     ]
    }
   ],
   "source": [
    "for hyperparameter_index in range(start_iteration,\n",
    "                                  number_hyperparameters_to_search):\n",
    "    print(\"\\nSearching hyperparameter combination number \"+\n",
    "          str(hyperparameter_index))\n",
    "    \n",
    "    ##########################\n",
    "    ### Define Autoencoder ###\n",
    "    ##########################\n",
    "    number_layers = choice([1,2])\n",
    "    dense_nodes = 2**choice([5, 6, 7, 8, 9],size=(number_layers))\n",
    "    dense_nodes = np.sort(dense_nodes)\n",
    "    dense_nodes_decoder = np.sort(dense_nodes)\n",
    "    dense_nodes_encoder = np.flipud(dense_nodes)\n",
    "    # remove encoding from decoder\n",
    "    dense_nodes_decoder = dense_nodes_decoder[1:]\n",
    "    dae_features = dae_model_features(\n",
    "        learining_rate=10**np.random.uniform(-4,-1),\n",
    "        l1_regularization_scale=10**np.random.uniform(-3,-1),\n",
    "        dropout_probability=np.random.uniform(0,1),\n",
    "        batch_size=2**np.random.randint(4,10),\n",
    "        dense_nodes_encoder=dense_nodes_encoder,\n",
    "        dense_nodes_decoder=dense_nodes_decoder,\n",
    "        scaler=dae_scaler,\n",
    "        activation_function=choice([tf.nn.relu,tf.nn.tanh,tf.nn.sigmoid]),\n",
    "        output_function=None)\n",
    "    # Save DAE features\n",
    "    with open('./hyperparameter-search-results/' + model_id + '_' +\n",
    "              str(hyperparameter_index) + '_dae_features', 'wb+') as f:\n",
    "        pickle.dump(dae_features,f)\n",
    "\n",
    "    ##########################\n",
    "    ## Define Dense Network ##\n",
    "    ##########################\n",
    "    number_layers = choice([1,2])\n",
    "    dense_nodes = (10**np.random.uniform(1,\n",
    "                                         np.log10(dense_nodes_encoder[-1]),\n",
    "                                         number_layers)).astype('int')\n",
    "    dense_nodes = np.sort(dense_nodes)\n",
    "    dense_nodes = np.flipud(dense_nodes)\n",
    "\n",
    "    dnn_features = dnn_model_features(\n",
    "        learining_rate=10**np.random.uniform(-4,-1),\n",
    "        l2_regularization_scale=10**np.random.uniform(-3,-1),\n",
    "        dropout_probability=np.random.uniform(0,1),\n",
    "        batch_size=2**np.random.randint(4,10),\n",
    "        output_size=29,\n",
    "        dense_nodes=dense_nodes,\n",
    "        activation_function=choice([tf.nn.relu,tf.nn.tanh,tf.nn.sigmoid]),\n",
    "        scaler=None)\n",
    "    # Save DNN features\n",
    "    with open('./hyperparameter-search-results/' + model_id + '_' +\n",
    "              str(hyperparameter_index) + '_dnn_features', 'wb+') as f:\n",
    "        pickle.dump(dae_features,f)\n",
    "        \n",
    "    ##########################\n",
    "    ##### Define Training ####\n",
    "    ##########################\n",
    "    dae_optimizer = tf.train.AdamOptimizer(dae_features.learining_rate)\n",
    "    dnn_optimizer = tf.train.AdamOptimizer(dnn_features.learining_rate)\n",
    "    \n",
    "    k_folds_errors = []\n",
    "    not_learn_flag = 0\n",
    "    train_autoencoder = True\n",
    "    for train_index, test_index in skf.split(all_spectra, all_keys):\n",
    "        \n",
    "        if not_learn_flag:\n",
    "            break\n",
    "\n",
    "        all_keys_binarized = mlb.fit_transform(all_keys.reshape([all_keys.shape[0],1]))\n",
    "\n",
    "        # reset model on each iteration\n",
    "        dae_model = DAE(dae_features)\n",
    "        dae_model.scaler.fit(all_spectra[train_index])\n",
    "        dnn_model = DNN(dnn_features)\n",
    "        \n",
    "        ##########################\n",
    "        #### Train Autoencoder ###\n",
    "        ##########################\n",
    "        not_learning_threshold=1.0\n",
    "        if train_autoencoder:\n",
    "            print('Searching Autoencoder...')\n",
    "            costfunction_errors_dae_tmp, earlystop_errors_dae_tmp = train_earlystop(\n",
    "                training_data=all_spectra[train_index],\n",
    "                training_keys=all_spectra[train_index],\n",
    "                testing_data=all_spectra[test_index],\n",
    "                testing_keys=all_spectra[test_index],\n",
    "                model=dae_model,\n",
    "                optimizer=dae_optimizer,\n",
    "                num_epochs=200,\n",
    "                obj_cost=dae_model.mse,\n",
    "                earlystop_cost_fn=dae_model.mse,\n",
    "                earlystop_patience=10,\n",
    "                not_learning_patience=10,\n",
    "                not_learning_threshold=not_learning_threshold,\n",
    "                verbose=True,\n",
    "                fit_batch_verbose=5,\n",
    "                data_augmentation=dae_model.poisson_data_augmentation)\n",
    "        # only train autoencoder once\n",
    "        train_autoencoder = False\n",
    "        # Check if network isn't learning\n",
    "        if earlystop_errors_dae_tmp[0] > not_learning_threshold:\n",
    "            not_learn_flag = 1\n",
    "            k_folds_errors.append(1.0)\n",
    "            print('Autoencoder doesn\\'t learn')\n",
    "            break\n",
    "        ##########################\n",
    "        ### Train Dense Netowrk ##\n",
    "        ##########################\n",
    "        # reset DNN\n",
    "        dnn_model = DNN(dnn_features)\n",
    "        not_learning_threshold = 0.9\n",
    "        # Pre-process using DAE\n",
    "        def dae_encoding(input_data):\n",
    "            return dae_model.encoder(input_data, training=False)        \n",
    "        dnn_model.scaler = make_pipeline(FunctionTransformer(dae_encoding, validate=True))\n",
    "        print('Searching Dense Network...')\n",
    "        costfunction_errors_tmp, earlystop_errors_tmp = train_earlystop(\n",
    "            training_data=all_spectra[train_index],\n",
    "            training_keys=all_keys_binarized[train_index],\n",
    "            testing_data=all_spectra[test_index],\n",
    "            testing_keys=all_keys_binarized[test_index],\n",
    "            model=dnn_model,\n",
    "            optimizer=dnn_optimizer,\n",
    "            num_epochs=200,\n",
    "            obj_cost=dnn_model.cross_entropy,\n",
    "            earlystop_cost_fn=dnn_model.f1_error,\n",
    "            earlystop_patience=10,\n",
    "            not_learning_patience=10,\n",
    "            not_learning_threshold=not_learning_threshold,\n",
    "            verbose=True,\n",
    "            fit_batch_verbose=5,\n",
    "            data_augmentation=dnn_model.default_data_augmentation)\n",
    "        k_folds_errors.append(earlystop_errors_tmp)\n",
    "        # Check if network isn't learning\n",
    "        if earlystop_errors_tmp[0] > not_learning_threshold:\n",
    "            not_learn_flag = 1\n",
    "            print('Dense network doesn\\'t learn')\n",
    "            break\n",
    "        \n",
    "        \n",
    "    earlystop_errors_average_kfolds = np.average(k_folds_errors)\n",
    "    earlystop_errors_test = np.append(earlystop_errors_test,earlystop_errors_average_kfolds)\n",
    "    np.save('./hyperparameter-search-results/final_test_errors_'+\n",
    "            model_id, earlystop_errors_test)"
   ]
  },
  {
   "cell_type": "code",
   "execution_count": null,
   "metadata": {},
   "outputs": [],
   "source": []
  }
 ],
 "metadata": {
  "kernelspec": {
   "display_name": "Environment (conda_tensorflow_p36)",
   "language": "python",
   "name": "conda_tensorflow_p36"
  },
  "language_info": {
   "codemirror_mode": {
    "name": "ipython",
    "version": 3
   },
   "file_extension": ".py",
   "mimetype": "text/x-python",
   "name": "python",
   "nbconvert_exporter": "python",
   "pygments_lexer": "ipython3",
   "version": "3.6.5"
  }
 },
 "nbformat": 4,
 "nbformat_minor": 1
}
