{
 "cells": [
  {
   "cell_type": "code",
   "execution_count": 1,
   "metadata": {},
   "outputs": [],
   "source": [
    "import matplotlib.pyplot as plt\n",
    "import os\n",
    "os.environ[\"CUDA_DEVICE_ORDER\"]=\"PCI_BUS_ID\"\n",
    "os.environ[\"CUDA_VISIBLE_DEVICES\"]=\"1\"\n",
    "\n",
    "from sklearn.pipeline import make_pipeline\n",
    "from sklearn.preprocessing import FunctionTransformer, LabelBinarizer, Normalizer\n",
    "from sklearn.model_selection import StratifiedKFold\n",
    "import tensorflow as tf\n",
    "import pickle\n",
    "import numpy as np\n",
    "import pandas as pd\n",
    "from random import choice\n",
    "\n",
    "from annsa.template_sampling import *"
   ]
  },
  {
   "cell_type": "code",
   "execution_count": 2,
   "metadata": {},
   "outputs": [],
   "source": [
    "from hyperparameter_models import make_dense_model as make_model"
   ]
  },
  {
   "cell_type": "code",
   "execution_count": 3,
   "metadata": {},
   "outputs": [],
   "source": [
    "import tensorflow.contrib.eager as tfe"
   ]
  },
  {
   "cell_type": "code",
   "execution_count": 4,
   "metadata": {},
   "outputs": [],
   "source": [
    "tf.enable_eager_execution()"
   ]
  },
  {
   "cell_type": "markdown",
   "metadata": {},
   "source": [
    "#### Import model, training function "
   ]
  },
  {
   "cell_type": "code",
   "execution_count": 5,
   "metadata": {},
   "outputs": [],
   "source": [
    "from annsa.model_classes import (dnn_model_features,\n",
    "                                 DNN,\n",
    "                                 save_model,\n",
    "                                 train_earlystop)"
   ]
  },
  {
   "cell_type": "markdown",
   "metadata": {},
   "source": [
    "## Load testing dataset "
   ]
  },
  {
   "cell_type": "code",
   "execution_count": 6,
   "metadata": {},
   "outputs": [],
   "source": [
    "dataset = np.load('../dataset_generation/testing_dataset_full_200keV_1000.npy')"
   ]
  },
  {
   "cell_type": "code",
   "execution_count": 7,
   "metadata": {},
   "outputs": [],
   "source": [
    "all_spectra = np.add(dataset.item()['sources'], dataset.item()['backgrounds'])\n",
    "all_keys = dataset.item()['keys']\n",
    "\n",
    "mlb=LabelBinarizer()\n",
    "\n",
    "all_keys_binarized = mlb.fit_transform(all_keys)"
   ]
  },
  {
   "cell_type": "markdown",
   "metadata": {},
   "source": [
    "# Train network"
   ]
  },
  {
   "cell_type": "markdown",
   "metadata": {},
   "source": [
    "### Define hyperparameters"
   ]
  },
  {
   "cell_type": "code",
   "execution_count": 8,
   "metadata": {},
   "outputs": [],
   "source": [
    "number_hyperparameters_to_search = 256\n",
    "earlystop_errors_test = []\n",
    "model_id='DNN-kfoldsfull-updated-5'"
   ]
  },
  {
   "cell_type": "markdown",
   "metadata": {},
   "source": [
    "### Search hyperparameters"
   ]
  },
  {
   "cell_type": "code",
   "execution_count": null,
   "metadata": {},
   "outputs": [
    {
     "name": "stdout",
     "output_type": "stream",
     "text": [
      "0\n",
      "Epoch 10: CostFunc loss: 0.00 2.85, EarlyStop loss: 0.00 0.78\n",
      "Epoch 20: CostFunc loss: 0.00 0.63, EarlyStop loss: 0.00 0.12\n",
      "Epoch 30: CostFunc loss: 0.00 0.54, EarlyStop loss: 0.00 0.09\n",
      "Epoch 40: CostFunc loss: 0.00 0.49, EarlyStop loss: 0.00 0.07\n",
      "Epoch 50: CostFunc loss: 0.00 0.42, EarlyStop loss: 0.00 0.05\n",
      "Epoch 60: CostFunc loss: 0.00 0.42, EarlyStop loss: 0.00 0.06\n",
      "Test error at early stop: Objectives fctn: 0.41 Early stopfctn: 0.41\n",
      "Epoch 10: CostFunc loss: 0.00 1.50, EarlyStop loss: 0.00 0.41\n",
      "Epoch 20: CostFunc loss: 0.00 0.66, EarlyStop loss: 0.00 0.14\n",
      "Epoch 30: CostFunc loss: 0.00 0.57, EarlyStop loss: 0.00 0.09\n",
      "Epoch 40: CostFunc loss: 0.00 0.46, EarlyStop loss: 0.00 0.05\n",
      "Epoch 50: CostFunc loss: 0.00 0.49, EarlyStop loss: 0.00 0.07\n",
      "Epoch 60: CostFunc loss: 0.00 0.41, EarlyStop loss: 0.00 0.05\n",
      "Test error at early stop: Objectives fctn: 0.40 Early stopfctn: 0.40\n",
      "Epoch 10: CostFunc loss: 0.00 1.62, EarlyStop loss: 0.00 0.46\n",
      "Epoch 20: CostFunc loss: 0.00 0.63, EarlyStop loss: 0.00 0.10\n",
      "Epoch 30: CostFunc loss: 0.00 0.53, EarlyStop loss: 0.00 0.08\n",
      "Epoch 40: CostFunc loss: 0.00 0.47, EarlyStop loss: 0.00 0.06\n",
      "Epoch 50: CostFunc loss: 0.00 0.44, EarlyStop loss: 0.00 0.05\n",
      "Epoch 60: CostFunc loss: 0.00 0.43, EarlyStop loss: 0.00 0.05\n",
      "Epoch 70: CostFunc loss: 0.00 0.38, EarlyStop loss: 0.00 0.04\n",
      "Test error at early stop: Objectives fctn: 0.39 Early stopfctn: 0.39\n",
      "Epoch 10: CostFunc loss: 0.00 2.61, EarlyStop loss: 0.00 0.72\n",
      "Epoch 20: CostFunc loss: 0.00 0.70, EarlyStop loss: 0.00 0.14\n",
      "Epoch 30: CostFunc loss: 0.00 0.57, EarlyStop loss: 0.00 0.10\n",
      "Epoch 40: CostFunc loss: 0.00 0.52, EarlyStop loss: 0.00 0.08\n",
      "Epoch 50: CostFunc loss: 0.00 0.55, EarlyStop loss: 0.00 0.11\n",
      "Epoch 60: CostFunc loss: 0.00 0.44, EarlyStop loss: 0.00 0.06\n",
      "Test error at early stop: Objectives fctn: 0.45 Early stopfctn: 0.45\n",
      "Epoch 10: CostFunc loss: 0.00 1.87, EarlyStop loss: 0.00 0.53\n",
      "Epoch 20: CostFunc loss: 0.00 0.68, EarlyStop loss: 0.00 0.13\n",
      "Epoch 30: CostFunc loss: 0.00 0.55, EarlyStop loss: 0.00 0.08\n",
      "Epoch 40: CostFunc loss: 0.00 0.53, EarlyStop loss: 0.00 0.09\n",
      "Test error at early stop: Objectives fctn: 0.50 Early stopfctn: 0.50\n",
      "1\n",
      "Epoch 10: CostFunc loss: 0.00 3.43, EarlyStop loss: 0.00 0.97\n",
      "Test error at early stop: Objectives fctn: 3.44 Early stopfctn: 3.44\n",
      "Epoch 10: CostFunc loss: 0.00 3.44, EarlyStop loss: 0.00 0.97\n",
      "Test error at early stop: Objectives fctn: 3.43 Early stopfctn: 3.43\n",
      "Epoch 10: CostFunc loss: 0.00 3.43, EarlyStop loss: 0.00 0.97\n",
      "Test error at early stop: Objectives fctn: 3.44 Early stopfctn: 3.44\n",
      "Epoch 10: CostFunc loss: 0.00 3.44, EarlyStop loss: 0.00 0.97\n",
      "Test error at early stop: Objectives fctn: 3.44 Early stopfctn: 3.44\n",
      "Epoch 10: CostFunc loss: 0.00 3.44, EarlyStop loss: 0.00 0.97\n",
      "Test error at early stop: Objectives fctn: 3.46 Early stopfctn: 3.46\n",
      "2\n",
      "Epoch 10: CostFunc loss: 0.00 3.42, EarlyStop loss: 0.00 0.97\n",
      "Test error at early stop: Objectives fctn: 14.58 Early stopfctn: 14.58\n",
      "Epoch 10: CostFunc loss: 0.00 3.43, EarlyStop loss: 0.00 0.97\n",
      "Test error at early stop: Objectives fctn: 14.81 Early stopfctn: 14.81\n",
      "Epoch 10: CostFunc loss: 0.00 3.43, EarlyStop loss: 0.00 0.97\n",
      "Test error at early stop: Objectives fctn: 14.90 Early stopfctn: 14.90\n",
      "Epoch 10: CostFunc loss: 0.00 3.42, EarlyStop loss: 0.00 0.97\n",
      "Test error at early stop: Objectives fctn: 14.11 Early stopfctn: 14.11\n",
      "Epoch 10: CostFunc loss: 0.00 3.42, EarlyStop loss: 0.00 0.97\n",
      "Test error at early stop: Objectives fctn: 14.26 Early stopfctn: 14.26\n",
      "3\n",
      "Epoch 10: CostFunc loss: 0.00 4.15, EarlyStop loss: 0.00 0.97\n",
      "Test error at early stop: Objectives fctn: 4.04 Early stopfctn: 4.04\n",
      "Epoch 10: CostFunc loss: 0.00 4.29, EarlyStop loss: 0.00 0.97\n",
      "Test error at early stop: Objectives fctn: 4.08 Early stopfctn: 4.08\n",
      "Epoch 10: CostFunc loss: 0.00 4.25, EarlyStop loss: 0.00 0.97\n",
      "Test error at early stop: Objectives fctn: 4.01 Early stopfctn: 4.01\n",
      "Epoch 10: CostFunc loss: 0.00 4.24, EarlyStop loss: 0.00 0.97\n",
      "Test error at early stop: Objectives fctn: 4.01 Early stopfctn: 4.01\n",
      "Epoch 10: CostFunc loss: 0.00 4.30, EarlyStop loss: 0.00 0.97\n",
      "Test error at early stop: Objectives fctn: 4.06 Early stopfctn: 4.06\n",
      "4\n",
      "Epoch 10: CostFunc loss: 0.00 7.16, EarlyStop loss: 0.00 0.92\n",
      "Test error at early stop: Objectives fctn: 24.28 Early stopfctn: 24.28\n",
      "Epoch 10: CostFunc loss: 0.00 7.23, EarlyStop loss: 0.00 0.88\n",
      "Test error at early stop: Objectives fctn: 19.29 Early stopfctn: 19.29\n",
      "Epoch 10: CostFunc loss: 0.00 7.25, EarlyStop loss: 0.00 0.90\n",
      "Test error at early stop: Objectives fctn: 24.63 Early stopfctn: 24.63\n",
      "Epoch 10: CostFunc loss: 0.00 7.28, EarlyStop loss: 0.00 0.91\n",
      "Test error at early stop: Objectives fctn: 24.77 Early stopfctn: 24.77\n",
      "Epoch 10: CostFunc loss: 0.00 7.34, EarlyStop loss: 0.00 0.95\n",
      "Test error at early stop: Objectives fctn: 24.99 Early stopfctn: 24.99\n",
      "5\n",
      "Epoch 10: CostFunc loss: 0.00 1.97, EarlyStop loss: 0.00 0.47\n",
      "Epoch 20: CostFunc loss: 0.00 1.95, EarlyStop loss: 0.00 0.55\n",
      "Test error at early stop: Objectives fctn: 1.90 Early stopfctn: 1.90\n",
      "Epoch 10: CostFunc loss: 0.00 2.31, EarlyStop loss: 0.00 0.61\n",
      "Epoch 20: CostFunc loss: 0.00 2.17, EarlyStop loss: 0.00 0.62\n",
      "Test error at early stop: Objectives fctn: 2.22 Early stopfctn: 2.22\n",
      "Epoch 10: CostFunc loss: 0.00 2.09, EarlyStop loss: 0.00 0.57\n",
      "Epoch 20: CostFunc loss: 0.00 1.95, EarlyStop loss: 0.00 0.50\n",
      "Test error at early stop: Objectives fctn: 1.99 Early stopfctn: 1.99\n",
      "Epoch 10: CostFunc loss: 0.00 2.75, EarlyStop loss: 0.00 0.78\n",
      "Epoch 20: CostFunc loss: 0.00 2.82, EarlyStop loss: 0.00 0.81\n",
      "Epoch 30: CostFunc loss: 0.00 2.74, EarlyStop loss: 0.00 0.79\n",
      "Test error at early stop: Objectives fctn: 2.69 Early stopfctn: 2.69\n",
      "Epoch 10: CostFunc loss: 0.00 2.36, EarlyStop loss: 0.00 0.67\n",
      "Test error at early stop: Objectives fctn: 2.34 Early stopfctn: 2.34\n",
      "6\n",
      "Epoch 10: CostFunc loss: 0.00 2.76, EarlyStop loss: 0.00 0.85\n",
      "Epoch 20: CostFunc loss: 0.00 2.74, EarlyStop loss: 0.00 0.85\n",
      "Epoch 30: CostFunc loss: 0.00 2.68, EarlyStop loss: 0.00 0.82\n",
      "Epoch 40: CostFunc loss: 0.00 2.54, EarlyStop loss: 0.00 0.71\n",
      "Test error at early stop: Objectives fctn: 2.53 Early stopfctn: 2.53\n",
      "Epoch 10: CostFunc loss: 0.00 2.97, EarlyStop loss: 0.00 0.93\n",
      "Epoch 20: CostFunc loss: 0.00 2.77, EarlyStop loss: 0.00 0.82\n",
      "Epoch 30: CostFunc loss: 0.00 2.50, EarlyStop loss: 0.00 0.69\n",
      "Test error at early stop: Objectives fctn: 2.50 Early stopfctn: 2.50\n",
      "Epoch 10: CostFunc loss: 0.00 2.75, EarlyStop loss: 0.00 0.83\n",
      "Test error at early stop: Objectives fctn: 2.75 Early stopfctn: 2.75\n",
      "Epoch 10: CostFunc loss: 0.00 2.78, EarlyStop loss: 0.00 0.86\n",
      "Test error at early stop: Objectives fctn: 2.80 Early stopfctn: 2.80\n",
      "Epoch 10: CostFunc loss: 0.00 2.77, EarlyStop loss: 0.00 0.85\n",
      "Test error at early stop: Objectives fctn: 2.95 Early stopfctn: 2.95\n",
      "7\n",
      "Epoch 10: CostFunc loss: 0.00 3.40, EarlyStop loss: 0.00 0.97\n",
      "Test error at early stop: Objectives fctn: 3.40 Early stopfctn: 3.40\n",
      "Epoch 10: CostFunc loss: 0.00 3.40, EarlyStop loss: 0.00 0.97\n",
      "Test error at early stop: Objectives fctn: 3.40 Early stopfctn: 3.40\n",
      "Epoch 10: CostFunc loss: 0.00 3.40, EarlyStop loss: 0.00 0.97\n",
      "Test error at early stop: Objectives fctn: 3.40 Early stopfctn: 3.40\n",
      "Epoch 10: CostFunc loss: 0.00 3.40, EarlyStop loss: 0.00 0.97\n",
      "Test error at early stop: Objectives fctn: 3.40 Early stopfctn: 3.40\n",
      "Epoch 10: CostFunc loss: 0.00 3.40, EarlyStop loss: 0.00 0.97\n",
      "Test error at early stop: Objectives fctn: 3.40 Early stopfctn: 3.40\n",
      "8\n",
      "Epoch 10: CostFunc loss: 0.00 3.40, EarlyStop loss: 0.00 0.97\n",
      "Test error at early stop: Objectives fctn: 4.50 Early stopfctn: 4.50\n",
      "Epoch 10: CostFunc loss: 0.00 3.40, EarlyStop loss: 0.00 0.97\n",
      "Test error at early stop: Objectives fctn: 4.49 Early stopfctn: 4.49\n"
     ]
    }
   ],
   "source": [
    "def save_features(model_features,\n",
    "                  model_id,\n",
    "                  hyperparameter_index):\n",
    "    with open('./hyperparameter-search-results/' + model_id + '_' +\n",
    "              str(hyperparameter_index) + '_dae_features', 'wb+') as f:\n",
    "        pickle.dump(model_features,f)\n",
    "    return None\n",
    "\n",
    "skf = StratifiedKFold(n_splits=5, random_state=5)\n",
    "testing_errors = []\n",
    "all_kf_errors = []\n",
    "\n",
    "for network_id in range(number_hyperparameters_to_search):\n",
    "    print(network_id)\n",
    "    model, model_features = make_model(all_keys_binarized)\n",
    "    save_features(model_features,\n",
    "                  model_id,\n",
    "                  network_id)\n",
    "    \n",
    "    k_folds_errors = []\n",
    "    for train_index, test_index in skf.split(all_spectra, all_keys):\n",
    "        # reset model on each iteration\n",
    "        model = DNN(model_features)\n",
    "        optimizer = tf.train.AdamOptimizer(model_features.learining_rate)\n",
    "\n",
    "        costfunction_errors_tmp, earlystop_errors_tmp = train_earlystop(\n",
    "                training_data=all_spectra[train_index],\n",
    "                training_keys=all_keys_binarized[train_index],\n",
    "                testing_data=all_spectra[test_index],\n",
    "                testing_keys=all_keys_binarized[test_index],\n",
    "                model=model,\n",
    "                optimizer=optimizer,\n",
    "                num_epochs=200,\n",
    "                obj_cost=model.cross_entropy,\n",
    "                earlystop_cost_fn=model.f1_error,\n",
    "                earlystop_patience=10,\n",
    "                not_learning_patience=10,\n",
    "                not_learning_threshold=0.9,\n",
    "                verbose=True,\n",
    "                fit_batch_verbose=10,\n",
    "                data_augmentation=model.default_data_augmentation)\n",
    "        k_folds_errors.append(earlystop_errors_tmp)\n",
    "        all_kf_errors.append(earlystop_errors_tmp)\n",
    "\n",
    "    testing_errors.append(np.average(k_folds_errors))\n",
    "    np.save('./final-models/final_test_errors_'+model_id, testing_errors)\n",
    "    np.save('./final-models/final_kf_errors_'+model_id, all_kf_errors)\n",
    "    # model.save_weights('./final-models/'+model_id+'_checkpoint_'+str(network_id))\n",
    "    network_id += 1 "
   ]
  },
  {
   "cell_type": "code",
   "execution_count": null,
   "metadata": {},
   "outputs": [],
   "source": []
  }
 ],
 "metadata": {
  "kernelspec": {
   "display_name": "Environment (conda_tensorflow_p36)",
   "language": "python",
   "name": "conda_tensorflow_p36"
  },
  "language_info": {
   "codemirror_mode": {
    "name": "ipython",
    "version": 3
   },
   "file_extension": ".py",
   "mimetype": "text/x-python",
   "name": "python",
   "nbconvert_exporter": "python",
   "pygments_lexer": "ipython3",
   "version": "3.6.5"
  }
 },
 "nbformat": 4,
 "nbformat_minor": 1
}
