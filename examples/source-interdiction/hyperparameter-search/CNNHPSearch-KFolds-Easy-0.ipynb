{
 "cells": [
  {
   "cell_type": "code",
   "execution_count": 1,
   "metadata": {},
   "outputs": [],
   "source": [
    "import matplotlib.pyplot as plt\n",
    "import os\n",
    "os.environ[\"CUDA_DEVICE_ORDER\"]=\"PCI_BUS_ID\"\n",
    "os.environ[\"CUDA_VISIBLE_DEVICES\"]=\"2\"\n",
    "\n",
    "from sklearn.pipeline import make_pipeline\n",
    "from sklearn.preprocessing import FunctionTransformer, LabelBinarizer, Normalizer\n",
    "from sklearn.model_selection import StratifiedKFold\n",
    "import tensorflow as tf\n",
    "import pickle\n",
    "import numpy as np\n",
    "import pandas as pd\n",
    "from random import choice\n",
    "\n",
    "from annsa.template_sampling import *"
   ]
  },
  {
   "cell_type": "code",
   "execution_count": 2,
   "metadata": {},
   "outputs": [],
   "source": [
    "from hyperparameter_models import make_conv1d_model as make_model"
   ]
  },
  {
   "cell_type": "code",
   "execution_count": 3,
   "metadata": {},
   "outputs": [],
   "source": [
    "import tensorflow.contrib.eager as tfe"
   ]
  },
  {
   "cell_type": "code",
   "execution_count": 4,
   "metadata": {},
   "outputs": [],
   "source": [
    "tf.enable_eager_execution()"
   ]
  },
  {
   "cell_type": "markdown",
   "metadata": {},
   "source": [
    "#### Import model, training function "
   ]
  },
  {
   "cell_type": "code",
   "execution_count": 5,
   "metadata": {},
   "outputs": [],
   "source": [
    "from annsa.model_classes import (cnn1d_model_features,\n",
    "                                 CNN1D,\n",
    "                                 generate_random_cnn1d_architecture,\n",
    "                                 save_model,\n",
    "                                 train_earlystop)"
   ]
  },
  {
   "cell_type": "markdown",
   "metadata": {},
   "source": [
    "## Load testing dataset "
   ]
  },
  {
   "cell_type": "code",
   "execution_count": 6,
   "metadata": {},
   "outputs": [],
   "source": [
    "dataset = np.load('../dataset_generation/testing_dataset_200keV_1000.npy')"
   ]
  },
  {
   "cell_type": "code",
   "execution_count": 7,
   "metadata": {},
   "outputs": [],
   "source": [
    "all_spectra = np.add(dataset.item()['sources'], dataset.item()['backgrounds'])\n",
    "all_keys = dataset.item()['keys']\n",
    "\n",
    "mlb=LabelBinarizer()\n",
    "\n",
    "all_keys_binarized = mlb.fit_transform(all_keys)"
   ]
  },
  {
   "cell_type": "markdown",
   "metadata": {},
   "source": [
    "## Train network"
   ]
  },
  {
   "cell_type": "markdown",
   "metadata": {},
   "source": [
    "### Define hyperparameters"
   ]
  },
  {
   "cell_type": "code",
   "execution_count": 8,
   "metadata": {},
   "outputs": [],
   "source": [
    "number_hyperparameters_to_search = 256\n",
    "earlystop_errors_test = []\n",
    "model_id='CNN-kfoldseasy-updated-0'"
   ]
  },
  {
   "cell_type": "markdown",
   "metadata": {},
   "source": [
    "### Search hyperparameters"
   ]
  },
  {
   "cell_type": "code",
   "execution_count": null,
   "metadata": {
    "scrolled": false
   },
   "outputs": [
    {
     "name": "stdout",
     "output_type": "stream",
     "text": [
      "0\n",
      "Epoch 10: CostFunc loss: 0.00 3.41, EarlyStop loss: 0.00 0.97\n",
      "Test error at early stop: Objectives fctn: 3.41 Early stopfctn: 3.41\n",
      "Epoch 10: CostFunc loss: 0.00 3.41, EarlyStop loss: 0.00 0.97\n",
      "Test error at early stop: Objectives fctn: 3.41 Early stopfctn: 3.41\n",
      "Epoch 10: CostFunc loss: 0.00 3.41, EarlyStop loss: 0.00 0.97\n",
      "Test error at early stop: Objectives fctn: 3.41 Early stopfctn: 3.41\n",
      "Epoch 10: CostFunc loss: 0.00 3.41, EarlyStop loss: 0.00 0.97\n",
      "Test error at early stop: Objectives fctn: 3.41 Early stopfctn: 3.41\n",
      "Epoch 10: CostFunc loss: 0.00 3.41, EarlyStop loss: 0.00 0.97\n",
      "Test error at early stop: Objectives fctn: 3.41 Early stopfctn: 3.41\n",
      "1\n",
      "Epoch 10: CostFunc loss: 0.00 3.40, EarlyStop loss: 0.00 0.97\n",
      "Test error at early stop: Objectives fctn: 3.58 Early stopfctn: 3.58\n",
      "Epoch 10: CostFunc loss: 0.00 3.40, EarlyStop loss: 0.00 0.97\n",
      "Test error at early stop: Objectives fctn: 3.55 Early stopfctn: 3.55\n",
      "Epoch 10: CostFunc loss: 0.00 3.40, EarlyStop loss: 0.00 0.97\n",
      "Test error at early stop: Objectives fctn: 3.52 Early stopfctn: 3.52\n",
      "Epoch 10: CostFunc loss: 0.00 3.40, EarlyStop loss: 0.00 0.97\n",
      "Test error at early stop: Objectives fctn: 3.54 Early stopfctn: 3.54\n",
      "Epoch 10: CostFunc loss: 0.00 3.40, EarlyStop loss: 0.00 0.97\n",
      "Test error at early stop: Objectives fctn: 3.52 Early stopfctn: 3.52\n",
      "2\n",
      "Epoch 10: CostFunc loss: 0.00 3.40, EarlyStop loss: 0.00 0.97\n",
      "Test error at early stop: Objectives fctn: 4.11 Early stopfctn: 4.11\n",
      "Epoch 10: CostFunc loss: 0.00 3.40, EarlyStop loss: 0.00 0.97\n",
      "Test error at early stop: Objectives fctn: 3.50 Early stopfctn: 3.50\n",
      "Epoch 10: CostFunc loss: 0.00 3.40, EarlyStop loss: 0.00 0.97\n",
      "Test error at early stop: Objectives fctn: 3.75 Early stopfctn: 3.75\n",
      "Epoch 10: CostFunc loss: 0.00 3.40, EarlyStop loss: 0.00 0.97\n",
      "Test error at early stop: Objectives fctn: 3.69 Early stopfctn: 3.69\n",
      "Epoch 10: CostFunc loss: 0.00 3.40, EarlyStop loss: 0.00 0.97\n",
      "Test error at early stop: Objectives fctn: 3.71 Early stopfctn: 3.71\n",
      "3\n",
      "Epoch 10: CostFunc loss: 0.00 1.70, EarlyStop loss: 0.00 0.33\n",
      "Epoch 20: CostFunc loss: 0.00 1.48, EarlyStop loss: 0.00 0.26\n",
      "Epoch 30: CostFunc loss: 0.00 1.34, EarlyStop loss: 0.00 0.24\n",
      "Epoch 40: CostFunc loss: 0.00 1.24, EarlyStop loss: 0.00 0.23\n",
      "Epoch 50: CostFunc loss: 0.00 1.21, EarlyStop loss: 0.00 0.22\n",
      "Test error at early stop: Objectives fctn: 1.21 Early stopfctn: 1.21\n",
      "Epoch 10: CostFunc loss: 0.00 2.05, EarlyStop loss: 0.00 0.42\n"
     ]
    }
   ],
   "source": [
    "def save_features(model_features,\n",
    "                  model_id,\n",
    "                  hyperparameter_index):\n",
    "    with open('./hyperparameter-search-results/' + model_id + '_' +\n",
    "              str(hyperparameter_index), 'wb+') as f:\n",
    "        pickle.dump(model_features,f)\n",
    "    return None\n",
    "\n",
    "skf = StratifiedKFold(n_splits=5, random_state=5)\n",
    "testing_errors = []\n",
    "all_kf_errors = []\n",
    "\n",
    "for network_id in range(number_hyperparameters_to_search):\n",
    "    print(network_id)\n",
    "    model, model_features = make_model(all_keys_binarized)\n",
    "    save_features(model_features,\n",
    "                  model_id,\n",
    "                  network_id)\n",
    "    \n",
    "    k_folds_errors = []\n",
    "    for train_index, test_index in skf.split(all_spectra, all_keys):\n",
    "        # reset model on each iteration\n",
    "        model = CNN1D(model_features)\n",
    "        optimizer = tf.train.AdamOptimizer(model_features.learining_rate)\n",
    "\n",
    "        costfunction_errors_tmp, earlystop_errors_tmp = train_earlystop(\n",
    "                training_data=all_spectra[train_index],\n",
    "                training_keys=all_keys_binarized[train_index],\n",
    "                testing_data=all_spectra[test_index],\n",
    "                testing_keys=all_keys_binarized[test_index],\n",
    "                model=model,\n",
    "                optimizer=optimizer,\n",
    "                num_epochs=200,\n",
    "                obj_cost=model.cross_entropy,\n",
    "                earlystop_cost_fn=model.f1_error,\n",
    "                earlystop_patience=10,\n",
    "                not_learning_patience=10,\n",
    "                not_learning_threshold=0.9,\n",
    "                verbose=True,\n",
    "                fit_batch_verbose=10,\n",
    "                data_augmentation=model.default_data_augmentation)\n",
    "        k_folds_errors.append(earlystop_errors_tmp)\n",
    "        all_kf_errors.append(earlystop_errors_tmp)\n",
    "\n",
    "    testing_errors.append(np.average(k_folds_errors))\n",
    "    np.save('./final-models/final_test_errors_'+model_id, testing_errors)\n",
    "    np.save('./final-models/final_kf_errors_'+model_id, all_kf_errors)\n",
    "    # model.save_weights('./final-models/'+model_id+'_checkpoint_'+str(network_id))\n",
    "    network_id += 1 "
   ]
  },
  {
   "cell_type": "code",
   "execution_count": null,
   "metadata": {},
   "outputs": [],
   "source": []
  }
 ],
 "metadata": {
  "kernelspec": {
   "display_name": "Environment (conda_tensorflow_p36)",
   "language": "python",
   "name": "conda_tensorflow_p36"
  },
  "language_info": {
   "codemirror_mode": {
    "name": "ipython",
    "version": 3
   },
   "file_extension": ".py",
   "mimetype": "text/x-python",
   "name": "python",
   "nbconvert_exporter": "python",
   "pygments_lexer": "ipython3",
   "version": "3.6.5"
  }
 },
 "nbformat": 4,
 "nbformat_minor": 1
}
