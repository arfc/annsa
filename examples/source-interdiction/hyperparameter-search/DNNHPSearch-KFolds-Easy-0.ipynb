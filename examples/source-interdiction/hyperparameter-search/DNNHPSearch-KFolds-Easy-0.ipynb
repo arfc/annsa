{
 "cells": [
  {
   "cell_type": "code",
   "execution_count": 1,
   "metadata": {},
   "outputs": [],
   "source": [
    "import matplotlib.pyplot as plt\n",
    "import os\n",
    "os.environ[\"CUDA_DEVICE_ORDER\"]=\"PCI_BUS_ID\"\n",
    "os.environ[\"CUDA_VISIBLE_DEVICES\"]=\"0\"\n",
    "\n",
    "from sklearn.pipeline import make_pipeline\n",
    "from sklearn.preprocessing import FunctionTransformer, LabelBinarizer, Normalizer\n",
    "from sklearn.model_selection import StratifiedKFold\n",
    "import tensorflow as tf\n",
    "import pickle\n",
    "import numpy as np\n",
    "import pandas as pd\n",
    "from random import choice\n",
    "\n",
    "from annsa.template_sampling import *"
   ]
  },
  {
   "cell_type": "code",
   "execution_count": 2,
   "metadata": {},
   "outputs": [],
   "source": [
    "from hyperparameter_models import make_dense_model as make_model"
   ]
  },
  {
   "cell_type": "code",
   "execution_count": 3,
   "metadata": {},
   "outputs": [],
   "source": [
    "import tensorflow.contrib.eager as tfe"
   ]
  },
  {
   "cell_type": "code",
   "execution_count": 4,
   "metadata": {},
   "outputs": [],
   "source": [
    "tf.enable_eager_execution()"
   ]
  },
  {
   "cell_type": "markdown",
   "metadata": {},
   "source": [
    "#### Import model, training function "
   ]
  },
  {
   "cell_type": "code",
   "execution_count": 5,
   "metadata": {},
   "outputs": [],
   "source": [
    "from annsa.model_classes import (dnn_model_features,\n",
    "                                 DNN,\n",
    "                                 save_model,\n",
    "                                 train_earlystop)"
   ]
  },
  {
   "cell_type": "markdown",
   "metadata": {},
   "source": [
    "## Load testing dataset "
   ]
  },
  {
   "cell_type": "code",
   "execution_count": 6,
   "metadata": {},
   "outputs": [],
   "source": [
    "dataset = np.load('../dataset_generation/testing_dataset_200keV_1000.npy')"
   ]
  },
  {
   "cell_type": "code",
   "execution_count": 7,
   "metadata": {},
   "outputs": [],
   "source": [
    "all_spectra = np.add(dataset.item()['sources'], dataset.item()['backgrounds'])\n",
    "all_keys = dataset.item()['keys']\n",
    "\n",
    "mlb=LabelBinarizer()\n",
    "\n",
    "all_keys_binarized = mlb.fit_transform(all_keys)"
   ]
  },
  {
   "cell_type": "markdown",
   "metadata": {},
   "source": [
    "# Train network"
   ]
  },
  {
   "cell_type": "markdown",
   "metadata": {},
   "source": [
    "### Define hyperparameters"
   ]
  },
  {
   "cell_type": "code",
   "execution_count": 8,
   "metadata": {},
   "outputs": [],
   "source": [
    "number_hyperparameters_to_search = 256\n",
    "earlystop_errors_test = []\n",
    "model_id='DNN-kfoldseasy-updated-5'"
   ]
  },
  {
   "cell_type": "markdown",
   "metadata": {},
   "source": [
    "### Search hyperparameters"
   ]
  },
  {
   "cell_type": "code",
   "execution_count": null,
   "metadata": {},
   "outputs": [
    {
     "name": "stdout",
     "output_type": "stream",
     "text": [
      "0\n",
      "Epoch 10: CostFunc loss: 0.00 3.42, EarlyStop loss: 0.00 0.97\n",
      "Test error at early stop: Objectives fctn: 3.41 Early stopfctn: 3.41\n",
      "Epoch 10: CostFunc loss: 0.00 3.42, EarlyStop loss: 0.00 0.97\n",
      "Test error at early stop: Objectives fctn: 3.40 Early stopfctn: 3.40\n",
      "Epoch 10: CostFunc loss: 0.00 3.42, EarlyStop loss: 0.00 0.97\n",
      "Test error at early stop: Objectives fctn: 3.40 Early stopfctn: 3.40\n",
      "Epoch 10: CostFunc loss: 0.00 3.42, EarlyStop loss: 0.00 0.97\n",
      "Test error at early stop: Objectives fctn: 3.40 Early stopfctn: 3.40\n",
      "Epoch 10: CostFunc loss: 0.00 3.42, EarlyStop loss: 0.00 0.97\n",
      "Test error at early stop: Objectives fctn: 3.41 Early stopfctn: 3.41\n",
      "1\n",
      "Epoch 10: CostFunc loss: 0.00 3.41, EarlyStop loss: 0.00 0.97\n",
      "Test error at early stop: Objectives fctn: 3.59 Early stopfctn: 3.59\n",
      "Epoch 10: CostFunc loss: 0.00 3.41, EarlyStop loss: 0.00 0.97\n",
      "Test error at early stop: Objectives fctn: 3.42 Early stopfctn: 3.42\n",
      "Epoch 10: CostFunc loss: 0.00 3.41, EarlyStop loss: 0.00 0.97\n",
      "Test error at early stop: Objectives fctn: 3.50 Early stopfctn: 3.50\n",
      "Epoch 10: CostFunc loss: 0.00 3.41, EarlyStop loss: 0.00 0.97\n",
      "Test error at early stop: Objectives fctn: 3.74 Early stopfctn: 3.74\n",
      "Epoch 10: CostFunc loss: 0.00 3.41, EarlyStop loss: 0.00 0.97\n",
      "Test error at early stop: Objectives fctn: 3.44 Early stopfctn: 3.44\n",
      "2\n",
      "Epoch 10: CostFunc loss: 0.00 3.41, EarlyStop loss: 0.00 0.97\n",
      "Test error at early stop: Objectives fctn: 3.41 Early stopfctn: 3.41\n",
      "Epoch 10: CostFunc loss: 0.00 3.41, EarlyStop loss: 0.00 0.97\n",
      "Test error at early stop: Objectives fctn: 3.41 Early stopfctn: 3.41\n",
      "Epoch 10: CostFunc loss: 0.00 3.41, EarlyStop loss: 0.00 0.97\n",
      "Test error at early stop: Objectives fctn: 3.41 Early stopfctn: 3.41\n",
      "Epoch 10: CostFunc loss: 0.00 3.41, EarlyStop loss: 0.00 0.97\n",
      "Test error at early stop: Objectives fctn: 3.41 Early stopfctn: 3.41\n",
      "Epoch 10: CostFunc loss: 0.00 3.41, EarlyStop loss: 0.00 0.97\n",
      "Test error at early stop: Objectives fctn: 3.41 Early stopfctn: 3.41\n",
      "3\n",
      "Epoch 10: CostFunc loss: 0.00 3.53, EarlyStop loss: 0.00 0.97\n",
      "Test error at early stop: Objectives fctn: 3.43 Early stopfctn: 3.43\n",
      "Epoch 10: CostFunc loss: 0.00 3.55, EarlyStop loss: 0.00 0.97\n",
      "Test error at early stop: Objectives fctn: 3.43 Early stopfctn: 3.43\n",
      "Epoch 10: CostFunc loss: 0.00 3.50, EarlyStop loss: 0.00 0.97\n",
      "Test error at early stop: Objectives fctn: 3.43 Early stopfctn: 3.43\n",
      "Epoch 10: CostFunc loss: 0.00 3.52, EarlyStop loss: 0.00 0.97\n",
      "Test error at early stop: Objectives fctn: 3.43 Early stopfctn: 3.43\n",
      "Epoch 10: CostFunc loss: 0.00 3.51, EarlyStop loss: 0.00 0.97\n",
      "Test error at early stop: Objectives fctn: 3.43 Early stopfctn: 3.43\n",
      "4\n",
      "Epoch 10: CostFunc loss: 0.00 0.47, EarlyStop loss: 0.00 0.01\n",
      "Epoch 20: CostFunc loss: 0.00 0.20, EarlyStop loss: 0.00 0.00\n",
      "Epoch 30: CostFunc loss: 0.00 0.13, EarlyStop loss: 0.00 0.00\n",
      "Test error at early stop: Objectives fctn: 0.13 Early stopfctn: 0.13\n",
      "Epoch 10: CostFunc loss: 0.00 0.46, EarlyStop loss: 0.00 0.01\n",
      "Epoch 20: CostFunc loss: 0.00 0.20, EarlyStop loss: 0.00 0.01\n",
      "Epoch 30: CostFunc loss: 0.00 0.17, EarlyStop loss: 0.00 0.01\n",
      "Test error at early stop: Objectives fctn: 0.18 Early stopfctn: 0.18\n",
      "Epoch 10: CostFunc loss: 0.00 0.49, EarlyStop loss: 0.00 0.01\n",
      "Epoch 20: CostFunc loss: 0.00 0.21, EarlyStop loss: 0.00 0.01\n",
      "Epoch 30: CostFunc loss: 0.00 0.15, EarlyStop loss: 0.00 0.01\n",
      "Test error at early stop: Objectives fctn: 0.18 Early stopfctn: 0.18\n",
      "Epoch 10: CostFunc loss: 0.00 0.49, EarlyStop loss: 0.00 0.01\n",
      "Epoch 20: CostFunc loss: 0.00 0.21, EarlyStop loss: 0.00 0.01\n",
      "Epoch 30: CostFunc loss: 0.00 0.15, EarlyStop loss: 0.00 0.00\n",
      "Test error at early stop: Objectives fctn: 0.18 Early stopfctn: 0.18\n",
      "Epoch 10: CostFunc loss: 0.00 0.49, EarlyStop loss: 0.00 0.01\n",
      "Epoch 20: CostFunc loss: 0.00 0.21, EarlyStop loss: 0.00 0.01\n",
      "Epoch 30: CostFunc loss: 0.00 0.14, EarlyStop loss: 0.00 0.00\n",
      "Epoch 40: CostFunc loss: 0.00 0.11, EarlyStop loss: 0.00 0.00\n",
      "Test error at early stop: Objectives fctn: 0.11 Early stopfctn: 0.11\n",
      "5\n",
      "Epoch 10: CostFunc loss: 0.00 3.43, EarlyStop loss: 0.00 0.97\n",
      "Test error at early stop: Objectives fctn: 3.42 Early stopfctn: 3.42\n",
      "Epoch 10: CostFunc loss: 0.00 3.44, EarlyStop loss: 0.00 0.97\n",
      "Test error at early stop: Objectives fctn: 3.42 Early stopfctn: 3.42\n",
      "Epoch 10: CostFunc loss: 0.00 3.43, EarlyStop loss: 0.00 0.97\n",
      "Test error at early stop: Objectives fctn: 3.42 Early stopfctn: 3.42\n",
      "Epoch 10: CostFunc loss: 0.00 3.43, EarlyStop loss: 0.00 0.97\n",
      "Test error at early stop: Objectives fctn: 3.42 Early stopfctn: 3.42\n",
      "Epoch 10: CostFunc loss: 0.00 3.44, EarlyStop loss: 0.00 0.97\n",
      "Test error at early stop: Objectives fctn: 3.42 Early stopfctn: 3.42\n",
      "6\n",
      "Epoch 10: CostFunc loss: 0.00 2.35, EarlyStop loss: 0.00 0.39\n",
      "Epoch 20: CostFunc loss: 0.00 1.95, EarlyStop loss: 0.00 0.31\n",
      "Epoch 30: CostFunc loss: 0.00 1.72, EarlyStop loss: 0.00 0.27\n",
      "Epoch 40: CostFunc loss: 0.00 1.56, EarlyStop loss: 0.00 0.24\n",
      "Epoch 50: CostFunc loss: 0.00 1.44, EarlyStop loss: 0.00 0.23\n",
      "Epoch 60: CostFunc loss: 0.00 1.34, EarlyStop loss: 0.00 0.21\n",
      "Epoch 70: CostFunc loss: 0.00 1.27, EarlyStop loss: 0.00 0.21\n",
      "Epoch 80: CostFunc loss: 0.00 1.18, EarlyStop loss: 0.00 0.20\n",
      "Test error at early stop: Objectives fctn: 1.19 Early stopfctn: 1.19\n",
      "Epoch 10: CostFunc loss: 0.00 2.33, EarlyStop loss: 0.00 0.36\n",
      "Epoch 20: CostFunc loss: 0.00 1.91, EarlyStop loss: 0.00 0.28\n",
      "Epoch 30: CostFunc loss: 0.00 1.68, EarlyStop loss: 0.00 0.25\n",
      "Epoch 40: CostFunc loss: 0.00 1.51, EarlyStop loss: 0.00 0.22\n",
      "Epoch 50: CostFunc loss: 0.00 1.40, EarlyStop loss: 0.00 0.21\n",
      "Epoch 60: CostFunc loss: 0.00 1.31, EarlyStop loss: 0.00 0.20\n",
      "Epoch 70: CostFunc loss: 0.00 1.22, EarlyStop loss: 0.00 0.19\n",
      "Epoch 80: CostFunc loss: 0.00 1.16, EarlyStop loss: 0.00 0.19\n",
      "Epoch 90: CostFunc loss: 0.00 1.10, EarlyStop loss: 0.00 0.18\n",
      "Epoch 100: CostFunc loss: 0.00 1.04, EarlyStop loss: 0.00 0.17\n",
      "Epoch 110: CostFunc loss: 0.00 0.99, EarlyStop loss: 0.00 0.16\n",
      "Test error at early stop: Objectives fctn: 0.99 Early stopfctn: 0.99\n",
      "Epoch 10: CostFunc loss: 0.00 2.39, EarlyStop loss: 0.00 0.39\n",
      "Epoch 20: CostFunc loss: 0.00 1.97, EarlyStop loss: 0.00 0.28\n",
      "Epoch 30: CostFunc loss: 0.00 1.73, EarlyStop loss: 0.00 0.25\n",
      "Epoch 40: CostFunc loss: 0.00 1.57, EarlyStop loss: 0.00 0.23\n",
      "Epoch 50: CostFunc loss: 0.00 1.44, EarlyStop loss: 0.00 0.23\n",
      "Epoch 60: CostFunc loss: 0.00 1.34, EarlyStop loss: 0.00 0.21\n",
      "Epoch 70: CostFunc loss: 0.00 1.26, EarlyStop loss: 0.00 0.21\n",
      "Epoch 80: CostFunc loss: 0.00 1.18, EarlyStop loss: 0.00 0.20\n",
      "Epoch 90: CostFunc loss: 0.00 1.13, EarlyStop loss: 0.00 0.19\n",
      "Epoch 100: CostFunc loss: 0.00 1.07, EarlyStop loss: 0.00 0.18\n",
      "Epoch 110: CostFunc loss: 0.00 1.02, EarlyStop loss: 0.00 0.18\n",
      "Epoch 120: CostFunc loss: 0.00 0.98, EarlyStop loss: 0.00 0.17\n",
      "Epoch 130: CostFunc loss: 0.00 0.94, EarlyStop loss: 0.00 0.16\n",
      "Epoch 140: CostFunc loss: 0.00 0.92, EarlyStop loss: 0.00 0.16\n",
      "Epoch 150: CostFunc loss: 0.00 0.89, EarlyStop loss: 0.00 0.16\n",
      "Test error at early stop: Objectives fctn: 0.89 Early stopfctn: 0.89\n",
      "Epoch 10: CostFunc loss: 0.00 2.37, EarlyStop loss: 0.00 0.36\n",
      "Epoch 20: CostFunc loss: 0.00 1.95, EarlyStop loss: 0.00 0.28\n",
      "Epoch 30: CostFunc loss: 0.00 1.71, EarlyStop loss: 0.00 0.23\n",
      "Epoch 40: CostFunc loss: 0.00 1.55, EarlyStop loss: 0.00 0.21\n",
      "Epoch 50: CostFunc loss: 0.00 1.42, EarlyStop loss: 0.00 0.22\n",
      "Epoch 60: CostFunc loss: 0.00 1.31, EarlyStop loss: 0.00 0.19\n",
      "Epoch 70: CostFunc loss: 0.00 1.23, EarlyStop loss: 0.00 0.18\n",
      "Epoch 80: CostFunc loss: 0.00 1.16, EarlyStop loss: 0.00 0.18\n",
      "Epoch 90: CostFunc loss: 0.00 1.11, EarlyStop loss: 0.00 0.18\n",
      "Epoch 100: CostFunc loss: 0.00 1.05, EarlyStop loss: 0.00 0.17\n",
      "Epoch 110: CostFunc loss: 0.00 1.01, EarlyStop loss: 0.00 0.17\n",
      "Epoch 120: CostFunc loss: 0.00 0.96, EarlyStop loss: 0.00 0.15\n",
      "Test error at early stop: Objectives fctn: 0.96 Early stopfctn: 0.96\n",
      "Epoch 10: CostFunc loss: 0.00 2.37, EarlyStop loss: 0.00 0.37\n",
      "Epoch 20: CostFunc loss: 0.00 1.96, EarlyStop loss: 0.00 0.28\n",
      "Epoch 30: CostFunc loss: 0.00 1.72, EarlyStop loss: 0.00 0.26\n",
      "Epoch 40: CostFunc loss: 0.00 1.56, EarlyStop loss: 0.00 0.23\n",
      "Epoch 50: CostFunc loss: 0.00 1.43, EarlyStop loss: 0.00 0.21\n",
      "Epoch 60: CostFunc loss: 0.00 1.34, EarlyStop loss: 0.00 0.21\n",
      "Epoch 70: CostFunc loss: 0.00 1.24, EarlyStop loss: 0.00 0.19\n"
     ]
    },
    {
     "name": "stdout",
     "output_type": "stream",
     "text": [
      "Test error at early stop: Objectives fctn: 1.26 Early stopfctn: 1.26\n",
      "7\n",
      "Epoch 10: CostFunc loss: 0.00 5.65, EarlyStop loss: 0.00 0.97\n",
      "Test error at early stop: Objectives fctn: 12.08 Early stopfctn: 12.08\n",
      "Epoch 10: CostFunc loss: 0.00 6.19, EarlyStop loss: 0.00 0.97\n",
      "Test error at early stop: Objectives fctn: 6.04 Early stopfctn: 6.04\n",
      "Epoch 10: CostFunc loss: 0.00 3.97, EarlyStop loss: 0.00 0.97\n",
      "Test error at early stop: Objectives fctn: 3.49 Early stopfctn: 3.49\n",
      "Epoch 10: CostFunc loss: 0.00 4.34, EarlyStop loss: 0.00 0.97\n",
      "Test error at early stop: Objectives fctn: 15.07 Early stopfctn: 15.07\n",
      "Epoch 10: CostFunc loss: 0.00 4.00, EarlyStop loss: 0.00 0.97\n",
      "Test error at early stop: Objectives fctn: 4.41 Early stopfctn: 4.41\n",
      "8\n",
      "Epoch 10: CostFunc loss: 0.00 3.25, EarlyStop loss: 0.00 0.97\n",
      "Test error at early stop: Objectives fctn: 3.14 Early stopfctn: 3.14\n",
      "Epoch 10: CostFunc loss: 0.00 3.10, EarlyStop loss: 0.00 0.96\n",
      "Test error at early stop: Objectives fctn: 3.19 Early stopfctn: 3.19\n",
      "Epoch 10: CostFunc loss: 0.00 3.69, EarlyStop loss: 0.00 0.97\n",
      "Test error at early stop: Objectives fctn: 3.17 Early stopfctn: 3.17\n",
      "Epoch 10: CostFunc loss: 0.00 3.80, EarlyStop loss: 0.00 0.97\n",
      "Test error at early stop: Objectives fctn: 2.99 Early stopfctn: 2.99\n",
      "Epoch 10: CostFunc loss: 0.00 3.07, EarlyStop loss: 0.00 0.95\n",
      "Test error at early stop: Objectives fctn: 2.98 Early stopfctn: 2.98\n",
      "9\n",
      "Epoch 10: CostFunc loss: 0.00 3.51, EarlyStop loss: 0.00 0.97\n",
      "Test error at early stop: Objectives fctn: 53.92 Early stopfctn: 53.92\n",
      "Epoch 10: CostFunc loss: 0.00 3.66, EarlyStop loss: 0.00 0.97\n",
      "Test error at early stop: Objectives fctn: 3.43 Early stopfctn: 3.43\n",
      "Epoch 10: CostFunc loss: 0.00 3.51, EarlyStop loss: 0.00 0.97\n",
      "Test error at early stop: Objectives fctn: 3.44 Early stopfctn: 3.44\n",
      "Epoch 10: CostFunc loss: 0.00 37.56, EarlyStop loss: 0.00 0.97\n",
      "Test error at early stop: Objectives fctn: 3.43 Early stopfctn: 3.43\n",
      "Epoch 10: CostFunc loss: 0.00 3.51, EarlyStop loss: 0.00 0.97\n",
      "Test error at early stop: Objectives fctn: 77.24 Early stopfctn: 77.24\n",
      "10\n",
      "Epoch 10: CostFunc loss: 0.00 2.45, EarlyStop loss: 0.00 0.73\n",
      "Epoch 20: CostFunc loss: 0.00 2.22, EarlyStop loss: 0.00 0.67\n",
      "Epoch 30: CostFunc loss: 0.00 2.15, EarlyStop loss: 0.00 0.66\n",
      "Epoch 40: CostFunc loss: 0.00 2.09, EarlyStop loss: 0.00 0.58\n",
      "Test error at early stop: Objectives fctn: 2.09 Early stopfctn: 2.09\n"
     ]
    }
   ],
   "source": [
    "def save_features(model_features,\n",
    "                  model_id,\n",
    "                  hyperparameter_index):\n",
    "    with open('./hyperparameter-search-results/' + model_id + '_' +\n",
    "              str(hyperparameter_index) + '_dae_features', 'wb+') as f:\n",
    "        pickle.dump(model_features,f)\n",
    "    return None\n",
    "\n",
    "skf = StratifiedKFold(n_splits=5, random_state=5)\n",
    "testing_errors = []\n",
    "all_kf_errors = []\n",
    "\n",
    "for network_id in range(number_hyperparameters_to_search):\n",
    "    print(network_id)\n",
    "    model, model_features = make_model(all_keys_binarized)\n",
    "    save_features(model_features,\n",
    "                  model_id,\n",
    "                  network_id)\n",
    "    \n",
    "    k_folds_errors = []\n",
    "    for train_index, test_index in skf.split(all_spectra, all_keys):\n",
    "        # reset model on each iteration\n",
    "        model = DNN(model_features)\n",
    "        optimizer = tf.train.AdamOptimizer(model_features.learining_rate)\n",
    "\n",
    "        costfunction_errors_tmp, earlystop_errors_tmp = train_earlystop(\n",
    "                training_data=all_spectra[train_index],\n",
    "                training_keys=all_keys_binarized[train_index],\n",
    "                testing_data=all_spectra[test_index],\n",
    "                testing_keys=all_keys_binarized[test_index],\n",
    "                model=model,\n",
    "                optimizer=optimizer,\n",
    "                num_epochs=200,\n",
    "                obj_cost=model.cross_entropy,\n",
    "                earlystop_cost_fn=model.f1_error,\n",
    "                earlystop_patience=10,\n",
    "                not_learning_patience=10,\n",
    "                not_learning_threshold=0.9,\n",
    "                verbose=True,\n",
    "                fit_batch_verbose=10,\n",
    "                data_augmentation=model.default_data_augmentation)\n",
    "        k_folds_errors.append(earlystop_errors_tmp)\n",
    "        all_kf_errors.append(earlystop_errors_tmp)\n",
    "\n",
    "    testing_errors.append(np.average(k_folds_errors))\n",
    "    np.save('./final-models/final_test_errors_'+model_id, testing_errors)\n",
    "    np.save('./final-models/final_kf_errors_'+model_id, all_kf_errors)\n",
    "    # model.save_weights('./final-models/'+model_id+'_checkpoint_'+str(network_id))\n",
    "    network_id += 1 "
   ]
  },
  {
   "cell_type": "code",
   "execution_count": null,
   "metadata": {},
   "outputs": [],
   "source": []
  }
 ],
 "metadata": {
  "kernelspec": {
   "display_name": "Environment (conda_tensorflow_p36)",
   "language": "python",
   "name": "conda_tensorflow_p36"
  },
  "language_info": {
   "codemirror_mode": {
    "name": "ipython",
    "version": 3
   },
   "file_extension": ".py",
   "mimetype": "text/x-python",
   "name": "python",
   "nbconvert_exporter": "python",
   "pygments_lexer": "ipython3",
   "version": "3.6.5"
  }
 },
 "nbformat": 4,
 "nbformat_minor": 1
}
