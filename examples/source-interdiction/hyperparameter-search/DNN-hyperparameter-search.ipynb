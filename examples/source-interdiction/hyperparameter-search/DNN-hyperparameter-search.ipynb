{
 "cells": [
  {
   "cell_type": "code",
   "execution_count": 1,
   "metadata": {},
   "outputs": [],
   "source": [
    "from sklearn.pipeline import make_pipeline\n",
    "from sklearn.preprocessing import FunctionTransformer, LabelBinarizer\n",
    "from sklearn.model_selection import StratifiedKFold\n",
    "import pickle\n",
    "from random import choice\n",
    "import os.path\n",
    "\n",
    "import tensorflow as tf\n",
    "import numpy as np"
   ]
  },
  {
   "cell_type": "code",
   "execution_count": 2,
   "metadata": {},
   "outputs": [],
   "source": [
    "tf.enable_eager_execution()"
   ]
  },
  {
   "cell_type": "markdown",
   "metadata": {},
   "source": [
    "#### Import model, training function "
   ]
  },
  {
   "cell_type": "code",
   "execution_count": 3,
   "metadata": {},
   "outputs": [],
   "source": [
    "from annsa.model_classes import (dnn_model_features,\n",
    "                                 DNN,\n",
    "                                 save_model,\n",
    "                                 train_earlystop)"
   ]
  },
  {
   "cell_type": "markdown",
   "metadata": {},
   "source": [
    "#### Load Dataset"
   ]
  },
  {
   "cell_type": "code",
   "execution_count": 4,
   "metadata": {},
   "outputs": [],
   "source": [
    "all_spectra = np.load('./hyperparameter_search_datasets/spectra_SBratio13_CalRange0911_3625.npy')\n",
    "all_keys = np.load('./hyperparameter_search_datasets/keys_SBratio13_CalRange0911_3625.npy')\n",
    "\n",
    "skf = StratifiedKFold(n_splits=5, random_state=5)"
   ]
  },
  {
   "cell_type": "markdown",
   "metadata": {},
   "source": [
    "#### Define scaling pipeline, key binarizer"
   ]
  },
  {
   "cell_type": "code",
   "execution_count": 5,
   "metadata": {},
   "outputs": [],
   "source": [
    "scaler = make_pipeline(FunctionTransformer(np.log1p, validate=True))\n",
    "mlb = LabelBinarizer()"
   ]
  },
  {
   "cell_type": "markdown",
   "metadata": {},
   "source": [
    "#### Search through hyperparameters"
   ]
  },
  {
   "cell_type": "code",
   "execution_count": 6,
   "metadata": {},
   "outputs": [],
   "source": [
    "number_hyperparameters_to_search = 256\n",
    "earlystop_errors_test = []\n",
    "model_id = 'vanilla_dnn'\n",
    "model_features_class = dnn_model_features\n",
    "model_class = DNN"
   ]
  },
  {
   "cell_type": "code",
   "execution_count": 7,
   "metadata": {},
   "outputs": [],
   "source": [
    "file_path = './hyperparameter-search-results/final_test_errors_'+model_id+'.npy'\n",
    "if os.path.exists(file_path):\n",
    "    earlystop_errors_test = np.load(file_path)\n",
    "    start_iteration = earlystop_errors_test.shape[0]\n",
    "else:\n",
    "    start_iteration = 0"
   ]
  },
  {
   "cell_type": "code",
   "execution_count": null,
   "metadata": {
    "scrolled": false
   },
   "outputs": [
    {
     "name": "stdout",
     "output_type": "stream",
     "text": [
      "\n",
      "Searching hyperparameter combination number 21\n",
      "Epoch 5: CostFunc loss: 3.52 3.52, EarlyStop loss: 0.97 0.97\n",
      "Epoch 10: CostFunc loss: 3.38 3.38, EarlyStop loss: 0.97 0.97\n",
      "Epoch 15: CostFunc loss: 3.37 3.37, EarlyStop loss: 0.97 0.97\n",
      "Epoch 20: CostFunc loss: 3.37 3.37, EarlyStop loss: 0.97 0.97\n",
      "Test error at early stop: Objectives fctn: 4.99 Early stop fctn: 4.99\n",
      "Epoch 5: CostFunc loss: 3.70 3.70, EarlyStop loss: 0.97 0.97\n",
      "Epoch 10: CostFunc loss: 3.38 3.38, EarlyStop loss: 0.97 0.97\n",
      "Epoch 15: CostFunc loss: 3.38 3.38, EarlyStop loss: 0.97 0.97\n",
      "Epoch 20: CostFunc loss: 3.38 3.38, EarlyStop loss: 0.97 0.97\n",
      "Test error at early stop: Objectives fctn: 7.00 Early stop fctn: 7.00\n",
      "Epoch 5: CostFunc loss: 3.93 3.93, EarlyStop loss: 0.97 0.97\n",
      "Epoch 10: CostFunc loss: 3.38 3.38, EarlyStop loss: 0.97 0.97\n",
      "Epoch 15: CostFunc loss: 3.38 3.38, EarlyStop loss: 0.97 0.97\n",
      "Epoch 20: CostFunc loss: 3.37 3.37, EarlyStop loss: 0.97 0.97\n",
      "Test error at early stop: Objectives fctn: 9.05 Early stop fctn: 9.05\n",
      "Epoch 5: CostFunc loss: 4.22 4.22, EarlyStop loss: 0.97 0.97\n",
      "Epoch 10: CostFunc loss: 3.40 3.40, EarlyStop loss: 0.97 0.97\n",
      "Epoch 15: CostFunc loss: 3.38 3.38, EarlyStop loss: 0.97 0.97\n",
      "Epoch 20: CostFunc loss: 3.38 3.38, EarlyStop loss: 0.97 0.97\n",
      "Test error at early stop: Objectives fctn: 12.00 Early stop fctn: 12.00\n",
      "Epoch 5: CostFunc loss: 5.52 5.52, EarlyStop loss: 0.97 0.97\n"
     ]
    }
   ],
   "source": [
    "for hyperparameter_index in range(start_iteration,\n",
    "                                  number_hyperparameters_to_search):\n",
    "    print(\"\\nSearching hyperparameter combination number \"+\n",
    "          str(hyperparameter_index))\n",
    "\n",
    "    number_layers = np.random.randint(1, 4)\n",
    "    dense_nodes = (10**np.random.uniform(1, 3, number_layers)).astype('int')\n",
    "    dense_nodes = np.sort(dense_nodes)\n",
    "    dense_nodes = np.flipud(dense_nodes)\n",
    "\n",
    "    model_features = model_features_class(\n",
    "        learining_rate=10**np.random.uniform(-4,-1),\n",
    "        l2_regularization_scale=10**np.random.uniform(-2,1),\n",
    "        dropout_probability=np.random.uniform(0,1),\n",
    "        batch_size=2**np.random.randint(4,10),\n",
    "        output_size=29,\n",
    "        dense_nodes=dense_nodes,\n",
    "        activation_function=choice([tf.nn.relu,tf.nn.tanh,tf.nn.sigmoid]),\n",
    "        scaler=scaler)\n",
    "\n",
    "    with open('./hyperparameter-search-results/'+model_id+'_'+\n",
    "              str(hyperparameter_index)+'_features', 'wb+') as f:\n",
    "        pickle.dump(model_features,f)\n",
    "\n",
    "    optimizer = tf.train.AdamOptimizer(model_features.learining_rate)\n",
    "    model = model_class(model_features)\n",
    "\n",
    "    k_folds_errors = []\n",
    "    for train_index, test_index in skf.split(all_spectra, all_keys):\n",
    "        scaler.fit(all_spectra[train_index])\n",
    "        \n",
    "        # reset model on each iteration\n",
    "        model = model_class(model_features)\n",
    "        all_keys_binarized = mlb.fit_transform(all_keys.reshape([all_keys.shape[0],1]))\n",
    "\n",
    "        costfunction_errors_tmp, earlystop_errors_tmp = train_earlystop(\n",
    "            training_data=all_spectra[train_index],\n",
    "            training_keys=all_keys_binarized[train_index],\n",
    "            testing_data=all_spectra[test_index],\n",
    "            testing_keys=all_keys_binarized[test_index],\n",
    "            model=model,\n",
    "            optimizer=optimizer,\n",
    "            num_epochs=200,\n",
    "            obj_cost=model.cross_entropy,\n",
    "            earlystop_cost_fn=model.f1_error,\n",
    "            earlystop_patience=20,\n",
    "            verbose=True,\n",
    "            fit_batch_verbose=5,\n",
    "            data_augmentation=model.default_data_augmentation)\n",
    "        k_folds_errors.append(earlystop_errors_tmp)\n",
    "\n",
    "    earlystop_errors = np.average(k_folds_errors)\n",
    "    earlystop_errors_test.append(earlystop_errors)\n",
    "    np.save('./hyperparameter-search-results/final_test_errors_'+\n",
    "            model_id, earlystop_errors_test)"
   ]
  },
  {
   "cell_type": "code",
   "execution_count": null,
   "metadata": {},
   "outputs": [],
   "source": []
  }
 ],
 "metadata": {
  "kernelspec": {
   "display_name": "Environment (conda_tensorflow_p36)",
   "language": "python",
   "name": "conda_tensorflow_p36"
  },
  "language_info": {
   "codemirror_mode": {
    "name": "ipython",
    "version": 3
   },
   "file_extension": ".py",
   "mimetype": "text/x-python",
   "name": "python",
   "nbconvert_exporter": "python",
   "pygments_lexer": "ipython3",
   "version": "3.6.5"
  }
 },
 "nbformat": 4,
 "nbformat_minor": 1
}
