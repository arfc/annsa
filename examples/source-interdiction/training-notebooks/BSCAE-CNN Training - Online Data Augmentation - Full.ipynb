{
 "cells": [
  {
   "cell_type": "code",
   "execution_count": 1,
   "metadata": {},
   "outputs": [],
   "source": [
    "import matplotlib.pyplot as plt\n",
    "import os\n",
    "os.environ[\"CUDA_DEVICE_ORDER\"]=\"PCI_BUS_ID\"   # see issue #152\n",
    "os.environ[\"CUDA_VISIBLE_DEVICES\"]=\"0\"\n",
    "\n",
    "from sklearn.pipeline import make_pipeline\n",
    "from sklearn.preprocessing import FunctionTransformer, LabelBinarizer\n",
    "from sklearn.model_selection import StratifiedKFold\n",
    "import tensorflow as tf\n",
    "import pickle\n",
    "import numpy as np\n",
    "import pandas as pd\n",
    "from random import choice\n",
    "from glob import glob\n",
    "\n",
    "from annsa.template_sampling import *"
   ]
  },
  {
   "cell_type": "code",
   "execution_count": 2,
   "metadata": {},
   "outputs": [],
   "source": [
    "import tensorflow.contrib.eager as tfe"
   ]
  },
  {
   "cell_type": "code",
   "execution_count": 3,
   "metadata": {},
   "outputs": [],
   "source": [
    "tf.enable_eager_execution()"
   ]
  },
  {
   "cell_type": "markdown",
   "metadata": {},
   "source": [
    "#### Import model, training function "
   ]
  },
  {
   "cell_type": "code",
   "execution_count": 4,
   "metadata": {},
   "outputs": [],
   "source": [
    "from annsa.model_classes import (cnn1d_model_features,\n",
    "                                 CNN1D,\n",
    "                                 cae_model_features,\n",
    "                                 CAE,\n",
    "                                 generate_random_cnn1d_architecture,\n",
    "                                 save_model,\n",
    "                                 train_earlystop)\n",
    "\n",
    "from annsa.load_pretrained_network import load_pretrained_cae_into_cnn"
   ]
  },
  {
   "cell_type": "markdown",
   "metadata": {},
   "source": [
    "## Dataset Construction"
   ]
  },
  {
   "cell_type": "markdown",
   "metadata": {},
   "source": [
    "#### Load dataset"
   ]
  },
  {
   "cell_type": "code",
   "execution_count": 5,
   "metadata": {},
   "outputs": [],
   "source": [
    "background_dataset = pd.read_csv('../../source-interdiction/training_testing_data/background_template_dataset.csv')\n",
    "source_dataset = pd.read_csv('../../source-interdiction/training_testing_data/shielded_templates_200kev_dataset.csv')"
   ]
  },
  {
   "cell_type": "markdown",
   "metadata": {},
   "source": [
    "#### Dataset details"
   ]
  },
  {
   "cell_type": "code",
   "execution_count": 6,
   "metadata": {},
   "outputs": [
    {
     "name": "stdout",
     "output_type": "stream",
     "text": [
      "sourcedist: [50.0, 112.5, 175.0, 237.5, 300.0]\n",
      "sourceheight: [50.0, 75.0, 100.0, 125.0, 150.0]\n",
      "alum shieldingdensity: [1.82, 4.18, 7.49, 13.16]\n",
      "iron shieldingdensity: [1.53, 3.5, 6.28, 11.02]\n",
      "lead shieldingdensity: [0.22, 0.51, 0.92, 1.61]\n",
      "fwhm: [6.0, 6.5, 7.0, 7.5, 8.0, 8.5, 9.0]\n"
     ]
    }
   ],
   "source": [
    "print('sourcedist: ' + str(sorted(set(source_dataset['sourcedist']))))\n",
    "print('sourceheight: ' + str(sorted(set(source_dataset['sourceheight']))))\n",
    "print('alum shieldingdensity: ' + str(sorted(set(source_dataset[source_dataset['shielding']=='alum']['shieldingdensity']))))\n",
    "print('iron shieldingdensity: ' + str(sorted(set(source_dataset[source_dataset['shielding']=='iron']['shieldingdensity']))))\n",
    "print('lead shieldingdensity: ' + str(sorted(set(source_dataset[source_dataset['shielding']=='lead']['shieldingdensity']))))\n",
    "print('fwhm: ' + str(sorted(set(source_dataset['fwhm']))))"
   ]
  },
  {
   "cell_type": "markdown",
   "metadata": {},
   "source": [
    "#### Customize dataset"
   ]
  },
  {
   "cell_type": "code",
   "execution_count": 7,
   "metadata": {},
   "outputs": [],
   "source": [
    "source_dataset = source_dataset[(source_dataset['fwhm']==7.0) | \n",
    "                                (source_dataset['fwhm']==7.5) |\n",
    "                                (source_dataset['fwhm']==8.0)]\n",
    "\n",
    "source_dataset = source_dataset[(source_dataset['sourcedist']==50.5) | \n",
    "                                (source_dataset['sourcedist']==175.0) | \n",
    "                                (source_dataset['sourcedist']==300.0)]\n",
    "\n",
    "source_dataset = source_dataset[(source_dataset['sourceheight']==50.0) |\n",
    "                                (source_dataset['sourceheight']==100.0) |\n",
    "                                (source_dataset['sourceheight']==150.0)]\n",
    "\n",
    "# remove 80% shielding\n",
    "source_dataset = source_dataset[source_dataset['shieldingdensity']!=13.16]\n",
    "source_dataset = source_dataset[source_dataset['shieldingdensity']!=11.02]\n",
    "source_dataset = source_dataset[source_dataset['shieldingdensity']!=1.61]"
   ]
  },
  {
   "cell_type": "markdown",
   "metadata": {},
   "source": [
    "#### Remove empty spectra"
   ]
  },
  {
   "cell_type": "code",
   "execution_count": 8,
   "metadata": {},
   "outputs": [
    {
     "name": "stdout",
     "output_type": "stream",
     "text": [
      "indicies dropped: [552 553 554 555 556 557 564 565 566 582 583 584 585 586 587 594 595 596\n",
      " 612 613 614 615 616 617 624 625 626 642 643 644 645 646 647 654 655 656\n",
      " 672 673 674 675 676 677 684 685 686 702 703 704 705 706 707 714 715 716]\n"
     ]
    }
   ],
   "source": [
    "zero_count_indicies = np.argwhere(np.sum(source_dataset.values[:,6:],axis=1) == 0).flatten()\n",
    "\n",
    "print('indicies dropped: ' +str(zero_count_indicies))\n",
    "\n",
    "source_dataset.drop(source_dataset.index[zero_count_indicies], inplace=True)"
   ]
  },
  {
   "cell_type": "markdown",
   "metadata": {},
   "source": [
    "#### Add empty spectra for background "
   ]
  },
  {
   "cell_type": "code",
   "execution_count": 9,
   "metadata": {},
   "outputs": [],
   "source": [
    "blank_spectra = []\n",
    "for fwhm in set(source_dataset['fwhm']):\n",
    "    num_examples = source_dataset[(source_dataset['fwhm']==fwhm) &\n",
    "                                  (source_dataset['isotope']==source_dataset['isotope'].iloc()[0])].shape[0]\n",
    "    for k in range(num_examples):\n",
    "        blank_spectra_tmp = [0]*1200\n",
    "        blank_spectra_tmp[5] = fwhm\n",
    "        blank_spectra_tmp[0] = 'background'\n",
    "        blank_spectra_tmp[3] = 'background'\n",
    "        blank_spectra.append(blank_spectra_tmp)\n",
    "\n",
    "source_dataset = source_dataset.append(pd.DataFrame(blank_spectra,\n",
    "                                                    columns=source_dataset.columns))"
   ]
  },
  {
   "cell_type": "markdown",
   "metadata": {},
   "source": [
    "#### Create dataset from spectra"
   ]
  },
  {
   "cell_type": "code",
   "execution_count": 10,
   "metadata": {},
   "outputs": [],
   "source": [
    "spectra_dataset = source_dataset.values[:,5:].astype('float64')\n",
    "all_keys = source_dataset['isotope'].values"
   ]
  },
  {
   "cell_type": "markdown",
   "metadata": {},
   "source": [
    "## Model Construction"
   ]
  },
  {
   "cell_type": "raw",
   "metadata": {},
   "source": [
    "def save_features(model_features,\n",
    "                  filename,\n",
    "                 ):\n",
    "    with open(filename, 'wb+') as f:\n",
    "        pickle.dump(model_features,f)\n",
    "    return None"
   ]
  },
  {
   "cell_type": "raw",
   "metadata": {},
   "source": [
    "def load_features(filename):\n",
    "    '''\n",
    "\n",
    "    '''\n",
    "    with open(filename,\"rb\") as f:\n",
    "            model_features = pickle.load(f)\n",
    "    return model_features"
   ]
  },
  {
   "cell_type": "raw",
   "metadata": {},
   "source": [
    "cae_features = load_features('./final-models/BSCAE_full')\n"
   ]
  },
  {
   "cell_type": "raw",
   "metadata": {},
   "source": [
    "def load_pretrained_cnn(cae_features_filename,\n",
    "                        cae_weights_filename,\n",
    "                        cnn_dense_nodes,\n",
    "                        learining_rate = 1e-4,\n",
    "                        batch_size=32,\n",
    "                        output_size=30,\n",
    "                        activation_function=tf.nn.tanh,\n",
    "                        l2_regularization_scale=0.0,\n",
    "                        dropout_probability=0.0):\n",
    "    \n",
    "    cae_features = load_features(cae_features_filename)\n",
    "    CAE_model = CAE(cae_features)\n",
    "    CAE_model.load_weights(cae_weights_filename)\n",
    "    \n",
    "    # need to do a forward pass to initialize weights\n",
    "    dummy_data = np.zeros(1024)\n",
    "    _ = CAE_model.encoder([dummy_data])\n",
    "\n",
    "    model_features_CNN = cnn1d_model_features(\n",
    "        learining_rate=learining_rate,\n",
    "        trainable=True,\n",
    "        batch_size=batch_size,\n",
    "        output_size=output_size,\n",
    "        output_function=None,\n",
    "        l2_regularization_scale=l2_regularization_scale,\n",
    "        dropout_probability=dropout_probability,\n",
    "        scaler=make_pipeline(FunctionTransformer(np.log1p, validate=True)),\n",
    "        Pooling=tf.layers.MaxPooling1D,\n",
    "        cnn_filters=cae_features.cnn_filters_encoder,\n",
    "        cnn_kernel=cae_features.cnn_kernel_encoder,\n",
    "        cnn_strides=cae_features.cnn_strides_encoder,\n",
    "        pool_size=cae_features.pool_size_encoder,\n",
    "        pool_strides=cae_features.pool_strides_encoder,\n",
    "        dense_nodes=cnn_dense_nodes,\n",
    "        activation_function=activation_function,\n",
    "        )\n",
    "    \n",
    "    CNN_model = CNN1D(model_features_CNN)\n",
    "    optimizer = tf.train.AdamOptimizer(model_features_CNN.learining_rate)\n",
    "    # need to do a forward pass to initialize weights\n",
    "    dummy_data = np.zeros(1024)\n",
    "    _ = CNN_model.predict_class([dummy_data])\n",
    "\n",
    "    \n",
    "    for i in range(len(cae_features.cnn_filters_encoder)):\n",
    "        CNN_model.layers[i].set_weights(CAE_model.layers[i].get_weights())\n",
    "\n",
    "    return CNN_model, model_features_CNN\n",
    "    \n",
    "    "
   ]
  },
  {
   "cell_type": "markdown",
   "metadata": {},
   "source": [
    "## Define Training Parameters"
   ]
  },
  {
   "cell_type": "markdown",
   "metadata": {},
   "source": [
    "#### Define online data augmentation"
   ]
  },
  {
   "cell_type": "code",
   "execution_count": 11,
   "metadata": {},
   "outputs": [],
   "source": [
    "def integration_time():\n",
    "    return np.random.uniform(np.log10(10),np.log10(3600))\n",
    "\n",
    "def background_cps():\n",
    "    return np.random.poisson(200)\n",
    "\n",
    "def signal_to_background():\n",
    "    return np.random.uniform(0.1,2)\n",
    "\n",
    "def calibration():\n",
    "    return [np.random.uniform(0,10),\n",
    "            np.random.uniform(2500/3000,3500/3000),\n",
    "            0]\n",
    "\n",
    "online_data_augmentation = online_data_augmentation_vanilla(background_dataset,\n",
    "                                background_cps,\n",
    "                                integration_time,\n",
    "                                signal_to_background,\n",
    "                                calibration,)"
   ]
  },
  {
   "cell_type": "markdown",
   "metadata": {},
   "source": [
    "#### Create temporary testing dataset based on training dataset "
   ]
  },
  {
   "cell_type": "code",
   "execution_count": 12,
   "metadata": {},
   "outputs": [],
   "source": [
    "examples_per_isotope=10\n",
    "\n",
    "testing_spectra = []\n",
    "testing_keys = []\n",
    "\n",
    "for key in np.unique(all_keys):\n",
    "    for _ in range(examples_per_isotope):\n",
    "        testing_spectra_tmp = source_dataset[source_dataset['isotope']==key].sample().values[:,5:].astype('float64')\n",
    "        testing_spectra_tmp = online_data_augmentation(testing_spectra_tmp).numpy()[0]\n",
    "        testing_keys.append(key)\n",
    "        testing_spectra.append(testing_spectra_tmp)\n",
    "\n",
    "testing_spectra = np.array(testing_spectra)"
   ]
  },
  {
   "cell_type": "markdown",
   "metadata": {},
   "source": [
    "## Train network"
   ]
  },
  {
   "cell_type": "code",
   "execution_count": 13,
   "metadata": {},
   "outputs": [],
   "source": [
    "model_id='BSCAE-CNN_onlinedataaugfull_update'"
   ]
  },
  {
   "cell_type": "code",
   "execution_count": 14,
   "metadata": {},
   "outputs": [],
   "source": [
    "all_cae_models = [x.split('checkpoint_')[1][:-7] for x in \n",
    "                  glob('../hyperparameter_search/hyperparameter-search-results/BSCAE_easy_fullnetwork_checkpoint_[0-9]*index')]"
   ]
  },
  {
   "cell_type": "code",
   "execution_count": 15,
   "metadata": {},
   "outputs": [],
   "source": [
    "cnn_dense_nodes=[128],\n",
    "learining_rate=1e-4,\n",
    "batch_size=32,\n",
    "output_size=30,\n",
    "activation_function=tf.nn.tanh,"
   ]
  },
  {
   "cell_type": "code",
   "execution_count": null,
   "metadata": {},
   "outputs": [
    {
     "name": "stdout",
     "output_type": "stream",
     "text": [
      "INFO:tensorflow:Scale of 0 disables regularizer.\n",
      "Epoch 1: CostFunc loss: 0.00 3.03, EarlyStop loss: 0.00 0.85\n",
      "Epoch 2: CostFunc loss: 0.00 2.78, EarlyStop loss: 0.00 0.80\n",
      "Epoch 3: CostFunc loss: 0.00 2.66, EarlyStop loss: 0.00 0.78\n",
      "Epoch 4: CostFunc loss: 0.00 2.57, EarlyStop loss: 0.00 0.73\n",
      "Epoch 5: CostFunc loss: 0.00 2.51, EarlyStop loss: 0.00 0.72\n",
      "Epoch 6: CostFunc loss: 0.00 2.46, EarlyStop loss: 0.00 0.71\n",
      "Epoch 7: CostFunc loss: 0.00 2.39, EarlyStop loss: 0.00 0.69\n",
      "Epoch 8: CostFunc loss: 0.00 2.35, EarlyStop loss: 0.00 0.69\n",
      "Epoch 9: CostFunc loss: 0.00 2.33, EarlyStop loss: 0.00 0.70\n",
      "Epoch 10: CostFunc loss: 0.00 2.27, EarlyStop loss: 0.00 0.71\n",
      "Epoch 11: CostFunc loss: 0.00 2.24, EarlyStop loss: 0.00 0.68\n",
      "Epoch 12: CostFunc loss: 0.00 2.19, EarlyStop loss: 0.00 0.63\n",
      "Epoch 13: CostFunc loss: 0.00 2.19, EarlyStop loss: 0.00 0.68\n",
      "Epoch 14: CostFunc loss: 0.00 2.14, EarlyStop loss: 0.00 0.64\n",
      "Epoch 15: CostFunc loss: 0.00 2.12, EarlyStop loss: 0.00 0.67\n",
      "Epoch 16: CostFunc loss: 0.00 2.10, EarlyStop loss: 0.00 0.63\n",
      "Epoch 17: CostFunc loss: 0.00 2.06, EarlyStop loss: 0.00 0.62\n",
      "Epoch 18: CostFunc loss: 0.00 2.03, EarlyStop loss: 0.00 0.64\n",
      "Epoch 19: CostFunc loss: 0.00 2.02, EarlyStop loss: 0.00 0.63\n",
      "Epoch 20: CostFunc loss: 0.00 1.99, EarlyStop loss: 0.00 0.60\n",
      "Epoch 21: CostFunc loss: 0.00 1.96, EarlyStop loss: 0.00 0.60\n",
      "Epoch 22: CostFunc loss: 0.00 1.94, EarlyStop loss: 0.00 0.60\n",
      "Epoch 23: CostFunc loss: 0.00 1.93, EarlyStop loss: 0.00 0.56\n",
      "Epoch 24: CostFunc loss: 0.00 1.90, EarlyStop loss: 0.00 0.57\n",
      "Epoch 25: CostFunc loss: 0.00 1.89, EarlyStop loss: 0.00 0.55\n",
      "Epoch 26: CostFunc loss: 0.00 1.87, EarlyStop loss: 0.00 0.58\n",
      "Epoch 27: CostFunc loss: 0.00 1.83, EarlyStop loss: 0.00 0.56\n",
      "Epoch 28: CostFunc loss: 0.00 1.80, EarlyStop loss: 0.00 0.58\n",
      "Epoch 29: CostFunc loss: 0.00 1.78, EarlyStop loss: 0.00 0.56\n",
      "Epoch 30: CostFunc loss: 0.00 1.76, EarlyStop loss: 0.00 0.54\n",
      "Epoch 31: CostFunc loss: 0.00 1.76, EarlyStop loss: 0.00 0.55\n",
      "Epoch 32: CostFunc loss: 0.00 1.82, EarlyStop loss: 0.00 0.60\n",
      "Epoch 33: CostFunc loss: 0.00 1.71, EarlyStop loss: 0.00 0.53\n",
      "Epoch 34: CostFunc loss: 0.00 1.71, EarlyStop loss: 0.00 0.54\n",
      "Epoch 35: CostFunc loss: 0.00 1.69, EarlyStop loss: 0.00 0.51\n",
      "Epoch 36: CostFunc loss: 0.00 1.70, EarlyStop loss: 0.00 0.55\n",
      "Epoch 37: CostFunc loss: 0.00 1.67, EarlyStop loss: 0.00 0.53\n",
      "Epoch 38: CostFunc loss: 0.00 1.65, EarlyStop loss: 0.00 0.53\n",
      "Epoch 39: CostFunc loss: 0.00 1.64, EarlyStop loss: 0.00 0.51\n",
      "Epoch 40: CostFunc loss: 0.00 1.62, EarlyStop loss: 0.00 0.52\n",
      "Epoch 41: CostFunc loss: 0.00 1.61, EarlyStop loss: 0.00 0.50\n",
      "Epoch 42: CostFunc loss: 0.00 1.60, EarlyStop loss: 0.00 0.52\n",
      "Epoch 43: CostFunc loss: 0.00 1.59, EarlyStop loss: 0.00 0.49\n",
      "Epoch 44: CostFunc loss: 0.00 1.58, EarlyStop loss: 0.00 0.49\n",
      "Epoch 45: CostFunc loss: 0.00 1.57, EarlyStop loss: 0.00 0.50\n",
      "Epoch 46: CostFunc loss: 0.00 1.54, EarlyStop loss: 0.00 0.52\n",
      "Epoch 47: CostFunc loss: 0.00 1.57, EarlyStop loss: 0.00 0.49\n",
      "Epoch 48: CostFunc loss: 0.00 1.53, EarlyStop loss: 0.00 0.51\n",
      "Epoch 49: CostFunc loss: 0.00 1.53, EarlyStop loss: 0.00 0.48\n",
      "Epoch 50: CostFunc loss: 0.00 1.53, EarlyStop loss: 0.00 0.48\n",
      "Epoch 51: CostFunc loss: 0.00 1.51, EarlyStop loss: 0.00 0.49\n",
      "Epoch 52: CostFunc loss: 0.00 1.50, EarlyStop loss: 0.00 0.48\n",
      "Epoch 53: CostFunc loss: 0.00 1.53, EarlyStop loss: 0.00 0.50\n",
      "Epoch 54: CostFunc loss: 0.00 1.49, EarlyStop loss: 0.00 0.49\n",
      "Epoch 55: CostFunc loss: 0.00 1.48, EarlyStop loss: 0.00 0.48\n",
      "Epoch 56: CostFunc loss: 0.00 1.48, EarlyStop loss: 0.00 0.48\n",
      "Epoch 57: CostFunc loss: 0.00 1.50, EarlyStop loss: 0.00 0.50\n",
      "Epoch 58: CostFunc loss: 0.00 1.47, EarlyStop loss: 0.00 0.50\n",
      "Epoch 59: CostFunc loss: 0.00 1.46, EarlyStop loss: 0.00 0.49\n",
      "Epoch 60: CostFunc loss: 0.00 1.46, EarlyStop loss: 0.00 0.49\n",
      "Epoch 61: CostFunc loss: 0.00 1.44, EarlyStop loss: 0.00 0.48\n",
      "Epoch 62: CostFunc loss: 0.00 1.45, EarlyStop loss: 0.00 0.44\n",
      "Epoch 63: CostFunc loss: 0.00 1.45, EarlyStop loss: 0.00 0.47\n",
      "Epoch 64: CostFunc loss: 0.00 1.42, EarlyStop loss: 0.00 0.47\n",
      "Epoch 65: CostFunc loss: 0.00 1.42, EarlyStop loss: 0.00 0.45\n",
      "Epoch 66: CostFunc loss: 0.00 1.41, EarlyStop loss: 0.00 0.46\n",
      "Epoch 67: CostFunc loss: 0.00 1.42, EarlyStop loss: 0.00 0.44\n",
      "Epoch 68: CostFunc loss: 0.00 1.44, EarlyStop loss: 0.00 0.49\n",
      "Epoch 69: CostFunc loss: 0.00 1.41, EarlyStop loss: 0.00 0.46\n",
      "Epoch 70: CostFunc loss: 0.00 1.40, EarlyStop loss: 0.00 0.48\n",
      "Epoch 71: CostFunc loss: 0.00 1.46, EarlyStop loss: 0.00 0.47\n",
      "Epoch 72: CostFunc loss: 0.00 1.44, EarlyStop loss: 0.00 0.48\n",
      "Epoch 73: CostFunc loss: 0.00 1.41, EarlyStop loss: 0.00 0.45\n",
      "Epoch 74: CostFunc loss: 0.00 1.39, EarlyStop loss: 0.00 0.45\n",
      "Epoch 75: CostFunc loss: 0.00 1.37, EarlyStop loss: 0.00 0.45\n",
      "Epoch 76: CostFunc loss: 0.00 1.36, EarlyStop loss: 0.00 0.42\n",
      "Epoch 77: CostFunc loss: 0.00 1.38, EarlyStop loss: 0.00 0.46\n",
      "Epoch 78: CostFunc loss: 0.00 1.38, EarlyStop loss: 0.00 0.46\n",
      "Epoch 79: CostFunc loss: 0.00 1.39, EarlyStop loss: 0.00 0.47\n",
      "Epoch 80: CostFunc loss: 0.00 1.36, EarlyStop loss: 0.00 0.46\n",
      "Epoch 81: CostFunc loss: 0.00 1.37, EarlyStop loss: 0.00 0.45\n",
      "Epoch 82: CostFunc loss: 0.00 1.34, EarlyStop loss: 0.00 0.44\n",
      "Epoch 83: CostFunc loss: 0.00 1.34, EarlyStop loss: 0.00 0.42\n",
      "Epoch 84: CostFunc loss: 0.00 1.36, EarlyStop loss: 0.00 0.43\n",
      "Epoch 85: CostFunc loss: 0.00 1.32, EarlyStop loss: 0.00 0.41\n",
      "Epoch 86: CostFunc loss: 0.00 1.38, EarlyStop loss: 0.00 0.42\n",
      "Epoch 87: CostFunc loss: 0.00 1.32, EarlyStop loss: 0.00 0.44\n",
      "Epoch 88: CostFunc loss: 0.00 1.34, EarlyStop loss: 0.00 0.42\n",
      "Epoch 89: CostFunc loss: 0.00 1.32, EarlyStop loss: 0.00 0.42\n",
      "Epoch 90: CostFunc loss: 0.00 1.33, EarlyStop loss: 0.00 0.42\n",
      "Epoch 91: CostFunc loss: 0.00 1.33, EarlyStop loss: 0.00 0.42\n",
      "Epoch 92: CostFunc loss: 0.00 1.33, EarlyStop loss: 0.00 0.45\n",
      "Epoch 93: CostFunc loss: 0.00 1.37, EarlyStop loss: 0.00 0.43\n",
      "Epoch 94: CostFunc loss: 0.00 1.32, EarlyStop loss: 0.00 0.43\n",
      "Epoch 95: CostFunc loss: 0.00 1.31, EarlyStop loss: 0.00 0.41\n",
      "Epoch 96: CostFunc loss: 0.00 1.30, EarlyStop loss: 0.00 0.42\n",
      "Epoch 97: CostFunc loss: 0.00 1.33, EarlyStop loss: 0.00 0.43\n",
      "Epoch 98: CostFunc loss: 0.00 1.38, EarlyStop loss: 0.00 0.44\n",
      "Epoch 99: CostFunc loss: 0.00 1.34, EarlyStop loss: 0.00 0.43\n",
      "Epoch 100: CostFunc loss: 0.00 1.29, EarlyStop loss: 0.00 0.42\n",
      "Epoch 101: CostFunc loss: 0.00 1.32, EarlyStop loss: 0.00 0.41\n",
      "Epoch 102: CostFunc loss: 0.00 1.27, EarlyStop loss: 0.00 0.40\n",
      "Epoch 103: CostFunc loss: 0.00 1.28, EarlyStop loss: 0.00 0.40\n",
      "Epoch 104: CostFunc loss: 0.00 1.29, EarlyStop loss: 0.00 0.43\n",
      "Epoch 105: CostFunc loss: 0.00 1.27, EarlyStop loss: 0.00 0.41\n",
      "Epoch 106: CostFunc loss: 0.00 1.28, EarlyStop loss: 0.00 0.42\n",
      "Epoch 107: CostFunc loss: 0.00 1.31, EarlyStop loss: 0.00 0.43\n",
      "Epoch 108: CostFunc loss: 0.00 1.29, EarlyStop loss: 0.00 0.40\n",
      "Epoch 109: CostFunc loss: 0.00 1.27, EarlyStop loss: 0.00 0.40\n",
      "Epoch 110: CostFunc loss: 0.00 1.25, EarlyStop loss: 0.00 0.39\n",
      "Epoch 111: CostFunc loss: 0.00 1.28, EarlyStop loss: 0.00 0.42\n",
      "Epoch 112: CostFunc loss: 0.00 1.24, EarlyStop loss: 0.00 0.39\n",
      "Epoch 113: CostFunc loss: 0.00 1.28, EarlyStop loss: 0.00 0.39\n",
      "Epoch 114: CostFunc loss: 0.00 1.26, EarlyStop loss: 0.00 0.41\n",
      "Epoch 115: CostFunc loss: 0.00 1.27, EarlyStop loss: 0.00 0.39\n",
      "Epoch 116: CostFunc loss: 0.00 1.26, EarlyStop loss: 0.00 0.38\n",
      "Epoch 117: CostFunc loss: 0.00 1.25, EarlyStop loss: 0.00 0.40\n",
      "Epoch 118: CostFunc loss: 0.00 1.26, EarlyStop loss: 0.00 0.40\n",
      "Epoch 119: CostFunc loss: 0.00 1.27, EarlyStop loss: 0.00 0.39\n",
      "Epoch 120: CostFunc loss: 0.00 1.25, EarlyStop loss: 0.00 0.40\n",
      "Epoch 121: CostFunc loss: 0.00 1.23, EarlyStop loss: 0.00 0.37\n",
      "Epoch 122: CostFunc loss: 0.00 1.23, EarlyStop loss: 0.00 0.38\n",
      "Epoch 123: CostFunc loss: 0.00 1.27, EarlyStop loss: 0.00 0.43\n",
      "Epoch 124: CostFunc loss: 0.00 1.22, EarlyStop loss: 0.00 0.38\n",
      "Epoch 125: CostFunc loss: 0.00 1.25, EarlyStop loss: 0.00 0.41\n",
      "Epoch 126: CostFunc loss: 0.00 1.25, EarlyStop loss: 0.00 0.39\n",
      "Epoch 127: CostFunc loss: 0.00 1.33, EarlyStop loss: 0.00 0.43\n",
      "Epoch 128: CostFunc loss: 0.00 1.23, EarlyStop loss: 0.00 0.37\n",
      "Epoch 129: CostFunc loss: 0.00 1.22, EarlyStop loss: 0.00 0.38\n",
      "Epoch 130: CostFunc loss: 0.00 1.21, EarlyStop loss: 0.00 0.38\n",
      "Epoch 131: CostFunc loss: 0.00 1.23, EarlyStop loss: 0.00 0.38\n"
     ]
    },
    {
     "name": "stdout",
     "output_type": "stream",
     "text": [
      "Epoch 132: CostFunc loss: 0.00 1.21, EarlyStop loss: 0.00 0.37\n",
      "Epoch 133: CostFunc loss: 0.00 1.20, EarlyStop loss: 0.00 0.37\n",
      "Epoch 134: CostFunc loss: 0.00 1.20, EarlyStop loss: 0.00 0.39\n",
      "Epoch 135: CostFunc loss: 0.00 1.23, EarlyStop loss: 0.00 0.39\n",
      "Epoch 136: CostFunc loss: 0.00 1.21, EarlyStop loss: 0.00 0.37\n",
      "Epoch 137: CostFunc loss: 0.00 1.22, EarlyStop loss: 0.00 0.37\n",
      "Epoch 138: CostFunc loss: 0.00 1.20, EarlyStop loss: 0.00 0.37\n",
      "Epoch 139: CostFunc loss: 0.00 1.19, EarlyStop loss: 0.00 0.39\n",
      "Epoch 140: CostFunc loss: 0.00 1.20, EarlyStop loss: 0.00 0.36\n",
      "Epoch 141: CostFunc loss: 0.00 1.19, EarlyStop loss: 0.00 0.38\n",
      "Epoch 142: CostFunc loss: 0.00 1.21, EarlyStop loss: 0.00 0.39\n",
      "Epoch 143: CostFunc loss: 0.00 1.21, EarlyStop loss: 0.00 0.40\n",
      "Epoch 144: CostFunc loss: 0.00 1.19, EarlyStop loss: 0.00 0.37\n",
      "Epoch 145: CostFunc loss: 0.00 1.23, EarlyStop loss: 0.00 0.40\n",
      "Epoch 146: CostFunc loss: 0.00 1.20, EarlyStop loss: 0.00 0.39\n",
      "Epoch 147: CostFunc loss: 0.00 1.21, EarlyStop loss: 0.00 0.37\n",
      "Epoch 148: CostFunc loss: 0.00 1.16, EarlyStop loss: 0.00 0.38\n",
      "Epoch 149: CostFunc loss: 0.00 1.17, EarlyStop loss: 0.00 0.36\n",
      "Epoch 150: CostFunc loss: 0.00 1.18, EarlyStop loss: 0.00 0.35\n",
      "Epoch 151: CostFunc loss: 0.00 1.20, EarlyStop loss: 0.00 0.38\n",
      "Epoch 152: CostFunc loss: 0.00 1.19, EarlyStop loss: 0.00 0.35\n",
      "Epoch 153: CostFunc loss: 0.00 1.19, EarlyStop loss: 0.00 0.37\n",
      "Epoch 154: CostFunc loss: 0.00 1.16, EarlyStop loss: 0.00 0.37\n",
      "Epoch 155: CostFunc loss: 0.00 1.18, EarlyStop loss: 0.00 0.36\n",
      "Epoch 156: CostFunc loss: 0.00 1.20, EarlyStop loss: 0.00 0.36\n",
      "Epoch 157: CostFunc loss: 0.00 1.16, EarlyStop loss: 0.00 0.37\n",
      "Epoch 158: CostFunc loss: 0.00 1.16, EarlyStop loss: 0.00 0.34\n",
      "Epoch 159: CostFunc loss: 0.00 1.26, EarlyStop loss: 0.00 0.41\n",
      "Epoch 160: CostFunc loss: 0.00 1.22, EarlyStop loss: 0.00 0.38\n",
      "Epoch 161: CostFunc loss: 0.00 1.17, EarlyStop loss: 0.00 0.36\n",
      "Epoch 162: CostFunc loss: 0.00 1.16, EarlyStop loss: 0.00 0.37\n",
      "Epoch 163: CostFunc loss: 0.00 1.14, EarlyStop loss: 0.00 0.35\n",
      "Epoch 164: CostFunc loss: 0.00 1.17, EarlyStop loss: 0.00 0.38\n",
      "Epoch 165: CostFunc loss: 0.00 1.18, EarlyStop loss: 0.00 0.37\n",
      "Epoch 166: CostFunc loss: 0.00 1.20, EarlyStop loss: 0.00 0.36\n",
      "Epoch 167: CostFunc loss: 0.00 1.17, EarlyStop loss: 0.00 0.37\n",
      "Epoch 168: CostFunc loss: 0.00 1.19, EarlyStop loss: 0.00 0.39\n",
      "Epoch 169: CostFunc loss: 0.00 1.15, EarlyStop loss: 0.00 0.34\n",
      "Epoch 170: CostFunc loss: 0.00 1.14, EarlyStop loss: 0.00 0.35\n",
      "Epoch 171: CostFunc loss: 0.00 1.16, EarlyStop loss: 0.00 0.35\n",
      "Epoch 172: CostFunc loss: 0.00 1.15, EarlyStop loss: 0.00 0.35\n",
      "Epoch 173: CostFunc loss: 0.00 1.17, EarlyStop loss: 0.00 0.37\n",
      "Epoch 174: CostFunc loss: 0.00 1.14, EarlyStop loss: 0.00 0.34\n",
      "Epoch 175: CostFunc loss: 0.00 1.13, EarlyStop loss: 0.00 0.36\n",
      "Epoch 176: CostFunc loss: 0.00 1.14, EarlyStop loss: 0.00 0.38\n",
      "Epoch 177: CostFunc loss: 0.00 1.16, EarlyStop loss: 0.00 0.38\n",
      "Epoch 178: CostFunc loss: 0.00 1.14, EarlyStop loss: 0.00 0.37\n",
      "Epoch 179: CostFunc loss: 0.00 1.14, EarlyStop loss: 0.00 0.36\n",
      "Epoch 180: CostFunc loss: 0.00 1.13, EarlyStop loss: 0.00 0.35\n",
      "Epoch 181: CostFunc loss: 0.00 1.13, EarlyStop loss: 0.00 0.35\n",
      "Epoch 182: CostFunc loss: 0.00 1.13, EarlyStop loss: 0.00 0.36\n",
      "Epoch 183: CostFunc loss: 0.00 1.15, EarlyStop loss: 0.00 0.35\n",
      "Epoch 184: CostFunc loss: 0.00 1.12, EarlyStop loss: 0.00 0.36\n",
      "Epoch 185: CostFunc loss: 0.00 1.11, EarlyStop loss: 0.00 0.36\n",
      "Epoch 186: CostFunc loss: 0.00 1.15, EarlyStop loss: 0.00 0.39\n",
      "Epoch 187: CostFunc loss: 0.00 1.15, EarlyStop loss: 0.00 0.35\n",
      "Epoch 188: CostFunc loss: 0.00 1.16, EarlyStop loss: 0.00 0.37\n"
     ]
    }
   ],
   "source": [
    "mlb=LabelBinarizer()\n",
    "\n",
    "training_errors = []\n",
    "total_networks = 2\n",
    "for network_id in range(total_networks):\n",
    "\n",
    "    # reset model on each iteration\n",
    "    all_keys_binarized = mlb.fit_transform(all_keys.reshape([all_keys.shape[0],1]))\n",
    "    testing_keys_binarized = mlb.transform(testing_keys)\n",
    "    for model_id in all_cae_models:\n",
    "\n",
    "        model, model_features = load_pretrained_cae_into_cnn(cae_features_filename = '../hyperparameter_search/hyperparameter-search-results/BSCAE_full_fullnetwork_'+model_id,\n",
    "                                                    cae_weights_filename = '../hyperparameter_search/hyperparameter-search-results/BSCAE_full_fullnetwork_checkpoint_'+model_id+'_',\n",
    "                                                    cnn_dense_nodes = [256,128],)\n",
    "        optimizer = tf.train.AdamOptimizer(model_features.learining_rate)\n",
    "\n",
    "        _, f1_error = model.fit_batch(\n",
    "            (spectra_dataset, all_keys_binarized),\n",
    "            (testing_spectra, testing_keys_binarized),\n",
    "            optimizer=optimizer,\n",
    "            num_epochs=1500,\n",
    "            verbose=1,\n",
    "            obj_cost=model.cross_entropy,\n",
    "            earlystop_cost_fn=model.f1_error,\n",
    "            earlystop_patience=1000,\n",
    "            data_augmentation=online_data_augmentation,\n",
    "            augment_testing_data=False,\n",
    "            print_errors=True,\n",
    "            record_train_errors=False)\n",
    "\n",
    "        # training_errors.append(f1_error['test'])\n",
    "        #np.save('./final-models/final_test_errors_'+model_id, training_errors)\n",
    "        # model.save_weights('./final-models/'+model_id+'_checkpoint_'+str(network_id))\n"
   ]
  },
  {
   "cell_type": "code",
   "execution_count": null,
   "metadata": {},
   "outputs": [],
   "source": []
  }
 ],
 "metadata": {
  "kernelspec": {
   "display_name": "Environment (conda_tensorflow_p36)",
   "language": "python",
   "name": "conda_tensorflow_p36"
  },
  "language_info": {
   "codemirror_mode": {
    "name": "ipython",
    "version": 3
   },
   "file_extension": ".py",
   "mimetype": "text/x-python",
   "name": "python",
   "nbconvert_exporter": "python",
   "pygments_lexer": "ipython3",
   "version": "3.6.5"
  }
 },
 "nbformat": 4,
 "nbformat_minor": 1
}
