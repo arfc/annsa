{
 "cells": [
  {
   "cell_type": "code",
   "execution_count": 3,
   "metadata": {},
   "outputs": [],
   "source": [
    "GPU_device_id = str(4)\n",
    "model_id_save_as = 'caepretrain-full-final'\n",
    "architecture_id = '../hyperparameter_search/hyperparameter-search-results/CNN-kfoldsfull-final-2-reluupdate_28'\n",
    "model_class_id = 'CAE'\n",
    "training_dataset_id = '../dataset_generation/hyperparametersearch_dataset_200keV_full_log10time_1000.npy'\n",
    "difficulty_setting = 'full'\n",
    "\n",
    "earlystop_patience = 10\n",
    "num_epochs = 2000"
   ]
  },
  {
   "cell_type": "code",
   "execution_count": 4,
   "metadata": {},
   "outputs": [],
   "source": [
    "import matplotlib.pyplot as plt\n",
    "import os\n",
    "os.environ[\"CUDA_DEVICE_ORDER\"] = \"PCI_BUS_ID\"   # see issue #152\n",
    "os.environ[\"CUDA_VISIBLE_DEVICES\"] = GPU_device_id\n",
    "\n",
    "\n",
    "from sklearn.pipeline import make_pipeline\n",
    "from sklearn.preprocessing import FunctionTransformer, LabelBinarizer\n",
    "from sklearn.model_selection import StratifiedKFold, StratifiedShuffleSplit\n",
    "import tensorflow as tf\n",
    "import pickle\n",
    "import numpy as np\n",
    "import pandas as pd\n",
    "from random import choice\n",
    "\n",
    "from numpy.random import seed\n",
    "seed(5)\n",
    "from tensorflow import set_random_seed\n",
    "set_random_seed(5)\n",
    "\n"
   ]
  },
  {
   "cell_type": "markdown",
   "metadata": {},
   "source": [
    "#### Import model, training function "
   ]
  },
  {
   "cell_type": "code",
   "execution_count": 5,
   "metadata": {},
   "outputs": [
    {
     "name": "stderr",
     "output_type": "stream",
     "text": [
      "Using TensorFlow backend.\n"
     ]
    }
   ],
   "source": [
    "from annsa.model_classes import compile_model, f1, build_cae_model, mean_normalized_kl_divergence\n",
    "from annsa.load_dataset import load_easy, load_full, dataset_to_spectrakeys\n",
    "from annsa.load_pretrained_network import load_features"
   ]
  },
  {
   "cell_type": "markdown",
   "metadata": {},
   "source": [
    "## Training Data Construction"
   ]
  },
  {
   "cell_type": "code",
   "execution_count": 6,
   "metadata": {},
   "outputs": [],
   "source": [
    "training_dataset = np.load(training_dataset_id, allow_pickle=True)\n",
    "training_source_spectra, training_background_spectra, training_keys = dataset_to_spectrakeys(training_dataset,\n",
    "                                                                                             sampled=False,\n",
    "                                                                                             separate_background=True)"
   ]
  },
  {
   "cell_type": "markdown",
   "metadata": {},
   "source": [
    "## Load Model"
   ]
  },
  {
   "cell_type": "code",
   "execution_count": 8,
   "metadata": {},
   "outputs": [],
   "source": [
    "model_features = load_features(architecture_id)\n",
    "model_features.loss = tf.keras.losses.mean_squared_error\n",
    "model_features.optimizer = tf.keras.optimizers.Adam\n",
    "model_features.input_dim = 1024"
   ]
  },
  {
   "cell_type": "code",
   "execution_count": 9,
   "metadata": {},
   "outputs": [],
   "source": [
    "model_features.pool_sizes = model_features.pool_size\n",
    "\n",
    "cae_features = model_features.to_cae_model_features()\n",
    "cae_features.metrics = ['mse']"
   ]
  },
  {
   "cell_type": "markdown",
   "metadata": {},
   "source": [
    "## Train network"
   ]
  },
  {
   "cell_type": "markdown",
   "metadata": {},
   "source": [
    "# Scale input data"
   ]
  },
  {
   "cell_type": "code",
   "execution_count": 11,
   "metadata": {},
   "outputs": [
    {
     "name": "stderr",
     "output_type": "stream",
     "text": [
      "/home/ubuntu/anaconda3/envs/tensorflow_p36_update/lib/python3.6/site-packages/sklearn/preprocessing/_function_transformer.py:161: RuntimeWarning: invalid value encountered in sqrt\n",
      "  **(kw_args if kw_args else {}))\n"
     ]
    }
   ],
   "source": [
    "training_input = np.random.poisson(training_source_spectra+training_background_spectra)\n",
    "training_output = training_source_spectra\n",
    "\n",
    "training_input = cae_features.scaler.transform(training_input)\n",
    "training_output = cae_features.scaler.transform(training_output)\n"
   ]
  },
  {
   "cell_type": "code",
   "execution_count": 15,
   "metadata": {},
   "outputs": [],
   "source": [
    "earlystop_callback = tf.keras.callbacks.EarlyStopping(\n",
    "    monitor='val_mean_squared_error',\n",
    "    patience=earlystop_patience,\n",
    "    mode='min',\n",
    "    restore_best_weights=True)\n",
    "\n",
    "csv_logger = tf.keras.callbacks.CSVLogger('./final-models-keras/'+model_id_save_as+'.log')"
   ]
  },
  {
   "cell_type": "code",
   "execution_count": 16,
   "metadata": {
    "scrolled": false
   },
   "outputs": [
    {
     "name": "stdout",
     "output_type": "stream",
     "text": [
      "Train on 27000 samples, validate on 3000 samples\n",
      "Epoch 1/500\n",
      "27000/27000 [==============================] - 19s 707us/sample - loss: 0.0067 - mean_squared_error: 0.0067 - val_loss: 0.0062 - val_mean_squared_error: 0.0062\n",
      "Epoch 2/500\n",
      "27000/27000 [==============================] - 17s 634us/sample - loss: 0.0046 - mean_squared_error: 0.0046 - val_loss: 0.0062 - val_mean_squared_error: 0.0062\n",
      "Epoch 3/500\n",
      "27000/27000 [==============================] - 17s 634us/sample - loss: 0.0043 - mean_squared_error: 0.0043 - val_loss: 0.0051 - val_mean_squared_error: 0.0051\n",
      "Epoch 4/500\n",
      "27000/27000 [==============================] - 17s 635us/sample - loss: 0.0041 - mean_squared_error: 0.0041 - val_loss: 0.0044 - val_mean_squared_error: 0.0044\n",
      "Epoch 5/500\n",
      "27000/27000 [==============================] - 17s 635us/sample - loss: 0.0040 - mean_squared_error: 0.0040 - val_loss: 0.0052 - val_mean_squared_error: 0.0052\n",
      "Epoch 6/500\n",
      "27000/27000 [==============================] - 17s 635us/sample - loss: 0.0039 - mean_squared_error: 0.0039 - val_loss: 0.0038 - val_mean_squared_error: 0.0038\n",
      "Epoch 7/500\n",
      "27000/27000 [==============================] - 17s 635us/sample - loss: 0.0039 - mean_squared_error: 0.0039 - val_loss: 0.0042 - val_mean_squared_error: 0.0042\n",
      "Epoch 8/500\n",
      "27000/27000 [==============================] - 17s 635us/sample - loss: 0.0038 - mean_squared_error: 0.0038 - val_loss: 0.0048 - val_mean_squared_error: 0.0048\n",
      "Epoch 9/500\n",
      "27000/27000 [==============================] - 17s 635us/sample - loss: 0.0037 - mean_squared_error: 0.0037 - val_loss: 0.0041 - val_mean_squared_error: 0.0041\n",
      "Epoch 10/500\n",
      "27000/27000 [==============================] - 17s 635us/sample - loss: 0.0036 - mean_squared_error: 0.0036 - val_loss: 0.0049 - val_mean_squared_error: 0.0049\n",
      "Epoch 11/500\n",
      "27000/27000 [==============================] - 17s 635us/sample - loss: 0.0035 - mean_squared_error: 0.0035 - val_loss: 0.0042 - val_mean_squared_error: 0.0042\n",
      "Epoch 12/500\n",
      "27000/27000 [==============================] - 17s 635us/sample - loss: 0.0033 - mean_squared_error: 0.0033 - val_loss: 0.0041 - val_mean_squared_error: 0.0041\n",
      "Epoch 13/500\n",
      "27000/27000 [==============================] - 17s 636us/sample - loss: 0.0032 - mean_squared_error: 0.0032 - val_loss: 0.0043 - val_mean_squared_error: 0.0043\n",
      "Epoch 14/500\n",
      "27000/27000 [==============================] - 17s 636us/sample - loss: 0.0031 - mean_squared_error: 0.0031 - val_loss: 0.0048 - val_mean_squared_error: 0.0048\n",
      "Epoch 15/500\n",
      "27000/27000 [==============================] - 17s 635us/sample - loss: 0.0030 - mean_squared_error: 0.0030 - val_loss: 0.0043 - val_mean_squared_error: 0.0043\n",
      "Epoch 16/500\n",
      "27000/27000 [==============================] - 17s 645us/sample - loss: 0.0030 - mean_squared_error: 0.0030 - val_loss: 0.0041 - val_mean_squared_error: 0.0041\n"
     ]
    }
   ],
   "source": [
    "mlb=LabelBinarizer()\n",
    "model = compile_model(\n",
    "            build_cae_model,\n",
    "            cae_features)\n",
    "\n",
    "output = model.fit(\n",
    "    x=training_input,\n",
    "    y=training_output,\n",
    "    batch_size=model_features.batch_size,\n",
    "    validation_split=0.1,\n",
    "    epochs=500,\n",
    "    verbose=1,\n",
    "    shuffle=True,\n",
    "    callbacks=[earlystop_callback, ],\n",
    ")\n"
   ]
  },
  {
   "cell_type": "code",
   "execution_count": 17,
   "metadata": {},
   "outputs": [],
   "source": [
    "model.save('./final-models-keras/'+model_id_save_as+'.hdf5')"
   ]
  },
  {
   "cell_type": "code",
   "execution_count": null,
   "metadata": {},
   "outputs": [],
   "source": []
  }
 ],
 "metadata": {
  "kernelspec": {
   "display_name": "Environment (conda_tensorflow_p36_update)",
   "language": "python",
   "name": "conda_tensorflow_p36_update"
  },
  "language_info": {
   "codemirror_mode": {
    "name": "ipython",
    "version": 3
   },
   "file_extension": ".py",
   "mimetype": "text/x-python",
   "name": "python",
   "nbconvert_exporter": "python",
   "pygments_lexer": "ipython3",
   "version": "3.6.7"
  }
 },
 "nbformat": 4,
 "nbformat_minor": 1
}
