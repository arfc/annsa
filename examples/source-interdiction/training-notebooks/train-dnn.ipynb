{
 "cells": [
  {
   "cell_type": "code",
   "execution_count": 1,
   "metadata": {},
   "outputs": [],
   "source": [
    "import matplotlib.pyplot as plt\n",
    "import os\n",
    "\n",
    "from sklearn.pipeline import make_pipeline\n",
    "from sklearn.preprocessing import FunctionTransformer, LabelBinarizer\n",
    "\n",
    "import tensorflow as tf\n",
    "import pickle\n",
    "import numpy as np"
   ]
  },
  {
   "cell_type": "code",
   "execution_count": 2,
   "metadata": {},
   "outputs": [],
   "source": [
    "import tensorflow.contrib.eager as tfe"
   ]
  },
  {
   "cell_type": "code",
   "execution_count": 3,
   "metadata": {},
   "outputs": [],
   "source": [
    "tf.enable_eager_execution()"
   ]
  },
  {
   "cell_type": "markdown",
   "metadata": {},
   "source": [
    "#### Import functions to create template datasets"
   ]
  },
  {
   "cell_type": "code",
   "execution_count": 4,
   "metadata": {},
   "outputs": [],
   "source": [
    "from annsa.load_simulate_templates import (load_templates,\n",
    "                                           create_template_parameters,\n",
    "                                           simulate_template_dataset)\n"
   ]
  },
  {
   "cell_type": "code",
   "execution_count": 14,
   "metadata": {},
   "outputs": [],
   "source": [
    "from annsa.model_classes import (dnn_model_features,\n",
    "                                 DNN,\n",
    "                                 save_model,\n",
    "                                 train_earlystop)\n",
    "\n",
    "from annsa import isotopes"
   ]
  },
  {
   "cell_type": "markdown",
   "metadata": {},
   "source": [
    "#### Create template datasets"
   ]
  },
  {
   "cell_type": "code",
   "execution_count": 6,
   "metadata": {},
   "outputs": [],
   "source": [
    "spectral_template_settings = ['no-shielding']\n",
    "\n",
    "spectral_templates = load_templates(\n",
    "    spectral_template_settings,\n",
    "    templates_folder='../dataset_generation/templates/',\n",
    "    spectrum_identifier = \"_10uC_spectrum.spe\"\n",
    "    )\n",
    "\n",
    "isotope_list = isotopes[:-3]"
   ]
  },
  {
   "cell_type": "code",
   "execution_count": 7,
   "metadata": {},
   "outputs": [
    {
     "name": "stdout",
     "output_type": "stream",
     "text": [
      "integration_times\n",
      "[  60.           94.56351601  149.03764267  234.89205847  370.20364886\n",
      "  583.46264459  919.57131887 1449.29828556 2284.17902714 3600.        ]\n",
      "signal_to_backgrounds\n",
      "[0.5        0.61014247 0.74454766 0.9085603  1.10870244 1.35293289\n",
      " 1.65096362 2.01464604 2.45844221 3.        ]\n",
      "calibrations\n",
      "[0.952      1.00488889 1.05777778 1.11066667 1.16355556 1.21644444\n",
      " 1.26933333 1.32222222 1.37511111 1.428     ]\n",
      " Isotope U235, template no-shielding,0 total spectra simulated \u0001b[2kkkb[2k\u0001b[2k\u0001b[2k\u0001b[2k\u0001b[2k\u0001b[2k\u0001b[2k\u0001b[2k\u0001b[2k\u0001b[2k\u0001b[2k\u0001b[2k\u0001b[2k\u0001b[2k\u0001b[2k\u0001b[2k\u0001b[2k\u0001b[2k\u0001b[2k\u0001b[2k\u0001b[2k\u0001b[2k\u0001b[2k\u0001b[2k\u0001b[2k\u0001b[2k\u0001b[2k\u0001b[2k\u0001b[2k\u0001b[2k\u0001b[2k\u0001b[2k\u0001b[2k\u0001b[2k\u0001b[2k\u0001b[2k\u0001b[2k\u0001b[2k\u0001b[2k\u0001b[2k\u0001b[2k\u0001b[2k\u0001b[2k\u0001b[2k\u0001b[2k\u0001b[2k\u0001b[2k\u0001b[2k\u0001b[2k\u0001b[2k\u0001b[2k\u0001b[2k\u0001b[2k\u0001b[2k\u0001b[2k\u0001b[2k\u0001b[2k\u0001b[2k\u0001b[2k\u0001b[2k\u0001b[2k\u0001b[2k\u0001b[2k\u0001b[2k\u0001b[2k\u0001b[2k\u0001b[2k\u0001b[2k\u0001b[2k\u0001b[2k\u0001b[2k\u0001b[2k\u0001b[2k\u0001b[2k\u0001b[2k\u0001b[2k\u0001b[2k\u0001b[2k\u0001b[2k\u0001b[2k\u0001b[2k\u0001b[2k\u0001b[2k\u0001b[2k\u0001b[2k\u0001b[2k\u0001b[2k\u0001b[2k\u0001b[2k\u0001b[2k\u0001b[2k\u0001b[2k\u0001b[2k\u0001b[2k\u0001b[2k\u0001b[2k\u0001b[2k\u0001b[2k\u0001b[2k\u0001b[2k\u0001b[2k\u0001b[2k\u0001b[2k\u0001b[2k\u0001b[2k\u0001b[2k\u0001b[2k\u0001b[2k\u0001b[2k\u0001b[2k\u0001b[2k\u0001b[2k\u0001b[2k\u0001b[2k\u0001b[2k\u0001b[2k\u0001b[2k\u0001b[2k\u0001b[2k\u0001b[2k\u0001b[2k\u0001b[2k\u0001b[2k\u0001b[2k\u0001b[2k\u0001b[2k\u0001b[2k\u0001b[2k\u0001b[2k\u0001b[2k\u0001b[2k\u0001b[2k\u0001b[2k\u0001b[2k\u0001b[2k\u0001b[2k\u0001b[2k\u0001b[2k\u0001b[2k\u0001b[2k\u0001b[2k\u0001b[2k\u0001b[2k\u0001b[2k\u0001b[2k\u0001b[2k\u0001b[2k\u0001b[2k\u0001b[2k\u0001b[2k\u0001b[2k\u0001b[2k\u0001b[2k\u0001b[2k\u0001b[2k\u0001b[2k\u0001b[2k\u0001b[2k\u0001b[2k\u0001b[2k\u0001b[2k\u0001b[2k\u0001b[2k\u0001b[2k\u0001b[2k\u0001b[2k\u0001b[2k\u0001b[2k\u0001b[2k\u0001b[2k\u0001b[2k\u0001b[2k\u0001b[2k\u0001b[2k\u0001b[2k\u0001b[2k\u0001b[2k\u0001b[2k\u0001b[2k\u0001b[2k\u0001b[2k\u0001b[2k\u0001b[2k\u0001b[2k\u0001b[2k\u0001b[2k\u0001b[2k\u0001b[2k\u0001b[2k\u0001b[2k\u0001b[2k\u0001b[2k\u0001b[2k\u0001b[2k\u0001b[2k\u0001b[2k\u0001b[2k\u0001b[2k\u0001b[2k\u0001b[2k\u0001b[2k\u0001b[2k\u0001b[2k\u0001b[2k\u0001b[2k\u0001b[2k\u0001b[2k\u0001b[2k\u0001b[2k\u0001b[2k\u0001b[2k\u0001b[2k\u0001b[2k\u0001b[2k\u0001b[2k\u0001b[2k\u0001b[2k\u0001b[2k\u0001b[2k\u0001b[2k\u0001b[2k\u0001b[2k\u0001b[2k\u0001b[2k\u0001b[2k\u0001b[2k\u0001b[2k\u0001b[2k\u0001b[2k\u0001b[2kIsotope Se75, template no-shielding,0 total spectra simulated \u0001b[2kIsotope Se75, template no-shielding,0 total spectra simulated \u0001b[2k\u0001b[2k\u0001b[2k\u0001b[2k\u0001b[2k\u0001b[2k\u0001b[2k\u0001b[2k\u0001b[2k\u0001b[2k\u0001b[2k\u0001b[2k\u0001b[2k\u0001b[2k\u0001b[2k\u0001b[2k\u0001b[2k\u0001b[2k\u0001b[2k\u0001b[2k\u0001b[2k\u0001b[2k\u0001b[2k\u0001b[2k\u0001b[2k\u0001b[2k\u0001b[2k\u0001b[2k\u0001b[2k\u0001b[2k\u0001b[2k\u0001b[2k\u0001b[2k\u0001b[2k\u0001b[2k\u0001b[2k\u0001b[2k\u0001b[2k\u0001b[2k\u0001b[2kIsotope Tl201, template no-shielding,0 total spectra simulated \u0001b[2k\u0001b[2k\u0001b[2k\u0001b[2k\u0001b[2k\u0001b[2k\u0001b[2k\u0001b[2k\u0001b[2k\u0001b[2k\u0001b[2k\u0001b[2k\u0001b[2k\u0001b[2k\u0001b[2k\u0001b[2k\u0001b[2k\u0001b[2k\u0001b[2k\u0001b[2k\u0001b[2k\u0001b[2k\u0001b[2k\u0001b[2k\u0001b[2k\u0001b[2k\u0001b[2k\u0001b[2k\u0001b[2k\u0001b[2k\u0001b[2k\u0001b[2k\u0001b[2k\u0001b[2k\u0001b[2k\u0001b[2k\u0001b[2k"
     ]
    }
   ],
   "source": [
    "tmp = 10\n",
    "\n",
    "template_parameters = create_template_parameters(integration_time_range=[60,3600],\n",
    "                                                 integration_time_division=tmp,\n",
    "                                                 signal_to_background_range=[0.5,3],\n",
    "                                                 signal_to_background_division=tmp,\n",
    "                                                 calibration_range=[0.8,1.2],\n",
    "                                                 calibration_division=tmp,\n",
    "                                                 print_divisions=True,\n",
    "                                                 division_offset=False,\n",
    "                                                 )\n",
    "\n",
    "training_data, training_keys=simulate_template_dataset(isotope_list,\n",
    "                                                       spectral_template_settings,\n",
    "                                                       spectral_templates,\n",
    "                                                       template_parameters)"
   ]
  },
  {
   "cell_type": "code",
   "execution_count": 8,
   "metadata": {},
   "outputs": [
    {
     "name": "stdout",
     "output_type": "stream",
     "text": [
      "integration_times\n",
      "[  77.281758    121.80057934  191.96485057  302.54785366  476.83314672\n",
      "  751.51698173 1184.43480222 1866.73865635 2942.08951357]\n",
      "signal_to_backgrounds\n",
      "[0.55507123 0.67734507 0.82655398 1.00863137 1.23081767 1.50194826\n",
      " 1.83280483 2.23654413 2.72922111]\n",
      "calibrations\n",
      "[0.97844444 1.03133333 1.08422222 1.13711111 1.19       1.24288889\n",
      " 1.29577778 1.34866667 1.40155556]\n",
      " Isotope U235, template no-shielding,0 total spectra simulated \u0001b[2kkkb[2k\u0001b[2k\u0001b[2k\u0001b[2k\u0001b[2k\u0001b[2k\u0001b[2k\u0001b[2k\u0001b[2k\u0001b[2k\u0001b[2k\u0001b[2k\u0001b[2kIsotope Co57, template no-shielding,0 total spectra simulated \u0001b[2k\u0001b[2k\u0001b[2k\u0001b[2k\u0001b[2k\u0001b[2k\u0001b[2k\u0001b[2k\u0001b[2k\u0001b[2k\u0001b[2k\u0001b[2k\u0001b[2k\u0001b[2k\u0001b[2k\u0001b[2k\u0001b[2k\u0001b[2k\u0001b[2k\u0001b[2k\u0001b[2k\u0001b[2k\u0001b[2k\u0001b[2k\u0001b[2k\u0001b[2k\u0001b[2k\u0001b[2k\u0001b[2k\u0001b[2k\u0001b[2k\u0001b[2k\u0001b[2k\u0001b[2k\u0001b[2k\u0001b[2k\u0001b[2k\u0001b[2k\u0001b[2k\u0001b[2k\u0001b[2k\u0001b[2k\u0001b[2k\u0001b[2k\u0001b[2k\u0001b[2k\u0001b[2k\u0001b[2k\u0001b[2k\u0001b[2k\u0001b[2k\u0001b[2k\u0001b[2k\u0001b[2k\u0001b[2k\u0001b[2k\u0001b[2k\u0001b[2k\u0001b[2k\u0001b[2k\u0001b[2k\u0001b[2k\u0001b[2k\u0001b[2k\u0001b[2k\u0001b[2k\u0001b[2k\u0001b[2k\u0001b[2k\u0001b[2k\u0001b[2k\u0001b[2k\u0001b[2k\u0001b[2k\u0001b[2kIsotope In111, template no-shielding,0 total spectra simulated \u0001b[2k\u0001b[2k\u0001b[2k\u0001b[2k\u0001b[2kIsotope Ir192, template no-shielding,0 total spectra simulated \u0001b[2k\u0001b[2kIsotope Ir192, template no-shielding,0 total spectra simulated \u0001b[2k\u0001b[2k\u0001b[2k\u0001b[2k\u0001b[2k\u0001b[2k\u0001b[2k\u0001b[2k\u0001b[2k\u0001b[2k\u0001b[2k\u0001b[2k\u0001b[2k\u0001b[2k\u0001b[2k\u0001b[2k\u0001b[2k\u0001b[2k\u0001b[2k\u0001b[2k\u0001b[2k\u0001b[2k\u0001b[2k\u0001b[2kIsotope Mo99, template no-shielding,0 total spectra simulated \u0001b[2k\u0001b[2k\u0001b[2kIsotope Np237, template no-shielding,0 total spectra simulated \u0001b[2k\u0001b[2k\u0001b[2k\u0001b[2k\u0001b[2k\u0001b[2k\u0001b[2k\u0001b[2k\u0001b[2k\u0001b[2k\u0001b[2k\u0001b[2k\u0001b[2k\u0001b[2k\u0001b[2k\u0001b[2k\u0001b[2k\u0001b[2k\u0001b[2k\u0001b[2k\u0001b[2k\u0001b[2k\u0001b[2k\u0001b[2k\u0001b[2k\u0001b[2k\u0001b[2k\u0001b[2k\u0001b[2k\u0001b[2k\u0001b[2kIsotope Ra226, template no-shielding,0 total spectra simulated \u0001b[2k\u0001b[2kIsotope Ra226, template no-shielding,0 total spectra simulated \u0001b[2k\u0001b[2k\u0001b[2k\u0001b[2k\u0001b[2k\u0001b[2k\u0001b[2k\u0001b[2k\u0001b[2k\u0001b[2k\u0001b[2k\u0001b[2k\u0001b[2k\u0001b[2k\u0001b[2k\u0001b[2k\u0001b[2k\u0001b[2k\u0001b[2k\u0001b[2k\u0001b[2k\u0001b[2k\u0001b[2k\u0001b[2k\u0001b[2k\u0001b[2k\u0001b[2k\u0001b[2k\u0001b[2k\u0001b[2k\u0001b[2k\u0001b[2k\u0001b[2k\u0001b[2k\u0001b[2k\u0001b[2k\u0001b[2k\u0001b[2k\u0001b[2k\u0001b[2k\u0001b[2k\u0001b[2k\u0001b[2k\u0001b[2k\u0001b[2k\u0001b[2k\u0001b[2k\u0001b[2k\u0001b[2k\u0001b[2k\u0001b[2kIsotope U233, template no-shielding,0 total spectra simulated \u0001b[2k\u0001b[2k\u0001b[2k\u0001b[2k\u0001b[2k\u0001b[2k\u0001b[2k\u0001b[2k\u0001b[2k\u0001b[2k\u0001b[2k\u0001b[2k"
     ]
    }
   ],
   "source": [
    "template_parameters = create_template_parameters(integration_time_range=[60,3600],\n",
    "                                                 integration_time_division=tmp,\n",
    "                                                 signal_to_background_range=[0.5,3],\n",
    "                                                 signal_to_background_division=tmp,\n",
    "                                                 calibration_range=[0.8,1.2],\n",
    "                                                 calibration_division=tmp,\n",
    "                                                 print_divisions=True,\n",
    "                                                 division_offset=True,\n",
    "                                                 )\n",
    "\n",
    "testing_data, testing_keys=simulate_template_dataset(isotope_list,\n",
    "                                                     spectral_template_settings,\n",
    "                                                     spectral_templates,\n",
    "                                                     template_parameters)"
   ]
  },
  {
   "cell_type": "markdown",
   "metadata": {},
   "source": [
    "#### Define scaling pipeline, binarize training keys"
   ]
  },
  {
   "cell_type": "code",
   "execution_count": 9,
   "metadata": {},
   "outputs": [],
   "source": [
    "scaler=make_pipeline(FunctionTransformer(np.log1p, validate=True))\n",
    "mlb=LabelBinarizer()\n",
    "training_keys_binarized = mlb.fit_transform(training_keys.reshape([training_keys.shape[0],1]))\n",
    "testing_keys_binarized = mlb.transform(testing_keys.reshape([testing_keys.shape[0],1]))"
   ]
  },
  {
   "cell_type": "markdown",
   "metadata": {
    "collapsed": true
   },
   "source": [
    "### Train and save model"
   ]
  },
  {
   "cell_type": "raw",
   "metadata": {},
   "source": [
    "#### Create model features"
   ]
  },
  {
   "cell_type": "raw",
   "metadata": {},
   "source": [
    "model_features = dnn_model_features(learining_rate = 4.55e-3,\n",
    "                                    l2_regularization_scale = 1e-1,\n",
    "                                    dropout_probability = 0.96,\n",
    "                                    batch_size = 810,\n",
    "                                    output_size = 29,\n",
    "                                    dense_nodes = [450,200],\n",
    "                                    scaler = scaler)\n",
    "\n",
    "with open('./final-models/dnn_features', 'wb+') as f:\n",
    "        pickle.dump(model_features,f)\n",
    "\n"
   ]
  },
  {
   "cell_type": "markdown",
   "metadata": {},
   "source": [
    "#### Load best network features from hyperparmater search"
   ]
  },
  {
   "cell_type": "code",
   "execution_count": 11,
   "metadata": {},
   "outputs": [],
   "source": [
    "errors = np.load('../hyperparameter_search/hyperparameter-search-results/final_test_errors_vanilla_dnn.npy')\n",
    "best_network_arg = np.argmin(errors)\n",
    "\n",
    "model_id='vanilla_dnn_'+str(best_network_arg)+'_features'\n",
    "with open('../hyperparameter_search/hyperparameter-search-results/'+model_id,\"rb\" ) as f:\n",
    "        model_features=pickle.load(f)\n"
   ]
  },
  {
   "cell_type": "code",
   "execution_count": 13,
   "metadata": {},
   "outputs": [
    {
     "name": "stdout",
     "output_type": "stream",
     "text": [
      "Epoch 1: CostFunc loss: 5.14 5.11, EarlyStop loss: 0.77 0.76\n",
      "Epoch 2: CostFunc loss: 3.76 3.71, EarlyStop loss: 0.57 0.55\n",
      "Epoch 3: CostFunc loss: 3.03 2.97, EarlyStop loss: 0.41 0.37\n",
      "Epoch 4: CostFunc loss: 2.55 2.48, EarlyStop loss: 0.35 0.30\n",
      "Epoch 5: CostFunc loss: 2.30 2.22, EarlyStop loss: 0.39 0.35\n",
      "Epoch 6: CostFunc loss: 1.96 1.88, EarlyStop loss: 0.26 0.21\n",
      "Epoch 7: CostFunc loss: 1.78 1.70, EarlyStop loss: 0.22 0.17\n",
      "Epoch 8: CostFunc loss: 1.57 1.49, EarlyStop loss: 0.17 0.13\n",
      "Epoch 9: CostFunc loss: 1.49 1.41, EarlyStop loss: 0.18 0.14\n",
      "Epoch 10: CostFunc loss: 1.38 1.30, EarlyStop loss: 0.17 0.13\n",
      "Epoch 11: CostFunc loss: 1.34 1.26, EarlyStop loss: 0.19 0.15\n",
      "Epoch 12: CostFunc loss: 1.24 1.16, EarlyStop loss: 0.14 0.10\n",
      "Epoch 13: CostFunc loss: 1.21 1.14, EarlyStop loss: 0.15 0.11\n",
      "Epoch 14: CostFunc loss: 1.16 1.09, EarlyStop loss: 0.17 0.13\n",
      "Epoch 15: CostFunc loss: 1.08 1.01, EarlyStop loss: 0.12 0.08\n",
      "Epoch 16: CostFunc loss: 1.04 0.96, EarlyStop loss: 0.11 0.08\n",
      "Epoch 17: CostFunc loss: 1.02 0.95, EarlyStop loss: 0.13 0.09\n",
      "Epoch 18: CostFunc loss: 1.00 0.92, EarlyStop loss: 0.13 0.09\n",
      "Epoch 19: CostFunc loss: 0.92 0.85, EarlyStop loss: 0.09 0.06\n",
      "Epoch 20: CostFunc loss: 0.91 0.84, EarlyStop loss: 0.09 0.05\n",
      "Epoch 21: CostFunc loss: 0.86 0.80, EarlyStop loss: 0.08 0.05\n",
      "Epoch 22: CostFunc loss: 0.87 0.81, EarlyStop loss: 0.11 0.07\n",
      "Epoch 23: CostFunc loss: 0.83 0.76, EarlyStop loss: 0.08 0.05\n",
      "Epoch 24: CostFunc loss: 0.82 0.76, EarlyStop loss: 0.10 0.07\n",
      "Epoch 25: CostFunc loss: 0.83 0.77, EarlyStop loss: 0.09 0.05\n",
      "Test error at early stop: Objectives fctn: 0.96 Early stop fctn: 0.96\n",
      "Epoch 1: CostFunc loss: 5.15 5.12, EarlyStop loss: 0.76 0.74\n",
      "Epoch 2: CostFunc loss: 3.82 3.77, EarlyStop loss: 0.60 0.58\n",
      "Epoch 3: CostFunc loss: 3.08 3.02, EarlyStop loss: 0.46 0.44\n",
      "Epoch 4: CostFunc loss: 2.59 2.52, EarlyStop loss: 0.36 0.32\n",
      "Epoch 5: CostFunc loss: 2.21 2.14, EarlyStop loss: 0.28 0.23\n",
      "Epoch 6: CostFunc loss: 1.96 1.89, EarlyStop loss: 0.28 0.24\n",
      "Epoch 7: CostFunc loss: 1.76 1.68, EarlyStop loss: 0.21 0.16\n",
      "Epoch 8: CostFunc loss: 1.59 1.51, EarlyStop loss: 0.19 0.14\n",
      "Epoch 9: CostFunc loss: 1.51 1.43, EarlyStop loss: 0.19 0.14\n",
      "Epoch 10: CostFunc loss: 1.45 1.37, EarlyStop loss: 0.20 0.16\n",
      "Epoch 11: CostFunc loss: 1.35 1.27, EarlyStop loss: 0.19 0.14\n",
      "Epoch 12: CostFunc loss: 1.27 1.19, EarlyStop loss: 0.18 0.15\n",
      "Epoch 13: CostFunc loss: 1.26 1.18, EarlyStop loss: 0.19 0.15\n",
      "Epoch 14: CostFunc loss: 1.18 1.10, EarlyStop loss: 0.17 0.12\n",
      "Epoch 15: CostFunc loss: 1.06 0.99, EarlyStop loss: 0.12 0.08\n",
      "Epoch 16: CostFunc loss: 1.13 1.05, EarlyStop loss: 0.16 0.12\n",
      "Epoch 17: CostFunc loss: 1.06 0.98, EarlyStop loss: 0.14 0.10\n",
      "Epoch 18: CostFunc loss: 1.08 1.00, EarlyStop loss: 0.18 0.15\n",
      "Epoch 19: CostFunc loss: 0.94 0.87, EarlyStop loss: 0.10 0.07\n",
      "Epoch 20: CostFunc loss: 0.92 0.85, EarlyStop loss: 0.11 0.08\n",
      "Epoch 21: CostFunc loss: 0.89 0.82, EarlyStop loss: 0.09 0.06\n",
      "Epoch 22: CostFunc loss: 0.96 0.88, EarlyStop loss: 0.15 0.11\n",
      "Epoch 23: CostFunc loss: 0.85 0.78, EarlyStop loss: 0.10 0.07\n",
      "Epoch 24: CostFunc loss: 0.83 0.77, EarlyStop loss: 0.10 0.07\n",
      "Epoch 25: CostFunc loss: 0.89 0.81, EarlyStop loss: 0.13 0.09\n",
      "Test error at early stop: Objectives fctn: 1.05 Early stop fctn: 1.05\n",
      "Epoch 1: CostFunc loss: 5.14 5.12, EarlyStop loss: 0.79 0.78\n",
      "Epoch 2: CostFunc loss: 3.75 3.70, EarlyStop loss: 0.56 0.53\n",
      "Epoch 3: CostFunc loss: 3.05 2.98, EarlyStop loss: 0.50 0.46\n",
      "Epoch 4: CostFunc loss: 2.54 2.47, EarlyStop loss: 0.36 0.32\n",
      "Epoch 5: CostFunc loss: 2.18 2.10, EarlyStop loss: 0.28 0.23\n",
      "Epoch 6: CostFunc loss: 1.96 1.88, EarlyStop loss: 0.24 0.19\n",
      "Epoch 7: CostFunc loss: 1.76 1.68, EarlyStop loss: 0.23 0.18\n",
      "Epoch 8: CostFunc loss: 1.59 1.51, EarlyStop loss: 0.20 0.16\n",
      "Epoch 9: CostFunc loss: 1.49 1.40, EarlyStop loss: 0.19 0.14\n",
      "Epoch 10: CostFunc loss: 1.38 1.30, EarlyStop loss: 0.17 0.13\n",
      "Epoch 11: CostFunc loss: 1.36 1.27, EarlyStop loss: 0.19 0.14\n",
      "Epoch 12: CostFunc loss: 1.21 1.13, EarlyStop loss: 0.14 0.10\n",
      "Epoch 13: CostFunc loss: 1.16 1.08, EarlyStop loss: 0.14 0.10\n",
      "Epoch 14: CostFunc loss: 1.11 1.03, EarlyStop loss: 0.14 0.10\n",
      "Epoch 15: CostFunc loss: 1.09 1.01, EarlyStop loss: 0.13 0.09\n",
      "Epoch 16: CostFunc loss: 1.03 0.95, EarlyStop loss: 0.12 0.08\n",
      "Epoch 17: CostFunc loss: 1.05 0.97, EarlyStop loss: 0.14 0.10\n",
      "Epoch 18: CostFunc loss: 0.95 0.87, EarlyStop loss: 0.11 0.07\n",
      "Epoch 19: CostFunc loss: 0.95 0.87, EarlyStop loss: 0.12 0.09\n",
      "Epoch 20: CostFunc loss: 0.93 0.86, EarlyStop loss: 0.12 0.08\n",
      "Epoch 21: CostFunc loss: 0.86 0.79, EarlyStop loss: 0.08 0.05\n",
      "Epoch 22: CostFunc loss: 0.88 0.81, EarlyStop loss: 0.11 0.08\n",
      "Epoch 23: CostFunc loss: 0.85 0.78, EarlyStop loss: 0.10 0.06\n",
      "Epoch 24: CostFunc loss: 0.83 0.76, EarlyStop loss: 0.10 0.06\n",
      "Epoch 25: CostFunc loss: 0.80 0.73, EarlyStop loss: 0.09 0.05\n",
      "Test error at early stop: Objectives fctn: 0.95 Early stop fctn: 0.95\n",
      "Epoch 1: CostFunc loss: 5.20 5.17, EarlyStop loss: 0.75 0.74\n",
      "Epoch 2: CostFunc loss: 3.89 3.84, EarlyStop loss: 0.59 0.57\n",
      "Epoch 3: CostFunc loss: 3.08 3.02, EarlyStop loss: 0.39 0.34\n",
      "Epoch 4: CostFunc loss: 2.56 2.49, EarlyStop loss: 0.30 0.25\n",
      "Epoch 5: CostFunc loss: 2.20 2.13, EarlyStop loss: 0.28 0.23\n",
      "Epoch 6: CostFunc loss: 1.98 1.90, EarlyStop loss: 0.25 0.21\n",
      "Epoch 7: CostFunc loss: 1.78 1.70, EarlyStop loss: 0.21 0.16\n",
      "Epoch 8: CostFunc loss: 1.60 1.52, EarlyStop loss: 0.19 0.14\n",
      "Epoch 9: CostFunc loss: 1.50 1.42, EarlyStop loss: 0.19 0.15\n",
      "Epoch 10: CostFunc loss: 1.39 1.31, EarlyStop loss: 0.16 0.11\n",
      "Epoch 11: CostFunc loss: 1.31 1.23, EarlyStop loss: 0.16 0.12\n",
      "Epoch 12: CostFunc loss: 1.27 1.19, EarlyStop loss: 0.15 0.10\n",
      "Epoch 13: CostFunc loss: 1.17 1.09, EarlyStop loss: 0.13 0.09\n",
      "Epoch 14: CostFunc loss: 1.17 1.09, EarlyStop loss: 0.17 0.12\n",
      "Epoch 15: CostFunc loss: 1.12 1.04, EarlyStop loss: 0.15 0.10\n",
      "Epoch 16: CostFunc loss: 1.02 0.95, EarlyStop loss: 0.11 0.08\n",
      "Epoch 17: CostFunc loss: 0.99 0.92, EarlyStop loss: 0.11 0.08\n",
      "Epoch 18: CostFunc loss: 1.03 0.94, EarlyStop loss: 0.13 0.09\n",
      "Epoch 19: CostFunc loss: 0.97 0.89, EarlyStop loss: 0.13 0.09\n",
      "Epoch 20: CostFunc loss: 1.06 0.97, EarlyStop loss: 0.19 0.14\n",
      "Epoch 21: CostFunc loss: 0.92 0.85, EarlyStop loss: 0.11 0.08\n",
      "Epoch 22: CostFunc loss: 0.87 0.80, EarlyStop loss: 0.09 0.05\n",
      "Epoch 23: CostFunc loss: 0.81 0.75, EarlyStop loss: 0.07 0.04\n",
      "Epoch 24: CostFunc loss: 0.84 0.77, EarlyStop loss: 0.09 0.06\n",
      "Epoch 25: CostFunc loss: 0.81 0.74, EarlyStop loss: 0.09 0.06\n",
      "Test error at early stop: Objectives fctn: 0.95 Early stop fctn: 0.95\n",
      "Epoch 1: CostFunc loss: 5.21 5.18, EarlyStop loss: 0.77 0.75\n",
      "Epoch 2: CostFunc loss: 3.88 3.83, EarlyStop loss: 0.54 0.51\n",
      "Epoch 3: CostFunc loss: 3.10 3.04, EarlyStop loss: 0.38 0.33\n",
      "Epoch 4: CostFunc loss: 2.57 2.50, EarlyStop loss: 0.30 0.25\n",
      "Epoch 5: CostFunc loss: 2.25 2.18, EarlyStop loss: 0.25 0.19\n",
      "Epoch 6: CostFunc loss: 1.94 1.87, EarlyStop loss: 0.21 0.16\n",
      "Epoch 7: CostFunc loss: 1.75 1.67, EarlyStop loss: 0.20 0.16\n",
      "Epoch 8: CostFunc loss: 1.61 1.53, EarlyStop loss: 0.20 0.16\n",
      "Epoch 9: CostFunc loss: 1.49 1.42, EarlyStop loss: 0.15 0.11\n",
      "Epoch 10: CostFunc loss: 1.41 1.33, EarlyStop loss: 0.17 0.13\n",
      "Epoch 11: CostFunc loss: 1.45 1.35, EarlyStop loss: 0.22 0.17\n",
      "Epoch 12: CostFunc loss: 1.25 1.18, EarlyStop loss: 0.16 0.11\n",
      "Epoch 13: CostFunc loss: 1.19 1.12, EarlyStop loss: 0.15 0.11\n",
      "Epoch 14: CostFunc loss: 1.11 1.04, EarlyStop loss: 0.11 0.07\n",
      "Epoch 15: CostFunc loss: 1.10 1.02, EarlyStop loss: 0.12 0.08\n",
      "Epoch 16: CostFunc loss: 1.03 0.96, EarlyStop loss: 0.10 0.07\n",
      "Epoch 17: CostFunc loss: 0.98 0.91, EarlyStop loss: 0.10 0.06\n",
      "Epoch 18: CostFunc loss: 0.98 0.91, EarlyStop loss: 0.11 0.07\n",
      "Epoch 19: CostFunc loss: 0.95 0.88, EarlyStop loss: 0.10 0.06\n",
      "Epoch 20: CostFunc loss: 0.95 0.88, EarlyStop loss: 0.10 0.06\n",
      "Epoch 21: CostFunc loss: 0.87 0.80, EarlyStop loss: 0.08 0.04\n",
      "Epoch 22: CostFunc loss: 0.92 0.85, EarlyStop loss: 0.10 0.06\n",
      "Epoch 23: CostFunc loss: 0.83 0.77, EarlyStop loss: 0.07 0.04\n",
      "Epoch 24: CostFunc loss: 0.83 0.77, EarlyStop loss: 0.09 0.06\n",
      "Epoch 25: CostFunc loss: 0.80 0.73, EarlyStop loss: 0.07 0.04\n",
      "Test error at early stop: Objectives fctn: 0.96 Early stop fctn: 0.96\n"
     ]
    }
   ],
   "source": [
    "num_epochs=20\n",
    "model_features.scaler.fit(training_data)\n",
    "train_dataset = (training_data, training_keys_binarized)\n",
    "test_dataset = (testing_data, testing_keys_binarized)\n",
    "\n",
    "num_networks_to_train = 5\n",
    "\n",
    "\n",
    "for network_id in range(num_networks_to_train):\n",
    "\n",
    "    tf.reset_default_graph()\n",
    "    optimizer = tf.train.AdamOptimizer(model_features.learining_rate)\n",
    "    model = DNN(model_features)\n",
    "    \n",
    "    checkpoint = tf.train.Checkpoint(optimizer=optimizer, model=model)\n",
    "    costfunction_errors, earlystop_errors = train_earlystop(\n",
    "        training_data=training_data,\n",
    "        training_keys=training_keys_binarized,\n",
    "        testing_data=testing_data,\n",
    "        testing_keys=testing_keys_binarized,\n",
    "        model=model,\n",
    "        optimizer=optimizer,\n",
    "        num_epochs=25,\n",
    "        obj_cost=model.cross_entropy,\n",
    "        earlystop_cost_fn=model.f1_error,\n",
    "        earlystop_patience=10,\n",
    "        verbose=True,\n",
    "        fit_batch_verbose=1,\n",
    "        data_augmentation=model.poisson_data_augmentation)\n",
    "\n",
    "    checkpoint_directory = \"final-models\"\n",
    "    model.save_weights('./final-models/DNN_checkpoint_'+str(network_id))"
   ]
  },
  {
   "cell_type": "code",
   "execution_count": null,
   "metadata": {},
   "outputs": [],
   "source": []
  }
 ],
 "metadata": {
  "kernelspec": {
   "display_name": "Environment (conda_tensorflow_p36)",
   "language": "python",
   "name": "conda_tensorflow_p36"
  },
  "language_info": {
   "codemirror_mode": {
    "name": "ipython",
    "version": 3
   },
   "file_extension": ".py",
   "mimetype": "text/x-python",
   "name": "python",
   "nbconvert_exporter": "python",
   "pygments_lexer": "ipython3",
   "version": "3.6.5"
  }
 },
 "nbformat": 4,
 "nbformat_minor": 1
}
