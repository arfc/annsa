{
 "cells": [
  {
   "cell_type": "code",
   "execution_count": null,
   "metadata": {},
   "outputs": [],
   "source": [
    "GPU_device_id = str(7)\n",
    "model_id_save_as = 'learningcurve-dae-full-final'\n",
    "architecture_id = 'final-models/dae-full-final'\n",
    "model_class_id = 'DNN'\n",
    "testing_dataset_id = '../../source-interdiction/dataset_generation/validation_dataset_full_200keV_log10time_10.npy'\n",
    "weight_id = '../final_training_notebooks/final-models/dae-full-final_pretrained_checkpoint_0'\n",
    "training_dataset_id = '../../source-interdiction/dataset_generation/testing_dataset_full_200keV_log10time_10000.npy'\n",
    "difficulty_setting = 'full'\n",
    "dnn_features_filename = '../hyperparameter_search/hyperparameter-search-results/DNN-kfoldsfull-final-5_32_dae_features'\n",
    "\n",
    "train_sizes = [50, 100, 500, 1000, 5000, 10000, 15000, 20000]\n",
    "fit_batch_verbose = 10\n",
    "earlystop_patience = 50\n",
    "num_epochs = 2000\n",
    "dense_nodes = []"
   ]
  },
  {
   "cell_type": "code",
   "execution_count": null,
   "metadata": {},
   "outputs": [],
   "source": [
    "from learningcurvetest import training_wrapper"
   ]
  },
  {
   "cell_type": "code",
   "execution_count": null,
   "metadata": {
    "scrolled": false
   },
   "outputs": [],
   "source": [
    "training_wrapper(GPU_device_id = GPU_device_id,\n",
    "                 model_id_save_as = model_id_save_as,\n",
    "                 architecture_id = architecture_id,\n",
    "                 model_class_id = model_class_id,\n",
    "                 testing_dataset_id = testing_dataset_id,\n",
    "                 train_sizes = train_sizes,\n",
    "                 fit_batch_verbose = fit_batch_verbose,\n",
    "                 training_dataset_id = training_dataset_id,\n",
    "                 difficulty_setting = difficulty_setting,\n",
    "                 num_epochs=num_epochs,\n",
    "                 earlystop_patience=earlystop_patience,\n",
    "                 dense_nodes=dense_nodes,\n",
    "                 dnn_features_filename=dnn_features_filename,)"
   ]
  },
  {
   "cell_type": "code",
   "execution_count": null,
   "metadata": {},
   "outputs": [],
   "source": []
  }
 ],
 "metadata": {
  "kernelspec": {
   "display_name": "Environment (conda_tensorflow_p36)",
   "language": "python",
   "name": "conda_tensorflow_p36"
  },
  "language_info": {
   "codemirror_mode": {
    "name": "ipython",
    "version": 3
   },
   "file_extension": ".py",
   "mimetype": "text/x-python",
   "name": "python",
   "nbconvert_exporter": "python",
   "pygments_lexer": "ipython3",
   "version": "3.6.7"
  }
 },
 "nbformat": 4,
 "nbformat_minor": 1
}
