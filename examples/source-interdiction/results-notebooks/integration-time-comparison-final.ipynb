{
 "cells": [
  {
   "cell_type": "code",
   "execution_count": 1,
   "metadata": {},
   "outputs": [],
   "source": [
    "import matplotlib.pyplot as plt\n",
    "import os\n",
    "os.environ[\"CUDA_DEVICE_ORDER\"]=\"PCI_BUS_ID\"   # see issue #152\n",
    "os.environ[\"CUDA_VISIBLE_DEVICES\"]=\"\"\n",
    "\n",
    "from sklearn.pipeline import make_pipeline\n",
    "from sklearn.preprocessing import FunctionTransformer, LabelBinarizer\n",
    "from sklearn.model_selection import StratifiedKFold\n",
    "import tensorflow as tf\n",
    "import pickle\n",
    "import numpy as np\n",
    "import pandas as pd\n",
    "\n",
    "from template_sampling import *"
   ]
  },
  {
   "cell_type": "code",
   "execution_count": 2,
   "metadata": {},
   "outputs": [],
   "source": [
    "import tensorflow.contrib.eager as tfe"
   ]
  },
  {
   "cell_type": "code",
   "execution_count": 3,
   "metadata": {},
   "outputs": [],
   "source": [
    "tf.enable_eager_execution()"
   ]
  },
  {
   "cell_type": "markdown",
   "metadata": {},
   "source": [
    "#### Import model, training function "
   ]
  },
  {
   "cell_type": "code",
   "execution_count": 4,
   "metadata": {},
   "outputs": [],
   "source": [
    "from annsa.model_classes import (DNN,\n",
    "                                 CNN1D,\n",
    "                                 save_model,\n",
    "                                 train_earlystop)"
   ]
  },
  {
   "cell_type": "markdown",
   "metadata": {},
   "source": [
    "#### Load DNN Easy"
   ]
  },
  {
   "cell_type": "code",
   "execution_count": 6,
   "metadata": {},
   "outputs": [
    {
     "data": {
      "text/plain": [
       "<tensorflow.python.training.checkpointable.util.CheckpointLoadStatus at 0x7fed8ec39c50>"
      ]
     },
     "execution_count": 6,
     "metadata": {},
     "output_type": "execute_result"
    }
   ],
   "source": [
    "model_id='DNN-kfoldseasy-1_15_dae_features'\n",
    "with open('../hyperparameter_search/hyperparameter-search-results/'+model_id,\"rb\" ) as f:\n",
    "        model_features=pickle.load(f)\n",
    "model_features.output_function = None\n",
    "        \n",
    "DNNeasy_model = DNN(model_features)\n",
    "DNNeasy_model.load_weights('../final_training_notebooks/final-models/DNN_onlinedataaugeasy_checkpoint_0')"
   ]
  },
  {
   "cell_type": "markdown",
   "metadata": {},
   "source": [
    "#### Load DNN Full"
   ]
  },
  {
   "cell_type": "code",
   "execution_count": 9,
   "metadata": {},
   "outputs": [
    {
     "data": {
      "text/plain": [
       "<tensorflow.python.training.checkpointable.util.CheckpointLoadStatus at 0x7fed8eca82b0>"
      ]
     },
     "execution_count": 9,
     "metadata": {},
     "output_type": "execute_result"
    }
   ],
   "source": [
    "model_id='DNN-kfoldsfull_20_dae_features'\n",
    "with open('../hyperparameter_search/hyperparameter-search-results/'+model_id,\"rb\" ) as f:\n",
    "        model_features=pickle.load(f)\n",
    "model_features.output_function = None\n",
    "DNNfull_model = DNN(model_features)\n",
    "DNNfull_model.load_weights('../final_training_notebooks/final-models/DNN_onlinedataaugfull_checkpoint_0')"
   ]
  },
  {
   "cell_type": "markdown",
   "metadata": {},
   "source": [
    "#### Load CNN Easy"
   ]
  },
  {
   "cell_type": "code",
   "execution_count": 10,
   "metadata": {},
   "outputs": [
    {
     "data": {
      "text/plain": [
       "<tensorflow.python.training.checkpointable.util.CheckpointLoadStatus at 0x7fed8ecb4f28>"
      ]
     },
     "execution_count": 10,
     "metadata": {},
     "output_type": "execute_result"
    }
   ],
   "source": [
    "model_id='CNN-kfoldseasy_1'\n",
    "with open('../hyperparameter_search/hyperparameter-search-results/'+model_id,\"rb\" ) as f:\n",
    "        model_features=pickle.load(f)\n",
    "\n",
    "CNN1Deasy_model = CNN1D(model_features)\n",
    "CNN1Deasy_model.load_weights('../final_training_notebooks/final-models/CNN_onlinedataaugeasy_updates_checkpoint_0')"
   ]
  },
  {
   "cell_type": "markdown",
   "metadata": {},
   "source": [
    "#### Load CNN Full"
   ]
  },
  {
   "cell_type": "code",
   "execution_count": 11,
   "metadata": {},
   "outputs": [
    {
     "data": {
      "text/plain": [
       "<tensorflow.python.training.checkpointable.util.CheckpointLoadStatus at 0x7fed8ed59358>"
      ]
     },
     "execution_count": 11,
     "metadata": {},
     "output_type": "execute_result"
    }
   ],
   "source": [
    "model_id='CNN-kfoldseasy_1'\n",
    "with open('../hyperparameter_search/hyperparameter-search-results/'+model_id,\"rb\" ) as f:\n",
    "        model_features=pickle.load(f)\n",
    "        \n",
    "CNN1Dfull_model = CNN1D(model_features)\n",
    "CNN1Dfull_model.load_weights('../final_training_notebooks/final-models/CNN_onlinedataaugeasy_updates_checkpoint_1')"
   ]
  },
  {
   "cell_type": "markdown",
   "metadata": {},
   "source": [
    "### Load CNN and DNN trained with log-distributed counts"
   ]
  },
  {
   "cell_type": "code",
   "execution_count": 12,
   "metadata": {},
   "outputs": [
    {
     "data": {
      "text/plain": [
       "<tensorflow.python.training.checkpointable.util.CheckpointLoadStatus at 0x7fed8ed6d6d8>"
      ]
     },
     "execution_count": 12,
     "metadata": {},
     "output_type": "execute_result"
    }
   ],
   "source": [
    "model_id='CNN-kfoldseasy_1'\n",
    "with open('../hyperparameter_search/hyperparameter-search-results/'+model_id,\"rb\" ) as f:\n",
    "        model_features=pickle.load(f)\n",
    "CNN1Deasy_model_log = CNN1D(model_features)\n",
    "CNN1Deasy_model_log.load_weights('../final_training_notebooks/final-models/CNN_onlinedataaugeasy_updates_log10integrationtime_checkpoint_0')"
   ]
  },
  {
   "cell_type": "code",
   "execution_count": 13,
   "metadata": {},
   "outputs": [
    {
     "data": {
      "text/plain": [
       "<tensorflow.python.training.checkpointable.util.CheckpointLoadStatus at 0x7fed8ed80128>"
      ]
     },
     "execution_count": 13,
     "metadata": {},
     "output_type": "execute_result"
    }
   ],
   "source": [
    "model_id='CNN-kfoldseasy-1_8_dae_features'\n",
    "with open('../hyperparameter_search/hyperparameter-search-results/'+model_id,\"rb\" ) as f:\n",
    "        model_features=pickle.load(f)\n",
    "\n",
    "CNN1Dfull_model_log = CNN1D(model_features)\n",
    "CNN1Dfull_model_log.load_weights('../final_training_notebooks/final-models/CNN_onlinedataaugfull_log10integrationtime_checkpoint_0')"
   ]
  },
  {
   "cell_type": "code",
   "execution_count": 16,
   "metadata": {},
   "outputs": [
    {
     "data": {
      "text/plain": [
       "<tensorflow.python.training.checkpointable.util.CheckpointLoadStatus at 0x7fed8ec15278>"
      ]
     },
     "execution_count": 16,
     "metadata": {},
     "output_type": "execute_result"
    }
   ],
   "source": [
    "model_id='DNN-kfoldseasy-1_15_dae_features'\n",
    "with open('../hyperparameter_search/hyperparameter-search-results/'+model_id,\"rb\" ) as f:\n",
    "        model_features=pickle.load(f)\n",
    "model_features.output_function = None\n",
    "DNNeasy_model_log = DNN(model_features)\n",
    "DNNeasy_model_log.load_weights('../final_training_notebooks/final-models/DNN_onlinedataaugeasy_log10integrationtime_checkpoint_0')"
   ]
  },
  {
   "cell_type": "code",
   "execution_count": 17,
   "metadata": {},
   "outputs": [
    {
     "data": {
      "text/plain": [
       "<tensorflow.python.training.checkpointable.util.CheckpointLoadStatus at 0x7fed8ec15f60>"
      ]
     },
     "execution_count": 17,
     "metadata": {},
     "output_type": "execute_result"
    }
   ],
   "source": [
    "model_id='DNN-kfoldsfull_20_dae_features'\n",
    "with open('../hyperparameter_search/hyperparameter-search-results/'+model_id,\"rb\" ) as f:\n",
    "        model_features=pickle.load(f)\n",
    "model_features.output_function = None\n",
    "DNNfull_model_log = DNN(model_features)\n",
    "DNNfull_model_log.load_weights('../final_training_notebooks/final-models/DNN_onlinedataaugfull_log10integrationtime_checkpoint_0')"
   ]
  },
  {
   "cell_type": "markdown",
   "metadata": {},
   "source": [
    "### Compare integration time and calibration changes in real spectra"
   ]
  },
  {
   "cell_type": "code",
   "execution_count": 18,
   "metadata": {},
   "outputs": [],
   "source": [
    "from annsa import read_spectrum"
   ]
  },
  {
   "cell_type": "code",
   "execution_count": 19,
   "metadata": {},
   "outputs": [],
   "source": [
    "def read_measured_spectra(isotope,\n",
    "                          signal2background,\n",
    "                          measured_spectra):\n",
    "\n",
    "    for voltage_key in measured_spectra:\n",
    "        for k in range(30): \n",
    "            test = read_spectrum('../training_testing_data/'+isotope+'_SB-'+signal2background+'/detector129_'+\n",
    "                                 voltage_key+'_10s_'+isotope+'_'+'{:03d}'.format(k)+'.Spe')\n",
    "            measured_spectra[voltage_key].append(test)\n",
    "    \n",
    "    return measured_spectra"
   ]
  },
  {
   "cell_type": "code",
   "execution_count": 20,
   "metadata": {},
   "outputs": [],
   "source": [
    "all_spectra = {}"
   ]
  },
  {
   "cell_type": "code",
   "execution_count": 21,
   "metadata": {},
   "outputs": [],
   "source": [
    "\n",
    "\n",
    "for isotope in ['co60', 'eu152', 'cs137']:\n",
    "    measured_spectra = {'720v' : [],\n",
    "                    '745v' : [],\n",
    "                    '770v' : [],\n",
    "                    '795v' : [],\n",
    "                    '820v' : [],\n",
    "                   }\n",
    "    all_spectra[isotope+'_1'] = read_measured_spectra(isotope = isotope,\n",
    "                                                  signal2background = '1.0',\n",
    "                                                  measured_spectra = measured_spectra)\n",
    "    measured_spectra = {'720v' : [],\n",
    "                        '745v' : [],\n",
    "                        '770v' : [],\n",
    "                        '795v' : [],\n",
    "                        '820v' : [],\n",
    "                       }\n",
    "    all_spectra[isotope+'_05'] = read_measured_spectra(isotope = isotope,\n",
    "                                    signal2background = '0.5',\n",
    "                                    measured_spectra = measured_spectra)\n",
    "\n",
    "isotope = 'ba133'\n",
    "measured_spectra = {'720v' : [],\n",
    "                    '745v' : [],\n",
    "                    '770v' : [],\n",
    "                    '795v' : [],\n",
    "                    '820v' : [],\n",
    "                   }\n",
    "all_spectra[isotope+'_1'] = read_measured_spectra(isotope = isotope,\n",
    "                                signal2background = '1.0',\n",
    "                                measured_spectra = measured_spectra)\n",
    "measured_spectra = {'720v' : [],\n",
    "                    '745v' : [],\n",
    "                    '770v' : [],\n",
    "                    '820v' : [],\n",
    "                   }\n",
    "all_spectra[isotope+'_05'] = read_measured_spectra(isotope = isotope,\n",
    "                                signal2background = '0.5',\n",
    "                                measured_spectra = measured_spectra)"
   ]
  },
  {
   "cell_type": "code",
   "execution_count": 43,
   "metadata": {},
   "outputs": [],
   "source": [
    "from template_sampling import rebin_spectrum"
   ]
  },
  {
   "cell_type": "code",
   "execution_count": 44,
   "metadata": {},
   "outputs": [],
   "source": [
    "def softmax(x):\n",
    "    \"\"\"Compute softmax values for each sets of scores in x.\"\"\"\n",
    "    e_x = np.exp(x - np.max(x))\n",
    "    return e_x / e_x.sum(axis=0)"
   ]
  },
  {
   "cell_type": "code",
   "execution_count": 45,
   "metadata": {},
   "outputs": [],
   "source": [
    "def rebin_spectrum(spectrum_template, a=0, b=1, c=0):\n",
    "    '''\n",
    "    Rebins spectrum based on quadratic rebinning.  Returns a 1024 channel spectrum.\n",
    "\n",
    "    inputs:\n",
    "        spectrum_template : vector (1x1194)\n",
    "            The spectrums template\n",
    "        a : float\n",
    "            Constant rebinning term\n",
    "        b : float\n",
    "            Linear rebinning term\n",
    "        c : float\n",
    "            Quadratic rebinning term\n",
    "    returns:\n",
    "        rebinned_spectrum_template : vector (1x1194)\n",
    "            The rebinned spectrum template\n",
    "    '''\n",
    "\n",
    "    new_bin_positions = a + b*np.arange(1024) + c*np.arange(1024)**2\n",
    "\n",
    "    spectrum_template = griddata(np.arange(1024),\n",
    "                                 spectrum_template,\n",
    "                                 new_bin_positions,\n",
    "                                 method='cubic',\n",
    "                                 fill_value=0.0)\n",
    "    spectrum_template[spectrum_template < 0] = 0\n",
    "    return spectrum_template[:1024]"
   ]
  },
  {
   "cell_type": "markdown",
   "metadata": {},
   "source": [
    "## create binarizer"
   ]
  },
  {
   "cell_type": "code",
   "execution_count": 161,
   "metadata": {},
   "outputs": [],
   "source": [
    "\n",
    "source_dataset = pd.read_csv('../../source-interdiction/training_testing_data/shielded_templates_200kev_dataset.csv')\n",
    "\n",
    "\n",
    "all_keys = source_dataset['isotope'].values\n",
    "\n",
    "mlb=LabelBinarizer()\n",
    "all_keys_binarized = mlb.fit_transform(all_keys.reshape([all_keys.shape[0],1]))"
   ]
  },
  {
   "cell_type": "code",
   "execution_count": null,
   "metadata": {},
   "outputs": [],
   "source": []
  },
  {
   "cell_type": "raw",
   "metadata": {},
   "source": [
    "720v, 745v, 770v, 795v, 820v"
   ]
  },
  {
   "cell_type": "code",
   "execution_count": 633,
   "metadata": {},
   "outputs": [
    {
     "name": "stdout",
     "output_type": "stream",
     "text": [
      "CNN1Deasy_model_log\n",
      "['60CO']\n",
      "CNN1Dfull_model_log\n",
      "['238U']\n",
      "DNNeasy_model_log\n",
      "['60CO']\n",
      "DNNfull_model_log\n",
      "['60CO']\n"
     ]
    },
    {
     "data": {
      "image/png": "[encoded data removed]",
      "text/plain": [
       "<Figure size 432x288 with 1 Axes>"
      ]
     },
     "metadata": {},
     "output_type": "display_data"
    }
   ],
   "source": [
    "test_spec = read_spectrum('../training_testing_data/Co60_20cm.Spe')\n",
    "test_spec = rebin_spectrum(test_spec,a=0.0,b=0.8,c=0.0)\n",
    "test_spec[0:10] = 0\n",
    "test_spec = test_spec/np.sum(test_spec)\n",
    "test_spec *= 1e4\n",
    "test_spec = np.random.poisson(test_spec)\n",
    "plt.plot(test_spec)\n",
    "\n",
    "model = CNN1Deasy_model_log\n",
    "print('CNN1Deasy_model_log')\n",
    "print(mlb.inverse_transform(model.forward_pass([test_spec],training=False).numpy()))\n",
    "\n",
    "model = CNN1Dfull_model_log\n",
    "print('CNN1Dfull_model_log')\n",
    "print(mlb.inverse_transform(model.forward_pass([test_spec],training=False).numpy()))\n",
    "\n",
    "model = DNNeasy_model_log\n",
    "print('DNNeasy_model_log')\n",
    "print(mlb.inverse_transform(model.forward_pass([test_spec],training=False).numpy()[0]))\n",
    "\n",
    "model = DNNfull_model_log\n",
    "print('DNNfull_model_log')\n",
    "print(mlb.inverse_transform(model.forward_pass([test_spec],training=False).numpy()[0]))\n"
   ]
  },
  {
   "cell_type": "code",
   "execution_count": null,
   "metadata": {},
   "outputs": [],
   "source": [
    "720v\n",
    "745v\n",
    "770v\n",
    "795v\n",
    "820v"
   ]
  },
  {
   "cell_type": "code",
   "execution_count": 634,
   "metadata": {},
   "outputs": [
    {
     "name": "stdout",
     "output_type": "stream",
     "text": [
      "['152EU' '152EU' '60CO' '60CO' '60CO' '60CO' '60CO' '60CO' '60CO' '152EU'\n",
      " '152EU' '152EU' '152EU' '60CO' '152EU' '60CO' '152EU' '152EU' '152EU'\n",
      " '152EU' '152EU' '152EU' '152EU' '152EU' '152EU' '152EU' '152EU' '152EU'\n",
      " '152EU' '152EU']\n",
      "['60CO' '60CO' '60CO' '152EU' '60CO' '152EU' '152EU' '152EU' '152EU'\n",
      " '177MLU' '177MLU' '177MLU' '177MLU' '177MLU' '177MLU' '177MLU' '177MLU'\n",
      " '177MLU' '177MLU' '177MLU' '177MLU' '177MLU' '177MLU' '177MLU' '177MLU'\n",
      " '177MLU' '177MLU' '177MLU' '177MLU' '177MLU']\n",
      "['99MO' '152EU' '152EU' '152EU' '152EU' '152EU' '152EU' '152EU' '152EU'\n",
      " '152EU' '152EU' '152EU' '152EU' '152EU' '152EU' '152EU' '152EU' '152EU'\n",
      " '152EU' '152EU' '152EU' '152EU' '152EU' '152EU' '152EU' '152EU' '152EU'\n",
      " '152EU' '152EU' '152EU']\n",
      "['99MO' '99MO' '99MO' '99MO' '99MO' '99MO' '99MO' '99MO' '99MO' '99MO'\n",
      " '99MO' '99MO' '99MO' '99MO' '99MO' '99MO' '99MO' '99MO' '99MO' '99MO'\n",
      " '99MO' '99MO' '99MO' '99MO' '99MO' '99MO' '99MO' '99MO' '99MO' '99MO']\n"
     ]
    },
    {
     "data": {
      "text/plain": [
       "<Figure size 720x360 with 0 Axes>"
      ]
     },
     "metadata": {},
     "output_type": "display_data"
    }
   ],
   "source": [
    "isotope = 'eu152'\n",
    "signal2background = '05'\n",
    "voltage_setting = '770v'\n",
    "\n",
    "\n",
    "spectrum_rebinned = np.cumsum([rebin_spectrum(spec,a=0.0,b=1.0,c=0.0) for spec in all_spectra[isotope+'_'+signal2background][voltage_setting]],axis=0)\n",
    "\n",
    "print(mlb.inverse_transform((CNN1Deasy_model_log.forward_pass(spectrum_rebinned,training=False).numpy()).reshape(30,30)))\n",
    "print(mlb.inverse_transform((CNN1Dfull_model_log.forward_pass(spectrum_rebinned,training=False).numpy()).reshape(30,30)))\n",
    "print(mlb.inverse_transform((DNNeasy_model_log.forward_pass(spectrum_rebinned,training=False).numpy()).reshape(30,30)))\n",
    "print(mlb.inverse_transform((DNNfull_model_log.forward_pass(spectrum_rebinned,training=False).numpy()).reshape(30,30)))"
   ]
  },
  {
   "cell_type": "code",
   "execution_count": 636,
   "metadata": {},
   "outputs": [
    {
     "data": {
      "text/plain": [
       "<matplotlib.legend.Legend at 0x7f1a0c47b908>"
      ]
     },
     "execution_count": 636,
     "metadata": {},
     "output_type": "execute_result"
    },
    {
     "data": {
      "image/png": "[encoded data removed]",
      "text/plain": [
       "<Figure size 720x360 with 1 Axes>"
      ]
     },
     "metadata": {},
     "output_type": "display_data"
    }
   ],
   "source": [
    "plt.figure(figsize=(10,5))\n",
    "\n",
    "#plt.plot(softmax(DNNeasy_model.forward_pass(spectrum_rebinned,training=False).numpy()).reshape(30,30)[:,24], label = 'DNN Easy')\n",
    "#plt.plot(softmax(DNNfull_model.forward_pass(spectrum_rebinned,training=False).numpy()).reshape(30,30)[:,24], label = 'DNN Full')\n",
    "\n",
    "#plt.plot(softmax(CNN1Deasy_model.forward_pass(spectrum_rebinned,training=False).numpy()).reshape(30,30)[:,24], label = 'CNN Easy')\n",
    "#plt.plot(softmax(CNN1Dfull_model.forward_pass(spectrum_rebinned,training=False).numpy()).reshape(30,30)[:,24], label = 'CNN Full')\n",
    "\n",
    "plt.plot(softmax(DNNeasy_model_log.forward_pass(spectrum_rebinned,training=False).numpy()).reshape(30,30)[:,24], label = 'DNN easy log')\n",
    "plt.plot(softmax(CNN1Deasy_model_log.forward_pass(spectrum_rebinned,training=False).numpy()).reshape(30,30)[:,24], label = 'CNN easy log')\n",
    "plt.plot(softmax(DNNfull_model_log.forward_pass(spectrum_rebinned,training=False).numpy()).reshape(30,30)[:,24], label = 'DNN full log')\n",
    "plt.plot(softmax(CNN1Dfull_model_log.forward_pass(spectrum_rebinned,training=False).numpy()).reshape(30,30)[:,24], label = 'CNN full log')\n",
    "\n",
    "\n",
    "# spectrum_rebinned = np.cumsum([rebin_spectrum(spec,a=0.0,b=1.0,c=0.005) for spec in measured_spectra['820v']],axis=0)\n",
    "\n",
    "plt.xlabel('Integration Time')\n",
    "plt.legend()"
   ]
  },
  {
   "cell_type": "code",
   "execution_count": null,
   "metadata": {},
   "outputs": [],
   "source": []
  },
  {
   "cell_type": "code",
   "execution_count": 651,
   "metadata": {},
   "outputs": [
    {
     "data": {
      "text/plain": [
       "array([ -8.29506759, -18.49234593,  -7.95927147, -16.06321371,\n",
       "         1.39857893, -22.38373674, -25.10825311,   7.34292871,\n",
       "        14.38898287, -20.07167785, -14.97177701, -13.4658005 ,\n",
       "       -15.42158251, -16.91899272,   1.52695107, -28.24334101,\n",
       "       -10.1150272 , -22.81670412, -17.30836351, -20.84622648,\n",
       "       -12.58228165, -18.50045425,  -8.87953018,  -6.16588856,\n",
       "         8.16558199, -19.0499366 ,  -1.03024496,  12.7260075 ,\n",
       "        -6.49796099,   3.71553201])"
      ]
     },
     "execution_count": 651,
     "metadata": {},
     "output_type": "execute_result"
    }
   ],
   "source": [
    "DNNeasy_model_log.forward_pass(spectrum_rebinned,training=False).numpy().reshape(30,30)[1]"
   ]
  },
  {
   "cell_type": "code",
   "execution_count": 669,
   "metadata": {},
   "outputs": [
    {
     "data": {
      "text/plain": [
       "array([0.9999746 , 0.72607143, 0.1141655 , 0.04329585, 0.03707715,\n",
       "       0.02559713, 0.03620172, 0.03193049, 0.03020811, 0.03412252,\n",
       "       0.0273562 , 0.02589161, 0.02456614, 0.02600169, 0.02782001,\n",
       "       0.0218718 , 0.02021963, 0.01889834, 0.01990636, 0.01999601,\n",
       "       0.02084127, 0.02428563, 0.05701158, 0.06346412, 0.08102927,\n",
       "       0.09487298, 0.11231738, 0.14606558, 0.3691371 , 0.6182426 ])"
      ]
     },
     "execution_count": 669,
     "metadata": {},
     "output_type": "execute_result"
    }
   ],
   "source": [
    "np.max(softmax(DNNeasy_model_log.forward_pass(spectrum_rebinned,training=False).numpy()).reshape(30,30),axis=1)"
   ]
  },
  {
   "cell_type": "code",
   "execution_count": 677,
   "metadata": {},
   "outputs": [
    {
     "data": {
      "text/plain": [
       "array([[9.15886728e-14, 2.07913304e-35, 2.91172059e-17, 6.86354726e-20,\n",
       "        1.79544282e-03, 3.29578036e-35, 6.92585759e-30, 4.30169386e-14,\n",
       "        3.68052114e-23, 2.45980637e-27, 3.32601842e-26, 4.94956543e-22,\n",
       "        6.40319911e-22, 7.10100135e-19, 1.93682958e-09, 1.05357024e-42,\n",
       "        7.40606579e-21, 1.39850124e-31, 1.41948333e-21, 3.73901130e-32,\n",
       "        1.07467478e-16, 4.62046720e-21, 5.92180204e-15, 3.56628720e-08,\n",
       "        1.88889980e-22, 1.02997370e-32, 4.95627663e-08, 2.94165287e-11,\n",
       "        5.32629090e-13, 1.88267212e-02],\n",
       "       [1.49453272e-13, 9.14602596e-35, 8.27829507e-17, 1.45713259e-19,\n",
       "        2.12413347e-03, 1.12579069e-34, 2.10314077e-29, 5.31633554e-13,\n",
       "        1.24613263e-19, 7.91448285e-27, 8.50252605e-26, 9.99267285e-22,\n",
       "        1.56233755e-21, 1.34117840e-18, 1.61657793e-08, 5.78180830e-42,\n",
       "        2.15865121e-20, 4.76460481e-31, 3.36090617e-21, 1.49527706e-31,\n",
       "        2.20887970e-16, 1.00272928e-20, 1.14332739e-14, 6.19915458e-08,\n",
       "        1.47854806e-18, 3.74125999e-32, 6.93268466e-08, 3.83110418e-10,\n",
       "        1.21464204e-12, 1.88983387e-02],\n",
       "       [2.21109404e-13, 3.32721661e-34, 1.04102199e-16, 5.06707097e-19,\n",
       "        2.63443114e-03, 5.85065116e-34, 1.67939963e-28, 1.11388411e-11,\n",
       "        1.28462012e-18, 3.72757999e-26, 2.58257449e-25, 2.42404905e-21,\n",
       "        5.44915266e-21, 5.47035660e-18, 3.16388339e-07, 5.32542031e-41,\n",
       "        3.79872743e-20, 2.67110220e-30, 1.53649873e-20, 6.92612723e-31,\n",
       "        5.78755921e-16, 4.23792631e-20, 1.57114128e-14, 8.20702495e-08,\n",
       "        4.58387529e-17, 1.62270758e-31, 7.40643026e-08, 4.37160513e-10,\n",
       "        1.57282689e-12, 1.91182368e-02],\n",
       "       [2.85836941e-13, 1.63541905e-33, 2.35349650e-16, 1.26123373e-18,\n",
       "        2.77103349e-03, 1.65310226e-33, 6.57970207e-28, 3.34444194e-10,\n",
       "        1.48073157e-17, 1.14912765e-25, 6.63846233e-25, 4.61436236e-21,\n",
       "        1.58226837e-20, 1.29911663e-17, 3.51040688e-06, 2.71275895e-40,\n",
       "        9.54747738e-20, 8.24194115e-30, 3.94121592e-20, 2.21530797e-30,\n",
       "        1.21967163e-15, 1.06489878e-19, 2.18668935e-14, 1.19448287e-07,\n",
       "        3.58231250e-15, 5.67077158e-31, 8.34910242e-08, 4.57192195e-10,\n",
       "        2.90138441e-12, 1.99063572e-02],\n",
       "       [4.16181204e-13, 7.82105406e-33, 3.45541087e-16, 3.41746166e-18,\n",
       "        2.85114113e-03, 8.03126874e-33, 3.53350629e-27, 1.20580489e-09,\n",
       "        2.89693851e-16, 4.24061938e-25, 2.12179378e-24, 1.23514940e-20,\n",
       "        5.04848129e-20, 3.93154782e-17, 3.90842920e-06, 2.15274068e-39,\n",
       "        2.16682599e-19, 3.90827149e-29, 1.32412528e-19, 8.75528885e-30,\n",
       "        2.68270467e-15, 3.08835783e-19, 3.26232181e-14, 1.42366802e-07,\n",
       "        3.82539941e-14, 2.83749849e-30, 9.32961676e-08, 3.29849993e-09,\n",
       "        3.80924751e-12, 1.99870498e-02],\n",
       "       [1.61655462e-12, 5.18471877e-32, 7.94979544e-16, 9.45903861e-18,\n",
       "        2.91209880e-03, 8.91871223e-32, 1.60169261e-26, 1.04645123e-08,\n",
       "        2.23054938e-15, 1.30255482e-24, 9.73335755e-24, 6.35947212e-20,\n",
       "        1.33371256e-19, 1.16126475e-16, 7.30123856e-06, 1.34547711e-38,\n",
       "        5.04920820e-19, 1.91958720e-28, 2.44480252e-19, 3.82812812e-29,\n",
       "        4.79171664e-15, 1.10310969e-18, 1.07310800e-13, 1.51285973e-07,\n",
       "        5.62212570e-13, 1.21258065e-29, 1.01775357e-07, 1.37093120e-08,\n",
       "        5.81282494e-12, 1.99960080e-02],\n",
       "       [3.22512281e-12, 1.82660815e-31, 1.40914738e-15, 3.04789995e-17,\n",
       "        2.99511762e-03, 6.09660344e-31, 9.46374020e-26, 2.20881169e-08,\n",
       "        1.70419404e-14, 7.28726219e-24, 3.23367163e-23, 1.93424027e-19,\n",
       "        3.75101542e-19, 3.47129942e-16, 1.71361291e-05, 1.68898448e-37,\n",
       "        1.06202035e-18, 1.37533370e-27, 1.07005260e-18, 2.52249142e-28,\n",
       "        1.34075211e-14, 4.04072472e-18, 2.47374509e-13, 2.48305998e-07,\n",
       "        4.15590306e-12, 5.92856256e-29, 1.08911910e-07, 2.49661490e-08,\n",
       "        1.05162422e-11, 2.02196340e-02],\n",
       "       [6.02139471e-12, 1.43969856e-30, 2.61384207e-15, 9.75840686e-17,\n",
       "        3.13060715e-03, 2.83650736e-30, 4.56733909e-25, 7.51796222e-08,\n",
       "        1.15335064e-13, 1.80958793e-23, 1.11265007e-22, 7.94633653e-19,\n",
       "        1.10958411e-18, 9.96135107e-16, 2.03475896e-05, 8.16336013e-37,\n",
       "        2.21021997e-18, 4.62936890e-27, 2.01050761e-18, 5.69269470e-28,\n",
       "        2.28692660e-14, 1.15758370e-17, 4.73248977e-13, 2.66572249e-07,\n",
       "        9.06181312e-12, 2.44575436e-28, 1.41179869e-07, 1.86937873e-07,\n",
       "        1.30255932e-11, 2.18530020e-02],\n",
       "       [9.32312217e-12, 6.54073378e-30, 8.51948528e-15, 2.71756939e-16,\n",
       "        3.17407584e-03, 1.09220224e-29, 1.75446043e-24, 9.89091464e-08,\n",
       "        1.67522318e-12, 1.02570804e-22, 3.30905950e-22, 1.74849936e-18,\n",
       "        2.94439763e-18, 1.89768421e-15, 3.23056376e-05, 9.80835987e-36,\n",
       "        7.58737341e-18, 2.54290458e-26, 7.99992021e-18, 3.90770565e-27,\n",
       "        6.98588982e-14, 2.91147260e-17, 1.07652069e-12, 6.11849086e-07,\n",
       "        7.08787842e-11, 1.24165273e-27, 2.63060011e-07, 3.97759315e-07,\n",
       "        3.82194800e-11, 2.18717997e-02],\n",
       "       [1.79535998e-11, 3.26250483e-29, 1.48684058e-14, 9.20278387e-16,\n",
       "        3.19175828e-03, 6.99602582e-29, 1.09568063e-23, 2.58781436e-07,\n",
       "        1.03060230e-11, 4.86779430e-22, 1.24776089e-21, 5.79336862e-18,\n",
       "        9.29098452e-18, 6.07193815e-15, 6.05699649e-05, 1.03645397e-34,\n",
       "        1.65151094e-17, 1.49722165e-25, 2.99382856e-17, 2.02471060e-26,\n",
       "        1.77387500e-13, 1.06688470e-16, 2.11290621e-12, 8.51240977e-07,\n",
       "        3.69240787e-10, 6.21652258e-27, 2.84784063e-07, 9.51841225e-07,\n",
       "        5.96071227e-11, 2.31485256e-02],\n",
       "       [3.64724024e-11, 2.79274076e-28, 3.39766330e-14, 2.95383010e-15,\n",
       "        3.19567894e-03, 4.64311472e-28, 6.54274558e-23, 8.23856649e-07,\n",
       "        6.11320146e-11, 2.00627445e-21, 5.84878107e-21, 1.94660440e-17,\n",
       "        3.45902887e-17, 1.94461901e-14, 1.12467837e-04, 9.38665146e-34,\n",
       "        4.91570633e-17, 7.11339805e-25, 9.22994343e-17, 9.93251196e-26,\n",
       "        4.12946807e-13, 3.73672322e-16, 3.71844020e-12, 1.01199309e-06,\n",
       "        1.44515657e-09, 3.43046794e-26, 3.17847939e-07, 2.54994622e-06,\n",
       "        9.87374602e-11, 2.45661448e-02],\n",
       "       [7.94283240e-11, 1.67605096e-27, 7.95671291e-14, 8.39242009e-15,\n",
       "        3.25869396e-03, 3.66880293e-27, 3.46032436e-22, 1.96938377e-06,\n",
       "        2.69838435e-10, 9.48233036e-21, 2.26230606e-20, 7.40192738e-17,\n",
       "        1.10207626e-16, 5.58483242e-14, 2.86964122e-04, 1.10733914e-32,\n",
       "        1.45304184e-16, 4.97929303e-24, 3.12823357e-16, 5.98840063e-25,\n",
       "        1.02077953e-12, 1.17142950e-15, 9.96436508e-12, 1.58442236e-06,\n",
       "        8.31738564e-09, 2.20261749e-25, 4.87656702e-07, 2.77288897e-06,\n",
       "        1.90253576e-10, 2.49888889e-02],\n",
       "       [1.43502838e-10, 8.25795324e-27, 1.98885846e-13, 3.26853187e-14,\n",
       "        3.27619159e-03, 1.97851010e-26, 2.20835993e-21, 4.68496009e-06,\n",
       "        1.26798556e-09, 6.66804945e-20, 8.98061410e-20, 1.83207371e-16,\n",
       "        3.54370980e-16, 1.57351717e-13, 4.89195769e-04, 1.66253004e-31,\n",
       "        4.02434289e-16, 3.12236141e-23, 1.61190850e-15, 4.87606557e-24,\n",
       "        3.53670182e-12, 4.67921638e-15, 1.88579997e-11, 3.26478246e-06,\n",
       "        2.74744402e-08, 1.09405544e-24, 8.06522443e-07, 5.23809640e-06,\n",
       "        4.46346681e-10, 2.55971312e-02],\n",
       "       [3.73995172e-10, 6.05149447e-26, 4.11956652e-13, 1.13117847e-13,\n",
       "        3.36732112e-03, 2.29644057e-25, 1.54680064e-20, 6.62114526e-06,\n",
       "        5.85809687e-09, 4.03537460e-19, 5.02714494e-19, 7.94630263e-16,\n",
       "        1.28133326e-15, 5.36652201e-13, 1.31730286e-03, 2.78001836e-30,\n",
       "        1.31009220e-15, 2.57606275e-22, 6.90601930e-15, 4.15944388e-23,\n",
       "        1.01220496e-11, 1.87090173e-14, 4.69233269e-11, 4.48478415e-06,\n",
       "        1.01060990e-07, 8.49130791e-24, 1.10345572e-06, 6.26153443e-06,\n",
       "        7.51269790e-10, 2.56225499e-02],\n",
       "       [9.48016555e-10, 4.52772775e-25, 9.60649318e-13, 4.25779169e-13,\n",
       "        3.40517897e-03, 2.72241440e-24, 1.08889309e-19, 1.22090139e-05,\n",
       "        2.09969640e-08, 3.00238243e-18, 2.91557355e-18, 3.65855422e-15,\n",
       "        4.61164800e-15, 1.70824996e-12, 2.26850544e-03, 6.37717505e-29,\n",
       "        4.55853329e-15, 2.61069216e-21, 3.50016489e-14, 4.30915844e-22,\n",
       "        3.29789177e-11, 7.43326375e-14, 1.34742497e-10, 7.57022288e-06,\n",
       "        1.64370233e-07, 7.63698116e-23, 1.86067099e-06, 1.11717206e-05,\n",
       "        1.51716349e-09, 2.58916140e-02],\n",
       "       [1.81987429e-09, 5.90167378e-24, 2.62371602e-12, 9.99545581e-13,\n",
       "        3.42738623e-03, 2.91178985e-23, 5.81260901e-19, 2.46742484e-05,\n",
       "        1.22917042e-07, 1.23706306e-17, 1.38896921e-17, 2.01473139e-14,\n",
       "        2.12567880e-14, 5.59795681e-12, 3.54654097e-03, 9.43050933e-28,\n",
       "        2.10223488e-14, 2.49748983e-20, 1.09002109e-13, 2.38546466e-21,\n",
       "        7.12299416e-11, 1.87577279e-13, 4.14430089e-10, 1.02145712e-05,\n",
       "        8.20484899e-07, 1.02803383e-21, 2.79607070e-06, 1.98506158e-05,\n",
       "        2.97437733e-09, 2.60016928e-02],\n",
       "       [2.18141645e-09, 2.90812463e-23, 6.82051881e-12, 3.54536308e-12,\n",
       "        3.73470587e-03, 1.24788349e-22, 4.83829864e-18, 8.37434597e-05,\n",
       "        3.86464597e-07, 8.84491545e-17, 4.04717872e-17, 3.52489971e-14,\n",
       "        9.54251228e-14, 2.10088987e-11, 5.35134273e-03, 1.37218360e-26,\n",
       "        7.43215806e-14, 1.77670824e-19, 6.81940887e-13, 1.93214626e-20,\n",
       "        2.67449682e-10, 7.66672309e-13, 6.42752968e-10, 2.53520334e-05,\n",
       "        3.10706013e-06, 6.33063624e-21, 4.22747305e-06, 4.94468868e-05,\n",
       "        7.91934061e-09, 2.65145771e-02],\n",
       "       [3.79343399e-09, 4.34521360e-22, 3.77031601e-11, 1.09215474e-11,\n",
       "        3.97097246e-03, 5.24443465e-22, 2.14301351e-17, 2.29601949e-04,\n",
       "        1.30942041e-06, 3.77273387e-16, 1.71238474e-16, 1.03738843e-13,\n",
       "        3.76705835e-13, 4.75521028e-11, 6.67446438e-03, 1.23316053e-25,\n",
       "        4.29139157e-13, 7.26465127e-19, 1.77673603e-12, 9.85422304e-20,\n",
       "        7.03776262e-10, 2.01061433e-12, 1.41676113e-09, 4.50298806e-05,\n",
       "        1.15213130e-05, 4.15216977e-20, 8.83859361e-06, 1.25520588e-04,\n",
       "        2.46627230e-08, 2.73561955e-02],\n",
       "       [7.45348681e-09, 4.52346203e-21, 1.26943149e-10, 4.55732061e-11,\n",
       "        4.02518342e-03, 5.29722495e-21, 2.36764098e-16, 5.81886078e-04,\n",
       "        3.14242055e-06, 3.52372146e-15, 9.61120911e-16, 3.30443856e-13,\n",
       "        2.21820587e-12, 2.19393625e-10, 1.12708651e-02, 3.21546144e-24,\n",
       "        1.98980047e-12, 7.78558613e-18, 1.23189614e-11, 1.21763919e-18,\n",
       "        2.84209188e-09, 1.05830031e-11, 2.94653092e-09, 9.24498219e-05,\n",
       "        2.50905080e-05, 4.22128701e-19, 1.44991711e-05, 2.56274522e-04,\n",
       "        6.84733598e-08, 2.75273141e-02],\n",
       "       [2.01894344e-08, 8.01229297e-20, 7.34097700e-10, 1.62486844e-10,\n",
       "        4.14723124e-03, 5.39343343e-20, 1.47897215e-15, 1.36010127e-03,\n",
       "        9.95942712e-06, 2.42007973e-14, 6.63521912e-15, 1.41696178e-12,\n",
       "        1.04303095e-11, 6.30137189e-10, 1.63807958e-02, 6.21540327e-23,\n",
       "        1.25585934e-11, 5.90335647e-17, 4.73019983e-11, 1.25407304e-17,\n",
       "        9.04725883e-09, 3.88532811e-11, 8.71524938e-09, 1.75521968e-04,\n",
       "        7.89959497e-05, 4.13496443e-18, 3.77105703e-05, 5.03978253e-04,\n",
       "        2.37256263e-07, 2.78200050e-02],\n",
       "       [3.47667032e-08, 1.01920509e-18, 2.28087814e-09, 6.61415594e-10,\n",
       "        4.18776804e-03, 7.07934296e-19, 1.68400610e-14, 2.18764549e-03,\n",
       "        3.88193533e-05, 2.49790092e-13, 3.88757483e-14, 6.69914063e-12,\n",
       "        6.86878935e-11, 2.92560027e-09, 2.08412749e-02, 2.66412532e-21,\n",
       "        6.80363954e-11, 1.05938228e-15, 3.83565374e-10, 1.65703467e-16,\n",
       "        3.63194530e-08, 1.66087950e-10, 2.48498003e-08, 3.98911681e-04,\n",
       "        2.51093501e-04, 7.97899766e-17, 6.62763418e-05, 9.49978309e-04,\n",
       "        6.73192387e-07, 2.78673372e-02],\n",
       "       [1.08745700e-07, 1.88964387e-17, 9.08267245e-09, 4.14544028e-09,\n",
       "        4.52840521e-03, 1.01326637e-17, 1.91100588e-13, 4.52351744e-03,\n",
       "        1.16816961e-04, 2.01639327e-12, 2.91323731e-13, 5.13713467e-11,\n",
       "        3.46085189e-10, 1.24409350e-08, 2.42856308e-02, 6.81733459e-20,\n",
       "        2.79028554e-10, 1.15143785e-14, 1.77050821e-09, 1.47257705e-15,\n",
       "        1.23149057e-07, 9.17591729e-10, 9.38821120e-08, 6.74215638e-04,\n",
       "        5.93579925e-04, 8.69517434e-16, 1.01004089e-04, 2.44299555e-03,\n",
       "        1.72402552e-06, 3.02081085e-02],\n",
       "       [3.31855836e-07, 9.95750553e-16, 4.74098088e-08, 2.54012781e-08,\n",
       "        4.60829769e-03, 2.03491295e-16, 3.65768289e-12, 1.16465968e-02,\n",
       "        2.46920082e-04, 1.57121348e-11, 3.59704577e-12, 3.18675841e-10,\n",
       "        3.81886098e-09, 9.73573149e-08, 5.70115840e-02, 1.65216466e-18,\n",
       "        2.24317610e-09, 1.13168560e-13, 8.59163260e-09, 1.61278832e-14,\n",
       "        4.34369166e-07, 7.24839604e-09, 2.04658419e-07, 8.06347460e-04,\n",
       "        1.30868983e-03, 1.44974420e-14, 1.08730188e-04, 3.05734521e-03,\n",
       "        4.38502029e-06, 3.19304852e-02],\n",
       "       [5.09619949e-07, 1.08491174e-14, 9.59705800e-08, 2.35926801e-07,\n",
       "        4.61667225e-03, 3.26284656e-15, 1.48065586e-10, 1.34584375e-02,\n",
       "        1.09947665e-03, 4.08495535e-10, 2.94445060e-11, 1.09491899e-09,\n",
       "        4.07194791e-08, 1.00621033e-06, 6.34641249e-02, 1.63900587e-16,\n",
       "        9.63508958e-09, 3.01479776e-12, 2.12459460e-07, 4.55565138e-13,\n",
       "        3.47743712e-06, 8.74230213e-08, 3.07019661e-07, 1.99989723e-03,\n",
       "        3.55944384e-03, 2.73408536e-13, 1.16088771e-04, 6.15884384e-03,\n",
       "        1.03977014e-05, 3.41225195e-02],\n",
       "       [2.42873958e-06, 3.16601664e-13, 6.67686367e-07, 1.65564779e-06,\n",
       "        4.80344588e-03, 6.84718837e-14, 2.13251787e-09, 3.61755982e-02,\n",
       "        2.59109166e-03, 3.80932427e-09, 3.00361730e-10, 7.70195936e-09,\n",
       "        2.71166198e-07, 5.75153694e-06, 8.10292711e-02, 4.07811913e-15,\n",
       "        6.16583340e-08, 3.40327364e-11, 9.08080771e-07, 6.46397211e-12,\n",
       "        1.41591015e-05, 7.64240272e-07, 1.34536321e-06, 3.92290945e-03,\n",
       "        7.81937993e-03, 2.91728946e-12, 2.44868725e-04, 1.62998925e-02,\n",
       "        3.84557485e-05, 3.62017160e-02],\n",
       "       [1.45234449e-05, 1.38679204e-11, 3.24298318e-06, 1.29917624e-05,\n",
       "        5.09223658e-03, 7.84710059e-12, 6.64644874e-08, 6.92697443e-02,\n",
       "        8.23077833e-03, 1.35436602e-07, 9.06628435e-09, 9.92911778e-08,\n",
       "        3.28681046e-06, 4.96673043e-05, 9.48729836e-02, 1.13180927e-12,\n",
       "        7.49456276e-07, 2.09785113e-09, 1.66522788e-05, 5.58569717e-10,\n",
       "        1.11773689e-04, 8.95909278e-06, 7.07767464e-06, 8.49564408e-03,\n",
       "        3.55671335e-02, 1.71888398e-10, 6.92446059e-04, 2.99404076e-02,\n",
       "        1.35208731e-04, 3.70771547e-02],\n",
       "       [7.31255170e-05, 7.16276223e-10, 1.31504087e-05, 1.31820025e-04,\n",
       "        8.22646423e-03, 1.04533510e-09, 5.99642698e-06, 1.12317385e-01,\n",
       "        2.71420281e-02, 4.71234764e-06, 2.22774039e-07, 9.06602614e-07,\n",
       "        8.28317207e-05, 1.26831434e-03, 9.82222246e-02, 2.18473937e-10,\n",
       "        8.09581912e-06, 1.37436681e-07, 3.89688237e-04, 4.20816377e-08,\n",
       "        9.16799245e-04, 2.24746109e-04, 2.20927557e-05, 1.55885481e-02,\n",
       "        7.36782140e-02, 9.22251931e-09, 9.02968362e-04, 7.29448697e-02,\n",
       "        4.06083245e-04, 4.32958549e-02],\n",
       "       [4.98292204e-04, 2.85945213e-07, 4.35263897e-04, 9.97618806e-04,\n",
       "        1.56074618e-02, 2.80124163e-07, 1.29914640e-04, 1.38010303e-01,\n",
       "        8.06207434e-02, 5.16957947e-04, 2.15858904e-05, 2.56360904e-05,\n",
       "        1.60732406e-03, 4.81575097e-03, 1.28696510e-01, 5.97552224e-07,\n",
       "        8.76286553e-04, 2.54785200e-05, 1.30191777e-02, 1.96967171e-05,\n",
       "        1.32154860e-02, 1.30113413e-03, 3.10935955e-04, 7.61613292e-02,\n",
       "        1.38426500e-01, 4.51874741e-06, 1.75257883e-02, 1.02423178e-01,\n",
       "        6.23558486e-03, 4.63343961e-02],\n",
       "       [2.07828483e-03, 3.16444991e-05, 1.32260057e-02, 9.82116236e-03,\n",
       "        1.74239021e-02, 2.51177303e-05, 2.52003971e-03, 2.29335613e-01,\n",
       "        2.61655777e-01, 4.72281145e-02, 5.86961324e-04, 3.83477463e-04,\n",
       "        1.75557510e-02, 1.61303954e-02, 1.46065580e-01, 9.12632514e-04,\n",
       "        3.40994899e-02, 4.00974529e-03, 3.32788290e-01, 5.93224014e-03,\n",
       "        2.19911887e-01, 9.40263508e-03, 5.76186308e-03, 1.65511716e-01,\n",
       "        2.21095177e-01, 8.05437713e-04, 3.70140593e-01, 3.69137104e-01,\n",
       "        1.43507699e-01, 1.14165497e-01],\n",
       "       [9.97332323e-01, 9.99968069e-01, 9.86321514e-01, 9.89034485e-01,\n",
       "        8.67516963e-01, 9.99974601e-01, 9.97343980e-01, 3.80768377e-01,\n",
       "        6.18242600e-01, 9.52250076e-01, 9.99391221e-01, 9.99589871e-01,\n",
       "        9.80750490e-01, 9.77729001e-01, 2.37666957e-01, 9.99086770e-01,\n",
       "        9.65015304e-01, 9.95964637e-01, 6.53785061e-01, 9.94048020e-01,\n",
       "        7.65825811e-01, 9.89061666e-01, 9.93896040e-01, 7.26071426e-01,\n",
       "        5.17580950e-01, 9.99190034e-01, 6.10027318e-01, 3.95660740e-01,\n",
       "        8.49659445e-01, 1.33085144e-01]])"
      ]
     },
     "execution_count": 677,
     "metadata": {},
     "output_type": "execute_result"
    }
   ],
   "source": [
    "np.sort(softmax(DNNeasy_model_log.forward_pass(spectrum_rebinned,training=False).numpy()).reshape(30,30),axis=0)"
   ]
  },
  {
   "cell_type": "code",
   "execution_count": 683,
   "metadata": {},
   "outputs": [
    {
     "data": {
      "text/plain": [
       "[0.9999680688252576,\n",
       " 0.37014059321479664,\n",
       " 0.07616132917792726,\n",
       " 0.015588548057945918,\n",
       " 0.008495644081982851,\n",
       " 0.003922909448233943,\n",
       " 0.0019998972313526025,\n",
       " 0.00480344587880925,\n",
       " 0.003367321117231414,\n",
       " 0.0031956789401235593,\n",
       " 0.004025183420589869,\n",
       " 0.0028511411290868477,\n",
       " 0.003174075839255985,\n",
       " 0.0029120988018683154,\n",
       " 0.004528405213546196,\n",
       " 0.003546540971053186,\n",
       " 0.005351342728143779,\n",
       " 0.006674464376084873,\n",
       " 0.01127086512489436,\n",
       " 0.016380795808875945,\n",
       " 0.01882672124425344,\n",
       " 0.019118236836260263,\n",
       " 0.01998704981587521,\n",
       " 0.021853002011039985,\n",
       " 0.03617559823347272,\n",
       " 0.06926974426753596,\n",
       " 0.0982222245514462,\n",
       " 0.13842650027775089,\n",
       " 0.26165577663236095,\n",
       " 0.517580950117227]"
      ]
     },
     "execution_count": 683,
     "metadata": {},
     "output_type": "execute_result"
    }
   ],
   "source": [
    "[x[-2] for x in np.sort(softmax(DNNeasy_model_log.forward_pass(spectrum_rebinned,training=False).numpy()).reshape(30,30),axis=1)]\n"
   ]
  },
  {
   "cell_type": "code",
   "execution_count": 658,
   "metadata": {},
   "outputs": [
    {
     "data": {
      "text/plain": [
       "<matplotlib.legend.Legend at 0x7f1a0c65d828>"
      ]
     },
     "execution_count": 658,
     "metadata": {},
     "output_type": "execute_result"
    },
    {
     "data": {
      "image/png": "[encoded data removed]",
      "text/plain": [
       "<Figure size 720x360 with 1 Axes>"
      ]
     },
     "metadata": {},
     "output_type": "display_data"
    }
   ],
   "source": [
    "plt.figure(figsize=(10,5))\n",
    "\n",
    "plt.plot(np.max(softmax(DNNeasy_model_log.forward_pass(spectrum_rebinned,training=False).numpy()).reshape(30,30),axis=1), label = 'DNN easy log')\n",
    "plt.plot(np.max(softmax(CNN1Deasy_model_log.forward_pass(spectrum_rebinned,training=False).numpy()).reshape(30,30),axis=1), label = 'CNN easy log')\n",
    "plt.plot(np.max(softmax(DNNfull_model_log.forward_pass(spectrum_rebinned,training=False).numpy()).reshape(30,30),axis=1), label = 'DNN full log')\n",
    "plt.plot(np.max(softmax(CNN1Dfull_model_log.forward_pass(spectrum_rebinned,training=False).numpy()).reshape(30,30),axis=1), label = 'CNN full log')\n",
    "plt.legend()"
   ]
  },
  {
   "cell_type": "code",
   "execution_count": null,
   "metadata": {},
   "outputs": [],
   "source": []
  },
  {
   "cell_type": "code",
   "execution_count": null,
   "metadata": {},
   "outputs": [],
   "source": []
  }
 ],
 "metadata": {
  "kernelspec": {
   "display_name": "Environment (conda_tensorflow_p36)",
   "language": "python",
   "name": "conda_tensorflow_p36"
  },
  "language_info": {
   "codemirror_mode": {
    "name": "ipython",
    "version": 3
   },
   "file_extension": ".py",
   "mimetype": "text/x-python",
   "name": "python",
   "nbconvert_exporter": "python",
   "pygments_lexer": "ipython3",
   "version": "3.6.7"
  }
 },
 "nbformat": 4,
 "nbformat_minor": 1
}
