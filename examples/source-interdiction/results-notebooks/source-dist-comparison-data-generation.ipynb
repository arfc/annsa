{
 "cells": [
  {
   "cell_type": "code",
   "execution_count": 1,
   "metadata": {},
   "outputs": [],
   "source": [
    "import matplotlib.pyplot as plt\n",
    "import os\n",
    "os.environ[\"CUDA_DEVICE_ORDER\"]=\"PCI_BUS_ID\" \n",
    "os.environ[\"CUDA_VISIBLE_DEVICES\"]=\"\"\n",
    "\n",
    "import numpy as np\n",
    "import itertools\n",
    "\n",
    "from sklearn.preprocessing import LabelBinarizer\n",
    "import pandas as pd"
   ]
  },
  {
   "cell_type": "markdown",
   "metadata": {},
   "source": [
    "### Import annsa modules"
   ]
  },
  {
   "cell_type": "code",
   "execution_count": 2,
   "metadata": {},
   "outputs": [],
   "source": [
    "from annsa.results_plotting_functions import *"
   ]
  },
  {
   "cell_type": "markdown",
   "metadata": {},
   "source": [
    "# Define simulation parameters "
   ]
  },
  {
   "cell_type": "code",
   "execution_count": 3,
   "metadata": {},
   "outputs": [],
   "source": [
    "background_dataset = pd.read_csv('../../source-interdiction/training_testing_data/background_template_dataset.csv')\n",
    "source_dataset = pd.read_csv('../../source-interdiction/training_testing_data/shielded_templates_200kev_dataset.csv')"
   ]
  },
  {
   "cell_type": "code",
   "execution_count": 4,
   "metadata": {},
   "outputs": [
    {
     "name": "stdout",
     "output_type": "stream",
     "text": [
      "sourceheight: [50.0, 75.0, 100.0, 125.0, 150.0]\n",
      "fwhm: [6.0, 6.5, 7.0, 7.5, 8.0, 8.5, 9.0]\n",
      "sourcedist: [50.0, 112.5, 175.0, 237.5, 300.0]\n",
      "alum shieldingdensity: [1.82, 4.18, 7.49, 13.16]\n",
      "iron shieldingdensity: [1.53, 3.5, 6.28, 11.02]\n",
      "lead shieldingdensity: [0.22, 0.51, 0.92, 1.61]\n"
     ]
    }
   ],
   "source": [
    "print('sourceheight: '+ str(sorted(set(source_dataset['sourceheight']))))\n",
    "print('fwhm: '+ str(sorted(set(source_dataset['fwhm']))))\n",
    "print('sourcedist: '+ str(sorted(set(source_dataset['sourcedist']))))\n",
    "\n",
    "print('alum shieldingdensity: ' + str(sorted(set(source_dataset[source_dataset['shielding']=='alum']['shieldingdensity']))))\n",
    "print('iron shieldingdensity: ' + str(sorted(set(source_dataset[source_dataset['shielding']=='iron']['shieldingdensity']))))\n",
    "print('lead shieldingdensity: ' + str(sorted(set(source_dataset[source_dataset['shielding']=='lead']['shieldingdensity']))))"
   ]
  },
  {
   "cell_type": "code",
   "execution_count": 5,
   "metadata": {},
   "outputs": [],
   "source": [
    "source_dataset = source_dataset[source_dataset['shielding']=='none']"
   ]
  },
  {
   "cell_type": "markdown",
   "metadata": {},
   "source": [
    "# Simulate!"
   ]
  },
  {
   "cell_type": "code",
   "execution_count": 28,
   "metadata": {},
   "outputs": [],
   "source": [
    "sourceheights = [50.0, 100.0, 150.0]\n",
    "fwhms = [6.0, 6.5, 7.0, 7.5, 8.0, 8.5, 9.0]\n",
    "sourcedists = [50.0,  175.0, 300.0]\n",
    "integration_times = np.logspace(1, np.log10(3600), 50)\n",
    "signal_to_backgrounds = [0.1, 0.5, 2.0]"
   ]
  },
  {
   "cell_type": "code",
   "execution_count": 29,
   "metadata": {},
   "outputs": [
    {
     "name": "stdout",
     "output_type": "stream",
     "text": [
      "30mbo 9450 of 9450\r"
     ]
    }
   ],
   "source": [
    "spectra_dataframe_heights = make_spectra_dataframe(source_dataset,\n",
    "                                             background_dataset,\n",
    "                                             total_spectra=10,\n",
    "                                             sourceheight=sourceheights,\n",
    "                                             sourcedist=sourcedists,\n",
    "                                             fwhm=fwhms,\n",
    "                                             integration_time=integration_times,\n",
    "                                             signal_to_background=signal_to_backgrounds,\n",
    "                                             cal_a=[0.0],\n",
    "                                             cal_b=[1.0],\n",
    "                                             cal_c=[0.0],\n",
    "                                             background_cps=[200.0],\n",
    "                                             shieldingdensity=[0.0],)"
   ]
  },
  {
   "cell_type": "code",
   "execution_count": 30,
   "metadata": {},
   "outputs": [],
   "source": [
    "spectra_dataframe_heights.to_pickle('spectra_dataframe_heights_logspace')"
   ]
  },
  {
   "cell_type": "code",
   "execution_count": null,
   "metadata": {},
   "outputs": [],
   "source": []
  }
 ],
 "metadata": {
  "kernelspec": {
   "display_name": "Environment (conda_tensorflow_p36)",
   "language": "python",
   "name": "conda_tensorflow_p36"
  },
  "language_info": {
   "codemirror_mode": {
    "name": "ipython",
    "version": 3
   },
   "file_extension": ".py",
   "mimetype": "text/x-python",
   "name": "python",
   "nbconvert_exporter": "python",
   "pygments_lexer": "ipython3",
   "version": "3.6.7"
  }
 },
 "nbformat": 4,
 "nbformat_minor": 1
}
