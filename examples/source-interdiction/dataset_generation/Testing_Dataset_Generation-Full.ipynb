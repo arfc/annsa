{
 "cells": [
  {
   "cell_type": "code",
   "execution_count": 1,
   "metadata": {},
   "outputs": [],
   "source": [
    "import matplotlib.pyplot as plt\n",
    "import os\n",
    "\n",
    "from sklearn.pipeline import make_pipeline\n",
    "from sklearn.preprocessing import FunctionTransformer, LabelBinarizer\n",
    "from random import choice\n",
    "\n",
    "import tensorflow as tf\n",
    "import pickle\n",
    "import numpy as np\n",
    "import pandas as pd\n",
    "\n",
    "from annsa.template_sampling import *"
   ]
  },
  {
   "cell_type": "code",
   "execution_count": 2,
   "metadata": {},
   "outputs": [],
   "source": [
    "from annsa.load_dataset import load_full"
   ]
  },
  {
   "cell_type": "code",
   "execution_count": 3,
   "metadata": {},
   "outputs": [],
   "source": [
    "import tensorflow.contrib.eager as tfe"
   ]
  },
  {
   "cell_type": "markdown",
   "metadata": {},
   "source": [
    "#### Load template dataset"
   ]
  },
  {
   "cell_type": "code",
   "execution_count": 4,
   "metadata": {},
   "outputs": [
    {
     "name": "stdout",
     "output_type": "stream",
     "text": [
      "indicies dropped: [552 553 554 555 556 557 564 565 566 582 583 584 585 586 587 594 595 596\n",
      " 612 613 614 615 616 617 624 625 626 642 643 644 645 646 647 654 655 656\n",
      " 672 673 674 675 676 677 684 685 686 702 703 704 705 706 707 714 715 716]\n"
     ]
    }
   ],
   "source": [
    "background_dataset = pd.read_csv('../../source-interdiction/training_testing_data/background_template_dataset.csv')\n",
    "source_dataset = pd.read_csv('../../source-interdiction/training_testing_data/shielded_templates_200kev_dataset.csv')\n",
    "\n",
    "source_dataset, spectra_dataset, all_keys = load_full(source_dataset, background_dataset)"
   ]
  },
  {
   "cell_type": "markdown",
   "metadata": {},
   "source": [
    "#### Create Dataset"
   ]
  },
  {
   "cell_type": "code",
   "execution_count": 8,
   "metadata": {},
   "outputs": [
    {
     "name": "stdout",
     "output_type": "stream",
     "text": [
      "1\n",
      "2\n",
      "3\n",
      "4\n",
      "5\n",
      "6\n",
      "7\n",
      "8\n",
      "9\n",
      "10\n",
      "11\n",
      "12\n",
      "13\n",
      "14\n",
      "15\n",
      "16\n",
      "17\n",
      "18\n",
      "19\n",
      "20\n",
      "21\n",
      "22\n",
      "23\n",
      "24\n",
      "25\n",
      "26\n",
      "27\n",
      "28\n",
      "29\n",
      "30\n"
     ]
    }
   ],
   "source": [
    "total_spectra = 1e1\n",
    "dataset = {'sources': [],\n",
    "           'backgrounds': [],\n",
    "           'keys': []}\n",
    "\n",
    "# simulate sources\n",
    "isotopes_processed = 0\n",
    "for isotope in set(source_dataset['isotope'].values):\n",
    "    for _ in np.arange(total_spectra):\n",
    "\n",
    "        background_cps = np.random.poisson(200)\n",
    "        integration_time = 10**np.random.uniform(np.log10(10), np.log10(3600))\n",
    "        signal_to_background = np.random.uniform(0.1, 3)\n",
    "        calibration = [np.random.uniform(0, 10),\n",
    "                       np.random.uniform(0.8, 1.2),\n",
    "                       0]\n",
    "        fwhm = choice([7.0, 7.5, 8.0])\n",
    "\n",
    "        source_spectrum, background_spectrum = make_random_spectrum(source_dataset,\n",
    "                                                                    background_dataset,\n",
    "                                                                    background_cps=background_cps,\n",
    "                                                                    integration_time=integration_time,\n",
    "                                                                    signal_to_background=signal_to_background,\n",
    "                                                                    calibration=calibration,\n",
    "                                                                    isotope=isotope,\n",
    "                                                                    fwhm=fwhm,)\n",
    "        dataset['sources'].append(source_spectrum)\n",
    "        dataset['backgrounds'].append(background_spectrum)\n",
    "        dataset['keys'].append(isotope)\n",
    "    isotopes_processed+=1\n",
    "    print(isotopes_processed)\n",
    "\n",
    "np.save('spectra_dataset_full_'+str(int(total_spectra)),dataset)"
   ]
  },
  {
   "cell_type": "code",
   "execution_count": null,
   "metadata": {},
   "outputs": [],
   "source": []
  }
 ],
 "metadata": {
  "kernelspec": {
   "display_name": "Environment (conda_tensorflow_p36)",
   "language": "python",
   "name": "conda_tensorflow_p36"
  },
  "language_info": {
   "codemirror_mode": {
    "name": "ipython",
    "version": 3
   },
   "file_extension": ".py",
   "mimetype": "text/x-python",
   "name": "python",
   "nbconvert_exporter": "python",
   "pygments_lexer": "ipython3",
   "version": "3.6.7"
  }
 },
 "nbformat": 4,
 "nbformat_minor": 1
}
