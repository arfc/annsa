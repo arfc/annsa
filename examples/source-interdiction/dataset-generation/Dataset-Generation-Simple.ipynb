{
 "cells": [
  {
   "cell_type": "code",
   "execution_count": 1,
   "metadata": {},
   "outputs": [],
   "source": [
    "import numpy as np\n",
    "import pandas as pd\n",
    "\n",
    "from annsa.template_sampling import *\n",
    "from annsa.load_dataset import load_easy"
   ]
  },
  {
   "cell_type": "markdown",
   "metadata": {},
   "source": [
    "#### Load template dataset"
   ]
  },
  {
   "cell_type": "code",
   "execution_count": 2,
   "metadata": {},
   "outputs": [
    {
     "name": "stdout",
     "output_type": "stream",
     "text": [
      "indicies dropped: []\n"
     ]
    }
   ],
   "source": [
    "background_dataset = pd.read_csv('../../source-interdiction/training_testing_data/background_template_dataset.csv')\n",
    "source_dataset = pd.read_csv('../../source-interdiction/training_testing_data/shielded_templates_200kev_dataset.csv')\n",
    "\n",
    "source_dataset, spectra_dataset, all_keys = load_easy(source_dataset, background_dataset)"
   ]
  },
  {
   "cell_type": "markdown",
   "metadata": {},
   "source": [
    "#### Create Dataset"
   ]
  },
  {
   "cell_type": "code",
   "execution_count": 3,
   "metadata": {},
   "outputs": [
    {
     "name": "stdout",
     "output_type": "stream",
     "text": [
      "1\n",
      "2\n",
      "3\n",
      "4\n",
      "5\n",
      "6\n",
      "7\n",
      "8\n",
      "9\n",
      "10\n",
      "11\n",
      "12\n",
      "13\n",
      "14\n",
      "15\n",
      "16\n",
      "17\n",
      "18\n",
      "19\n",
      "20\n",
      "21\n",
      "22\n",
      "23\n",
      "24\n",
      "25\n",
      "26\n",
      "27\n",
      "28\n",
      "29\n",
      "30\n"
     ]
    }
   ],
   "source": [
    "total_spectra = 1e3\n",
    "dataset = {'sources': [],\n",
    "           'backgrounds': [],\n",
    "           'keys': []}\n",
    "\n",
    "# simulate sources\n",
    "isotopes_processed = 0\n",
    "for isotope in set(source_dataset['isotope'].values):\n",
    "    for _ in np.arange(total_spectra):\n",
    "\n",
    "        background_cps = np.random.poisson(200)\n",
    "        integration_time = 10 ** np.random.uniform(np.log10(60),\n",
    "                                                   np.log10(600))\n",
    "        signal_to_background = np.random.uniform(0.5, 2)\n",
    "        calibration = [np.random.uniform(0, 10),\n",
    "                       np.random.uniform(0.9, 1.1),\n",
    "                       0]\n",
    "\n",
    "        source_spectrum, background_spectrum = make_random_spectrum(\n",
    "            source_dataset,\n",
    "            background_dataset,\n",
    "            background_cps=background_cps,\n",
    "            integration_time=integration_time,\n",
    "            signal_to_background=signal_to_background,\n",
    "            calibration=calibration,\n",
    "            isotope=isotope,\n",
    "            fwhm=7.5,)\n",
    "        dataset['sources'].append(source_spectrum)\n",
    "        dataset['backgrounds'].append(background_spectrum)\n",
    "        dataset['keys'].append(isotope)\n",
    "    isotopes_processed += 1\n",
    "    print(isotopes_processed)\n",
    "\n",
    "np.save('spectra_dataset_simple_'+str(int(total_spectra)),dataset)"
   ]
  },
  {
   "cell_type": "code",
   "execution_count": null,
   "metadata": {},
   "outputs": [],
   "source": []
  }
 ],
 "metadata": {
  "kernelspec": {
   "display_name": "Environment (conda_tensorflow_p36)",
   "language": "python",
   "name": "conda_tensorflow_p36"
  },
  "language_info": {
   "codemirror_mode": {
    "name": "ipython",
    "version": 3
   },
   "file_extension": ".py",
   "mimetype": "text/x-python",
   "name": "python",
   "nbconvert_exporter": "python",
   "pygments_lexer": "ipython3",
   "version": "3.6.7"
  }
 },
 "nbformat": 4,
 "nbformat_minor": 1
}
