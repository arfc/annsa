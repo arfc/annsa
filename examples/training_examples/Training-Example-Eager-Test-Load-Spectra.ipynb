{
 "cells": [
  {
   "cell_type": "code",
   "execution_count": 1,
   "metadata": {
    "collapsed": false,
    "scrolled": true
   },
   "outputs": [
    {
     "name": "stderr",
     "output_type": "stream",
     "text": [
      "/home/ubuntu/anaconda2/lib/python2.7/site-packages/h5py/__init__.py:36: FutureWarning: Conversion of the second argument of issubdtype from `float` to `np.floating` is deprecated. In future, it will be treated as `np.float64 == np.dtype(float).type`.\n",
      "  from ._conv import register_converters as _register_converters\n"
     ]
    }
   ],
   "source": [
    "%matplotlib inline\n",
    "\n",
    "import matplotlib.pyplot as plt\n",
    "\n",
    "import sys\n",
    "sys.path.append(\"/home/ubuntu/Notebooks/annsa/\")\n",
    "\n",
    "import tensorflow.contrib.eager as tfe\n",
    "from sklearn import datasets, preprocessing, model_selection\n",
    "\n",
    "import annsa as an\n",
    "import tensorflow as tf\n",
    "import numpy as np"
   ]
  },
  {
   "cell_type": "code",
   "execution_count": 2,
   "metadata": {
    "collapsed": true
   },
   "outputs": [],
   "source": [
    "from tensorflow.python.ops.init_ops import glorot_uniform_initializer"
   ]
  },
  {
   "cell_type": "code",
   "execution_count": 3,
   "metadata": {
    "collapsed": false
   },
   "outputs": [],
   "source": [
    "tf.enable_eager_execution()"
   ]
  },
  {
   "cell_type": "markdown",
   "metadata": {},
   "source": [
    "#### Define neural network"
   ]
  },
  {
   "cell_type": "code",
   "execution_count": 4,
   "metadata": {
    "collapsed": false
   },
   "outputs": [],
   "source": [
    "class simple_nn(tf.keras.Model):\n",
    "    def __init__(self, model_features):\n",
    "        super(simple_nn, self).__init__()\n",
    "        \"\"\" Define here the layers used during the forward-pass \n",
    "            of the neural network.\n",
    "        \"\"\"\n",
    "        l2_regularization_scale=model_features.l2_regularization_scale\n",
    "        dropout_probability=model_features.dropout_probability\n",
    "        nodes_layer_1=model_features.nodes_layer_1\n",
    "        nodes_layer_2=model_features.nodes_layer_2      \n",
    "        # define l2 regularization\n",
    "        self.regularizer = tf.keras.regularizers.l2(l=l2_regularization_scale)        \n",
    "        # Hidden layer.\n",
    "        self.dense_layer1 = tf.layers.Dense(nodes_layer_1, \n",
    "                                            activation=tf.nn.relu,\n",
    "                                            kernel_initializer=tf.truncated_normal_initializer(stddev = 1/np.sqrt(1024)),\n",
    "                                            #kernel_initializer=glorot_uniform_initializer(),\n",
    "                                            kernel_regularizer=self.regularizer)\n",
    "        self.drop1 = tf.layers.Dropout(dropout_probability)\n",
    "        self.dense_layer2 = tf.layers.Dense(nodes_layer_2,\n",
    "                                            activation=tf.nn.relu,\n",
    "                                            kernel_initializer=tf.truncated_normal_initializer(stddev = 1/np.sqrt(nodes_layer_1)),\n",
    "                                            #kernel_initializer=glorot_uniform_initializer(),\n",
    "                                            kernel_regularizer=self.regularizer)\n",
    "        self.drop2 = tf.layers.Dropout(dropout_probability)\n",
    "        # Output layer. No activation.\n",
    "        self.output_layer = tf.layers.Dense(32, activation=None)\n",
    "        \n",
    "    def predict_logits(self, input_data, training=True):\n",
    "        \"\"\" Runs a forward-pass through the network. Only outputs logits for loss function. \n",
    "            This is because tf.nn.softmax_cross_entropy_with_logits calculates softmax internally.   \n",
    "            Note, dropout training is true here.\n",
    "            Args:\n",
    "                input_data: 2D tensor of shape (n_samples, n_features).   \n",
    "            Returns:\n",
    "                logits: unnormalized predictions.\n",
    "        \"\"\"\n",
    "        # Reshape input data\n",
    "        x=tf.reshape(input_data,[-1,1,1024])\n",
    "        x=self.dense_layer1(x)\n",
    "        x=self.drop1(x,training)\n",
    "        x=self.dense_layer2(x)\n",
    "        x=self.drop2(x,training)\n",
    "        logits=self.output_layer(x)\n",
    "        \n",
    "        return logits\n",
    "    \n",
    "    def predict(self, input_data, training=False):\n",
    "        \"\"\" Runs a forward-pass through the network and uses softmax output. Dropout training is off, this is \n",
    "            not used for gradient calculations in loss function.\n",
    "            Args:\n",
    "                input_data: 2D tensor of shape (n_samples, n_features).   \n",
    "            Returns:\n",
    "                logits: unnormalized predictions.\n",
    "        \"\"\"\n",
    "        # Reshape input data\n",
    "        x = tf.reshape(input_data,[-1,1,1024])\n",
    "        x = self.dense_layer1(x)\n",
    "        x = self.drop1(x,training)\n",
    "        x = self.dense_layer2(x)\n",
    "        x = self.drop2(x,training)\n",
    "        x = self.output_layer(x)\n",
    "        outputs = tf.nn.softmax(x)\n",
    "        return outputs\n",
    "    \n",
    "    def loss_fn(self, input_data, target, training=True):\n",
    "        \"\"\" Defines the loss function used during \n",
    "            training.         \n",
    "        \"\"\"\n",
    "        logits = self.predict_logits(input_data, training)\n",
    "        cross_entropy_loss = tf.reduce_mean(tf.nn.softmax_cross_entropy_with_logits(labels=target, logits=logits))\n",
    "        l2_weights = [self.weights[i] for i in range(len(self.weights)) if i%2==0]\n",
    "        l2_loss = tf.contrib.layers.apply_regularization(self.regularizer, l2_weights)\n",
    "        loss = cross_entropy_loss+l2_loss\n",
    "        return loss\n",
    "    \n",
    "    def grads_fn(self, input_data, target):\n",
    "        \"\"\" Dynamically computes the gradients of the loss value\n",
    "            with respect to the parameters of the model, in each\n",
    "            forward pass.\n",
    "        \"\"\"\n",
    "        with tfe.GradientTape() as tape:\n",
    "            loss = self.loss_fn(input_data, target) \n",
    "        return tape.gradient(loss, self.variables)\n",
    "    \n",
    "    def fit(self, input_data, target, optimizer, num_epochs=500, verbose=50):\n",
    "        \"\"\" Function to train the model, using the selected optimizer and\n",
    "            for the desired number of epochs.\n",
    "        \"\"\"\n",
    "        for i in range(num_epochs):\n",
    "            grads = self.grads_fn(input_data, target)\n",
    "            optimizer.apply_gradients(zip(grads, self.variables))\n",
    "            if (i==0) | ((i+1)%verbose==0):\n",
    "                print('Loss at epoch %d: %f' %(i+1, self.loss_fn(input_data, target, training=False).numpy()))\n",
    "                \n",
    "    \n",
    "    def fit_batch(self, train_dataset,test_dataset, optimizer, num_epochs=50, verbose=50):\n",
    "        \"\"\" Function to train the model, using the selected optimizer and\n",
    "            for the desired number of epochs.\n",
    "        \"\"\"\n",
    "        all_loss_train=[]\n",
    "        all_loss_test=[0]\n",
    "        for i in range(num_epochs):\n",
    "            for (input_data, target) in tfe.Iterator(train_dataset.shuffle(1e5).batch(512)):\n",
    "                grads = self.grads_fn(input_data, target)\n",
    "                optimizer.apply_gradients(zip(grads, self.variables))\n",
    "                all_loss_train.append(self.loss_fn(input_data, target, training=False).numpy())\n",
    "                all_loss_test.append(self.loss_fn(test_dataset[0],test_dataset[1], training=False).numpy())\n",
    "            if (i==0) | ((i+1)%verbose==0):\n",
    "                print('Loss at epoch %d: %3.2f %3.2f' %(i+1, np.average(all_loss_train[-10:]), np.average(all_loss_test[-10:])))\n",
    "        return all_loss_train, all_loss_test"
   ]
  },
  {
   "cell_type": "code",
   "execution_count": 5,
   "metadata": {
    "collapsed": true
   },
   "outputs": [],
   "source": [
    "class model_features(object):\n",
    "    \n",
    "    def __init__(self,learining_rate,\n",
    "                      l2_regularization_scale,\n",
    "                      dropout_probability,\n",
    "                      nodes_layer_1,\n",
    "                      nodes_layer_2\n",
    "                ):\n",
    "        self.learining_rate=learining_rate\n",
    "        self.l2_regularization_scale=l2_regularization_scale\n",
    "        self.dropout_probability=dropout_probability\n",
    "        self.nodes_layer_1=nodes_layer_1\n",
    "        self.nodes_layer_2=nodes_layer_2\n"
   ]
  },
  {
   "cell_type": "markdown",
   "metadata": {},
   "source": [
    "#### Get some data"
   ]
  },
  {
   "cell_type": "code",
   "execution_count": 6,
   "metadata": {
    "collapsed": false
   },
   "outputs": [],
   "source": [
    "training_data = np.load('/home/ubuntu/Notebooks/GADRAS_ANN_work/Project_SORMA18/Dataset_Details/spectrum_data_1-simplex_1E6.npy')[:-10000]\n",
    "training_keys = np.load('/home/ubuntu/Notebooks/GADRAS_ANN_work/Project_SORMA18/Dataset_Details/key_data_1-simplex_1E6.npy')[:-10000]\n",
    "\n",
    "training_data = an.log_normalize(training_data)\n",
    "training_keys = an.normalize_data(training_keys)\n",
    "\n",
    "X_tensor = tf.constant(training_data)\n",
    "y_tensor = tf.constant(training_keys)\n",
    "\n",
    "train_dataset = tf.data.Dataset.from_tensor_slices((X_tensor, y_tensor))"
   ]
  },
  {
   "cell_type": "code",
   "execution_count": 7,
   "metadata": {
    "collapsed": true
   },
   "outputs": [],
   "source": [
    "testing_data = np.load('/home/ubuntu/Notebooks/GADRAS_ANN_work/Project_SORMA18/Dataset_Details/spectrum_data_1-simplex_1E6.npy')[-1000:]\n",
    "testing_keys = np.load('/home/ubuntu/Notebooks/GADRAS_ANN_work/Project_SORMA18/Dataset_Details/key_data_1-simplex_1E6.npy')[-1000:]\n",
    "\n",
    "testing_data = an.log_normalize(testing_data)\n",
    "testing_keys = an.normalize_data(testing_keys)\n",
    "\n",
    "X_tensor = tf.constant(testing_data)\n",
    "y_tensor = tf.constant(testing_keys)\n",
    "\n",
    "test_dataset = (testing_data, testing_keys)\n",
    "#test_dataset = tf.data.Dataset.from_tensor_slices((X_tensor, y_tensor))"
   ]
  },
  {
   "cell_type": "markdown",
   "metadata": {},
   "source": [
    "#### Define an optimizer, model, and train the network"
   ]
  },
  {
   "cell_type": "code",
   "execution_count": 8,
   "metadata": {
    "collapsed": false
   },
   "outputs": [],
   "source": [
    "new_model_features = model_features(learining_rate=4.5e-3,\n",
    "                                    l2_regularization_scale=1.09e-3,\n",
    "                                    dropout_probability=1.0-0.96,\n",
    "                                    nodes_layer_1=449,\n",
    "                                    nodes_layer_2=205)"
   ]
  },
  {
   "cell_type": "code",
   "execution_count": 9,
   "metadata": {
    "collapsed": false
   },
   "outputs": [
    {
     "name": "stdout",
     "output_type": "stream",
     "text": [
      "Loss at epoch 1: 1.67 1.67\n",
      "Loss at epoch 2: 1.44 1.46\n",
      "Loss at epoch 3: 1.39 1.41\n",
      "Loss at epoch 4: 1.39 1.41\n",
      "Loss at epoch 5: 1.37 1.39\n",
      "Loss at epoch 6: 1.34 1.36\n",
      "Loss at epoch 7: 1.33 1.35\n",
      "Loss at epoch 8: 1.33 1.34\n",
      "Loss at epoch 9: 1.34 1.36\n",
      "Loss at epoch 10: 1.33 1.34\n"
     ]
    }
   ],
   "source": [
    "optimizer = tf.train.AdamOptimizer(new_model_features.learining_rate)\n",
    "model = simple_nn(new_model_features)\n",
    "all_loss_train, all_loss_test = model.fit_batch(train_dataset,test_dataset, optimizer, num_epochs=10, verbose=1)"
   ]
  },
  {
   "cell_type": "code",
   "execution_count": 10,
   "metadata": {
    "collapsed": false
   },
   "outputs": [
    {
     "data": {
      "text/plain": [
       "[<matplotlib.lines.Line2D at 0x7fc35c1800d0>]"
      ]
     },
     "execution_count": 10,
     "metadata": {},
     "output_type": "execute_result"
    },
    {
     "data": {
      "image/png": "[encoded data removed]",
      "text/plain": [
       "<matplotlib.figure.Figure at 0x7fc35c180110>"
      ]
     },
     "metadata": {},
     "output_type": "display_data"
    }
   ],
   "source": [
    "plt.plot(all_loss_train[10:])\n",
    "plt.plot(all_loss_test[10:])\n",
    "#plt.xlim([0,500])\n",
    "#plt.ylim([2.9,3.0])"
   ]
  },
  {
   "cell_type": "markdown",
   "metadata": {},
   "source": [
    "#### Check outputs"
   ]
  },
  {
   "cell_type": "code",
   "execution_count": 12,
   "metadata": {
    "collapsed": false
   },
   "outputs": [
    {
     "name": "stdout",
     "output_type": "stream",
     "text": [
      "('Ba133', 0.8499593661113368)\n",
      "('Back_Th', 0.11905729378301504)\n",
      "('Back_K', 0.01574563185696871)\n",
      "('Back_U', 0.015237708248679399)\n",
      "('U235', 0.0)\n",
      "\n",
      "\n",
      "('Ba133', 0.8939623790696212)\n",
      "('Back_Th', 0.03925428874613645)\n",
      "('Back_U', 0.03395918333178101)\n",
      "('Back_K', 0.017143611190704938)\n",
      "('I131', 0.010330148635405682)\n"
     ]
    }
   ],
   "source": [
    "index = 100\n",
    "\n",
    "logits_test = model.predict(training_data[index])\n",
    "\n",
    "an.results2(training_keys[index],5)\n",
    "print '\\n'\n",
    "an.results2(logits_test.numpy()[0][0],5)"
   ]
  }
 ],
 "metadata": {
  "kernelspec": {
   "display_name": "Python 2",
   "language": "python",
   "name": "python2"
  },
  "language_info": {
   "codemirror_mode": {
    "name": "ipython",
    "version": 2
   },
   "file_extension": ".py",
   "mimetype": "text/x-python",
   "name": "python",
   "nbconvert_exporter": "python",
   "pygments_lexer": "ipython2",
   "version": "2.7.15"
  }
 },
 "nbformat": 4,
 "nbformat_minor": 1
}
