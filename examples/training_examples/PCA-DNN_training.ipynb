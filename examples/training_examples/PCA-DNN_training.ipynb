{
 "cells": [
  {
   "cell_type": "code",
   "execution_count": 1,
   "metadata": {
    "collapsed": false
   },
   "outputs": [
    {
     "name": "stderr",
     "output_type": "stream",
     "text": [
      "/home/ubuntu/anaconda2/lib/python2.7/site-packages/h5py/__init__.py:36: FutureWarning: Conversion of the second argument of issubdtype from `float` to `np.floating` is deprecated. In future, it will be treated as `np.float64 == np.dtype(float).type`.\n",
      "  from ._conv import register_converters as _register_converters\n"
     ]
    }
   ],
   "source": [
    "%matplotlib inline\n",
    "import matplotlib.pyplot as plt\n",
    "import tensorflow.contrib.eager as tfe\n",
    "import tensorflow as tf\n",
    "from sklearn.pipeline import make_pipeline\n",
    "from sklearn.preprocessing import FunctionTransformer, LabelBinarizer, StandardScaler\n",
    "from sklearn.decomposition import PCA\n",
    "import pickle\n",
    "import numpy as np"
   ]
  },
  {
   "cell_type": "code",
   "execution_count": 2,
   "metadata": {
    "collapsed": false
   },
   "outputs": [],
   "source": [
    "tf.enable_eager_execution()"
   ]
  },
  {
   "cell_type": "markdown",
   "metadata": {},
   "source": [
    "#### Define neural network"
   ]
  },
  {
   "cell_type": "code",
   "execution_count": 3,
   "metadata": {
    "collapsed": false
   },
   "outputs": [],
   "source": [
    "from annsa.model_classes import dnn_model_features,dnn,save_model\n",
    "from annsa import read_spectrum"
   ]
  },
  {
   "cell_type": "code",
   "execution_count": 4,
   "metadata": {
    "collapsed": true
   },
   "outputs": [],
   "source": [
    "scaler=make_pipeline(FunctionTransformer(np.log1p),PCA(n_components=50))\n",
    "mlb=LabelBinarizer()\n",
    "\n",
    "training_data = np.load('FINAL_template_training_data.npy')\n",
    "training_keys = np.load('FINAL_template_training_keys.npy')\n",
    "training_keys_binarized = mlb.fit_transform(training_keys.reshape([training_data.shape[0],1]))\n",
    "\n",
    "testing_data = np.load('FINAL_template_hyperparameter_training_data.npy')\n",
    "testing_keys = np.load('FINAL_template_hyperparameter_training_keys.npy')\n",
    "testing_keys_binarized = mlb.transform(testing_keys.reshape([testing_data.shape[0],1]))"
   ]
  },
  {
   "cell_type": "markdown",
   "metadata": {
    "collapsed": true
   },
   "source": [
    "### Train and save model"
   ]
  },
  {
   "cell_type": "code",
   "execution_count": 5,
   "metadata": {
    "collapsed": false
   },
   "outputs": [
    {
     "name": "stdout",
     "output_type": "stream",
     "text": [
      "Loss at epoch 1: 2.10 2.02\n",
      "Loss at epoch 2: 2.11 1.96\n",
      "Loss at epoch 3: 2.06 1.94\n",
      "Loss at epoch 4: 2.00 1.93\n",
      "Loss at epoch 5: 1.98 1.93\n",
      "Loss at epoch 6: 2.03 1.94\n",
      "Loss at epoch 7: 2.06 1.94\n",
      "Loss at epoch 8: 2.00 1.91\n",
      "Loss at epoch 9: 2.11 1.91\n",
      "Loss at epoch 10: 2.11 1.93\n",
      "Loss at epoch 11: 1.93 1.91\n",
      "Loss at epoch 12: 2.09 1.92\n",
      "Loss at epoch 13: 2.01 1.93\n",
      "Loss at epoch 14: 1.98 1.91\n",
      "Loss at epoch 15: 2.07 1.90\n",
      "Loss at epoch 16: 2.13 1.91\n",
      "Loss at epoch 17: 2.02 1.91\n",
      "Loss at epoch 18: 2.02 1.93\n",
      "Loss at epoch 19: 1.97 1.90\n",
      "Loss at epoch 20: 1.99 1.92\n"
     ]
    }
   ],
   "source": [
    "# Load best network features from hyperparmater search\n",
    "model_id='pca_log1p_dnn_119_features'\n",
    "with open('./hyperparameter-search-results/'+model_id,\"rb\" ) as f:\n",
    "        model_features=pickle.load(f)\n",
    "\n",
    "num_epochs=20\n",
    "model_features.scaler.fit(training_data)\n",
    "X_tensor = tf.constant(training_data)\n",
    "y_tensor = tf.constant(training_keys_binarized)\n",
    "train_dataset_tensor = tf.data.Dataset.from_tensor_slices((X_tensor, y_tensor))\n",
    "test_dataset = (testing_data, testing_keys_binarized)\n",
    "\n",
    "tf.reset_default_graph()\n",
    "optimizer = tf.train.AdamOptimizer(model_features.learining_rate)\n",
    "model = dnn(model_features)\n",
    "all_loss_train, all_loss_test = model.fit_batch(train_dataset_tensor,\n",
    "                                                test_dataset,\n",
    "                                                optimizer,\n",
    "                                                num_epochs,\n",
    "                                                early_stopping_patience=0,\n",
    "                                                verbose=1,\n",
    "                                                print_errors=True,\n",
    "                                                max_time=3600)\n",
    "\n"
   ]
  },
  {
   "cell_type": "code",
   "execution_count": 6,
   "metadata": {
    "collapsed": false
   },
   "outputs": [
    {
     "data": {
      "text/plain": [
       "<matplotlib.legend.Legend at 0x7f3a1c752d10>"
      ]
     },
     "execution_count": 6,
     "metadata": {},
     "output_type": "execute_result"
    },
    {
     "data": {
      "image/png": "[encoded data removed]",
      "text/plain": [
       "<matplotlib.figure.Figure at 0x7f3a8002e150>"
      ]
     },
     "metadata": {},
     "output_type": "display_data"
    }
   ],
   "source": [
    "plt.plot(all_loss_train,label='Training loss')\n",
    "plt.plot(all_loss_test,label='Testing loss')\n",
    "plt.ylim([0,5])\n",
    "plt.legend()\n"
   ]
  },
  {
   "cell_type": "raw",
   "metadata": {
    "collapsed": false
   },
   "source": [
    "plt.plot(all_loss_train,label='Training loss')\n",
    "plt.plot(np.linspace(0,len(all_loss_train),20),all_loss_test,label='Testing loss')\n",
    "plt.ylim([0,5])\n",
    "plt.legend()\n"
   ]
  },
  {
   "cell_type": "code",
   "execution_count": 7,
   "metadata": {
    "collapsed": true
   },
   "outputs": [],
   "source": [
    "save_model('final-models','final_model_pca_dnn_20epochs_v2',model,model_features)"
   ]
  }
 ],
 "metadata": {
  "kernelspec": {
   "display_name": "Python 2",
   "language": "python",
   "name": "python2"
  },
  "language_info": {
   "codemirror_mode": {
    "name": "ipython",
    "version": 2
   },
   "file_extension": ".py",
   "mimetype": "text/x-python",
   "name": "python",
   "nbconvert_exporter": "python",
   "pygments_lexer": "ipython2",
   "version": "2.7.15"
  }
 },
 "nbformat": 4,
 "nbformat_minor": 1
}
