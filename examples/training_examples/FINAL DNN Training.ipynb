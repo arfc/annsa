{
 "cells": [
  {
   "cell_type": "code",
   "execution_count": 1,
   "metadata": {
    "collapsed": false
   },
   "outputs": [
    {
     "name": "stderr",
     "output_type": "stream",
     "text": [
      "/home/ubuntu/anaconda2/lib/python2.7/site-packages/h5py/__init__.py:36: FutureWarning: Conversion of the second argument of issubdtype from `float` to `np.floating` is deprecated. In future, it will be treated as `np.float64 == np.dtype(float).type`.\n",
      "  from ._conv import register_converters as _register_converters\n"
     ]
    }
   ],
   "source": [
    "%matplotlib inline\n",
    "import matplotlib.pyplot as plt\n",
    "import sys\n",
    "sys.path.append(\"/home/ubuntu/Notebooks/annsa_update/annsa/\")\n",
    "\n",
    "import tensorflow.contrib.eager as tfe\n",
    "import tensorflow as tf\n",
    "from sklearn.pipeline import make_pipeline\n",
    "from sklearn.preprocessing import FunctionTransformer, LabelBinarizer, StandardScaler\n",
    "from sklearn.decomposition import PCA\n",
    "\n",
    "import numpy as np"
   ]
  },
  {
   "cell_type": "code",
   "execution_count": 2,
   "metadata": {
    "collapsed": false
   },
   "outputs": [],
   "source": [
    "tf.enable_eager_execution()"
   ]
  },
  {
   "cell_type": "markdown",
   "metadata": {},
   "source": [
    "#### Define neural network"
   ]
  },
  {
   "cell_type": "code",
   "execution_count": 3,
   "metadata": {
    "collapsed": false
   },
   "outputs": [],
   "source": [
    "from annsa.model_classes import dnn_model_features,dnn,save_model\n",
    "from annsa import read_spectrum"
   ]
  },
  {
   "cell_type": "code",
   "execution_count": 4,
   "metadata": {
    "collapsed": false
   },
   "outputs": [],
   "source": [
    "scaler=make_pipeline(FunctionTransformer(np.log1p, validate=False))\n",
    "mlb=LabelBinarizer()\n",
    "training_data = np.load('path/to/data.npy')\n",
    "training_keys = np.load('path/to/keys.npy')\n",
    "training_keys_binarized = mlb.fit_transform(training_keys.reshape([training_data.shape[0],1]))"
   ]
  },
  {
   "cell_type": "markdown",
   "metadata": {
    "collapsed": true
   },
   "source": [
    "### Train and save model"
   ]
  },
  {
   "cell_type": "code",
   "execution_count": 5,
   "metadata": {
    "collapsed": false
   },
   "outputs": [
    {
     "name": "stdout",
     "output_type": "stream",
     "text": [
      "Loss at epoch 1: 4.64 4.66\n",
      "Loss at epoch 2: 4.39 4.57\n",
      "Loss at epoch 3: 4.24 4.48\n",
      "Loss at epoch 4: 4.05 4.36\n",
      "Loss at epoch 5: 3.79 4.06\n"
     ]
    }
   ],
   "source": [
    "model_features = dnn_model_features(learining_rate=4.5e-3,\n",
    "                                      l2_regularization_scale=1.09e-3,\n",
    "                                      dropout_probability=1.0-0.96,\n",
    "                                      batch_size=2**9,\n",
    "                                      nodes_layer_1=449,\n",
    "                                      nodes_layer_2=305,\n",
    "                                      scaler=scaler)\n",
    "\n",
    "model_features.scaler.fit(training_data[:])\n",
    "X_tensor = tf.constant(training_data[:])\n",
    "y_tensor = tf.constant(training_keys_binarized[:])\n",
    "train_dataset_tensor = tf.data.Dataset.from_tensor_slices((X_tensor, y_tensor))\n",
    "test_dataset = (training_data[0:100], training_keys_binarized[0:100])\n",
    "\n",
    "tf.reset_default_graph()\n",
    "optimizer = tf.train.AdamOptimizer(model_features.learining_rate)\n",
    "model = dnn(model_features)\n",
    "all_loss_train, all_loss_test = model.fit_batch(train_dataset_tensor,\n",
    "                                                test_dataset,\n",
    "                                                optimizer,\n",
    "                                                num_epochs=5,\n",
    "                                                verbose=1,\n",
    "                                                print_errors=True)\n",
    "\n"
   ]
  },
  {
   "cell_type": "code",
   "execution_count": 6,
   "metadata": {
    "collapsed": false
   },
   "outputs": [
    {
     "data": {
      "text/plain": [
       "[<matplotlib.lines.Line2D at 0x7f92e8071210>]"
      ]
     },
     "execution_count": 6,
     "metadata": {},
     "output_type": "execute_result"
    },
    {
     "data": {
      "image/png": "[encoded data removed]",
      "text/plain": [
       "<matplotlib.figure.Figure at 0x7f92e80711d0>"
      ]
     },
     "metadata": {},
     "output_type": "display_data"
    }
   ],
   "source": [
    "plt.plot(all_loss_train[30:])\n",
    "plt.plot(all_loss_test[30:])"
   ]
  },
  {
   "cell_type": "code",
   "execution_count": 7,
   "metadata": {
    "collapsed": false
   },
   "outputs": [],
   "source": [
    "save_model('final-models','final_model_dnn',model,model_features)"
   ]
  }
 ],
 "metadata": {
  "kernelspec": {
   "display_name": "Python 2",
   "language": "python",
   "name": "python2"
  },
  "language_info": {
   "codemirror_mode": {
    "name": "ipython",
    "version": 2
   },
   "file_extension": ".py",
   "mimetype": "text/x-python",
   "name": "python",
   "nbconvert_exporter": "python",
   "pygments_lexer": "ipython2",
   "version": "2.7.15"
  }
 },
 "nbformat": 4,
 "nbformat_minor": 1
}
