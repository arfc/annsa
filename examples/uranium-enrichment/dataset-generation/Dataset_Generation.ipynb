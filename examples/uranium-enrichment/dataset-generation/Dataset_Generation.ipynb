{
 "cells": [
  {
   "cell_type": "code",
   "execution_count": 7,
   "metadata": {},
   "outputs": [],
   "source": [
    "import matplotlib.pyplot as plt\n",
    "import os\n",
    "\n",
    "from sklearn.pipeline import make_pipeline\n",
    "from sklearn.preprocessing import FunctionTransformer, LabelBinarizer\n",
    "\n",
    "import tensorflow as tf\n",
    "import pickle\n",
    "import numpy as np\n",
    "import pandas as pd\n",
    "\n",
    "from random import choice\n",
    "\n",
    "from annsa.annsa import read_spectrum\n",
    "from annsa.generate_uranium_templates import (generate_uenriched_spectrum,\n",
    "                                              choose_random_uranium_template,\n",
    "                                              choose_uranium_template,)\n",
    "\n",
    "from annsa.template_sampling import *"
   ]
  },
  {
   "cell_type": "markdown",
   "metadata": {},
   "source": [
    "#### Load template dataset"
   ]
  },
  {
   "cell_type": "code",
   "execution_count": 8,
   "metadata": {},
   "outputs": [],
   "source": [
    "background_dataset = pd.read_csv('background_template_dataset.csv')\n",
    "uranium_dataset = pd.read_csv('uranium_templates_final_withbrem.csv')"
   ]
  },
  {
   "cell_type": "code",
   "execution_count": 4,
   "metadata": {},
   "outputs": [],
   "source": [
    "uranium_dataset = uranium_dataset[uranium_dataset['sourcedist'] != 183]\n",
    "uranium_dataset = uranium_dataset[uranium_dataset['sourcedist'] != 250]\n",
    "uranium_dataset = uranium_dataset[uranium_dataset['sourcedist'] != 300]"
   ]
  },
  {
   "cell_type": "markdown",
   "metadata": {},
   "source": [
    "#### Create Dataset"
   ]
  },
  {
   "cell_type": "code",
   "execution_count": null,
   "metadata": {},
   "outputs": [],
   "source": [
    "dataset = {'spectra': [],\n",
    "           'keys': []}\n",
    "\n",
    "total_spectra = 1e5\n",
    "\n",
    "for i in range(int(total_spectra)):\n",
    "    print(i, end='\\r')\n",
    "    enrichment_level = np.random.uniform(0, 1)\n",
    "    integration_time = 10 ** np.random.uniform(np.log10(60),\n",
    "                                               np.log10(3600))\n",
    "    background_cps = np.random.uniform(170,\n",
    "                                       230)\n",
    "    source_background_ratio = 10 ** np.random.uniform(np.log10(1),\n",
    "                                                      np.log10(4))\n",
    "    calibration = [np.random.uniform(-10, 10),\n",
    "                   np.random.uniform(2700 / 3000, 3300 / 3000),\n",
    "                   0]\n",
    "\n",
    "    uranium_template = choose_random_uranium_template(uranium_dataset)\n",
    "\n",
    "    source_spectrum = generate_uenriched_spectrum(\n",
    "        uranium_template,\n",
    "        background_dataset,\n",
    "        enrichment_level=enrichment_level,\n",
    "        integration_time=integration_time,\n",
    "        background_cps=background_cps,\n",
    "        calibration=calibration,\n",
    "        source_background_ratio=source_background_ratio,\n",
    "    )\n",
    "\n",
    "    dataset['spectra'].append(source_spectrum)\n",
    "    dataset['keys'].append(enrichment_level)\n",
    "\n",
    "np.save('uenrichment_dataset_' + str(int(total_spectra)), dataset)"
   ]
  },
  {
   "cell_type": "code",
   "execution_count": null,
   "metadata": {},
   "outputs": [],
   "source": []
  }
 ],
 "metadata": {
  "kernelspec": {
   "display_name": "Environment (conda_tensorflow_p36)",
   "language": "python",
   "name": "conda_tensorflow_p36"
  },
  "language_info": {
   "codemirror_mode": {
    "name": "ipython",
    "version": 3
   },
   "file_extension": ".py",
   "mimetype": "text/x-python",
   "name": "python",
   "nbconvert_exporter": "python",
   "pygments_lexer": "ipython3",
   "version": "3.6.7"
  }
 },
 "nbformat": 4,
 "nbformat_minor": 1
}
