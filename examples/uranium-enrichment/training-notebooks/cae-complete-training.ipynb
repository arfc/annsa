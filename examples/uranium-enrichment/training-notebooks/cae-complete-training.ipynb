{
 "cells": [
  {
   "cell_type": "code",
   "execution_count": 2,
   "metadata": {},
   "outputs": [],
   "source": [
    "import os\n",
    "os.environ[\"CUDA_DEVICE_ORDER\"] = \"PCI_BUS_ID\"\n",
    "os.environ[\"CUDA_VISIBLE_DEVICES\"] = \"7\"\n",
    "\n",
    "from sklearn.model_selection import KFold\n",
    "import tensorflow as tf\n",
    "from tensorflow.keras.models import load_model\n",
    "import numpy as np"
   ]
  },
  {
   "cell_type": "markdown",
   "metadata": {},
   "source": [
    "#### Import model, training function "
   ]
  },
  {
   "cell_type": "code",
   "execution_count": 2,
   "metadata": {},
   "outputs": [
    {
     "name": "stderr",
     "output_type": "stream",
     "text": [
      "Using TensorFlow backend.\n"
     ]
    }
   ],
   "source": [
    "from annsa.load_dataset import dataset_to_spectrakeys\n",
    "from annsa.model_classes import build_cnn_model, compile_model\n",
    "from annsa.load_pretrained_network import load_features"
   ]
  },
  {
   "cell_type": "markdown",
   "metadata": {},
   "source": [
    "## Dataset Construction"
   ]
  },
  {
   "cell_type": "markdown",
   "metadata": {},
   "source": [
    "#### Load dataset"
   ]
  },
  {
   "cell_type": "code",
   "execution_count": 10,
   "metadata": {},
   "outputs": [],
   "source": [
    "dataset = np.load(os.path.join('dataset_generation',\n",
    "                               'uenrichment_dataset_100000.npy'))\n",
    "training_spectra = np.array(dataset.item()['spectra'], dtype='float64')\n",
    "all_keys = np.array(dataset.item()['keys'])"
   ]
  },
  {
   "cell_type": "markdown",
   "metadata": {},
   "source": [
    "## Model Construction"
   ]
  },
  {
   "cell_type": "code",
   "execution_count": 3,
   "metadata": {},
   "outputs": [],
   "source": [
    "architecture_id = os.path.join('..',\n",
    "                               'source-interdiction',\n",
    "                               'hyperparameter_search',\n",
    "                               'hyperparameter-search-results',\n",
    "                               'CNN-kfoldsfull-final-2-reluupdate_28',\n",
    "                              )"
   ]
  },
  {
   "cell_type": "code",
   "execution_count": 20,
   "metadata": {},
   "outputs": [],
   "source": [
    "model_features = load_features(architecture_id)\n",
    "model_features.output_function = tf.nn.sigmoid\n",
    "model_features.cnn_kernels = model_features.cnn_kernel\n",
    "model_features.pool_sizes = model_features.pool_size\n",
    "model_features.loss = tf.keras.losses.mean_squared_error\n",
    "model_features.optimizer = tf.keras.optimizers.Adam\n",
    "model_features.metrics = ['mse']\n",
    "model_features.dropout_rate = model_features.dropout_probability\n",
    "model_features.input_dim = 1024\n",
    "model_features.output_size = 1"
   ]
  },
  {
   "cell_type": "code",
   "execution_count": 21,
   "metadata": {},
   "outputs": [],
   "source": [
    "cae_model = load_model(\n",
    "    os.path.join('..',\n",
    "                 'source-interdiction',\n",
    "                 'final_training_notebooks',\n",
    "                 'final-models-keras',\n",
    "                 'caepretrain-full-final.hdf5'))"
   ]
  },
  {
   "cell_type": "markdown",
   "metadata": {},
   "source": [
    "## Train network"
   ]
  },
  {
   "cell_type": "code",
   "execution_count": 25,
   "metadata": {},
   "outputs": [],
   "source": [
    "num_epochs = 200\n",
    "patience = 10\n",
    "\n",
    "model_id_save_as = 'caednn-full'\n",
    "\n",
    "earlystop_callback = tf.keras.callbacks.EarlyStopping(\n",
    "    monitor='val_mean_squared_error',\n",
    "    patience=patience,\n",
    "    mode='min',\n",
    "    min_delta=0.01,\n",
    "    restore_best_weights=True)"
   ]
  },
  {
   "cell_type": "markdown",
   "metadata": {},
   "source": [
    "## Scale input data"
   ]
  },
  {
   "cell_type": "code",
   "execution_count": 26,
   "metadata": {},
   "outputs": [],
   "source": [
    "training_spectra_scaled = model_features.scaler.transform(training_spectra)"
   ]
  },
  {
   "cell_type": "markdown",
   "metadata": {},
   "source": [
    "# Train"
   ]
  },
  {
   "cell_type": "code",
   "execution_count": 27,
   "metadata": {
    "scrolled": false
   },
   "outputs": [
    {
     "name": "stdout",
     "output_type": "stream",
     "text": [
      "Train on 80000 samples, validate on 20000 samples\n",
      "Epoch 1/200\n",
      "80000/80000 [==============================] - 27s 338us/sample - loss: 0.1172 - mean_squared_error: 0.0380 - val_loss: 0.0450 - val_mean_squared_error: 0.0284\n",
      "Epoch 2/200\n",
      "80000/80000 [==============================] - 24s 299us/sample - loss: 0.0339 - mean_squared_error: 0.0234 - val_loss: 0.0263 - val_mean_squared_error: 0.0195\n",
      "Epoch 3/200\n",
      "80000/80000 [==============================] - 24s 302us/sample - loss: 0.0253 - mean_squared_error: 0.0197 - val_loss: 0.0215 - val_mean_squared_error: 0.0168\n",
      "Epoch 4/200\n",
      "80000/80000 [==============================] - 24s 302us/sample - loss: 0.0221 - mean_squared_error: 0.0178 - val_loss: 0.0189 - val_mean_squared_error: 0.0152\n",
      "Epoch 5/200\n",
      "80000/80000 [==============================] - 24s 300us/sample - loss: 0.0200 - mean_squared_error: 0.0164 - val_loss: 0.0189 - val_mean_squared_error: 0.0156\n",
      "Epoch 6/200\n",
      "80000/80000 [==============================] - 24s 300us/sample - loss: 0.0187 - mean_squared_error: 0.0155 - val_loss: 0.0167 - val_mean_squared_error: 0.0137\n",
      "Epoch 7/200\n",
      "80000/80000 [==============================] - 24s 301us/sample - loss: 0.0178 - mean_squared_error: 0.0149 - val_loss: 0.0159 - val_mean_squared_error: 0.0131\n",
      "Epoch 8/200\n",
      "80000/80000 [==============================] - 24s 305us/sample - loss: 0.0169 - mean_squared_error: 0.0141 - val_loss: 0.0157 - val_mean_squared_error: 0.0130\n",
      "Epoch 9/200\n",
      "80000/80000 [==============================] - 24s 303us/sample - loss: 0.0161 - mean_squared_error: 0.0135 - val_loss: 0.0154 - val_mean_squared_error: 0.0129\n",
      "Epoch 10/200\n",
      "80000/80000 [==============================] - 24s 299us/sample - loss: 0.0157 - mean_squared_error: 0.0132 - val_loss: 0.0147 - val_mean_squared_error: 0.0123\n",
      "Epoch 11/200\n",
      "80000/80000 [==============================] - 25s 308us/sample - loss: 0.0151 - mean_squared_error: 0.0128 - val_loss: 0.0138 - val_mean_squared_error: 0.0115\n",
      "Epoch 12/200\n",
      "80000/80000 [==============================] - 24s 304us/sample - loss: 0.0147 - mean_squared_error: 0.0125 - val_loss: 0.0136 - val_mean_squared_error: 0.0112\n",
      "Epoch 13/200\n",
      "80000/80000 [==============================] - 24s 302us/sample - loss: 0.0144 - mean_squared_error: 0.0121 - val_loss: 0.0136 - val_mean_squared_error: 0.0115\n",
      "Train on 80000 samples, validate on 20000 samples\n",
      "Epoch 1/200\n",
      "80000/80000 [==============================] - 27s 336us/sample - loss: 0.1150 - mean_squared_error: 0.0367 - val_loss: 0.0456 - val_mean_squared_error: 0.0286\n",
      "Epoch 2/200\n",
      "80000/80000 [==============================] - 24s 305us/sample - loss: 0.0342 - mean_squared_error: 0.0234 - val_loss: 0.0275 - val_mean_squared_error: 0.0204\n",
      "Epoch 3/200\n",
      "80000/80000 [==============================] - 25s 314us/sample - loss: 0.0254 - mean_squared_error: 0.0197 - val_loss: 0.0218 - val_mean_squared_error: 0.0171\n",
      "Epoch 4/200\n",
      "80000/80000 [==============================] - 25s 309us/sample - loss: 0.0220 - mean_squared_error: 0.0178 - val_loss: 0.0200 - val_mean_squared_error: 0.0162\n",
      "Epoch 5/200\n",
      "80000/80000 [==============================] - 24s 305us/sample - loss: 0.0202 - mean_squared_error: 0.0167 - val_loss: 0.0184 - val_mean_squared_error: 0.0151\n",
      "Epoch 6/200\n",
      "80000/80000 [==============================] - 24s 304us/sample - loss: 0.0188 - mean_squared_error: 0.0157 - val_loss: 0.0183 - val_mean_squared_error: 0.0153\n",
      "Epoch 7/200\n",
      "80000/80000 [==============================] - 25s 309us/sample - loss: 0.0178 - mean_squared_error: 0.0150 - val_loss: 0.0173 - val_mean_squared_error: 0.0145\n",
      "Epoch 8/200\n",
      "80000/80000 [==============================] - 25s 312us/sample - loss: 0.0170 - mean_squared_error: 0.0143 - val_loss: 0.0160 - val_mean_squared_error: 0.0134\n",
      "Epoch 9/200\n",
      "80000/80000 [==============================] - 24s 296us/sample - loss: 0.0163 - mean_squared_error: 0.0137 - val_loss: 0.0158 - val_mean_squared_error: 0.0133\n",
      "Epoch 10/200\n",
      "80000/80000 [==============================] - 23s 285us/sample - loss: 0.0157 - mean_squared_error: 0.0133 - val_loss: 0.0163 - val_mean_squared_error: 0.0139\n",
      "Epoch 11/200\n",
      "80000/80000 [==============================] - 22s 279us/sample - loss: 0.0152 - mean_squared_error: 0.0129 - val_loss: 0.0143 - val_mean_squared_error: 0.0119\n",
      "Epoch 12/200\n",
      "80000/80000 [==============================] - 23s 289us/sample - loss: 0.0148 - mean_squared_error: 0.0125 - val_loss: 0.0137 - val_mean_squared_error: 0.0114\n",
      "Epoch 13/200\n",
      "80000/80000 [==============================] - 24s 303us/sample - loss: 0.0145 - mean_squared_error: 0.0122 - val_loss: 0.0168 - val_mean_squared_error: 0.0146\n",
      "Train on 80000 samples, validate on 20000 samples\n",
      "Epoch 1/200\n",
      "80000/80000 [==============================] - 28s 353us/sample - loss: 0.1180 - mean_squared_error: 0.0373 - val_loss: 0.0452 - val_mean_squared_error: 0.0266\n",
      "Epoch 2/200\n",
      "80000/80000 [==============================] - 27s 333us/sample - loss: 0.0348 - mean_squared_error: 0.0232 - val_loss: 0.0308 - val_mean_squared_error: 0.0233\n",
      "Epoch 3/200\n",
      "80000/80000 [==============================] - 26s 325us/sample - loss: 0.0253 - mean_squared_error: 0.0194 - val_loss: 0.0224 - val_mean_squared_error: 0.0176\n",
      "Epoch 4/200\n",
      "80000/80000 [==============================] - 25s 314us/sample - loss: 0.0218 - mean_squared_error: 0.0176 - val_loss: 0.0223 - val_mean_squared_error: 0.0185\n",
      "Epoch 5/200\n",
      "80000/80000 [==============================] - 25s 310us/sample - loss: 0.0201 - mean_squared_error: 0.0165 - val_loss: 0.0187 - val_mean_squared_error: 0.0155\n",
      "Epoch 6/200\n",
      "80000/80000 [==============================] - 25s 309us/sample - loss: 0.0187 - mean_squared_error: 0.0156 - val_loss: 0.0173 - val_mean_squared_error: 0.0144\n",
      "Epoch 7/200\n",
      "80000/80000 [==============================] - 24s 306us/sample - loss: 0.0178 - mean_squared_error: 0.0149 - val_loss: 0.0159 - val_mean_squared_error: 0.0132\n",
      "Epoch 8/200\n",
      "80000/80000 [==============================] - 25s 313us/sample - loss: 0.0171 - mean_squared_error: 0.0144 - val_loss: 0.0160 - val_mean_squared_error: 0.0134\n",
      "Epoch 9/200\n",
      "80000/80000 [==============================] - 23s 293us/sample - loss: 0.0165 - mean_squared_error: 0.0139 - val_loss: 0.0154 - val_mean_squared_error: 0.0129\n",
      "Epoch 10/200\n",
      "80000/80000 [==============================] - 22s 280us/sample - loss: 0.0160 - mean_squared_error: 0.0136 - val_loss: 0.0153 - val_mean_squared_error: 0.0128\n",
      "Epoch 11/200\n",
      "80000/80000 [==============================] - 22s 277us/sample - loss: 0.0155 - mean_squared_error: 0.0131 - val_loss: 0.0141 - val_mean_squared_error: 0.0117\n",
      "Epoch 12/200\n",
      "80000/80000 [==============================] - 23s 283us/sample - loss: 0.0152 - mean_squared_error: 0.0129 - val_loss: 0.0136 - val_mean_squared_error: 0.0113\n",
      "Epoch 13/200\n",
      "80000/80000 [==============================] - 23s 292us/sample - loss: 0.0148 - mean_squared_error: 0.0126 - val_loss: 0.0136 - val_mean_squared_error: 0.0114\n",
      "Epoch 14/200\n",
      "80000/80000 [==============================] - 23s 290us/sample - loss: 0.0144 - mean_squared_error: 0.0123 - val_loss: 0.0133 - val_mean_squared_error: 0.0112\n",
      "Epoch 15/200\n",
      "80000/80000 [==============================] - 23s 291us/sample - loss: 0.0141 - mean_squared_error: 0.0120 - val_loss: 0.0141 - val_mean_squared_error: 0.0120\n",
      "Train on 80000 samples, validate on 20000 samples\n",
      "Epoch 1/200\n",
      "80000/80000 [==============================] - 28s 354us/sample - loss: 0.1154 - mean_squared_error: 0.0376 - val_loss: 0.0443 - val_mean_squared_error: 0.0285\n",
      "Epoch 2/200\n",
      "80000/80000 [==============================] - 27s 338us/sample - loss: 0.0336 - mean_squared_error: 0.0237 - val_loss: 0.0275 - val_mean_squared_error: 0.0209\n",
      "Epoch 3/200\n",
      "80000/80000 [==============================] - 26s 322us/sample - loss: 0.0250 - mean_squared_error: 0.0196 - val_loss: 0.0214 - val_mean_squared_error: 0.0170\n",
      "Epoch 4/200\n",
      "80000/80000 [==============================] - 26s 320us/sample - loss: 0.0221 - mean_squared_error: 0.0181 - val_loss: 0.0217 - val_mean_squared_error: 0.0180\n",
      "Epoch 5/200\n",
      "80000/80000 [==============================] - 25s 318us/sample - loss: 0.0202 - mean_squared_error: 0.0168 - val_loss: 0.0187 - val_mean_squared_error: 0.0155\n",
      "Epoch 6/200\n",
      "80000/80000 [==============================] - 25s 318us/sample - loss: 0.0189 - mean_squared_error: 0.0159 - val_loss: 0.0176 - val_mean_squared_error: 0.0147\n",
      "Epoch 7/200\n",
      "80000/80000 [==============================] - 25s 310us/sample - loss: 0.0181 - mean_squared_error: 0.0152 - val_loss: 0.0172 - val_mean_squared_error: 0.0145\n",
      "Epoch 8/200\n",
      "80000/80000 [==============================] - 25s 315us/sample - loss: 0.0172 - mean_squared_error: 0.0146 - val_loss: 0.0155 - val_mean_squared_error: 0.0129\n",
      "Epoch 9/200\n",
      "80000/80000 [==============================] - 25s 310us/sample - loss: 0.0164 - mean_squared_error: 0.0139 - val_loss: 0.0164 - val_mean_squared_error: 0.0139\n",
      "Epoch 10/200\n",
      "80000/80000 [==============================] - 24s 297us/sample - loss: 0.0160 - mean_squared_error: 0.0135 - val_loss: 0.0156 - val_mean_squared_error: 0.0132\n",
      "Epoch 11/200\n",
      "80000/80000 [==============================] - 24s 298us/sample - loss: 0.0154 - mean_squared_error: 0.0131 - val_loss: 0.0144 - val_mean_squared_error: 0.0122\n",
      "Epoch 12/200\n",
      "80000/80000 [==============================] - 24s 295us/sample - loss: 0.0149 - mean_squared_error: 0.0126 - val_loss: 0.0139 - val_mean_squared_error: 0.0116\n",
      "Epoch 13/200\n",
      "80000/80000 [==============================] - 24s 294us/sample - loss: 0.0146 - mean_squared_error: 0.0124 - val_loss: 0.0135 - val_mean_squared_error: 0.0114\n",
      "Train on 80000 samples, validate on 20000 samples\n",
      "Epoch 1/200\n",
      "80000/80000 [==============================] - 26s 321us/sample - loss: 0.1139 - mean_squared_error: 0.0370 - val_loss: 0.0432 - val_mean_squared_error: 0.0250\n",
      "Epoch 2/200\n",
      "80000/80000 [==============================] - 23s 285us/sample - loss: 0.0346 - mean_squared_error: 0.0231 - val_loss: 0.0274 - val_mean_squared_error: 0.0199\n",
      "Epoch 3/200\n",
      "80000/80000 [==============================] - 22s 277us/sample - loss: 0.0258 - mean_squared_error: 0.0200 - val_loss: 0.0254 - val_mean_squared_error: 0.0206\n",
      "Epoch 4/200\n",
      "80000/80000 [==============================] - 22s 279us/sample - loss: 0.0223 - mean_squared_error: 0.0181 - val_loss: 0.0198 - val_mean_squared_error: 0.0161\n",
      "Epoch 5/200\n",
      "80000/80000 [==============================] - 22s 279us/sample - loss: 0.0204 - mean_squared_error: 0.0169 - val_loss: 0.0185 - val_mean_squared_error: 0.0153\n",
      "Epoch 6/200\n",
      "80000/80000 [==============================] - 22s 273us/sample - loss: 0.0189 - mean_squared_error: 0.0158 - val_loss: 0.0165 - val_mean_squared_error: 0.0136\n",
      "Epoch 7/200\n",
      "80000/80000 [==============================] - 21s 268us/sample - loss: 0.0178 - mean_squared_error: 0.0150 - val_loss: 0.0163 - val_mean_squared_error: 0.0135\n",
      "Epoch 8/200\n",
      "80000/80000 [==============================] - 21s 267us/sample - loss: 0.0171 - mean_squared_error: 0.0144 - val_loss: 0.0153 - val_mean_squared_error: 0.0127\n",
      "Epoch 9/200\n",
      "80000/80000 [==============================] - 22s 269us/sample - loss: 0.0164 - mean_squared_error: 0.0138 - val_loss: 0.0144 - val_mean_squared_error: 0.0120\n",
      "Epoch 10/200\n",
      "80000/80000 [==============================] - 21s 265us/sample - loss: 0.0160 - mean_squared_error: 0.0136 - val_loss: 0.0149 - val_mean_squared_error: 0.0126\n",
      "Epoch 11/200\n",
      "80000/80000 [==============================] - 21s 263us/sample - loss: 0.0155 - mean_squared_error: 0.0132 - val_loss: 0.0152 - val_mean_squared_error: 0.0130\n",
      "Epoch 12/200\n",
      "80000/80000 [==============================] - 21s 262us/sample - loss: 0.0151 - mean_squared_error: 0.0128 - val_loss: 0.0134 - val_mean_squared_error: 0.0112\n",
      "Epoch 13/200\n",
      "80000/80000 [==============================] - 21s 264us/sample - loss: 0.0146 - mean_squared_error: 0.0125 - val_loss: 0.0135 - val_mean_squared_error: 0.0114\n",
      "Epoch 14/200\n",
      "80000/80000 [==============================] - 21s 265us/sample - loss: 0.0144 - mean_squared_error: 0.0123 - val_loss: 0.0128 - val_mean_squared_error: 0.0108\n",
      "Epoch 15/200\n",
      "80000/80000 [==============================] - 21s 263us/sample - loss: 0.0140 - mean_squared_error: 0.0120 - val_loss: 0.0125 - val_mean_squared_error: 0.0104\n",
      "Epoch 16/200\n",
      "80000/80000 [==============================] - 21s 262us/sample - loss: 0.0137 - mean_squared_error: 0.0117 - val_loss: 0.0137 - val_mean_squared_error: 0.0117\n"
     ]
    }
   ],
   "source": [
    "kf = KFold(n_splits=5)\n",
    "\n",
    "k = 0\n",
    "for train_index, validation_index in kf.split(training_spectra_scaled):\n",
    "    model = compile_model(\n",
    "        build_cnn_model,\n",
    "        model_features)\n",
    "    model_weights = model.get_weights()\n",
    "    model_weights_updated = model_weights[:]\n",
    "    model_weights_updated[0:6] = cae_model.get_weights()[0:6]\n",
    "    model.set_weights(model_weights_updated)\n",
    "\n",
    "    csv_logger = tf.keras.callbacks.CSVLogger(\n",
    "        os.path.join('final-models-keras/',\n",
    "        model_id_save_as+'_fold' + str(k) + '.log')\n",
    "\n",
    "    output = model.fit(\n",
    "        x=training_spectra_scaled[train_index],\n",
    "        y=all_keys[train_index],\n",
    "        epochs=num_epochs,\n",
    "        verbose=1,\n",
    "        validation_data=(training_spectra_scaled[validation_index],\n",
    "                         all_keys[validation_index]),\n",
    "        shuffle=True,\n",
    "        callbacks=[earlystop_callback, csv_logger],\n",
    "    )\n",
    "    model.save(\n",
    "        os.path.join('final-models-keras',\n",
    "                     model_id_save_as + '_fold' + str(k) + '.hdf5')\n",
    "    k += 1"
   ]
  },
  {
   "cell_type": "code",
   "execution_count": null,
   "metadata": {},
   "outputs": [],
   "source": []
  }
 ],
 "metadata": {
  "kernelspec": {
   "display_name": "Environment (conda_tensorflow_p36_update)",
   "language": "python",
   "name": "conda_tensorflow_p36_update"
  },
  "language_info": {
   "codemirror_mode": {
    "name": "ipython",
    "version": 3
   },
   "file_extension": ".py",
   "mimetype": "text/x-python",
   "name": "python",
   "nbconvert_exporter": "python",
   "pygments_lexer": "ipython3",
   "version": "3.6.7"
  }
 },
 "nbformat": 4,
 "nbformat_minor": 1
}
