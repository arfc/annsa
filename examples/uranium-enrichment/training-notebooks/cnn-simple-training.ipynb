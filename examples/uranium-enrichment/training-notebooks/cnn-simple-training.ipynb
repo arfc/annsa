{
 "cells": [
  {
   "cell_type": "code",
   "execution_count": 3,
   "metadata": {},
   "outputs": [],
   "source": [
    "import os\n",
    "os.environ[\"CUDA_DEVICE_ORDER\"] = \"PCI_BUS_ID\"\n",
    "os.environ[\"CUDA_VISIBLE_DEVICES\"] = \"3\"\n",
    "\n",
    "from sklearn.model_selection import KFold\n",
    "import tensorflow as tf\n",
    "import numpy as np"
   ]
  },
  {
   "cell_type": "markdown",
   "metadata": {},
   "source": [
    "#### Import model, training function "
   ]
  },
  {
   "cell_type": "code",
   "execution_count": 4,
   "metadata": {},
   "outputs": [
    {
     "name": "stderr",
     "output_type": "stream",
     "text": [
      "Using TensorFlow backend.\n"
     ]
    }
   ],
   "source": [
    "from annsa.load_dataset import dataset_to_spectrakeys\n",
    "from annsa.model_classes import build_cnn_model, compile_model\n",
    "from annsa.load_pretrained_network import load_features"
   ]
  },
  {
   "cell_type": "markdown",
   "metadata": {},
   "source": [
    "## Dataset Construction"
   ]
  },
  {
   "cell_type": "markdown",
   "metadata": {},
   "source": [
    "#### Load dataset"
   ]
  },
  {
   "cell_type": "code",
   "execution_count": 12,
   "metadata": {},
   "outputs": [],
   "source": [
    "dataset = np.load(os.path.join('dataset_generation',\n",
    "                               'uenrichment_dataset_100000.npy'))\n",
    "training_spectra = np.array(dataset.item()['spectra'], dtype='float64')\n",
    "all_keys = np.array(dataset.item()['keys'])"
   ]
  },
  {
   "cell_type": "markdown",
   "metadata": {},
   "source": [
    "## Model Construction"
   ]
  },
  {
   "cell_type": "code",
   "execution_count": 13,
   "metadata": {},
   "outputs": [],
   "source": [
    "architecture_id = os.path.join('..',\n",
    "                               'source-interdiction',\n",
    "                               'hyperparameter_search',\n",
    "                               'hyperparameter-search-results',\n",
    "                               'CNN-kfoldseasy-final-1-reluupdate_33',\n",
    "                              )"
   ]
  },
  {
   "cell_type": "code",
   "execution_count": 24,
   "metadata": {},
   "outputs": [],
   "source": [
    "model_features = load_features(architecture_id)\n",
    "model_features.output_function = tf.nn.sigmoid\n",
    "model_features.cnn_kernels = model_features.cnn_kernel\n",
    "model_features.pool_sizes = model_features.pool_size\n",
    "model_features.loss = tf.keras.losses.mean_squared_error\n",
    "model_features.optimizer = tf.keras.optimizers.Adam\n",
    "model_features.metrics = ['mse']\n",
    "model_features.dropout_rate = model_features.dropout_probability\n",
    "model_features.input_dim = 1024\n",
    "model_features.output_size = 1"
   ]
  },
  {
   "cell_type": "markdown",
   "metadata": {},
   "source": [
    "## Train network"
   ]
  },
  {
   "cell_type": "code",
   "execution_count": 28,
   "metadata": {},
   "outputs": [],
   "source": [
    "num_epochs = 200\n",
    "patience = 10\n",
    "\n",
    "model_id_save_as = 'cnn-easy'\n",
    "\n",
    "earlystop_callback = tf.keras.callbacks.EarlyStopping(\n",
    "    monitor='val_mean_squared_error',\n",
    "    patience=patience,\n",
    "    mode='min',\n",
    "    min_delta=0.01,\n",
    "    restore_best_weights=True)"
   ]
  },
  {
   "cell_type": "markdown",
   "metadata": {},
   "source": [
    "## Scale input data"
   ]
  },
  {
   "cell_type": "code",
   "execution_count": 29,
   "metadata": {},
   "outputs": [],
   "source": [
    "training_spectra_scaled = model_features.scaler.transform(training_spectra)"
   ]
  },
  {
   "cell_type": "markdown",
   "metadata": {},
   "source": [
    "# Train"
   ]
  },
  {
   "cell_type": "code",
   "execution_count": 30,
   "metadata": {
    "scrolled": false
   },
   "outputs": [
    {
     "name": "stdout",
     "output_type": "stream",
     "text": [
      "Train on 80000 samples, validate on 20000 samples\n",
      "Epoch 1/200\n",
      "80000/80000 [==============================] - 26s 320us/sample - loss: 0.1202 - mean_squared_error: 0.0406 - val_loss: 0.0489 - val_mean_squared_error: 0.0280\n",
      "Epoch 2/200\n",
      "80000/80000 [==============================] - 24s 296us/sample - loss: 0.0388 - mean_squared_error: 0.0252 - val_loss: 0.0306 - val_mean_squared_error: 0.0218\n",
      "Epoch 3/200\n",
      "80000/80000 [==============================] - 23s 293us/sample - loss: 0.0284 - mean_squared_error: 0.0217 - val_loss: 0.0240 - val_mean_squared_error: 0.0188\n",
      "Epoch 4/200\n",
      "80000/80000 [==============================] - 24s 294us/sample - loss: 0.0242 - mean_squared_error: 0.0197 - val_loss: 0.0212 - val_mean_squared_error: 0.0172\n",
      "Epoch 5/200\n",
      "80000/80000 [==============================] - 23s 291us/sample - loss: 0.0221 - mean_squared_error: 0.0184 - val_loss: 0.0207 - val_mean_squared_error: 0.0173\n",
      "Epoch 6/200\n",
      "80000/80000 [==============================] - 23s 292us/sample - loss: 0.0206 - mean_squared_error: 0.0173 - val_loss: 0.0185 - val_mean_squared_error: 0.0154\n",
      "Epoch 7/200\n",
      "80000/80000 [==============================] - 24s 295us/sample - loss: 0.0196 - mean_squared_error: 0.0166 - val_loss: 0.0180 - val_mean_squared_error: 0.0152\n",
      "Epoch 8/200\n",
      "80000/80000 [==============================] - 23s 293us/sample - loss: 0.0188 - mean_squared_error: 0.0161 - val_loss: 0.0171 - val_mean_squared_error: 0.0145\n",
      "Epoch 9/200\n",
      "80000/80000 [==============================] - 23s 294us/sample - loss: 0.0182 - mean_squared_error: 0.0156 - val_loss: 0.0182 - val_mean_squared_error: 0.0157\n",
      "Epoch 10/200\n",
      "80000/80000 [==============================] - 23s 293us/sample - loss: 0.0177 - mean_squared_error: 0.0152 - val_loss: 0.0169 - val_mean_squared_error: 0.0144\n",
      "Epoch 11/200\n",
      "80000/80000 [==============================] - 24s 295us/sample - loss: 0.0172 - mean_squared_error: 0.0148 - val_loss: 0.0156 - val_mean_squared_error: 0.0133\n",
      "Epoch 12/200\n",
      "80000/80000 [==============================] - 24s 296us/sample - loss: 0.0167 - mean_squared_error: 0.0143 - val_loss: 0.0169 - val_mean_squared_error: 0.0147\n",
      "Epoch 13/200\n",
      "80000/80000 [==============================] - 24s 294us/sample - loss: 0.0163 - mean_squared_error: 0.0141 - val_loss: 0.0160 - val_mean_squared_error: 0.0138\n",
      "Epoch 14/200\n",
      "80000/80000 [==============================] - 25s 306us/sample - loss: 0.0160 - mean_squared_error: 0.0138 - val_loss: 0.0147 - val_mean_squared_error: 0.0126\n",
      "Train on 80000 samples, validate on 20000 samples\n",
      "Epoch 1/200\n",
      "80000/80000 [==============================] - 26s 322us/sample - loss: 0.1271 - mean_squared_error: 0.0392 - val_loss: 0.0489 - val_mean_squared_error: 0.0306\n",
      "Epoch 2/200\n",
      "80000/80000 [==============================] - 24s 298us/sample - loss: 0.0368 - mean_squared_error: 0.0254 - val_loss: 0.0280 - val_mean_squared_error: 0.0206\n",
      "Epoch 3/200\n",
      "80000/80000 [==============================] - 24s 303us/sample - loss: 0.0264 - mean_squared_error: 0.0206 - val_loss: 0.0242 - val_mean_squared_error: 0.0194\n",
      "Epoch 4/200\n",
      "80000/80000 [==============================] - 24s 304us/sample - loss: 0.0232 - mean_squared_error: 0.0191 - val_loss: 0.0212 - val_mean_squared_error: 0.0174\n",
      "Epoch 5/200\n",
      "80000/80000 [==============================] - 24s 295us/sample - loss: 0.0216 - mean_squared_error: 0.0181 - val_loss: 0.0199 - val_mean_squared_error: 0.0167\n",
      "Epoch 6/200\n",
      "80000/80000 [==============================] - 24s 296us/sample - loss: 0.0201 - mean_squared_error: 0.0170 - val_loss: 0.0188 - val_mean_squared_error: 0.0158\n",
      "Epoch 7/200\n",
      "80000/80000 [==============================] - 24s 299us/sample - loss: 0.0190 - mean_squared_error: 0.0162 - val_loss: 0.0187 - val_mean_squared_error: 0.0160\n",
      "Epoch 8/200\n",
      "80000/80000 [==============================] - 24s 302us/sample - loss: 0.0181 - mean_squared_error: 0.0155 - val_loss: 0.0170 - val_mean_squared_error: 0.0145\n",
      "Epoch 9/200\n",
      "80000/80000 [==============================] - 24s 299us/sample - loss: 0.0175 - mean_squared_error: 0.0150 - val_loss: 0.0165 - val_mean_squared_error: 0.0142\n",
      "Epoch 10/200\n",
      "80000/80000 [==============================] - 23s 285us/sample - loss: 0.0168 - mean_squared_error: 0.0145 - val_loss: 0.0180 - val_mean_squared_error: 0.0157\n",
      "Epoch 11/200\n",
      "80000/80000 [==============================] - 22s 279us/sample - loss: 0.0163 - mean_squared_error: 0.0141 - val_loss: 0.0159 - val_mean_squared_error: 0.0137\n",
      "Epoch 12/200\n",
      "80000/80000 [==============================] - 22s 272us/sample - loss: 0.0160 - mean_squared_error: 0.0138 - val_loss: 0.0151 - val_mean_squared_error: 0.0130\n",
      "Epoch 13/200\n",
      "80000/80000 [==============================] - 23s 293us/sample - loss: 0.0154 - mean_squared_error: 0.0133 - val_loss: 0.0150 - val_mean_squared_error: 0.0128\n",
      "Train on 80000 samples, validate on 20000 samples\n",
      "Epoch 1/200\n",
      "80000/80000 [==============================] - 26s 330us/sample - loss: 0.1294 - mean_squared_error: 0.0410 - val_loss: 0.0516 - val_mean_squared_error: 0.0336\n",
      "Epoch 2/200\n",
      "80000/80000 [==============================] - 24s 306us/sample - loss: 0.0390 - mean_squared_error: 0.0285 - val_loss: 0.0309 - val_mean_squared_error: 0.0240\n",
      "Epoch 3/200\n",
      "80000/80000 [==============================] - 25s 311us/sample - loss: 0.0278 - mean_squared_error: 0.0222 - val_loss: 0.0251 - val_mean_squared_error: 0.0205\n",
      "Epoch 4/200\n",
      "80000/80000 [==============================] - 25s 310us/sample - loss: 0.0245 - mean_squared_error: 0.0204 - val_loss: 0.0230 - val_mean_squared_error: 0.0192\n",
      "Epoch 5/200\n",
      "80000/80000 [==============================] - 25s 309us/sample - loss: 0.0227 - mean_squared_error: 0.0192 - val_loss: 0.0212 - val_mean_squared_error: 0.0179\n",
      "Epoch 6/200\n",
      "80000/80000 [==============================] - 24s 300us/sample - loss: 0.0215 - mean_squared_error: 0.0183 - val_loss: 0.0194 - val_mean_squared_error: 0.0165\n",
      "Epoch 7/200\n",
      "80000/80000 [==============================] - 24s 301us/sample - loss: 0.0203 - mean_squared_error: 0.0175 - val_loss: 0.0189 - val_mean_squared_error: 0.0162\n",
      "Epoch 8/200\n",
      "80000/80000 [==============================] - 24s 301us/sample - loss: 0.0194 - mean_squared_error: 0.0167 - val_loss: 0.0183 - val_mean_squared_error: 0.0157\n",
      "Epoch 9/200\n",
      "80000/80000 [==============================] - 24s 300us/sample - loss: 0.0187 - mean_squared_error: 0.0161 - val_loss: 0.0172 - val_mean_squared_error: 0.0149\n",
      "Epoch 10/200\n",
      "80000/80000 [==============================] - 24s 304us/sample - loss: 0.0180 - mean_squared_error: 0.0156 - val_loss: 0.0168 - val_mean_squared_error: 0.0145\n",
      "Epoch 11/200\n",
      "80000/80000 [==============================] - 22s 281us/sample - loss: 0.0175 - mean_squared_error: 0.0151 - val_loss: 0.0171 - val_mean_squared_error: 0.0148\n",
      "Epoch 12/200\n",
      "80000/80000 [==============================] - 22s 274us/sample - loss: 0.0170 - mean_squared_error: 0.0147 - val_loss: 0.0155 - val_mean_squared_error: 0.0133\n",
      "Epoch 13/200\n",
      "80000/80000 [==============================] - 23s 288us/sample - loss: 0.0163 - mean_squared_error: 0.0141 - val_loss: 0.0166 - val_mean_squared_error: 0.0144\n",
      "Train on 80000 samples, validate on 20000 samples\n",
      "Epoch 1/200\n",
      "80000/80000 [==============================] - 25s 315us/sample - loss: 0.1330 - mean_squared_error: 0.0402 - val_loss: 0.0539 - val_mean_squared_error: 0.0320\n",
      "Epoch 2/200\n",
      "80000/80000 [==============================] - 24s 295us/sample - loss: 0.0378 - mean_squared_error: 0.0247 - val_loss: 0.0292 - val_mean_squared_error: 0.0215\n",
      "Epoch 3/200\n",
      "80000/80000 [==============================] - 23s 294us/sample - loss: 0.0264 - mean_squared_error: 0.0205 - val_loss: 0.0224 - val_mean_squared_error: 0.0177\n",
      "Epoch 4/200\n",
      "80000/80000 [==============================] - 24s 301us/sample - loss: 0.0231 - mean_squared_error: 0.0189 - val_loss: 0.0243 - val_mean_squared_error: 0.0205\n",
      "Epoch 5/200\n",
      "80000/80000 [==============================] - 24s 301us/sample - loss: 0.0211 - mean_squared_error: 0.0176 - val_loss: 0.0194 - val_mean_squared_error: 0.0161\n",
      "Epoch 6/200\n",
      "80000/80000 [==============================] - 24s 301us/sample - loss: 0.0196 - mean_squared_error: 0.0165 - val_loss: 0.0179 - val_mean_squared_error: 0.0149\n",
      "Epoch 7/200\n",
      "80000/80000 [==============================] - 25s 312us/sample - loss: 0.0186 - mean_squared_error: 0.0158 - val_loss: 0.0185 - val_mean_squared_error: 0.0158\n",
      "Epoch 8/200\n",
      "80000/80000 [==============================] - 25s 310us/sample - loss: 0.0177 - mean_squared_error: 0.0150 - val_loss: 0.0168 - val_mean_squared_error: 0.0142\n",
      "Epoch 9/200\n",
      "80000/80000 [==============================] - 25s 310us/sample - loss: 0.0171 - mean_squared_error: 0.0146 - val_loss: 0.0173 - val_mean_squared_error: 0.0147\n",
      "Epoch 10/200\n",
      "80000/80000 [==============================] - 24s 306us/sample - loss: 0.0166 - mean_squared_error: 0.0142 - val_loss: 0.0159 - val_mean_squared_error: 0.0135\n",
      "Epoch 11/200\n",
      "80000/80000 [==============================] - 24s 302us/sample - loss: 0.0160 - mean_squared_error: 0.0137 - val_loss: 0.0150 - val_mean_squared_error: 0.0128\n",
      "Epoch 12/200\n",
      "80000/80000 [==============================] - 24s 303us/sample - loss: 0.0156 - mean_squared_error: 0.0134 - val_loss: 0.0165 - val_mean_squared_error: 0.0144\n",
      "Train on 80000 samples, validate on 20000 samples\n",
      "Epoch 1/200\n",
      "80000/80000 [==============================] - 26s 331us/sample - loss: 0.1290 - mean_squared_error: 0.0395 - val_loss: 0.0507 - val_mean_squared_error: 0.0334\n",
      "Epoch 2/200\n",
      "80000/80000 [==============================] - 24s 304us/sample - loss: 0.0365 - mean_squared_error: 0.0262 - val_loss: 0.0268 - val_mean_squared_error: 0.0201\n",
      "Epoch 3/200\n",
      "80000/80000 [==============================] - 24s 294us/sample - loss: 0.0262 - mean_squared_error: 0.0208 - val_loss: 0.0226 - val_mean_squared_error: 0.0180\n",
      "Epoch 4/200\n",
      "80000/80000 [==============================] - 24s 295us/sample - loss: 0.0229 - mean_squared_error: 0.0187 - val_loss: 0.0203 - val_mean_squared_error: 0.0166\n",
      "Epoch 5/200\n",
      "80000/80000 [==============================] - 23s 292us/sample - loss: 0.0212 - mean_squared_error: 0.0177 - val_loss: 0.0185 - val_mean_squared_error: 0.0153\n",
      "Epoch 6/200\n",
      "80000/80000 [==============================] - 24s 294us/sample - loss: 0.0201 - mean_squared_error: 0.0170 - val_loss: 0.0190 - val_mean_squared_error: 0.0161\n",
      "Epoch 7/200\n",
      "80000/80000 [==============================] - 23s 292us/sample - loss: 0.0189 - mean_squared_error: 0.0161 - val_loss: 0.0172 - val_mean_squared_error: 0.0145\n",
      "Epoch 8/200\n",
      "80000/80000 [==============================] - 22s 280us/sample - loss: 0.0181 - mean_squared_error: 0.0155 - val_loss: 0.0161 - val_mean_squared_error: 0.0136\n",
      "Epoch 9/200\n",
      "80000/80000 [==============================] - 22s 277us/sample - loss: 0.0174 - mean_squared_error: 0.0149 - val_loss: 0.0156 - val_mean_squared_error: 0.0131\n",
      "Epoch 10/200\n",
      "80000/80000 [==============================] - 22s 272us/sample - loss: 0.0168 - mean_squared_error: 0.0144 - val_loss: 0.0148 - val_mean_squared_error: 0.0125\n",
      "Epoch 11/200\n",
      "80000/80000 [==============================] - 22s 271us/sample - loss: 0.0164 - mean_squared_error: 0.0141 - val_loss: 0.0145 - val_mean_squared_error: 0.0123\n",
      "Epoch 12/200\n",
      "80000/80000 [==============================] - 23s 282us/sample - loss: 0.0159 - mean_squared_error: 0.0137 - val_loss: 0.0144 - val_mean_squared_error: 0.0122\n"
     ]
    }
   ],
   "source": [
    "kf = KFold(n_splits=5)\n",
    "\n",
    "k = 0\n",
    "for train_index, validation_index in kf.split(training_spectra_scaled):\n",
    "    model = compile_model(\n",
    "        build_cnn_model,\n",
    "        model_features)\n",
    "\n",
    "    csv_logger = tf.keras.callbacks.CSVLogger(\n",
    "        os.path.join('final-models-keras/',\n",
    "        model_id_save_as+'_fold' + str(k) + '.log')\n",
    "\n",
    "    output = model.fit(\n",
    "        x=training_spectra_scaled[train_index],\n",
    "        y=all_keys[train_index],\n",
    "        epochs=num_epochs,\n",
    "        verbose=1,\n",
    "        validation_data=(training_spectra_scaled[validation_index],\n",
    "                         all_keys[validation_index]),\n",
    "        shuffle=True,\n",
    "        callbacks=[earlystop_callback, csv_logger],\n",
    "    )\n",
    "    model.save(\n",
    "        os.path.join('final-models-keras',\n",
    "                     model_id_save_as + '_fold' + str(k) + '.hdf5')\n",
    "    k += 1"
   ]
  },
  {
   "cell_type": "code",
   "execution_count": null,
   "metadata": {},
   "outputs": [],
   "source": []
  }
 ],
 "metadata": {
  "kernelspec": {
   "display_name": "Environment (conda_tensorflow_p36_update)",
   "language": "python",
   "name": "conda_tensorflow_p36_update"
  },
  "language_info": {
   "codemirror_mode": {
    "name": "ipython",
    "version": 3
   },
   "file_extension": ".py",
   "mimetype": "text/x-python",
   "name": "python",
   "nbconvert_exporter": "python",
   "pygments_lexer": "ipython3",
   "version": "3.6.7"
  }
 },
 "nbformat": 4,
 "nbformat_minor": 1
}
