{
 "cells": [
  {
   "cell_type": "code",
   "execution_count": 1,
   "metadata": {},
   "outputs": [],
   "source": [
    "import os\n",
    "os.environ[\"CUDA_DEVICE_ORDER\"] = \"PCI_BUS_ID\"\n",
    "os.environ[\"CUDA_VISIBLE_DEVICES\"] = \"5\"\n",
    "\n",
    "from sklearn.model_selection import KFold\n",
    "import tensorflow as tf\n",
    "from tensorflow.keras.models import load_model\n",
    "import numpy as np"
   ]
  },
  {
   "cell_type": "markdown",
   "metadata": {},
   "source": [
    "#### Import model, training function "
   ]
  },
  {
   "cell_type": "code",
   "execution_count": 2,
   "metadata": {},
   "outputs": [
    {
     "name": "stderr",
     "output_type": "stream",
     "text": [
      "Using TensorFlow backend.\n"
     ]
    }
   ],
   "source": [
    "from annsa.load_dataset import dataset_to_spectrakeys\n",
    "from annsa.model_classes import build_dnn_model, compile_model\n",
    "from annsa.load_pretrained_network import load_features"
   ]
  },
  {
   "cell_type": "markdown",
   "metadata": {},
   "source": [
    "## Dataset Construction"
   ]
  },
  {
   "cell_type": "markdown",
   "metadata": {},
   "source": [
    "#### Load dataset"
   ]
  },
  {
   "cell_type": "code",
   "execution_count": 29,
   "metadata": {},
   "outputs": [],
   "source": [
    "dataset = np.load(os.path.join('dataset_generation',\n",
    "                               'uenrichment_dataset_100000.npy'))\n",
    "training_spectra = np.array(dataset.item()['spectra'], dtype='float64')\n",
    "all_keys = np.array(dataset.item()['keys'])"
   ]
  },
  {
   "cell_type": "markdown",
   "metadata": {},
   "source": [
    "## Model Construction"
   ]
  },
  {
   "cell_type": "code",
   "execution_count": 30,
   "metadata": {},
   "outputs": [],
   "source": [
    "architecture_id = os.path.join('..',\n",
    "                               'source-interdiction',\n",
    "                               'final_training_notebooks',\n",
    "                               'final-models',\n",
    "                               'learningcurve-dnn-full-final-features',\n",
    "                              )"
   ]
  },
  {
   "cell_type": "code",
   "execution_count": 31,
   "metadata": {},
   "outputs": [],
   "source": [
    "model_features = load_features(architecture_id)\n",
    "model_features.input_dim = 1024\n",
    "model_features.dropout_rate = model_features.dropout_probability\n",
    "model_features.loss = tf.keras.losses.mean_squared_error\n",
    "model_features.optimizer = tf.keras.optimizers.Adam\n",
    "model_features.output_function = tf.nn.sigmoid\n",
    "model_features.output_size = 1\n",
    "model_features.metrics = ['mse']\n",
    "model_features.learning_rate = model_features.learining_rate"
   ]
  },
  {
   "cell_type": "code",
   "execution_count": 32,
   "metadata": {},
   "outputs": [
    {
     "name": "stdout",
     "output_type": "stream",
     "text": [
      "WARNING:tensorflow:Error in loading the saved optimizer state. As a result, your model is starting with a freshly initialized optimizer.\n"
     ]
    }
   ],
   "source": [
    "dae_model = load_model('../source-interdiction/final_training_notebooks/final-models-keras/daepretrain-full-final.hdf5')"
   ]
  },
  {
   "cell_type": "markdown",
   "metadata": {},
   "source": [
    "## Train network"
   ]
  },
  {
   "cell_type": "code",
   "execution_count": 33,
   "metadata": {},
   "outputs": [],
   "source": [
    "num_epochs = 200\n",
    "patience = 10\n",
    "\n",
    "model_id_save_as = 'daednn-full'\n",
    "\n",
    "earlystop_callback = tf.keras.callbacks.EarlyStopping(\n",
    "    monitor='val_mean_squared_error',\n",
    "    patience=patience,\n",
    "    mode='min',\n",
    "    min_delta=0.01,\n",
    "    restore_best_weights=True)"
   ]
  },
  {
   "cell_type": "markdown",
   "metadata": {},
   "source": [
    "## Scale input data"
   ]
  },
  {
   "cell_type": "code",
   "execution_count": 34,
   "metadata": {},
   "outputs": [],
   "source": [
    "training_spectra_scaled = model_features.scaler.transform(training_spectra)"
   ]
  },
  {
   "cell_type": "markdown",
   "metadata": {},
   "source": [
    "# Train"
   ]
  },
  {
   "cell_type": "code",
   "execution_count": 35,
   "metadata": {
    "scrolled": false
   },
   "outputs": [
    {
     "name": "stdout",
     "output_type": "stream",
     "text": [
      "Train on 80000 samples, validate on 20000 samples\n",
      "Epoch 1/200\n",
      "80000/80000 [==============================] - 11s 141us/sample - loss: 4.3937 - mean_squared_error: 0.2641 - val_loss: 0.4282 - val_mean_squared_error: 0.3325\n",
      "Epoch 2/200\n",
      "80000/80000 [==============================] - 10s 131us/sample - loss: 0.3121 - mean_squared_error: 0.2817 - val_loss: 0.2099 - val_mean_squared_error: 0.1851\n",
      "Epoch 3/200\n",
      "80000/80000 [==============================] - 11s 132us/sample - loss: 0.1604 - mean_squared_error: 0.1434 - val_loss: 0.0553 - val_mean_squared_error: 0.0439\n",
      "Epoch 4/200\n",
      "80000/80000 [==============================] - 10s 131us/sample - loss: 0.0476 - mean_squared_error: 0.0407 - val_loss: 0.0436 - val_mean_squared_error: 0.0384\n",
      "Epoch 5/200\n",
      "80000/80000 [==============================] - 10s 130us/sample - loss: 0.0415 - mean_squared_error: 0.0358 - val_loss: 0.0341 - val_mean_squared_error: 0.0287\n",
      "Epoch 6/200\n",
      "80000/80000 [==============================] - 10s 130us/sample - loss: 0.0393 - mean_squared_error: 0.0332 - val_loss: 0.0337 - val_mean_squared_error: 0.0275\n",
      "Epoch 7/200\n",
      "80000/80000 [==============================] - 10s 130us/sample - loss: 0.0401 - mean_squared_error: 0.0340 - val_loss: 0.0440 - val_mean_squared_error: 0.0384\n",
      "Epoch 8/200\n",
      "80000/80000 [==============================] - 10s 130us/sample - loss: 0.0388 - mean_squared_error: 0.0328 - val_loss: 0.0309 - val_mean_squared_error: 0.0251\n",
      "Epoch 9/200\n",
      "80000/80000 [==============================] - 10s 131us/sample - loss: 0.0385 - mean_squared_error: 0.0327 - val_loss: 0.0340 - val_mean_squared_error: 0.0285\n",
      "Epoch 10/200\n",
      "80000/80000 [==============================] - 11s 133us/sample - loss: 0.0377 - mean_squared_error: 0.0322 - val_loss: 0.0302 - val_mean_squared_error: 0.0250\n",
      "Epoch 11/200\n",
      "80000/80000 [==============================] - 11s 134us/sample - loss: 0.0366 - mean_squared_error: 0.0313 - val_loss: 0.0309 - val_mean_squared_error: 0.0260\n",
      "Epoch 12/200\n",
      "80000/80000 [==============================] - 11s 133us/sample - loss: 0.0359 - mean_squared_error: 0.0308 - val_loss: 0.0300 - val_mean_squared_error: 0.0251\n",
      "Epoch 13/200\n",
      "80000/80000 [==============================] - 11s 132us/sample - loss: 0.0359 - mean_squared_error: 0.0308 - val_loss: 0.0274 - val_mean_squared_error: 0.0225\n",
      "Epoch 14/200\n",
      "80000/80000 [==============================] - 11s 134us/sample - loss: 0.0358 - mean_squared_error: 0.0309 - val_loss: 0.0272 - val_mean_squared_error: 0.0220\n",
      "Epoch 15/200\n",
      "80000/80000 [==============================] - 11s 132us/sample - loss: 0.0343 - mean_squared_error: 0.0294 - val_loss: 0.0286 - val_mean_squared_error: 0.0239\n",
      "Train on 80000 samples, validate on 20000 samples\n",
      "Epoch 1/200\n",
      "80000/80000 [==============================] - 11s 141us/sample - loss: 4.5635 - mean_squared_error: 0.2387 - val_loss: 0.4586 - val_mean_squared_error: 0.3345\n",
      "Epoch 2/200\n",
      "80000/80000 [==============================] - 11s 133us/sample - loss: 0.3559 - mean_squared_error: 0.3222 - val_loss: 0.3374 - val_mean_squared_error: 0.3345\n",
      "Epoch 3/200\n",
      "80000/80000 [==============================] - 11s 132us/sample - loss: 0.1968 - mean_squared_error: 0.1882 - val_loss: 0.0489 - val_mean_squared_error: 0.0407\n",
      "Epoch 4/200\n",
      "80000/80000 [==============================] - 10s 130us/sample - loss: 0.0458 - mean_squared_error: 0.0394 - val_loss: 0.0397 - val_mean_squared_error: 0.0336\n",
      "Epoch 5/200\n",
      "80000/80000 [==============================] - 11s 132us/sample - loss: 0.0420 - mean_squared_error: 0.0358 - val_loss: 0.0380 - val_mean_squared_error: 0.0321\n",
      "Epoch 6/200\n",
      "80000/80000 [==============================] - 11s 134us/sample - loss: 0.0400 - mean_squared_error: 0.0338 - val_loss: 0.0329 - val_mean_squared_error: 0.0275\n",
      "Epoch 7/200\n",
      "80000/80000 [==============================] - 11s 134us/sample - loss: 0.0405 - mean_squared_error: 0.0341 - val_loss: 0.0361 - val_mean_squared_error: 0.0298\n",
      "Epoch 8/200\n",
      "80000/80000 [==============================] - 11s 132us/sample - loss: 0.0383 - mean_squared_error: 0.0326 - val_loss: 0.0304 - val_mean_squared_error: 0.0250\n",
      "Epoch 9/200\n",
      "80000/80000 [==============================] - 11s 132us/sample - loss: 0.0380 - mean_squared_error: 0.0324 - val_loss: 0.0298 - val_mean_squared_error: 0.0248\n",
      "Epoch 10/200\n",
      "80000/80000 [==============================] - 11s 132us/sample - loss: 0.0370 - mean_squared_error: 0.0319 - val_loss: 0.0426 - val_mean_squared_error: 0.0366\n",
      "Epoch 11/200\n",
      "80000/80000 [==============================] - 10s 131us/sample - loss: 0.0364 - mean_squared_error: 0.0313 - val_loss: 0.0302 - val_mean_squared_error: 0.0253\n",
      "Epoch 12/200\n",
      "80000/80000 [==============================] - 10s 130us/sample - loss: 0.0360 - mean_squared_error: 0.0310 - val_loss: 0.0331 - val_mean_squared_error: 0.0286\n",
      "Epoch 13/200\n",
      "80000/80000 [==============================] - 11s 132us/sample - loss: 0.0356 - mean_squared_error: 0.0308 - val_loss: 0.0339 - val_mean_squared_error: 0.0287\n",
      "Epoch 14/200\n",
      "80000/80000 [==============================] - 10s 130us/sample - loss: 0.0351 - mean_squared_error: 0.0302 - val_loss: 0.0326 - val_mean_squared_error: 0.0276\n",
      "Epoch 15/200\n",
      "80000/80000 [==============================] - 10s 127us/sample - loss: 0.0350 - mean_squared_error: 0.0305 - val_loss: 0.0276 - val_mean_squared_error: 0.0234\n",
      "Epoch 16/200\n",
      "80000/80000 [==============================] - 10s 127us/sample - loss: 0.0351 - mean_squared_error: 0.0305 - val_loss: 0.0289 - val_mean_squared_error: 0.0246\n",
      "Train on 80000 samples, validate on 20000 samples\n",
      "Epoch 1/200\n",
      "80000/80000 [==============================] - 11s 138us/sample - loss: 4.0057 - mean_squared_error: 0.3341 - val_loss: 0.3497 - val_mean_squared_error: 0.3358\n",
      "Epoch 2/200\n",
      "80000/80000 [==============================] - 10s 127us/sample - loss: 0.1983 - mean_squared_error: 0.1883 - val_loss: 0.0430 - val_mean_squared_error: 0.0354\n",
      "Epoch 3/200\n",
      "80000/80000 [==============================] - 10s 127us/sample - loss: 0.0446 - mean_squared_error: 0.0381 - val_loss: 0.0398 - val_mean_squared_error: 0.0318\n",
      "Epoch 4/200\n",
      "80000/80000 [==============================] - 10s 127us/sample - loss: 0.0405 - mean_squared_error: 0.0338 - val_loss: 0.0361 - val_mean_squared_error: 0.0287\n",
      "Epoch 5/200\n",
      "80000/80000 [==============================] - 10s 127us/sample - loss: 0.0400 - mean_squared_error: 0.0334 - val_loss: 0.0351 - val_mean_squared_error: 0.0284\n",
      "Epoch 6/200\n",
      "80000/80000 [==============================] - 10s 127us/sample - loss: 0.0367 - mean_squared_error: 0.0307 - val_loss: 0.0312 - val_mean_squared_error: 0.0239\n",
      "Epoch 7/200\n",
      "80000/80000 [==============================] - 10s 127us/sample - loss: 0.0373 - mean_squared_error: 0.0310 - val_loss: 0.0400 - val_mean_squared_error: 0.0323\n",
      "Epoch 8/200\n",
      "80000/80000 [==============================] - 10s 127us/sample - loss: 0.0371 - mean_squared_error: 0.0309 - val_loss: 0.0328 - val_mean_squared_error: 0.0272\n",
      "Epoch 9/200\n",
      "80000/80000 [==============================] - 10s 126us/sample - loss: 0.0367 - mean_squared_error: 0.0309 - val_loss: 0.0306 - val_mean_squared_error: 0.0251\n",
      "Epoch 10/200\n",
      "80000/80000 [==============================] - 10s 126us/sample - loss: 0.0389 - mean_squared_error: 0.0330 - val_loss: 0.0327 - val_mean_squared_error: 0.0274\n",
      "Epoch 11/200\n",
      "80000/80000 [==============================] - 10s 125us/sample - loss: 0.0394 - mean_squared_error: 0.0340 - val_loss: 0.0377 - val_mean_squared_error: 0.0322\n",
      "Epoch 12/200\n",
      "80000/80000 [==============================] - 10s 125us/sample - loss: 0.0371 - mean_squared_error: 0.0318 - val_loss: 0.0287 - val_mean_squared_error: 0.0236\n",
      "Epoch 13/200\n",
      "80000/80000 [==============================] - 10s 125us/sample - loss: 0.0360 - mean_squared_error: 0.0309 - val_loss: 0.0278 - val_mean_squared_error: 0.0232\n",
      "Epoch 14/200\n",
      "80000/80000 [==============================] - 10s 124us/sample - loss: 0.0353 - mean_squared_error: 0.0303 - val_loss: 0.0298 - val_mean_squared_error: 0.0252\n",
      "Epoch 15/200\n",
      "80000/80000 [==============================] - 10s 122us/sample - loss: 0.0356 - mean_squared_error: 0.0307 - val_loss: 0.0270 - val_mean_squared_error: 0.0216\n",
      "Epoch 16/200\n",
      "80000/80000 [==============================] - 10s 122us/sample - loss: 0.0362 - mean_squared_error: 0.0312 - val_loss: 0.0267 - val_mean_squared_error: 0.0221\n",
      "Train on 80000 samples, validate on 20000 samples\n",
      "Epoch 1/200\n",
      "80000/80000 [==============================] - 11s 134us/sample - loss: 4.2367 - mean_squared_error: 0.3352 - val_loss: 0.3478 - val_mean_squared_error: 0.3344\n",
      "Epoch 2/200\n",
      "80000/80000 [==============================] - 10s 123us/sample - loss: 0.2998 - mean_squared_error: 0.2928 - val_loss: 0.0620 - val_mean_squared_error: 0.0513\n",
      "Epoch 3/200\n",
      "80000/80000 [==============================] - 10s 123us/sample - loss: 0.0481 - mean_squared_error: 0.0412 - val_loss: 0.0389 - val_mean_squared_error: 0.0321\n",
      "Epoch 4/200\n",
      "80000/80000 [==============================] - 10s 121us/sample - loss: 0.0418 - mean_squared_error: 0.0352 - val_loss: 0.0402 - val_mean_squared_error: 0.0329\n",
      "Epoch 5/200\n",
      "80000/80000 [==============================] - 10s 121us/sample - loss: 0.0393 - mean_squared_error: 0.0328 - val_loss: 0.0332 - val_mean_squared_error: 0.0273\n",
      "Epoch 6/200\n",
      "80000/80000 [==============================] - 10s 121us/sample - loss: 0.0391 - mean_squared_error: 0.0327 - val_loss: 0.0327 - val_mean_squared_error: 0.0258\n",
      "Epoch 7/200\n",
      "80000/80000 [==============================] - 10s 121us/sample - loss: 0.0386 - mean_squared_error: 0.0322 - val_loss: 0.0300 - val_mean_squared_error: 0.0239\n",
      "Epoch 8/200\n",
      "80000/80000 [==============================] - 10s 121us/sample - loss: 0.0374 - mean_squared_error: 0.0314 - val_loss: 0.0313 - val_mean_squared_error: 0.0255\n",
      "Epoch 9/200\n",
      "80000/80000 [==============================] - 10s 121us/sample - loss: 0.0379 - mean_squared_error: 0.0321 - val_loss: 0.0322 - val_mean_squared_error: 0.0270\n",
      "Epoch 10/200\n",
      "80000/80000 [==============================] - 10s 121us/sample - loss: 0.0363 - mean_squared_error: 0.0309 - val_loss: 0.0293 - val_mean_squared_error: 0.0238\n",
      "Epoch 11/200\n",
      "80000/80000 [==============================] - 10s 121us/sample - loss: 0.0353 - mean_squared_error: 0.0301 - val_loss: 0.0287 - val_mean_squared_error: 0.0242\n",
      "Epoch 12/200\n",
      "80000/80000 [==============================] - 10s 120us/sample - loss: 0.0365 - mean_squared_error: 0.0312 - val_loss: 0.0303 - val_mean_squared_error: 0.0256\n",
      "Epoch 13/200\n",
      "80000/80000 [==============================] - 10s 120us/sample - loss: 0.0367 - mean_squared_error: 0.0319 - val_loss: 0.0301 - val_mean_squared_error: 0.0257\n",
      "Train on 80000 samples, validate on 20000 samples\n",
      "Epoch 1/200\n",
      "80000/80000 [==============================] - 10s 128us/sample - loss: 4.1530 - mean_squared_error: 0.2573 - val_loss: 0.4071 - val_mean_squared_error: 0.3313\n",
      "Epoch 2/200\n",
      "80000/80000 [==============================] - 10s 120us/sample - loss: 0.3457 - mean_squared_error: 0.3264 - val_loss: 0.3369 - val_mean_squared_error: 0.3313\n",
      "Epoch 3/200\n",
      "80000/80000 [==============================] - 10s 120us/sample - loss: 0.3075 - mean_squared_error: 0.3010 - val_loss: 0.2005 - val_mean_squared_error: 0.1826\n",
      "Epoch 4/200\n",
      "80000/80000 [==============================] - 10s 120us/sample - loss: 0.1078 - mean_squared_error: 0.0950 - val_loss: 0.0411 - val_mean_squared_error: 0.0345\n",
      "Epoch 5/200\n",
      "80000/80000 [==============================] - 10s 119us/sample - loss: 0.0434 - mean_squared_error: 0.0371 - val_loss: 0.0365 - val_mean_squared_error: 0.0304\n",
      "Epoch 6/200\n",
      "80000/80000 [==============================] - 10s 119us/sample - loss: 0.0389 - mean_squared_error: 0.0330 - val_loss: 0.0342 - val_mean_squared_error: 0.0282\n",
      "Epoch 7/200\n",
      "80000/80000 [==============================] - 10s 119us/sample - loss: 0.0380 - mean_squared_error: 0.0318 - val_loss: 0.0380 - val_mean_squared_error: 0.0315\n",
      "Epoch 8/200\n",
      "80000/80000 [==============================] - 10s 120us/sample - loss: 0.0388 - mean_squared_error: 0.0326 - val_loss: 0.0337 - val_mean_squared_error: 0.0269\n",
      "Epoch 9/200\n",
      "80000/80000 [==============================] - 10s 119us/sample - loss: 0.0375 - mean_squared_error: 0.0318 - val_loss: 0.0657 - val_mean_squared_error: 0.0600\n",
      "Epoch 10/200\n",
      "80000/80000 [==============================] - 10s 119us/sample - loss: 0.0375 - mean_squared_error: 0.0317 - val_loss: 0.0378 - val_mean_squared_error: 0.0322\n",
      "Epoch 11/200\n",
      "80000/80000 [==============================] - 10s 119us/sample - loss: 0.0378 - mean_squared_error: 0.0322 - val_loss: 0.0298 - val_mean_squared_error: 0.0248\n",
      "Epoch 12/200\n",
      "80000/80000 [==============================] - 9s 119us/sample - loss: 0.0367 - mean_squared_error: 0.0315 - val_loss: 0.0394 - val_mean_squared_error: 0.0342\n",
      "Epoch 13/200\n",
      "80000/80000 [==============================] - 10s 119us/sample - loss: 0.0358 - mean_squared_error: 0.0309 - val_loss: 0.0303 - val_mean_squared_error: 0.0255\n",
      "Epoch 14/200\n",
      "80000/80000 [==============================] - 10s 120us/sample - loss: 0.0396 - mean_squared_error: 0.0344 - val_loss: 0.0374 - val_mean_squared_error: 0.0314\n"
     ]
    }
   ],
   "source": [
    "kf = KFold(n_splits=5)\n",
    "\n",
    "k = 0\n",
    "for train_index, validation_index in kf.split(training_spectra_scaled):\n",
    "    model = compile_model(\n",
    "        build_dnn_model,\n",
    "        model_features)\n",
    "    model_weights = model.get_weights()\n",
    "    model_weights_updated = model_weights[:]\n",
    "    model_weights_updated[0:2] = dae_model.get_weights()[0:2]\n",
    "    model.set_weights(model_weights_updated)\n",
    "\n",
    "    csv_logger = tf.keras.callbacks.CSVLogger(\n",
    "        os.path.join('final-models-keras/',\n",
    "        model_id_save_as+'_fold' + str(k) + '.log')\n",
    "\n",
    "    output = model.fit(\n",
    "        x=training_spectra_scaled[train_index],\n",
    "        y=all_keys[train_index],\n",
    "        epochs=num_epochs,\n",
    "        verbose=1,\n",
    "        validation_data=(training_spectra_scaled[validation_index],\n",
    "                         all_keys[validation_index]),\n",
    "        shuffle=True,\n",
    "        callbacks=[earlystop_callback, csv_logger],\n",
    "    )\n",
    "    model.save(\n",
    "        os.path.join('final-models-keras',\n",
    "                     model_id_save_as + '_fold' + str(k) + '.hdf5')\n",
    "    k += 1"
   ]
  },
  {
   "cell_type": "code",
   "execution_count": null,
   "metadata": {},
   "outputs": [],
   "source": []
  }
 ],
 "metadata": {
  "kernelspec": {
   "display_name": "Environment (conda_tensorflow_p36_update)",
   "language": "python",
   "name": "conda_tensorflow_p36_update"
  },
  "language_info": {
   "codemirror_mode": {
    "name": "ipython",
    "version": 3
   },
   "file_extension": ".py",
   "mimetype": "text/x-python",
   "name": "python",
   "nbconvert_exporter": "python",
   "pygments_lexer": "ipython3",
   "version": "3.6.7"
  }
 },
 "nbformat": 4,
 "nbformat_minor": 1
}
