{
 "cells": [
  {
   "cell_type": "code",
   "execution_count": 1,
   "metadata": {},
   "outputs": [],
   "source": [
    "import os\n",
    "os.environ[\"CUDA_DEVICE_ORDER\"] = \"PCI_BUS_ID\"\n",
    "os.environ[\"CUDA_VISIBLE_DEVICES\"] = \"6\"\n",
    "\n",
    "from sklearn.model_selection import KFold\n",
    "import tensorflow as tf\n",
    "from tensorflow.keras.models import load_model\n",
    "import numpy as np"
   ]
  },
  {
   "cell_type": "markdown",
   "metadata": {},
   "source": [
    "#### Import model, training function "
   ]
  },
  {
   "cell_type": "code",
   "execution_count": 2,
   "metadata": {},
   "outputs": [
    {
     "name": "stderr",
     "output_type": "stream",
     "text": [
      "Using TensorFlow backend.\n"
     ]
    }
   ],
   "source": [
    "from annsa.load_dataset import dataset_to_spectrakeys\n",
    "from annsa.model_classes import build_cnn_model, compile_model\n",
    "from annsa.load_pretrained_network import load_features"
   ]
  },
  {
   "cell_type": "markdown",
   "metadata": {},
   "source": [
    "## Dataset Construction"
   ]
  },
  {
   "cell_type": "markdown",
   "metadata": {},
   "source": [
    "#### Load dataset"
   ]
  },
  {
   "cell_type": "code",
   "execution_count": 17,
   "metadata": {},
   "outputs": [],
   "source": [
    "dataset = np.load(os.path.join('dataset_generation',\n",
    "                               'uenrichment_dataset_100000.npy'))\n",
    "training_spectra = np.array(dataset.item()['spectra'], dtype='float64')\n",
    "all_keys = np.array(dataset.item()['keys'])"
   ]
  },
  {
   "cell_type": "markdown",
   "metadata": {},
   "source": [
    "## Model Construction"
   ]
  },
  {
   "cell_type": "code",
   "execution_count": 18,
   "metadata": {},
   "outputs": [],
   "source": [
    "architecture_id = os.path.join('..',\n",
    "                               'source-interdiction',\n",
    "                               'hyperparameter_search',\n",
    "                               'hyperparameter-search-results',\n",
    "                               'CNN-kfoldseasy-final-1-reluupdate_33',\n",
    "                              )"
   ]
  },
  {
   "cell_type": "code",
   "execution_count": 27,
   "metadata": {},
   "outputs": [],
   "source": [
    "model_features = load_features(architecture_id)\n",
    "model_features.output_function = tf.nn.sigmoid\n",
    "model_features.cnn_kernels = model_features.cnn_kernel\n",
    "model_features.pool_sizes = model_features.pool_size\n",
    "model_features.loss = tf.keras.losses.mean_squared_error\n",
    "model_features.optimizer = tf.keras.optimizers.Adam\n",
    "model_features.metrics = ['mse']\n",
    "model_features.dropout_rate = model_features.dropout_probability\n",
    "model_features.input_dim = 1024\n",
    "model_features.output_size = 1"
   ]
  },
  {
   "cell_type": "code",
   "execution_count": 28,
   "metadata": {},
   "outputs": [],
   "source": [
    "cae_model = load_model(\n",
    "    os.path.join('..',\n",
    "                 'source-interdiction',\n",
    "                 'final_training_notebooks',\n",
    "                 'final-models-keras',\n",
    "                 'caepretrain-easy-final.hdf5'))"
   ]
  },
  {
   "cell_type": "markdown",
   "metadata": {},
   "source": [
    "## Train network"
   ]
  },
  {
   "cell_type": "code",
   "execution_count": 33,
   "metadata": {},
   "outputs": [],
   "source": [
    "num_epochs = 200\n",
    "patience = 10\n",
    "\n",
    "model_id_save_as = 'caednn-easy'\n",
    "\n",
    "earlystop_callback = tf.keras.callbacks.EarlyStopping(\n",
    "    monitor='val_mean_squared_error',\n",
    "    patience=patience,\n",
    "    mode='min',\n",
    "    min_delta=0.01,\n",
    "    restore_best_weights=True)"
   ]
  },
  {
   "cell_type": "markdown",
   "metadata": {},
   "source": [
    "## Scale input data"
   ]
  },
  {
   "cell_type": "code",
   "execution_count": 34,
   "metadata": {},
   "outputs": [],
   "source": [
    "training_spectra_scaled = model_features.scaler.transform(training_spectra)"
   ]
  },
  {
   "cell_type": "markdown",
   "metadata": {},
   "source": [
    "# Train"
   ]
  },
  {
   "cell_type": "code",
   "execution_count": 35,
   "metadata": {
    "scrolled": false
   },
   "outputs": [
    {
     "name": "stdout",
     "output_type": "stream",
     "text": [
      "Train on 80000 samples, validate on 20000 samples\n",
      "Epoch 1/200\n",
      "80000/80000 [==============================] - 26s 319us/sample - loss: 0.0531 - mean_squared_error: 0.0316 - val_loss: 0.0308 - val_mean_squared_error: 0.0240\n",
      "Epoch 2/200\n",
      "80000/80000 [==============================] - 23s 282us/sample - loss: 0.0305 - mean_squared_error: 0.0232 - val_loss: 0.0255 - val_mean_squared_error: 0.0191\n",
      "Epoch 3/200\n",
      "80000/80000 [==============================] - 23s 283us/sample - loss: 0.0271 - mean_squared_error: 0.0203 - val_loss: 0.0243 - val_mean_squared_error: 0.0176\n",
      "Epoch 4/200\n",
      "80000/80000 [==============================] - 23s 284us/sample - loss: 0.0258 - mean_squared_error: 0.0191 - val_loss: 0.0248 - val_mean_squared_error: 0.0182\n",
      "Epoch 5/200\n",
      "80000/80000 [==============================] - 22s 281us/sample - loss: 0.0247 - mean_squared_error: 0.0184 - val_loss: 0.0236 - val_mean_squared_error: 0.0183\n",
      "Epoch 6/200\n",
      "80000/80000 [==============================] - 23s 282us/sample - loss: 0.0244 - mean_squared_error: 0.0182 - val_loss: 0.0243 - val_mean_squared_error: 0.0183\n",
      "Epoch 7/200\n",
      "80000/80000 [==============================] - 23s 284us/sample - loss: 0.0239 - mean_squared_error: 0.0177 - val_loss: 0.0266 - val_mean_squared_error: 0.0197\n",
      "Epoch 8/200\n",
      "80000/80000 [==============================] - 23s 284us/sample - loss: 0.0235 - mean_squared_error: 0.0173 - val_loss: 0.0236 - val_mean_squared_error: 0.0173\n",
      "Epoch 9/200\n",
      "80000/80000 [==============================] - 23s 285us/sample - loss: 0.0233 - mean_squared_error: 0.0171 - val_loss: 0.0237 - val_mean_squared_error: 0.0167\n",
      "Epoch 10/200\n",
      "80000/80000 [==============================] - 23s 283us/sample - loss: 0.0229 - mean_squared_error: 0.0167 - val_loss: 0.0205 - val_mean_squared_error: 0.0154\n",
      "Epoch 11/200\n",
      "80000/80000 [==============================] - 23s 283us/sample - loss: 0.0226 - mean_squared_error: 0.0165 - val_loss: 0.0216 - val_mean_squared_error: 0.0162\n",
      "Train on 80000 samples, validate on 20000 samples\n",
      "Epoch 1/200\n",
      "80000/80000 [==============================] - 26s 320us/sample - loss: 0.0516 - mean_squared_error: 0.0305 - val_loss: 0.0355 - val_mean_squared_error: 0.0278\n",
      "Epoch 2/200\n",
      "80000/80000 [==============================] - 23s 290us/sample - loss: 0.0299 - mean_squared_error: 0.0227 - val_loss: 0.0260 - val_mean_squared_error: 0.0199\n",
      "Epoch 3/200\n",
      "80000/80000 [==============================] - 23s 290us/sample - loss: 0.0265 - mean_squared_error: 0.0202 - val_loss: 0.0247 - val_mean_squared_error: 0.0183\n",
      "Epoch 4/200\n",
      "80000/80000 [==============================] - 23s 283us/sample - loss: 0.0251 - mean_squared_error: 0.0190 - val_loss: 0.0253 - val_mean_squared_error: 0.0203\n",
      "Epoch 5/200\n",
      "80000/80000 [==============================] - 23s 285us/sample - loss: 0.0244 - mean_squared_error: 0.0185 - val_loss: 0.0219 - val_mean_squared_error: 0.0160\n",
      "Epoch 6/200\n",
      "80000/80000 [==============================] - 24s 295us/sample - loss: 0.0235 - mean_squared_error: 0.0176 - val_loss: 0.0200 - val_mean_squared_error: 0.0154\n",
      "Epoch 7/200\n",
      "80000/80000 [==============================] - 23s 288us/sample - loss: 0.0233 - mean_squared_error: 0.0174 - val_loss: 0.0274 - val_mean_squared_error: 0.0214\n",
      "Epoch 8/200\n",
      "80000/80000 [==============================] - 23s 284us/sample - loss: 0.0231 - mean_squared_error: 0.0172 - val_loss: 0.0215 - val_mean_squared_error: 0.0157\n",
      "Epoch 9/200\n",
      "80000/80000 [==============================] - 23s 287us/sample - loss: 0.0229 - mean_squared_error: 0.0169 - val_loss: 0.0240 - val_mean_squared_error: 0.0186\n",
      "Epoch 10/200\n",
      "80000/80000 [==============================] - 23s 292us/sample - loss: 0.0225 - mean_squared_error: 0.0166 - val_loss: 0.0214 - val_mean_squared_error: 0.0154\n",
      "Epoch 11/200\n",
      "80000/80000 [==============================] - 23s 293us/sample - loss: 0.0222 - mean_squared_error: 0.0163 - val_loss: 0.0205 - val_mean_squared_error: 0.0142\n",
      "Epoch 12/200\n",
      "80000/80000 [==============================] - 23s 285us/sample - loss: 0.0221 - mean_squared_error: 0.0161 - val_loss: 0.0192 - val_mean_squared_error: 0.0142\n",
      "Epoch 13/200\n",
      "80000/80000 [==============================] - 22s 276us/sample - loss: 0.0219 - mean_squared_error: 0.0159 - val_loss: 0.0216 - val_mean_squared_error: 0.0161\n",
      "Epoch 14/200\n",
      "80000/80000 [==============================] - 22s 275us/sample - loss: 0.0221 - mean_squared_error: 0.0160 - val_loss: 0.0194 - val_mean_squared_error: 0.0140\n",
      "Epoch 15/200\n",
      "80000/80000 [==============================] - 22s 278us/sample - loss: 0.0215 - mean_squared_error: 0.0156 - val_loss: 0.0245 - val_mean_squared_error: 0.0183\n",
      "Train on 80000 samples, validate on 20000 samples\n",
      "Epoch 1/200\n",
      "80000/80000 [==============================] - 26s 327us/sample - loss: 0.0522 - mean_squared_error: 0.0308 - val_loss: 0.0320 - val_mean_squared_error: 0.0247\n",
      "Epoch 2/200\n",
      "80000/80000 [==============================] - 24s 296us/sample - loss: 0.0297 - mean_squared_error: 0.0226 - val_loss: 0.0293 - val_mean_squared_error: 0.0219\n",
      "Epoch 3/200\n",
      "80000/80000 [==============================] - 24s 298us/sample - loss: 0.0264 - mean_squared_error: 0.0199 - val_loss: 0.0220 - val_mean_squared_error: 0.0166\n",
      "Epoch 4/200\n",
      "80000/80000 [==============================] - 24s 297us/sample - loss: 0.0250 - mean_squared_error: 0.0187 - val_loss: 0.0236 - val_mean_squared_error: 0.0176\n",
      "Epoch 5/200\n",
      "80000/80000 [==============================] - 24s 294us/sample - loss: 0.0243 - mean_squared_error: 0.0182 - val_loss: 0.0245 - val_mean_squared_error: 0.0162\n",
      "Epoch 6/200\n",
      "80000/80000 [==============================] - 23s 285us/sample - loss: 0.0236 - mean_squared_error: 0.0175 - val_loss: 0.0238 - val_mean_squared_error: 0.0171\n",
      "Epoch 7/200\n",
      "80000/80000 [==============================] - 23s 287us/sample - loss: 0.0234 - mean_squared_error: 0.0172 - val_loss: 0.0193 - val_mean_squared_error: 0.0142\n",
      "Epoch 8/200\n",
      "80000/80000 [==============================] - 23s 285us/sample - loss: 0.0229 - mean_squared_error: 0.0168 - val_loss: 0.0247 - val_mean_squared_error: 0.0174\n",
      "Epoch 9/200\n",
      "80000/80000 [==============================] - 23s 286us/sample - loss: 0.0227 - mean_squared_error: 0.0166 - val_loss: 0.0195 - val_mean_squared_error: 0.0149\n",
      "Epoch 10/200\n",
      "80000/80000 [==============================] - 23s 292us/sample - loss: 0.0225 - mean_squared_error: 0.0164 - val_loss: 0.0205 - val_mean_squared_error: 0.0146\n",
      "Epoch 11/200\n",
      "80000/80000 [==============================] - 22s 278us/sample - loss: 0.0223 - mean_squared_error: 0.0163 - val_loss: 0.0218 - val_mean_squared_error: 0.0149\n",
      "Epoch 12/200\n",
      "80000/80000 [==============================] - 22s 273us/sample - loss: 0.0222 - mean_squared_error: 0.0162 - val_loss: 0.0204 - val_mean_squared_error: 0.0152\n",
      "Epoch 13/200\n",
      "80000/80000 [==============================] - 22s 275us/sample - loss: 0.0218 - mean_squared_error: 0.0159 - val_loss: 0.0207 - val_mean_squared_error: 0.0145\n",
      "Epoch 14/200\n",
      "80000/80000 [==============================] - 22s 281us/sample - loss: 0.0219 - mean_squared_error: 0.0160 - val_loss: 0.0218 - val_mean_squared_error: 0.0155\n",
      "Epoch 15/200\n",
      "80000/80000 [==============================] - 23s 288us/sample - loss: 0.0218 - mean_squared_error: 0.0159 - val_loss: 0.0205 - val_mean_squared_error: 0.0150\n",
      "Epoch 16/200\n",
      "80000/80000 [==============================] - 23s 286us/sample - loss: 0.0217 - mean_squared_error: 0.0158 - val_loss: 0.0184 - val_mean_squared_error: 0.0139\n",
      "Epoch 17/200\n",
      "80000/80000 [==============================] - 23s 287us/sample - loss: 0.0217 - mean_squared_error: 0.0158 - val_loss: 0.0204 - val_mean_squared_error: 0.0137\n",
      "Train on 80000 samples, validate on 20000 samples\n",
      "Epoch 1/200\n",
      "80000/80000 [==============================] - 26s 330us/sample - loss: 0.0515 - mean_squared_error: 0.0303 - val_loss: 0.0293 - val_mean_squared_error: 0.0221\n",
      "Epoch 2/200\n",
      "80000/80000 [==============================] - 24s 300us/sample - loss: 0.0296 - mean_squared_error: 0.0225 - val_loss: 0.0251 - val_mean_squared_error: 0.0190\n",
      "Epoch 3/200\n",
      "80000/80000 [==============================] - 23s 294us/sample - loss: 0.0265 - mean_squared_error: 0.0200 - val_loss: 0.0227 - val_mean_squared_error: 0.0176\n",
      "Epoch 4/200\n",
      "80000/80000 [==============================] - 24s 294us/sample - loss: 0.0248 - mean_squared_error: 0.0186 - val_loss: 0.0275 - val_mean_squared_error: 0.0204\n",
      "Epoch 5/200\n",
      "80000/80000 [==============================] - 24s 295us/sample - loss: 0.0241 - mean_squared_error: 0.0180 - val_loss: 0.0246 - val_mean_squared_error: 0.0183\n",
      "Epoch 6/200\n",
      "80000/80000 [==============================] - 24s 295us/sample - loss: 0.0234 - mean_squared_error: 0.0173 - val_loss: 0.0215 - val_mean_squared_error: 0.0158\n",
      "Epoch 7/200\n",
      "80000/80000 [==============================] - 23s 290us/sample - loss: 0.0230 - mean_squared_error: 0.0169 - val_loss: 0.0209 - val_mean_squared_error: 0.0151\n",
      "Epoch 8/200\n",
      "80000/80000 [==============================] - 23s 291us/sample - loss: 0.0229 - mean_squared_error: 0.0168 - val_loss: 0.0225 - val_mean_squared_error: 0.0167\n",
      "Epoch 9/200\n",
      "80000/80000 [==============================] - 23s 291us/sample - loss: 0.0225 - mean_squared_error: 0.0165 - val_loss: 0.0189 - val_mean_squared_error: 0.0141\n",
      "Epoch 10/200\n",
      "80000/80000 [==============================] - 23s 285us/sample - loss: 0.0222 - mean_squared_error: 0.0162 - val_loss: 0.0213 - val_mean_squared_error: 0.0150\n",
      "Epoch 11/200\n",
      "80000/80000 [==============================] - 23s 282us/sample - loss: 0.0220 - mean_squared_error: 0.0160 - val_loss: 0.0216 - val_mean_squared_error: 0.0156\n",
      "Train on 80000 samples, validate on 20000 samples\n",
      "Epoch 1/200\n",
      "80000/80000 [==============================] - 25s 317us/sample - loss: 0.0514 - mean_squared_error: 0.0301 - val_loss: 0.0300 - val_mean_squared_error: 0.0225\n",
      "Epoch 2/200\n",
      "80000/80000 [==============================] - 23s 284us/sample - loss: 0.0291 - mean_squared_error: 0.0223 - val_loss: 0.0240 - val_mean_squared_error: 0.0183\n",
      "Epoch 3/200\n",
      "80000/80000 [==============================] - 23s 281us/sample - loss: 0.0264 - mean_squared_error: 0.0202 - val_loss: 0.0235 - val_mean_squared_error: 0.0177\n",
      "Epoch 4/200\n",
      "80000/80000 [==============================] - 22s 277us/sample - loss: 0.0248 - mean_squared_error: 0.0188 - val_loss: 0.0325 - val_mean_squared_error: 0.0259\n",
      "Epoch 5/200\n",
      "80000/80000 [==============================] - 22s 275us/sample - loss: 0.0240 - mean_squared_error: 0.0181 - val_loss: 0.0237 - val_mean_squared_error: 0.0176\n",
      "Epoch 6/200\n",
      "80000/80000 [==============================] - 22s 279us/sample - loss: 0.0237 - mean_squared_error: 0.0177 - val_loss: 0.0235 - val_mean_squared_error: 0.0175\n",
      "Epoch 7/200\n",
      "80000/80000 [==============================] - 22s 276us/sample - loss: 0.0233 - mean_squared_error: 0.0174 - val_loss: 0.0228 - val_mean_squared_error: 0.0164\n",
      "Epoch 8/200\n",
      "80000/80000 [==============================] - 22s 274us/sample - loss: 0.0232 - mean_squared_error: 0.0172 - val_loss: 0.0207 - val_mean_squared_error: 0.0148\n",
      "Epoch 9/200\n",
      "80000/80000 [==============================] - 21s 268us/sample - loss: 0.0229 - mean_squared_error: 0.0169 - val_loss: 0.0241 - val_mean_squared_error: 0.0183\n",
      "Epoch 10/200\n",
      "80000/80000 [==============================] - 21s 267us/sample - loss: 0.0225 - mean_squared_error: 0.0166 - val_loss: 0.0216 - val_mean_squared_error: 0.0168\n",
      "Epoch 11/200\n",
      "80000/80000 [==============================] - 21s 266us/sample - loss: 0.0224 - mean_squared_error: 0.0166 - val_loss: 0.0209 - val_mean_squared_error: 0.0146\n"
     ]
    }
   ],
   "source": [
    "kf = KFold(n_splits=5)\n",
    "\n",
    "k = 0\n",
    "for train_index, validation_index in kf.split(training_spectra_scaled):\n",
    "    model = compile_model(\n",
    "        build_cnn_model,\n",
    "        model_features)\n",
    "    model_weights = model.get_weights()\n",
    "    model_weights_updated = model_weights[:]\n",
    "    model_weights_updated[0:6] = cae_model.get_weights()[0:6]\n",
    "    model.set_weights(model_weights_updated)\n",
    "\n",
    "    csv_logger = tf.keras.callbacks.CSVLogger(\n",
    "        os.path.join('final-models-keras/',\n",
    "        model_id_save_as+'_fold' + str(k) + '.log')\n",
    "\n",
    "    output = model.fit(\n",
    "        x=training_spectra_scaled[train_index],\n",
    "        y=all_keys[train_index],\n",
    "        epochs=num_epochs,\n",
    "        verbose=1,\n",
    "        validation_data=(training_spectra_scaled[validation_index],\n",
    "                         all_keys[validation_index]),\n",
    "        shuffle=True,\n",
    "        callbacks=[earlystop_callback, csv_logger],\n",
    "    )\n",
    "    model.save(\n",
    "        os.path.join('final-models-keras',\n",
    "                     model_id_save_as + '_fold' + str(k) + '.hdf5')\n",
    "    k += 1"
   ]
  },
  {
   "cell_type": "code",
   "execution_count": null,
   "metadata": {},
   "outputs": [],
   "source": []
  }
 ],
 "metadata": {
  "kernelspec": {
   "display_name": "Environment (conda_tensorflow_p36_update)",
   "language": "python",
   "name": "conda_tensorflow_p36_update"
  },
  "language_info": {
   "codemirror_mode": {
    "name": "ipython",
    "version": 3
   },
   "file_extension": ".py",
   "mimetype": "text/x-python",
   "name": "python",
   "nbconvert_exporter": "python",
   "pygments_lexer": "ipython3",
   "version": "3.6.7"
  }
 },
 "nbformat": 4,
 "nbformat_minor": 1
}
