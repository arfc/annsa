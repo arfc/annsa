{
 "cells": [
  {
   "cell_type": "code",
   "execution_count": 13,
   "metadata": {},
   "outputs": [],
   "source": [
    "import os\n",
    "os.environ[\"CUDA_DEVICE_ORDER\"] = \"PCI_BUS_ID\"\n",
    "os.environ[\"CUDA_VISIBLE_DEVICES\"] = \"4\"\n",
    "\n",
    "from sklearn.model_selection import KFold\n",
    "import tensorflow as tf\n",
    "from tensorflow.keras.models import load_model\n",
    "import numpy as np"
   ]
  },
  {
   "cell_type": "markdown",
   "metadata": {},
   "source": [
    "#### Import model, training function "
   ]
  },
  {
   "cell_type": "code",
   "execution_count": 3,
   "metadata": {},
   "outputs": [
    {
     "name": "stderr",
     "output_type": "stream",
     "text": [
      "Using TensorFlow backend.\n"
     ]
    }
   ],
   "source": [
    "from annsa.load_dataset import dataset_to_spectrakeys\n",
    "from annsa.model_classes import build_dnn_model, compile_model\n",
    "from annsa.load_pretrained_network import load_features"
   ]
  },
  {
   "cell_type": "markdown",
   "metadata": {},
   "source": [
    "## Dataset Construction"
   ]
  },
  {
   "cell_type": "markdown",
   "metadata": {},
   "source": [
    "#### Load dataset"
   ]
  },
  {
   "cell_type": "code",
   "execution_count": 37,
   "metadata": {},
   "outputs": [],
   "source": [
    "dataset = np.load(os.path.join('dataset_generation',\n",
    "                               'uenrichment_dataset_100000.npy'))\n",
    "training_spectra = np.array(dataset.item()['spectra'], dtype='float64')\n",
    "all_keys = np.array(dataset.item()['keys'])"
   ]
  },
  {
   "cell_type": "markdown",
   "metadata": {},
   "source": [
    "## Model Construction"
   ]
  },
  {
   "cell_type": "code",
   "execution_count": 38,
   "metadata": {},
   "outputs": [],
   "source": [
    "architecture_id = os.path.join('..',\n",
    "                               'source-interdiction',\n",
    "                               'final_training_notebooks',\n",
    "                               'final-models',\n",
    "                               'learningcurve-dnn-easy-final-features',\n",
    "                              )"
   ]
  },
  {
   "cell_type": "code",
   "execution_count": 39,
   "metadata": {},
   "outputs": [],
   "source": [
    "model_features = load_features(architecture_id)\n",
    "model_features.input_dim = 1024\n",
    "model_features.dropout_rate = model_features.dropout_probability\n",
    "model_features.loss = tf.keras.losses.mean_squared_error\n",
    "model_features.optimizer = tf.keras.optimizers.Adam\n",
    "model_features.output_function = tf.nn.sigmoid\n",
    "model_features.output_size = 1\n",
    "model_features.metrics = ['mse']\n",
    "model_features.learning_rate = model_features.learining_rate"
   ]
  },
  {
   "cell_type": "code",
   "execution_count": 40,
   "metadata": {},
   "outputs": [],
   "source": [
    "dae_model = load_model(\n",
    "    os.path.join('..',\n",
    "                 'source-interdiction',\n",
    "                 'final_training_notebooks',\n",
    "                 'final-models-keras',\n",
    "                 'daepretrain-easy-final.hdf5'))"
   ]
  },
  {
   "cell_type": "markdown",
   "metadata": {},
   "source": [
    "## Train network"
   ]
  },
  {
   "cell_type": "code",
   "execution_count": 41,
   "metadata": {},
   "outputs": [],
   "source": [
    "num_epochs = 200\n",
    "patience = 10\n",
    "\n",
    "# model_id_save_as = 'daednn-keras-easy'\n",
    "model_id_save_as = 'daednn-easy'\n",
    "\n",
    "earlystop_callback = tf.keras.callbacks.EarlyStopping(\n",
    "    monitor='val_mean_squared_error',\n",
    "    patience=patience,\n",
    "    mode='min',\n",
    "    min_delta=0.01,\n",
    "    restore_best_weights=True)"
   ]
  },
  {
   "cell_type": "markdown",
   "metadata": {},
   "source": [
    "## Scale input data"
   ]
  },
  {
   "cell_type": "code",
   "execution_count": 42,
   "metadata": {},
   "outputs": [],
   "source": [
    "training_spectra_scaled = model_features.scaler.transform(training_spectra)"
   ]
  },
  {
   "cell_type": "markdown",
   "metadata": {},
   "source": [
    "# Train"
   ]
  },
  {
   "cell_type": "code",
   "execution_count": 43,
   "metadata": {
    "scrolled": false
   },
   "outputs": [
    {
     "name": "stdout",
     "output_type": "stream",
     "text": [
      "Train on 80000 samples, validate on 20000 samples\n",
      "Epoch 1/200\n",
      "80000/80000 [==============================] - 10s 126us/sample - loss: 1.0325 - mean_squared_error: 0.1541 - val_loss: 0.0613 - val_mean_squared_error: 0.0551\n",
      "Epoch 2/200\n",
      "80000/80000 [==============================] - 9s 116us/sample - loss: 0.0689 - mean_squared_error: 0.0622 - val_loss: 0.0628 - val_mean_squared_error: 0.0574\n",
      "Epoch 3/200\n",
      "80000/80000 [==============================] - 9s 116us/sample - loss: 0.0694 - mean_squared_error: 0.0627 - val_loss: 0.0650 - val_mean_squared_error: 0.0544\n",
      "Epoch 4/200\n",
      "80000/80000 [==============================] - 9s 116us/sample - loss: 0.0687 - mean_squared_error: 0.0626 - val_loss: 0.0586 - val_mean_squared_error: 0.0543\n",
      "Epoch 5/200\n",
      "80000/80000 [==============================] - 9s 116us/sample - loss: 0.0647 - mean_squared_error: 0.0597 - val_loss: 0.0567 - val_mean_squared_error: 0.0499\n",
      "Epoch 6/200\n",
      "80000/80000 [==============================] - 9s 118us/sample - loss: 0.0609 - mean_squared_error: 0.0561 - val_loss: 0.0572 - val_mean_squared_error: 0.0533\n",
      "Epoch 7/200\n",
      "80000/80000 [==============================] - 9s 118us/sample - loss: 0.0581 - mean_squared_error: 0.0537 - val_loss: 0.0468 - val_mean_squared_error: 0.0430\n",
      "Epoch 8/200\n",
      "80000/80000 [==============================] - 9s 118us/sample - loss: 0.0580 - mean_squared_error: 0.0534 - val_loss: 0.0494 - val_mean_squared_error: 0.0455\n",
      "Epoch 9/200\n",
      "80000/80000 [==============================] - 9s 119us/sample - loss: 0.0562 - mean_squared_error: 0.0519 - val_loss: 0.0525 - val_mean_squared_error: 0.0487\n",
      "Epoch 10/200\n",
      "80000/80000 [==============================] - 10s 119us/sample - loss: 0.0563 - mean_squared_error: 0.0520 - val_loss: 0.0502 - val_mean_squared_error: 0.0435\n",
      "Epoch 11/200\n",
      "80000/80000 [==============================] - 9s 119us/sample - loss: 0.0565 - mean_squared_error: 0.0521 - val_loss: 0.0815 - val_mean_squared_error: 0.0773\n",
      "Epoch 12/200\n",
      "80000/80000 [==============================] - 9s 117us/sample - loss: 0.0560 - mean_squared_error: 0.0517 - val_loss: 0.0523 - val_mean_squared_error: 0.0477\n",
      "Epoch 13/200\n",
      "80000/80000 [==============================] - 9s 119us/sample - loss: 0.0560 - mean_squared_error: 0.0514 - val_loss: 0.0788 - val_mean_squared_error: 0.0753\n",
      "Epoch 14/200\n",
      "80000/80000 [==============================] - 10s 119us/sample - loss: 0.0557 - mean_squared_error: 0.0513 - val_loss: 0.0589 - val_mean_squared_error: 0.0539\n",
      "Epoch 15/200\n",
      "80000/80000 [==============================] - 9s 118us/sample - loss: 0.0554 - mean_squared_error: 0.0509 - val_loss: 0.0473 - val_mean_squared_error: 0.0434\n",
      "Epoch 16/200\n",
      "80000/80000 [==============================] - 9s 117us/sample - loss: 0.0550 - mean_squared_error: 0.0505 - val_loss: 0.0484 - val_mean_squared_error: 0.0441\n",
      "Epoch 17/200\n",
      "80000/80000 [==============================] - 9s 116us/sample - loss: 0.0551 - mean_squared_error: 0.0506 - val_loss: 0.0529 - val_mean_squared_error: 0.0479\n",
      "Train on 80000 samples, validate on 20000 samples\n",
      "Epoch 1/200\n",
      "80000/80000 [==============================] - 10s 129us/sample - loss: 1.0701 - mean_squared_error: 0.2484 - val_loss: 0.1171 - val_mean_squared_error: 0.0635\n",
      "Epoch 2/200\n",
      "80000/80000 [==============================] - 9s 118us/sample - loss: 0.0827 - mean_squared_error: 0.0690 - val_loss: 0.0613 - val_mean_squared_error: 0.0562\n",
      "Epoch 3/200\n",
      "80000/80000 [==============================] - 9s 118us/sample - loss: 0.0661 - mean_squared_error: 0.0589 - val_loss: 0.0867 - val_mean_squared_error: 0.0800\n",
      "Epoch 4/200\n",
      "80000/80000 [==============================] - 9s 117us/sample - loss: 0.0596 - mean_squared_error: 0.0548 - val_loss: 0.0496 - val_mean_squared_error: 0.0457\n",
      "Epoch 5/200\n",
      "80000/80000 [==============================] - 9s 117us/sample - loss: 0.0588 - mean_squared_error: 0.0543 - val_loss: 0.0497 - val_mean_squared_error: 0.0454\n",
      "Epoch 6/200\n",
      "80000/80000 [==============================] - 9s 118us/sample - loss: 0.0563 - mean_squared_error: 0.0521 - val_loss: 0.0531 - val_mean_squared_error: 0.0494\n",
      "Epoch 7/200\n",
      "80000/80000 [==============================] - 9s 118us/sample - loss: 0.0577 - mean_squared_error: 0.0530 - val_loss: 0.0506 - val_mean_squared_error: 0.0458\n",
      "Epoch 8/200\n",
      "80000/80000 [==============================] - 9s 115us/sample - loss: 0.0560 - mean_squared_error: 0.0517 - val_loss: 0.0541 - val_mean_squared_error: 0.0495\n",
      "Epoch 9/200\n",
      "80000/80000 [==============================] - 9s 115us/sample - loss: 0.0558 - mean_squared_error: 0.0515 - val_loss: 0.0821 - val_mean_squared_error: 0.0778\n",
      "Epoch 10/200\n",
      "80000/80000 [==============================] - 9s 110us/sample - loss: 0.0563 - mean_squared_error: 0.0520 - val_loss: 0.0653 - val_mean_squared_error: 0.0611\n",
      "Epoch 11/200\n",
      "80000/80000 [==============================] - 9s 109us/sample - loss: 0.0553 - mean_squared_error: 0.0510 - val_loss: 0.0490 - val_mean_squared_error: 0.0451\n",
      "Epoch 12/200\n",
      "80000/80000 [==============================] - 9s 109us/sample - loss: 0.0552 - mean_squared_error: 0.0509 - val_loss: 0.0474 - val_mean_squared_error: 0.0432\n",
      "Epoch 13/200\n",
      "80000/80000 [==============================] - 9s 109us/sample - loss: 0.0553 - mean_squared_error: 0.0509 - val_loss: 0.0534 - val_mean_squared_error: 0.0489\n",
      "Epoch 14/200\n",
      "80000/80000 [==============================] - 9s 110us/sample - loss: 0.0549 - mean_squared_error: 0.0507 - val_loss: 0.0488 - val_mean_squared_error: 0.0447\n",
      "Train on 80000 samples, validate on 20000 samples\n",
      "Epoch 1/200\n",
      "80000/80000 [==============================] - 10s 120us/sample - loss: 1.0680 - mean_squared_error: 0.2034 - val_loss: 0.0900 - val_mean_squared_error: 0.0833\n",
      "Epoch 2/200\n",
      "80000/80000 [==============================] - 9s 110us/sample - loss: 0.0805 - mean_squared_error: 0.0740 - val_loss: 0.0937 - val_mean_squared_error: 0.0894\n",
      "Epoch 3/200\n",
      "80000/80000 [==============================] - 9s 112us/sample - loss: 0.0870 - mean_squared_error: 0.0793 - val_loss: 0.0589 - val_mean_squared_error: 0.0535\n",
      "Epoch 4/200\n",
      "80000/80000 [==============================] - 9s 113us/sample - loss: 0.0627 - mean_squared_error: 0.0578 - val_loss: 0.0490 - val_mean_squared_error: 0.0447\n",
      "Epoch 5/200\n",
      "80000/80000 [==============================] - 9s 117us/sample - loss: 0.0598 - mean_squared_error: 0.0554 - val_loss: 0.0502 - val_mean_squared_error: 0.0458\n",
      "Epoch 6/200\n",
      "80000/80000 [==============================] - 9s 117us/sample - loss: 0.0579 - mean_squared_error: 0.0536 - val_loss: 0.0489 - val_mean_squared_error: 0.0452\n",
      "Epoch 7/200\n",
      "80000/80000 [==============================] - 9s 118us/sample - loss: 0.0570 - mean_squared_error: 0.0527 - val_loss: 0.0526 - val_mean_squared_error: 0.0483\n",
      "Epoch 8/200\n",
      "80000/80000 [==============================] - 9s 118us/sample - loss: 0.0594 - mean_squared_error: 0.0545 - val_loss: 0.0497 - val_mean_squared_error: 0.0458\n",
      "Epoch 9/200\n",
      "80000/80000 [==============================] - 9s 118us/sample - loss: 0.0583 - mean_squared_error: 0.0540 - val_loss: 0.0505 - val_mean_squared_error: 0.0435\n",
      "Epoch 10/200\n",
      "80000/80000 [==============================] - 9s 118us/sample - loss: 0.0573 - mean_squared_error: 0.0529 - val_loss: 0.0512 - val_mean_squared_error: 0.0467\n",
      "Epoch 11/200\n",
      "80000/80000 [==============================] - 9s 116us/sample - loss: 0.0555 - mean_squared_error: 0.0512 - val_loss: 0.0485 - val_mean_squared_error: 0.0442\n",
      "Epoch 12/200\n",
      "80000/80000 [==============================] - 9s 116us/sample - loss: 0.0560 - mean_squared_error: 0.0516 - val_loss: 0.0543 - val_mean_squared_error: 0.0498\n",
      "Epoch 13/200\n",
      "80000/80000 [==============================] - 9s 117us/sample - loss: 0.0554 - mean_squared_error: 0.0510 - val_loss: 0.0539 - val_mean_squared_error: 0.0496\n",
      "Epoch 14/200\n",
      "80000/80000 [==============================] - 9s 117us/sample - loss: 0.0566 - mean_squared_error: 0.0520 - val_loss: 0.0493 - val_mean_squared_error: 0.0447\n",
      "Epoch 15/200\n",
      "80000/80000 [==============================] - 9s 117us/sample - loss: 0.0557 - mean_squared_error: 0.0513 - val_loss: 0.0554 - val_mean_squared_error: 0.0512\n",
      "Epoch 16/200\n",
      "80000/80000 [==============================] - 9s 118us/sample - loss: 0.0555 - mean_squared_error: 0.0511 - val_loss: 0.0479 - val_mean_squared_error: 0.0440\n"
     ]
    },
    {
     "name": "stdout",
     "output_type": "stream",
     "text": [
      "Epoch 17/200\n",
      "80000/80000 [==============================] - 10s 120us/sample - loss: 0.0553 - mean_squared_error: 0.0507 - val_loss: 0.0493 - val_mean_squared_error: 0.0450\n",
      "Epoch 18/200\n",
      "80000/80000 [==============================] - 10s 120us/sample - loss: 0.0559 - mean_squared_error: 0.0515 - val_loss: 0.0538 - val_mean_squared_error: 0.0499\n",
      "Epoch 19/200\n",
      "80000/80000 [==============================] - 10s 120us/sample - loss: 0.0553 - mean_squared_error: 0.0509 - val_loss: 0.0468 - val_mean_squared_error: 0.0427\n",
      "Train on 80000 samples, validate on 20000 samples\n",
      "Epoch 1/200\n",
      "80000/80000 [==============================] - 11s 133us/sample - loss: 1.0743 - mean_squared_error: 0.2033 - val_loss: 0.0796 - val_mean_squared_error: 0.0686\n",
      "Epoch 2/200\n",
      "80000/80000 [==============================] - 10s 119us/sample - loss: 0.0670 - mean_squared_error: 0.0591 - val_loss: 0.0710 - val_mean_squared_error: 0.0683\n",
      "Epoch 3/200\n",
      "80000/80000 [==============================] - 9s 116us/sample - loss: 0.0650 - mean_squared_error: 0.0595 - val_loss: 0.0704 - val_mean_squared_error: 0.0570\n",
      "Epoch 4/200\n",
      "80000/80000 [==============================] - 9s 118us/sample - loss: 0.0617 - mean_squared_error: 0.0570 - val_loss: 0.0536 - val_mean_squared_error: 0.0503\n",
      "Epoch 5/200\n",
      "80000/80000 [==============================] - 10s 119us/sample - loss: 0.0592 - mean_squared_error: 0.0548 - val_loss: 0.0489 - val_mean_squared_error: 0.0451\n",
      "Epoch 6/200\n",
      "80000/80000 [==============================] - 10s 121us/sample - loss: 0.0590 - mean_squared_error: 0.0543 - val_loss: 0.0569 - val_mean_squared_error: 0.0518\n",
      "Epoch 7/200\n",
      "80000/80000 [==============================] - 9s 117us/sample - loss: 0.0573 - mean_squared_error: 0.0529 - val_loss: 0.0482 - val_mean_squared_error: 0.0434\n",
      "Epoch 8/200\n",
      "80000/80000 [==============================] - 9s 117us/sample - loss: 0.0577 - mean_squared_error: 0.0534 - val_loss: 0.0528 - val_mean_squared_error: 0.0487\n",
      "Epoch 9/200\n",
      "80000/80000 [==============================] - 10s 119us/sample - loss: 0.0555 - mean_squared_error: 0.0510 - val_loss: 0.0500 - val_mean_squared_error: 0.0439\n",
      "Epoch 10/200\n",
      "80000/80000 [==============================] - 10s 120us/sample - loss: 0.0551 - mean_squared_error: 0.0507 - val_loss: 0.0501 - val_mean_squared_error: 0.0457\n",
      "Epoch 11/200\n",
      "80000/80000 [==============================] - 10s 121us/sample - loss: 0.0561 - mean_squared_error: 0.0518 - val_loss: 0.0558 - val_mean_squared_error: 0.0513\n",
      "Epoch 12/200\n",
      "80000/80000 [==============================] - 10s 119us/sample - loss: 0.0568 - mean_squared_error: 0.0521 - val_loss: 0.0494 - val_mean_squared_error: 0.0449\n",
      "Epoch 13/200\n",
      "80000/80000 [==============================] - 9s 118us/sample - loss: 0.0545 - mean_squared_error: 0.0503 - val_loss: 0.0468 - val_mean_squared_error: 0.0427\n",
      "Epoch 14/200\n",
      "80000/80000 [==============================] - 9s 118us/sample - loss: 0.0549 - mean_squared_error: 0.0505 - val_loss: 0.0600 - val_mean_squared_error: 0.0561\n",
      "Epoch 15/200\n",
      "80000/80000 [==============================] - 9s 118us/sample - loss: 0.0557 - mean_squared_error: 0.0514 - val_loss: 0.0516 - val_mean_squared_error: 0.0471\n",
      "Train on 80000 samples, validate on 20000 samples\n",
      "Epoch 1/200\n",
      "80000/80000 [==============================] - 10s 130us/sample - loss: 1.1185 - mean_squared_error: 0.2502 - val_loss: 0.0610 - val_mean_squared_error: 0.0540\n",
      "Epoch 2/200\n",
      "80000/80000 [==============================] - 9s 118us/sample - loss: 0.0703 - mean_squared_error: 0.0614 - val_loss: 0.0761 - val_mean_squared_error: 0.0566\n",
      "Epoch 3/200\n",
      "80000/80000 [==============================] - 9s 116us/sample - loss: 0.0655 - mean_squared_error: 0.0575 - val_loss: 0.0600 - val_mean_squared_error: 0.0535\n",
      "Epoch 4/200\n",
      "80000/80000 [==============================] - 9s 114us/sample - loss: 0.0612 - mean_squared_error: 0.0556 - val_loss: 0.0559 - val_mean_squared_error: 0.0496\n",
      "Epoch 5/200\n",
      "80000/80000 [==============================] - 9s 114us/sample - loss: 0.0622 - mean_squared_error: 0.0560 - val_loss: 0.0624 - val_mean_squared_error: 0.0576\n",
      "Epoch 6/200\n",
      "80000/80000 [==============================] - 9s 113us/sample - loss: 0.0607 - mean_squared_error: 0.0554 - val_loss: 0.0593 - val_mean_squared_error: 0.0539\n",
      "Epoch 7/200\n",
      "80000/80000 [==============================] - 9s 115us/sample - loss: 0.0597 - mean_squared_error: 0.0551 - val_loss: 0.0669 - val_mean_squared_error: 0.0625\n",
      "Epoch 8/200\n",
      "80000/80000 [==============================] - 9s 114us/sample - loss: 0.0578 - mean_squared_error: 0.0533 - val_loss: 0.0524 - val_mean_squared_error: 0.0466\n",
      "Epoch 9/200\n",
      "80000/80000 [==============================] - 9s 113us/sample - loss: 0.0572 - mean_squared_error: 0.0527 - val_loss: 0.0584 - val_mean_squared_error: 0.0547\n",
      "Epoch 10/200\n",
      "80000/80000 [==============================] - 9s 113us/sample - loss: 0.0563 - mean_squared_error: 0.0519 - val_loss: 0.0512 - val_mean_squared_error: 0.0469\n",
      "Epoch 11/200\n",
      "80000/80000 [==============================] - 9s 114us/sample - loss: 0.0561 - mean_squared_error: 0.0514 - val_loss: 0.0475 - val_mean_squared_error: 0.0436\n",
      "Epoch 12/200\n",
      "80000/80000 [==============================] - 9s 113us/sample - loss: 0.0564 - mean_squared_error: 0.0516 - val_loss: 0.0715 - val_mean_squared_error: 0.0664\n",
      "Epoch 13/200\n",
      "80000/80000 [==============================] - 9s 114us/sample - loss: 0.0562 - mean_squared_error: 0.0517 - val_loss: 0.0539 - val_mean_squared_error: 0.0452\n",
      "Epoch 14/200\n",
      "80000/80000 [==============================] - 9s 113us/sample - loss: 0.0555 - mean_squared_error: 0.0511 - val_loss: 0.0564 - val_mean_squared_error: 0.0520\n",
      "Epoch 15/200\n",
      "80000/80000 [==============================] - 9s 113us/sample - loss: 0.0546 - mean_squared_error: 0.0502 - val_loss: 0.0467 - val_mean_squared_error: 0.0424\n",
      "Epoch 16/200\n",
      "80000/80000 [==============================] - 9s 113us/sample - loss: 0.0552 - mean_squared_error: 0.0504 - val_loss: 0.0573 - val_mean_squared_error: 0.0525\n",
      "Epoch 17/200\n",
      "80000/80000 [==============================] - 9s 112us/sample - loss: 0.0559 - mean_squared_error: 0.0512 - val_loss: 0.0495 - val_mean_squared_error: 0.0446\n",
      "Epoch 18/200\n",
      "80000/80000 [==============================] - 9s 111us/sample - loss: 0.0558 - mean_squared_error: 0.0511 - val_loss: 0.0526 - val_mean_squared_error: 0.0479\n",
      "Epoch 19/200\n",
      "80000/80000 [==============================] - 9s 111us/sample - loss: 0.0547 - mean_squared_error: 0.0504 - val_loss: 0.0479 - val_mean_squared_error: 0.0439\n",
      "Epoch 20/200\n",
      "80000/80000 [==============================] - 9s 111us/sample - loss: 0.0546 - mean_squared_error: 0.0502 - val_loss: 0.0514 - val_mean_squared_error: 0.0442\n",
      "Epoch 21/200\n",
      "80000/80000 [==============================] - 9s 112us/sample - loss: 0.0557 - mean_squared_error: 0.0512 - val_loss: 0.0707 - val_mean_squared_error: 0.0668\n"
     ]
    }
   ],
   "source": [
    "kf = KFold(n_splits=5)\n",
    "\n",
    "k = 0\n",
    "for train_index, validation_index in kf.split(training_spectra_scaled):\n",
    "    model = compile_model(\n",
    "        build_dnn_model,\n",
    "        model_features)\n",
    "    model_weights = model.get_weights()\n",
    "    model_weights_updated = model_weights[:]\n",
    "    model_weights_updated[0:2] = dae_model.get_weights()[0:2]\n",
    "    model.set_weights(model_weights_updated)\n",
    "\n",
    "    csv_logger = tf.keras.callbacks.CSVLogger(\n",
    "        os.path.join('final-models-keras/',\n",
    "        model_id_save_as+'_fold' + str(k) + '.log')\n",
    "\n",
    "    output = model.fit(\n",
    "        x=training_spectra_scaled[train_index],\n",
    "        y=all_keys[train_index],\n",
    "        epochs=num_epochs,\n",
    "        verbose=1,\n",
    "        validation_data=(training_spectra_scaled[validation_index],\n",
    "                         all_keys[validation_index]),\n",
    "        shuffle=True,\n",
    "        callbacks=[earlystop_callback, csv_logger],\n",
    "    )\n",
    "    model.save(\n",
    "        os.path.join('final-models-keras',\n",
    "                     model_id_save_as + '_fold' + str(k) + '.hdf5')\n",
    "    k += 1"
   ]
  },
  {
   "cell_type": "code",
   "execution_count": null,
   "metadata": {},
   "outputs": [],
   "source": []
  }
 ],
 "metadata": {
  "kernelspec": {
   "display_name": "Environment (conda_tensorflow_p36_update)",
   "language": "python",
   "name": "conda_tensorflow_p36_update"
  },
  "language_info": {
   "codemirror_mode": {
    "name": "ipython",
    "version": 3
   },
   "file_extension": ".py",
   "mimetype": "text/x-python",
   "name": "python",
   "nbconvert_exporter": "python",
   "pygments_lexer": "ipython3",
   "version": "3.6.7"
  }
 },
 "nbformat": 4,
 "nbformat_minor": 1
}
