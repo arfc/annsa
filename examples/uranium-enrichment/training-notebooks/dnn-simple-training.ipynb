{
 "cells": [
  {
   "cell_type": "code",
   "execution_count": 1,
   "metadata": {},
   "outputs": [],
   "source": [
    "import os\n",
    "os.environ[\"CUDA_DEVICE_ORDER\"] = \"PCI_BUS_ID\"\n",
    "os.environ[\"CUDA_VISIBLE_DEVICES\"] = \"1\"\n",
    "\n",
    "from sklearn.model_selection import KFold\n",
    "import tensorflow as tf\n",
    "import numpy as np"
   ]
  },
  {
   "cell_type": "markdown",
   "metadata": {},
   "source": [
    "#### Import model, training function "
   ]
  },
  {
   "cell_type": "code",
   "execution_count": 3,
   "metadata": {},
   "outputs": [
    {
     "name": "stderr",
     "output_type": "stream",
     "text": [
      "Using TensorFlow backend.\n"
     ]
    }
   ],
   "source": [
    "from annsa.load_dataset import dataset_to_spectrakeys\n",
    "from annsa.model_classes import build_dnn_model, compile_model\n",
    "from annsa.load_pretrained_network import load_features"
   ]
  },
  {
   "cell_type": "markdown",
   "metadata": {},
   "source": [
    "## Dataset Construction"
   ]
  },
  {
   "cell_type": "markdown",
   "metadata": {},
   "source": [
    "#### Load dataset"
   ]
  },
  {
   "cell_type": "code",
   "execution_count": 17,
   "metadata": {},
   "outputs": [],
   "source": [
    "dataset = np.load(os.path.join('dataset_generation',\n",
    "                               'uenrichment_dataset_100000.npy'))\n",
    "training_spectra = np.array(dataset.item()['spectra'], dtype='float64')\n",
    "all_keys = np.array(dataset.item()['keys'])"
   ]
  },
  {
   "cell_type": "markdown",
   "metadata": {},
   "source": [
    "## Model Construction"
   ]
  },
  {
   "cell_type": "code",
   "execution_count": 18,
   "metadata": {},
   "outputs": [],
   "source": [
    "architecture_id = os.path.join('..',\n",
    "                               'source-interdiction',\n",
    "                               'final_training_notebooks',\n",
    "                               'final-models',\n",
    "                               'learningcurve-dnn-easy-final-features',\n",
    "                              )"
   ]
  },
  {
   "cell_type": "code",
   "execution_count": 30,
   "metadata": {},
   "outputs": [],
   "source": [
    "model_features = load_features(architecture_id)\n",
    "model_features.input_dim = 1024\n",
    "model_features.dropout_rate = model_features.dropout_probability\n",
    "model_features.loss = tf.keras.losses.mean_squared_error\n",
    "model_features.optimizer = tf.keras.optimizers.Adam\n",
    "model_features.output_function = tf.nn.sigmoid\n",
    "model_features.output_size = 1\n",
    "model_features.metrics = ['mse']\n",
    "model_features.learning_rate = model_features.learining_rate"
   ]
  },
  {
   "cell_type": "markdown",
   "metadata": {},
   "source": [
    "## Train network"
   ]
  },
  {
   "cell_type": "code",
   "execution_count": 37,
   "metadata": {},
   "outputs": [],
   "source": [
    "num_epochs = 200\n",
    "patience = 10\n",
    "\n",
    "model_id_save_as = 'dnn-easy'\n",
    "\n",
    "earlystop_callback = tf.keras.callbacks.EarlyStopping(\n",
    "    monitor='val_mean_squared_error',\n",
    "    patience=patience,\n",
    "    mode='min',\n",
    "    min_delta=0.01,\n",
    "    restore_best_weights=True)"
   ]
  },
  {
   "cell_type": "markdown",
   "metadata": {},
   "source": [
    "## Scale input data"
   ]
  },
  {
   "cell_type": "code",
   "execution_count": 38,
   "metadata": {},
   "outputs": [],
   "source": [
    "training_spectra_scaled = model_features.scaler.transform(training_spectra)"
   ]
  },
  {
   "cell_type": "markdown",
   "metadata": {},
   "source": [
    "# Train"
   ]
  },
  {
   "cell_type": "code",
   "execution_count": 39,
   "metadata": {
    "scrolled": false
   },
   "outputs": [
    {
     "name": "stdout",
     "output_type": "stream",
     "text": [
      "Train on 80000 samples, validate on 20000 samples\n",
      "Epoch 1/200\n",
      "80000/80000 [==============================] - 10s 127us/sample - loss: 0.3280 - mean_squared_error: 0.0886 - val_loss: 0.0922 - val_mean_squared_error: 0.0746\n",
      "Epoch 2/200\n",
      "80000/80000 [==============================] - 9s 115us/sample - loss: 0.0823 - mean_squared_error: 0.0720 - val_loss: 0.0741 - val_mean_squared_error: 0.0687\n",
      "Epoch 3/200\n",
      "80000/80000 [==============================] - 9s 118us/sample - loss: 0.0783 - mean_squared_error: 0.0717 - val_loss: 0.0696 - val_mean_squared_error: 0.0648\n",
      "Epoch 4/200\n",
      "80000/80000 [==============================] - 9s 118us/sample - loss: 0.0738 - mean_squared_error: 0.0690 - val_loss: 0.0677 - val_mean_squared_error: 0.0630\n",
      "Epoch 5/200\n",
      "80000/80000 [==============================] - 9s 118us/sample - loss: 0.0720 - mean_squared_error: 0.0676 - val_loss: 0.0634 - val_mean_squared_error: 0.0595\n",
      "Epoch 6/200\n",
      "80000/80000 [==============================] - 9s 119us/sample - loss: 0.0717 - mean_squared_error: 0.0675 - val_loss: 0.0659 - val_mean_squared_error: 0.0619\n",
      "Epoch 7/200\n",
      "80000/80000 [==============================] - 10s 119us/sample - loss: 0.0713 - mean_squared_error: 0.0671 - val_loss: 0.0645 - val_mean_squared_error: 0.0602\n",
      "Epoch 8/200\n",
      "80000/80000 [==============================] - 9s 119us/sample - loss: 0.0718 - mean_squared_error: 0.0676 - val_loss: 0.0655 - val_mean_squared_error: 0.0612\n",
      "Epoch 9/200\n",
      "80000/80000 [==============================] - 10s 121us/sample - loss: 0.0723 - mean_squared_error: 0.0683 - val_loss: 0.0672 - val_mean_squared_error: 0.0631\n",
      "Epoch 10/200\n",
      "80000/80000 [==============================] - 10s 121us/sample - loss: 0.0713 - mean_squared_error: 0.0671 - val_loss: 0.0757 - val_mean_squared_error: 0.0715\n",
      "Epoch 11/200\n",
      "80000/80000 [==============================] - 10s 121us/sample - loss: 0.0711 - mean_squared_error: 0.0668 - val_loss: 0.0815 - val_mean_squared_error: 0.0773\n",
      "Epoch 12/200\n",
      "80000/80000 [==============================] - 10s 121us/sample - loss: 0.0710 - mean_squared_error: 0.0666 - val_loss: 0.0833 - val_mean_squared_error: 0.0793\n",
      "Epoch 13/200\n",
      "80000/80000 [==============================] - 10s 123us/sample - loss: 0.0716 - mean_squared_error: 0.0672 - val_loss: 0.0643 - val_mean_squared_error: 0.0599\n",
      "Epoch 14/200\n",
      "80000/80000 [==============================] - 11s 134us/sample - loss: 0.0706 - mean_squared_error: 0.0663 - val_loss: 0.0639 - val_mean_squared_error: 0.0599\n",
      "Train on 80000 samples, validate on 20000 samples\n",
      "Epoch 1/200\n",
      "80000/80000 [==============================] - 11s 135us/sample - loss: 0.3036 - mean_squared_error: 0.0843 - val_loss: 0.0955 - val_mean_squared_error: 0.0805\n",
      "Epoch 2/200\n",
      "80000/80000 [==============================] - 10s 122us/sample - loss: 0.0812 - mean_squared_error: 0.0744 - val_loss: 0.0744 - val_mean_squared_error: 0.0696\n",
      "Epoch 3/200\n",
      "80000/80000 [==============================] - 10s 123us/sample - loss: 0.0768 - mean_squared_error: 0.0721 - val_loss: 0.0685 - val_mean_squared_error: 0.0636\n",
      "Epoch 4/200\n",
      "80000/80000 [==============================] - 10s 120us/sample - loss: 0.0734 - mean_squared_error: 0.0690 - val_loss: 0.0713 - val_mean_squared_error: 0.0658\n",
      "Epoch 5/200\n",
      "80000/80000 [==============================] - 10s 121us/sample - loss: 0.0717 - mean_squared_error: 0.0677 - val_loss: 0.0651 - val_mean_squared_error: 0.0610\n",
      "Epoch 6/200\n",
      "80000/80000 [==============================] - 9s 117us/sample - loss: 0.0724 - mean_squared_error: 0.0682 - val_loss: 0.0886 - val_mean_squared_error: 0.0834\n",
      "Epoch 7/200\n",
      "80000/80000 [==============================] - 10s 120us/sample - loss: 0.0713 - mean_squared_error: 0.0670 - val_loss: 0.0774 - val_mean_squared_error: 0.0716\n",
      "Epoch 8/200\n",
      "80000/80000 [==============================] - 10s 120us/sample - loss: 0.0716 - mean_squared_error: 0.0675 - val_loss: 0.0657 - val_mean_squared_error: 0.0620\n",
      "Epoch 9/200\n",
      "80000/80000 [==============================] - 10s 120us/sample - loss: 0.0715 - mean_squared_error: 0.0675 - val_loss: 0.0820 - val_mean_squared_error: 0.0776\n",
      "Epoch 10/200\n",
      "80000/80000 [==============================] - 10s 121us/sample - loss: 0.0705 - mean_squared_error: 0.0664 - val_loss: 0.0835 - val_mean_squared_error: 0.0790\n",
      "Epoch 11/200\n",
      "80000/80000 [==============================] - 10s 120us/sample - loss: 0.0715 - mean_squared_error: 0.0669 - val_loss: 0.0682 - val_mean_squared_error: 0.0640\n",
      "Epoch 12/200\n",
      "80000/80000 [==============================] - 11s 133us/sample - loss: 0.0703 - mean_squared_error: 0.0661 - val_loss: 0.0753 - val_mean_squared_error: 0.0712\n",
      "Train on 80000 samples, validate on 20000 samples\n",
      "Epoch 1/200\n",
      "80000/80000 [==============================] - 11s 133us/sample - loss: 0.3065 - mean_squared_error: 0.0880 - val_loss: 0.0788 - val_mean_squared_error: 0.0726\n",
      "Epoch 2/200\n",
      "80000/80000 [==============================] - 9s 118us/sample - loss: 0.0769 - mean_squared_error: 0.0712 - val_loss: 0.1012 - val_mean_squared_error: 0.0908\n",
      "Epoch 3/200\n",
      "80000/80000 [==============================] - 9s 114us/sample - loss: 0.0744 - mean_squared_error: 0.0698 - val_loss: 0.0694 - val_mean_squared_error: 0.0650\n",
      "Epoch 4/200\n",
      "80000/80000 [==============================] - 9s 112us/sample - loss: 0.0725 - mean_squared_error: 0.0683 - val_loss: 0.0665 - val_mean_squared_error: 0.0629\n",
      "Epoch 5/200\n",
      "80000/80000 [==============================] - 9s 112us/sample - loss: 0.0709 - mean_squared_error: 0.0667 - val_loss: 0.0917 - val_mean_squared_error: 0.0825\n",
      "Epoch 6/200\n",
      "80000/80000 [==============================] - 9s 112us/sample - loss: 0.0709 - mean_squared_error: 0.0668 - val_loss: 0.0731 - val_mean_squared_error: 0.0690\n",
      "Epoch 7/200\n",
      "80000/80000 [==============================] - 9s 113us/sample - loss: 0.0713 - mean_squared_error: 0.0672 - val_loss: 0.0693 - val_mean_squared_error: 0.0649\n",
      "Epoch 8/200\n",
      "80000/80000 [==============================] - 9s 109us/sample - loss: 0.0719 - mean_squared_error: 0.0678 - val_loss: 0.0654 - val_mean_squared_error: 0.0621\n",
      "Epoch 9/200\n",
      "80000/80000 [==============================] - 9s 111us/sample - loss: 0.0706 - mean_squared_error: 0.0666 - val_loss: 0.0646 - val_mean_squared_error: 0.0607\n",
      "Epoch 10/200\n",
      "80000/80000 [==============================] - 9s 112us/sample - loss: 0.0715 - mean_squared_error: 0.0675 - val_loss: 0.0661 - val_mean_squared_error: 0.0618\n",
      "Epoch 11/200\n",
      "80000/80000 [==============================] - 9s 114us/sample - loss: 0.0720 - mean_squared_error: 0.0679 - val_loss: 0.0707 - val_mean_squared_error: 0.0663\n",
      "Epoch 12/200\n",
      "80000/80000 [==============================] - 9s 116us/sample - loss: 0.0719 - mean_squared_error: 0.0679 - val_loss: 0.0780 - val_mean_squared_error: 0.0741\n",
      "Epoch 13/200\n",
      "80000/80000 [==============================] - 10s 119us/sample - loss: 0.0715 - mean_squared_error: 0.0673 - val_loss: 0.0696 - val_mean_squared_error: 0.0656\n",
      "Epoch 14/200\n",
      "80000/80000 [==============================] - 10s 119us/sample - loss: 0.0716 - mean_squared_error: 0.0676 - val_loss: 0.0661 - val_mean_squared_error: 0.0618\n",
      "Epoch 15/200\n",
      "80000/80000 [==============================] - 10s 120us/sample - loss: 0.0708 - mean_squared_error: 0.0665 - val_loss: 0.0765 - val_mean_squared_error: 0.0724\n",
      "Epoch 16/200\n",
      "80000/80000 [==============================] - 10s 120us/sample - loss: 0.0714 - mean_squared_error: 0.0673 - val_loss: 0.0652 - val_mean_squared_error: 0.0609\n",
      "Epoch 17/200\n",
      "80000/80000 [==============================] - 10s 121us/sample - loss: 0.0713 - mean_squared_error: 0.0671 - val_loss: 0.0715 - val_mean_squared_error: 0.0676\n",
      "Epoch 18/200\n",
      "80000/80000 [==============================] - 11s 132us/sample - loss: 0.0710 - mean_squared_error: 0.0667 - val_loss: 0.0668 - val_mean_squared_error: 0.0629\n",
      "Train on 80000 samples, validate on 20000 samples\n",
      "Epoch 1/200\n",
      "80000/80000 [==============================] - 11s 133us/sample - loss: 0.3202 - mean_squared_error: 0.1105 - val_loss: 0.0849 - val_mean_squared_error: 0.0746\n",
      "Epoch 2/200\n",
      "80000/80000 [==============================] - 10s 119us/sample - loss: 0.0803 - mean_squared_error: 0.0725 - val_loss: 0.0739 - val_mean_squared_error: 0.0666\n",
      "Epoch 3/200\n",
      "80000/80000 [==============================] - 10s 119us/sample - loss: 0.0794 - mean_squared_error: 0.0724 - val_loss: 0.0732 - val_mean_squared_error: 0.0663\n",
      "Epoch 4/200\n",
      "80000/80000 [==============================] - 10s 120us/sample - loss: 0.0759 - mean_squared_error: 0.0709 - val_loss: 0.0736 - val_mean_squared_error: 0.0675\n",
      "Epoch 5/200\n",
      "80000/80000 [==============================] - 10s 121us/sample - loss: 0.0726 - mean_squared_error: 0.0684 - val_loss: 0.0648 - val_mean_squared_error: 0.0611\n",
      "Epoch 6/200\n",
      "80000/80000 [==============================] - 10s 123us/sample - loss: 0.0712 - mean_squared_error: 0.0668 - val_loss: 0.0723 - val_mean_squared_error: 0.0682\n",
      "Epoch 7/200\n",
      "80000/80000 [==============================] - 10s 123us/sample - loss: 0.0718 - mean_squared_error: 0.0674 - val_loss: 0.0628 - val_mean_squared_error: 0.0587\n",
      "Epoch 8/200\n",
      "80000/80000 [==============================] - 10s 123us/sample - loss: 0.0713 - mean_squared_error: 0.0669 - val_loss: 0.0663 - val_mean_squared_error: 0.0621\n",
      "Epoch 9/200\n",
      "80000/80000 [==============================] - 10s 121us/sample - loss: 0.0706 - mean_squared_error: 0.0661 - val_loss: 0.0616 - val_mean_squared_error: 0.0570\n",
      "Epoch 10/200\n",
      "80000/80000 [==============================] - 10s 123us/sample - loss: 0.0701 - mean_squared_error: 0.0657 - val_loss: 0.0643 - val_mean_squared_error: 0.0600\n",
      "Epoch 11/200\n",
      "80000/80000 [==============================] - 10s 121us/sample - loss: 0.0713 - mean_squared_error: 0.0669 - val_loss: 0.0640 - val_mean_squared_error: 0.0594\n",
      "Epoch 12/200\n",
      "80000/80000 [==============================] - 10s 120us/sample - loss: 0.0702 - mean_squared_error: 0.0659 - val_loss: 0.0637 - val_mean_squared_error: 0.0590\n",
      "Epoch 13/200\n",
      "80000/80000 [==============================] - 10s 120us/sample - loss: 0.0713 - mean_squared_error: 0.0669 - val_loss: 0.0774 - val_mean_squared_error: 0.0734\n",
      "Epoch 14/200\n",
      "80000/80000 [==============================] - 10s 122us/sample - loss: 0.0711 - mean_squared_error: 0.0668 - val_loss: 0.0716 - val_mean_squared_error: 0.0673\n",
      "Epoch 15/200\n",
      "80000/80000 [==============================] - 11s 136us/sample - loss: 0.0701 - mean_squared_error: 0.0657 - val_loss: 0.0654 - val_mean_squared_error: 0.0614\n",
      "Train on 80000 samples, validate on 20000 samples\n",
      "Epoch 1/200\n",
      "80000/80000 [==============================] - 11s 135us/sample - loss: 0.2917 - mean_squared_error: 0.0890 - val_loss: 0.0721 - val_mean_squared_error: 0.0679\n",
      "Epoch 2/200\n",
      "80000/80000 [==============================] - 10s 124us/sample - loss: 0.0756 - mean_squared_error: 0.0719 - val_loss: 0.0896 - val_mean_squared_error: 0.0838\n",
      "Epoch 3/200\n",
      "80000/80000 [==============================] - 10s 124us/sample - loss: 0.0750 - mean_squared_error: 0.0718 - val_loss: 0.0725 - val_mean_squared_error: 0.0695\n",
      "Epoch 4/200\n",
      "80000/80000 [==============================] - 10s 124us/sample - loss: 0.0731 - mean_squared_error: 0.0692 - val_loss: 0.0817 - val_mean_squared_error: 0.0771\n",
      "Epoch 5/200\n",
      "80000/80000 [==============================] - 10s 122us/sample - loss: 0.0721 - mean_squared_error: 0.0682 - val_loss: 0.0683 - val_mean_squared_error: 0.0642\n",
      "Epoch 6/200\n",
      "80000/80000 [==============================] - 10s 122us/sample - loss: 0.0738 - mean_squared_error: 0.0692 - val_loss: 0.0708 - val_mean_squared_error: 0.0674\n",
      "Epoch 7/200\n",
      "80000/80000 [==============================] - 10s 122us/sample - loss: 0.0733 - mean_squared_error: 0.0696 - val_loss: 0.0959 - val_mean_squared_error: 0.0907\n",
      "Epoch 8/200\n",
      "80000/80000 [==============================] - 10s 121us/sample - loss: 0.0714 - mean_squared_error: 0.0674 - val_loss: 0.0651 - val_mean_squared_error: 0.0608\n",
      "Epoch 9/200\n",
      "80000/80000 [==============================] - 10s 120us/sample - loss: 0.0710 - mean_squared_error: 0.0668 - val_loss: 0.0710 - val_mean_squared_error: 0.0672\n",
      "Epoch 10/200\n",
      "80000/80000 [==============================] - 10s 122us/sample - loss: 0.0723 - mean_squared_error: 0.0683 - val_loss: 0.0684 - val_mean_squared_error: 0.0644\n",
      "Epoch 11/200\n",
      "80000/80000 [==============================] - 11s 134us/sample - loss: 0.0717 - mean_squared_error: 0.0676 - val_loss: 0.0807 - val_mean_squared_error: 0.0765\n"
     ]
    }
   ],
   "source": [
    "kf = KFold(n_splits=5)\n",
    "\n",
    "k = 0\n",
    "for train_index, validation_index in kf.split(training_spectra_scaled):\n",
    "    model = compile_model(\n",
    "        build_dnn_model,\n",
    "        model_features)\n",
    "\n",
    "    csv_logger = tf.keras.callbacks.CSVLogger(\n",
    "        os.path.join('final-models-keras/',\n",
    "        model_id_save_as+'_fold' + str(k) + '.log')\n",
    "\n",
    "    output = model.fit(\n",
    "        x=training_spectra_scaled[train_index],\n",
    "        y=all_keys[train_index],\n",
    "        epochs=num_epochs,\n",
    "        verbose=1,\n",
    "        validation_data=(training_spectra_scaled[validation_index],\n",
    "                         all_keys[validation_index]),\n",
    "        shuffle=True,\n",
    "        callbacks=[earlystop_callback, csv_logger],\n",
    "    )\n",
    "    model.save(\n",
    "        os.path.join('final-models-keras',\n",
    "                     model_id_save_as + '_fold' + str(k) + '.hdf5')\n",
    "    k += 1"
   ]
  },
  {
   "cell_type": "code",
   "execution_count": null,
   "metadata": {},
   "outputs": [],
   "source": []
  }
 ],
 "metadata": {
  "kernelspec": {
   "display_name": "Environment (conda_tensorflow_p36_update)",
   "language": "python",
   "name": "conda_tensorflow_p36_update"
  },
  "language_info": {
   "codemirror_mode": {
    "name": "ipython",
    "version": 3
   },
   "file_extension": ".py",
   "mimetype": "text/x-python",
   "name": "python",
   "nbconvert_exporter": "python",
   "pygments_lexer": "ipython3",
   "version": "3.6.7"
  }
 },
 "nbformat": 4,
 "nbformat_minor": 1
}
