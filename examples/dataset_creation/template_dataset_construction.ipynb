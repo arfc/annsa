{
 "cells": [
  {
   "cell_type": "code",
   "execution_count": 1,
   "metadata": {
    "collapsed": false,
    "scrolled": true
   },
   "outputs": [
    {
     "name": "stderr",
     "output_type": "stream",
     "text": [
      "/home/ubuntu/anaconda2/lib/python2.7/site-packages/h5py/__init__.py:36: FutureWarning: Conversion of the second argument of issubdtype from `float` to `np.floating` is deprecated. In future, it will be treated as `np.float64 == np.dtype(float).type`.\n",
      "  from ._conv import register_converters as _register_converters\n"
     ]
    }
   ],
   "source": [
    "%matplotlib inline\n",
    "import matplotlib.pyplot as plt\n",
    "import sys\n",
    "sys.path.append(\"/home/ubuntu/Notebooks/annsa/\")\n",
    "\n",
    "from scipy.interpolate import griddata\n",
    "import annsa as an\n",
    "import numpy as np"
   ]
  },
  {
   "cell_type": "markdown",
   "metadata": {},
   "source": [
    "#### Define neural network"
   ]
  },
  {
   "cell_type": "code",
   "execution_count": 2,
   "metadata": {
    "collapsed": false
   },
   "outputs": [],
   "source": [
    "from cvt_oct_load_templates import *"
   ]
  },
  {
   "cell_type": "markdown",
   "metadata": {},
   "source": [
    "### Load normalized templates, set isotope list and shielding settings"
   ]
  },
  {
   "cell_type": "code",
   "execution_count": 3,
   "metadata": {
    "collapsed": false
   },
   "outputs": [
    {
     "name": "stdout",
     "output_type": "stream",
     "text": [
      "125I Contains no values\n",
      "125I Contains no values\n",
      "125I Contains no values\n",
      "125I Contains no values\n",
      "125I Contains no values\n",
      "125I Contains no values\n",
      "125I Contains no values\n"
     ]
    },
    {
     "name": "stderr",
     "output_type": "stream",
     "text": [
      "cvt_oct_load_templates.py:34: RuntimeWarning: invalid value encountered in divide\n",
      "  return temp_spectrum/np.sum(temp_spectrum)\n"
     ]
    }
   ],
   "source": [
    "spectral_templates=load_templates(normalization='normalarea')\n",
    "\n",
    "\n",
    "\n",
    "isotope_list=an.isotopes[:-3]"
   ]
  },
  {
   "cell_type": "markdown",
   "metadata": {},
   "source": [
    "## Define simulation function"
   ]
  },
  {
   "cell_type": "code",
   "execution_count": 4,
   "metadata": {
    "collapsed": true
   },
   "outputs": [],
   "source": [
    "def simulate_shielded_template_dataset(isotope_list,\n",
    "                                       spectral_template_settings,\n",
    "                                       integration_times,\n",
    "                                       signal_to_backgrounds,\n",
    "                                       calibrations):\n",
    "\n",
    "    all_source_spectra=[]\n",
    "    all_keys=[]\n",
    "    LLD=10\n",
    "    background_cps=85.\n",
    "    total_spectra=0\n",
    "    random_settings=False\n",
    "\n",
    "    for isotope in isotope_list:\n",
    "        for spectral_template_setting in spectral_template_settings:\n",
    "            for integration_time in integration_times:\n",
    "                for signal_to_background in signal_to_backgrounds:\n",
    "                    for calibration in calibrations:\n",
    "                        isotopes_per_setting=1\n",
    "                        # Simulate extra unshielded spectra to avoid training set imbalance \n",
    "                        if spectral_template_setting=='noshield':\n",
    "                            isotopes_per_setting*=len(spectral_template_settings)-1\n",
    "                        for _ in range(isotopes_per_setting):\n",
    "\n",
    "\n",
    "                            # I125 emits a maximum gamma-ray energy of 30keV. \n",
    "                            # This will either be completely attenuated by any shielding, or produce insignificatn Compton Continuum.\n",
    "                            # For this reason shielded I125 is removed as a class\n",
    "                            if isotope=='I125' and spectral_template_setting!='noshield':\n",
    "                                continue\n",
    "\n",
    "                            # Simulate source\n",
    "                            if random_settings==True:\n",
    "                                calibration=np.random.uniform(calibrations[0],calibrations[-1])\n",
    "                                signal_to_background=10**np.random.uniform(np.log10(signal_to_backgrounds[0]),np.log10(signal_to_backgrounds[-1]))\n",
    "                                integration_time=10**np.random.uniform(np.log10(integration_times[0]),np.log10(integration_times[-1]))\n",
    "\n",
    "\n",
    "                            source_template=spectral_templates[spectral_template_setting][isotope]\n",
    "                            source_template=griddata(range(1024), source_template, calibration*np.arange(1024),method='cubic',fill_value=0.0)\n",
    "                            source_template[0:LLD]=0\n",
    "                            source_template[source_template < 0] = 0\n",
    "                            source_template/=np.sum(source_template)\n",
    "                            source_template*=integration_time*background_cps*signal_to_background\n",
    "\n",
    "\n",
    "                            background_template=spectral_templates['background']['chicago']\n",
    "                            background_template=griddata(range(1024), background_template, calibration*np.arange(1024),method='cubic',fill_value=0.0)\n",
    "                            background_template[0:LLD]=0\n",
    "                            background_template[background_template < 0] = 0\n",
    "                            background_template/=np.sum(background_template)\n",
    "                            background_template*=integration_time*background_cps\n",
    "\n",
    "                            \"\"\"\n",
    "                            flag=0\n",
    "                            while np.sum(np.isnan(sampled_spectrum))!=0:\n",
    "                                sampled_spectrum=an.sample_spectrum(source_template,\n",
    "                                               generate_random_counts_on_detector(integration_time))\n",
    "                                flag+=1\n",
    "                                if flag==1:\n",
    "                                    print 'spectral template'+spectral_templates[spectral_template_setting]+'contains NaN'\n",
    "                                    break\n",
    "                            \"\"\"\n",
    "                            all_source_spectra.append(source_template+background_template)\n",
    "\n",
    "                            isotope_key=isotope\n",
    "\n",
    "                            if spectral_template_setting!='noshield':\n",
    "                                isotope_key+='_shielded'\n",
    "                            all_keys.append(isotope_key)\n",
    "\n",
    "                            print ('\\1b[2k\\r'),    \n",
    "                            print('Isotope %s, template %s, %s total spectra simulated' %(isotope,\n",
    "                                                                                          spectral_template_setting,\n",
    "                                                                                          total_spectra)),\n",
    "\n",
    "\n",
    "\n",
    "    return np.array(all_source_spectra),np.array(all_keys)"
   ]
  },
  {
   "cell_type": "markdown",
   "metadata": {},
   "source": [
    "## Final CVT-OCT dataset divisions"
   ]
  },
  {
   "cell_type": "code",
   "execution_count": 9,
   "metadata": {
    "collapsed": false
   },
   "outputs": [
    {
     "name": "stdout",
     "output_type": "stream",
     "text": [
      "[  10.           32.45342223  105.32246146  341.80743122 1109.28208873\n",
      " 3600.        ]\n",
      "[0.25       0.43527528 0.75785828 1.31950791 2.29739671 4.        ]\n",
      "[1.071      1.11066667 1.15033333 1.19       1.22966667 1.26933333\n",
      " 1.309     ]\n"
     ]
    }
   ],
   "source": [
    "spectral_template_settings=['noshield',\n",
    "                           'aluminum40pct',\n",
    "                           'aluminum60pct', \n",
    "                           'aluminum80pct',\n",
    "                           'iron40pct',\n",
    "                           'iron60pct',\n",
    "                           'iron80pct',\n",
    "                           'lead40pct',\n",
    "                           'lead60pct',\n",
    "                           'lead80pct']\n",
    "\n",
    "integration_time_division=6\n",
    "signal_to_background_division=6\n",
    "calibration_division=7\n",
    "\n",
    "integration_times=np.logspace(np.log10(10),np.log10(3600),integration_time_division)\n",
    "signal_to_backgrounds=np.logspace(np.log10(0.25),np.log10(4),signal_to_background_division)\n",
    "calibrations=np.linspace(1.19*0.9,1.19*1.1,calibration_division)\n",
    "\n",
    "print integration_times\n",
    "print signal_to_backgrounds\n",
    "print calibrations"
   ]
  },
  {
   "cell_type": "code",
   "execution_count": 10,
   "metadata": {
    "collapsed": false
   },
   "outputs": [
    {
     "name": "stdout",
     "output_type": "stream",
     "text": [
      "Isotope U235, template lead80pct, 0 total spectra simulated (129276, 1024)\n"
     ]
    }
   ],
   "source": [
    "training_data,training_keys=simulate_shielded_template_dataset(isotope_list,\n",
    "                                                               spectral_template_settings,\n",
    "                                                               integration_times,\n",
    "                                                               signal_to_backgrounds,\n",
    "                                                               calibrations)\n",
    "\n",
    "print training_data.shape"
   ]
  },
  {
   "cell_type": "code",
   "execution_count": 11,
   "metadata": {
    "collapsed": true
   },
   "outputs": [],
   "source": [
    "np.save('FINAL_template_training_data.npy',training_data)\n",
    "np.save('FINAL_template_training_keys.npy',training_keys)"
   ]
  },
  {
   "cell_type": "markdown",
   "metadata": {},
   "source": [
    "## CVT-OCT Hyperparameter training dataset divisions"
   ]
  },
  {
   "cell_type": "code",
   "execution_count": 89,
   "metadata": {
    "collapsed": false
   },
   "outputs": [
    {
     "name": "stdout",
     "output_type": "stream",
     "text": [
      " [  60.          186.43395036  579.29363076 1800.        ]\n",
      "[0.5        0.9085603  1.65096362 3.        ]\n",
      "[1.071      1.15033333 1.22966667 1.309     ]\n"
     ]
    }
   ],
   "source": [
    "spectral_template_settings=['noshield',\n",
    "                           'aluminum40pct',\n",
    "                           'aluminum80pct',\n",
    "                           'iron40pct',\n",
    "                           'iron80pct',\n",
    "                           'lead40pct',\n",
    "                           'lead80pct']\n",
    "\n",
    "integration_time_division=4\n",
    "signal_to_background_division=4\n",
    "calibration_division=4\n",
    "\n",
    "integration_times=np.logspace(np.log10(60),np.log10(1800),integration_time_division)\n",
    "signal_to_backgrounds=np.logspace(np.log10(0.5),np.log10(3),signal_to_background_division)\n",
    "calibrations=np.linspace(1.19*0.9,1.19*1.1,calibration_division)\n",
    "\n",
    "print integration_times\n",
    "print signal_to_backgrounds\n",
    "print calibrations"
   ]
  },
  {
   "cell_type": "code",
   "execution_count": 90,
   "metadata": {
    "collapsed": false
   },
   "outputs": [
    {
     "name": "stdout",
     "output_type": "stream",
     "text": [
      "Isotope U235, template lead80pct, 0 total spectra simulated (21888, 1024)\n"
     ]
    }
   ],
   "source": [
    "training_data,training_keys=simulate_shielded_template_dataset(isotope_list,\n",
    "                                                               spectral_template_settings,\n",
    "                                                               integration_times,\n",
    "                                                               signal_to_backgrounds,\n",
    "                                                               calibrations)\n",
    "\n",
    "print training_data.shape"
   ]
  },
  {
   "cell_type": "code",
   "execution_count": 91,
   "metadata": {
    "collapsed": true
   },
   "outputs": [],
   "source": [
    "np.save('FINAL_template_hyperparameter_training_data.npy',training_data)\n",
    "np.save('FINAL_template_hyperparameter_training_keys.npy',training_keys)"
   ]
  },
  {
   "cell_type": "markdown",
   "metadata": {},
   "source": [
    "## CVT-OCT Hyperparameter testing dataset divisions"
   ]
  },
  {
   "cell_type": "code",
   "execution_count": 87,
   "metadata": {
    "collapsed": false
   },
   "outputs": [
    {
     "name": "stdout",
     "output_type": "stream",
     "text": [
      "[ 123.21697518  382.86379056 1189.64681538]\n",
      "[0.70428015 1.27976196 2.32548181]\n",
      "[1.11066667 1.19       1.26933333]\n"
     ]
    }
   ],
   "source": [
    "spectral_template_settings=['noshield',\n",
    "                           'aluminum40pct',\n",
    "                           'aluminum80pct',\n",
    "                           'iron40pct',\n",
    "                           'iron80pct',\n",
    "                           'lead40pct',\n",
    "                           'lead80pct']\n",
    "\n",
    "integration_times=np.logspace(np.log10(60),np.log10(1800),integration_time_division)\n",
    "signal_to_backgrounds=np.logspace(np.log10(0.5),np.log10(3),signal_to_background_division)\n",
    "calibrations=np.linspace(1.19*0.9,1.19*1.1,calibration_division)\n",
    "\n",
    "integration_times=integration_times[:-1]+np.diff(integration_times)/2.0\n",
    "signal_to_backgrounds=signal_to_backgrounds[:-1]+np.diff(signal_to_backgrounds)/2.0\n",
    "calibrations=calibrations[:-1]+np.diff(calibrations)/2.0\n",
    "\n",
    "print integration_times\n",
    "print signal_to_backgrounds\n",
    "print calibrations"
   ]
  },
  {
   "cell_type": "code",
   "execution_count": null,
   "metadata": {
    "collapsed": false
   },
   "outputs": [],
   "source": [
    "training_data,training_keys=simulate_shielded_template_dataset(isotope_list,\n",
    "                                                               spectral_template_settings,\n",
    "                                                               integration_times,\n",
    "                                                               signal_to_backgrounds,\n",
    "                                                               calibrations)\n",
    "\n",
    "print training_data.shape"
   ]
  },
  {
   "cell_type": "raw",
   "metadata": {},
   "source": [
    "np.save('FINAL_template_hyperparameter_testing_data.npy',training_data)\n",
    "np.save('FINAL_template_hyperparameter_testing_keys.npy',training_keys)"
   ]
  }
 ],
 "metadata": {
  "kernelspec": {
   "display_name": "Python 2",
   "language": "python",
   "name": "python2"
  },
  "language_info": {
   "codemirror_mode": {
    "name": "ipython",
    "version": 2
   },
   "file_extension": ".py",
   "mimetype": "text/x-python",
   "name": "python",
   "nbconvert_exporter": "python",
   "pygments_lexer": "ipython2",
   "version": "2.7.15"
  }
 },
 "nbformat": 4,
 "nbformat_minor": 1
}
