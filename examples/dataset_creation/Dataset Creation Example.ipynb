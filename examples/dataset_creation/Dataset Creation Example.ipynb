{
 "cells": [
  {
   "cell_type": "code",
   "execution_count": 1,
   "metadata": {
    "collapsed": false
   },
   "outputs": [],
   "source": [
    "%matplotlib inline\n",
    "import matplotlib.pyplot as plt\n",
    "\n",
    "import sys\n",
    "sys.path.append(\"/home/ubuntu/Notebooks/annsa/\")\n",
    "\n",
    "\n",
    "import annsa as an\n",
    "import numpy as np"
   ]
  },
  {
   "cell_type": "markdown",
   "metadata": {},
   "source": [
    "## Load template spectra"
   ]
  },
  {
   "cell_type": "code",
   "execution_count": 2,
   "metadata": {
    "collapsed": false
   },
   "outputs": [],
   "source": [
    "parent_folder       = \"unshielded_low_dead_time/\"\n",
    "spectrum_identifier = \"_1uC_spectrum.spe\"\n",
    "spectrumID_to_template_default = an.load_template_spectra_from_folder(parent_folder,spectrum_identifier)"
   ]
  },
  {
   "cell_type": "markdown",
   "metadata": {},
   "source": [
    "## Generate spectra"
   ]
  },
  {
   "cell_type": "code",
   "execution_count": 3,
   "metadata": {
    "collapsed": true
   },
   "outputs": [],
   "source": [
    "def generate_source_key(number_of_sources,count_min,count_max,output_individual_background = False):\n",
    "    \n",
    "    # Background estimated to be ~65 cps\n",
    "    # Estimating total detector CPS ranges from 65 -> number_of_sources*65 \n",
    "    # time 10 seconds to 1hr (3600 seconds)\n",
    "    # total_spectral_counts = np.floor(10**np.random.uniform(np.log10(65*10),np.log10(number_of_sources*65*1000)))\n",
    "\n",
    "    total_spectral_counts = np.floor(10**np.random.uniform(np.log10(count_min),np.log10(number_of_sources*count_max)))\n",
    "\n",
    "    source_simplex = an.create_simplex(1,number_of_sources)[0]\n",
    "    \n",
    "    shuffled_simplex = an.shuffle_simplex(source_simplex)\n",
    "    \n",
    "    if output_individual_background == True:\n",
    "\n",
    "        shuffled_simplex = np.append(shuffled_simplex,an.create_simplex(1,3)*shuffled_simplex[-1])\n",
    "        shuffled_simplex = np.delete(shuffled_simplex, -4)\n",
    "    \n",
    "    return np.floor(shuffled_simplex*total_spectral_counts)"
   ]
  },
  {
   "cell_type": "code",
   "execution_count": 4,
   "metadata": {
    "collapsed": false
   },
   "outputs": [
    {
     "name": "stdout",
     "output_type": "stream",
     "text": [
      "\u0001b[2k\r",
      "Epoch 0 of 5 \u0001b[2k\r",
      "Epoch 1 of 5 \u0001b[2k\r",
      "Epoch 2 of 5 \u0001b[2k\r",
      "Epoch 3 of 5"
     ]
    },
    {
     "name": "stderr",
     "output_type": "stream",
     "text": [
      "/home/ubuntu/anaconda2/lib/python2.7/site-packages/scipy/ndimage/interpolation.py:583: UserWarning: From scipy 0.13.0, the output shape of zoom() is calculated with round() instead of int() - for these inputs the size of the returned array has changed.\n",
      "  \"the returned array has changed.\", UserWarning)\n"
     ]
    },
    {
     "name": "stdout",
     "output_type": "stream",
     "text": [
      " \u0001b[2k\r",
      "Epoch 4 of 5\n"
     ]
    }
   ],
   "source": [
    "number_of_samples = 5\n",
    "number_of_isotopes_per_spectrum = 1\n",
    "\n",
    "dataset_key = []\n",
    "dataset_spectra = []\n",
    "\n",
    "\n",
    "for i in range(number_of_samples):\n",
    "    \n",
    "    # Generate a key\n",
    "    temp_key = generate_source_key(number_of_isotopes_per_spectrum+1,65*10,65*1000,True)\n",
    "    \n",
    "    temp_key = [int(k) for k in temp_key]\n",
    "    \n",
    "    # Decide on gain setting \n",
    "    gain_setting = np.random.uniform(0.952,1.428)\n",
    "    \n",
    "    # Generate a spectrum\n",
    "    temp_spectrum = an.generate_spectrum_from_key(temp_key,spectrumID_to_template_default,gain_setting)\n",
    "    \n",
    "    \n",
    "    dataset_key.append(temp_key)\n",
    "    dataset_spectra.append(temp_spectrum)\n",
    "    \n",
    "    print '\\1b[2k\\r',    \n",
    "    print('Epoch %s of %s' %(i ,number_of_samples)),\n",
    "    \n"
   ]
  },
  {
   "cell_type": "code",
   "execution_count": 9,
   "metadata": {
    "collapsed": false
   },
   "outputs": [
    {
     "data": {
      "text/plain": [
       "[<matplotlib.lines.Line2D at 0x7f4d41522410>]"
      ]
     },
     "execution_count": 9,
     "metadata": {},
     "output_type": "execute_result"
    },
    {
     "data": {
      "image/png": "[encoded data removed]",
      "text/plain": [
       "<matplotlib.figure.Figure at 0x7f4d41727ed0>"
      ]
     },
     "metadata": {},
     "output_type": "display_data"
    }
   ],
   "source": [
    "plt.plot(dataset_spectra[1])"
   ]
  },
  {
   "cell_type": "code",
   "execution_count": null,
   "metadata": {
    "collapsed": true
   },
   "outputs": [],
   "source": []
  }
 ],
 "metadata": {
  "kernelspec": {
   "display_name": "Python 2",
   "language": "python",
   "name": "python2"
  },
  "language_info": {
   "codemirror_mode": {
    "name": "ipython",
    "version": 2
   },
   "file_extension": ".py",
   "mimetype": "text/x-python",
   "name": "python",
   "nbconvert_exporter": "python",
   "pygments_lexer": "ipython2",
   "version": "2.7.13"
  }
 },
 "nbformat": 4,
 "nbformat_minor": 0
}
